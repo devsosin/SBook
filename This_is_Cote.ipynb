{
 "metadata": {
  "language_info": {
   "codemirror_mode": {
    "name": "ipython",
    "version": 3
   },
   "file_extension": ".py",
   "mimetype": "text/x-python",
   "name": "python",
   "nbconvert_exporter": "python",
   "pygments_lexer": "ipython3",
   "version": "3.7.6-final"
  },
  "orig_nbformat": 2,
  "kernelspec": {
   "name": "Python 3.7.6 64-bit ('base': conda)",
   "display_name": "Python 3.7.6 64-bit ('base': conda)",
   "metadata": {
    "interpreter": {
     "hash": "4582d230e25b8217e666f0f9ff9e4572247d830a78f80b8cc5849d556084ed3c"
    }
   }
  }
 },
 "nbformat": 4,
 "nbformat_minor": 2,
 "cells": [
  {
   "cell_type": "code",
   "execution_count": 27,
   "metadata": {},
   "outputs": [],
   "source": [
    "# 자주 사용 함수"
   ]
  },
  {
   "cell_type": "code",
   "execution_count": 17,
   "metadata": {},
   "outputs": [],
   "source": [
    "def change_input(x, input_type=0, str_column=None):\n",
    "    if input_type:\n",
    "        return [list(map(int, i)) for i in x.split('\\n')]\n",
    "    return [list(map(int, i.split())) for i in x.split('\\n')]\n",
    "\n",
    "def print_map(x):\n",
    "    for _ in x:\n",
    "        print(_)\n",
    "    print()\n",
    "\n",
    "def fast_input():\n",
    "    return sys.stdin.readline().rstrip()"
   ]
  },
  {
   "cell_type": "code",
   "execution_count": 18,
   "metadata": {},
   "outputs": [],
   "source": [
    "# 자주 쓰는 변수"
   ]
  },
  {
   "cell_type": "code",
   "execution_count": 19,
   "metadata": {},
   "outputs": [],
   "source": [
    "FOUR_MOVE_DIR = [(-1,0),(0,1),(1,0),(0,-1)]"
   ]
  },
  {
   "cell_type": "code",
   "execution_count": null,
   "metadata": {},
   "outputs": [],
   "source": []
  },
  {
   "cell_type": "code",
   "execution_count": 2,
   "metadata": {},
   "outputs": [],
   "source": [
    "# Greedy Examples"
   ]
  },
  {
   "cell_type": "code",
   "execution_count": 25,
   "metadata": {},
   "outputs": [],
   "source": [
    "N, M, K = 5, 8, 3\n",
    "array = [2, 4, 5, 4, 6]\n",
    "\n",
    "def sol_greedy_1(N, M, K, array):\n",
    "    array.sort(reverse=True)\n",
    "    big_1 = array[0]\n",
    "    big_2 = array[1]\n",
    "    repeat = M//(K+1)\n",
    "    rest = M%(K+1)\n",
    "    return (big_1*K+big_2)*repeat + big_1*rest"
   ]
  },
  {
   "cell_type": "code",
   "execution_count": 26,
   "metadata": {
    "tags": []
   },
   "outputs": [
    {
     "output_type": "execute_result",
     "data": {
      "text/plain": "46"
     },
     "metadata": {},
     "execution_count": 26
    }
   ],
   "source": [
    "sol_greedy_1(N,M,K,array)"
   ]
  },
  {
   "cell_type": "code",
   "execution_count": null,
   "metadata": {},
   "outputs": [],
   "source": []
  },
  {
   "cell_type": "code",
   "execution_count": 31,
   "metadata": {},
   "outputs": [],
   "source": [
    "N, M = 3, 3\n",
    "cards = '''3 1 2\n",
    "4 1 4\n",
    "2 2 2'''\n",
    "\n",
    "N, M = 2, 4\n",
    "cards = '''7 3 1 8\n",
    "3 3 3 4'''\n",
    "\n",
    "def sol_greedy_2(N, M, cards):\n",
    "    cards = change_input(cards)\n",
    "    answer = -1\n",
    "    for row in cards:\n",
    "        if answer < min(row):\n",
    "            answer = min(row)\n",
    "    return answer\n"
   ]
  },
  {
   "cell_type": "code",
   "execution_count": 32,
   "metadata": {},
   "outputs": [
    {
     "output_type": "execute_result",
     "data": {
      "text/plain": "3"
     },
     "metadata": {},
     "execution_count": 32
    }
   ],
   "source": [
    "sol_greedy_2(N, M, cards)"
   ]
  },
  {
   "cell_type": "code",
   "execution_count": null,
   "metadata": {},
   "outputs": [],
   "source": []
  },
  {
   "cell_type": "code",
   "execution_count": 51,
   "metadata": {},
   "outputs": [],
   "source": [
    "N, K = 25, 5\n",
    "N, K = 25, 3\n",
    "def sol_greedy_3(N, K):\n",
    "    answer = 0\n",
    "    while N != 1:\n",
    "        if N%K == 0:\n",
    "            answer+=1\n",
    "            N//=K\n",
    "        else:\n",
    "            answer+=N%K\n",
    "            N-=N%K\n",
    "        \n",
    "        if N < K:\n",
    "            answer += N-1\n",
    "            break\n",
    "        \n",
    "    return answer"
   ]
  },
  {
   "cell_type": "code",
   "execution_count": 52,
   "metadata": {
    "tags": []
   },
   "outputs": [
    {
     "output_type": "execute_result",
     "data": {
      "text/plain": "6"
     },
     "metadata": {},
     "execution_count": 52
    }
   ],
   "source": [
    "sol_greedy_3(N, K)"
   ]
  },
  {
   "cell_type": "code",
   "execution_count": null,
   "metadata": {},
   "outputs": [],
   "source": []
  },
  {
   "cell_type": "code",
   "execution_count": 54,
   "metadata": {},
   "outputs": [],
   "source": [
    "# 구현 Examples"
   ]
  },
  {
   "cell_type": "code",
   "execution_count": 81,
   "metadata": {},
   "outputs": [],
   "source": [
    "pos = 'f1'\n",
    "\n",
    "DX = [1, 2]\n",
    "DY = [2, 1]\n",
    "BUHO = [(0,1), (1,1), (0,0), (1,0)] # 0: - 1: +\n",
    "\n",
    "def sol_imp_1(pos):\n",
    "    cur_pos = (int(pos[1])-1, ord(pos[0])-ord('a'))\n",
    "    answer=0\n",
    "    for x_buho, y_buho in BUHO:\n",
    "        for i in range(2):\n",
    "            next_x = cur_pos[0] + (-DX[i] if x_buho == 0 else DX[i])\n",
    "            next_y = cur_pos[1] + (-DY[i] if y_buho == 0 else DY[i])\n",
    "            if not(next_x < 0 or next_x >= 8 or next_y < 0 or next_y >= 8):\n",
    "                answer+=1\n",
    "    return answer"
   ]
  },
  {
   "cell_type": "code",
   "execution_count": 82,
   "metadata": {},
   "outputs": [
    {
     "output_type": "execute_result",
     "data": {
      "text/plain": "4"
     },
     "metadata": {},
     "execution_count": 82
    }
   ],
   "source": [
    "sol_imp_1(pos)"
   ]
  },
  {
   "cell_type": "code",
   "execution_count": null,
   "metadata": {},
   "outputs": [],
   "source": []
  },
  {
   "cell_type": "code",
   "execution_count": 99,
   "metadata": {},
   "outputs": [],
   "source": [
    "N, M = 4, 4\n",
    "# x, y, dir(0: 북 1: 동 2: 남 3: 서)\n",
    "character = '1 1 0'\n",
    "# 0: 육지 1: 바다\n",
    "game_map = '''1 1 1 1\n",
    "1 0 0 1\n",
    "1 1 0 1\n",
    "1 1 1 1'''\n",
    "\n",
    "# 서, 북, 동, 남 순서대로 (방향에 맞추기 위함)\n",
    "MOVE_DIR = [(0,-1), (-1,0), (0,1), (1,0)]\n",
    "\n",
    "def sol_imp_2(N,M,character,game_map):\n",
    "    now_x, now_y, now_dir = change_input(character)[0]\n",
    "    game_map = change_input(game_map)\n",
    "    game_map[now_x][now_y] = 2\n",
    "    answer = 1\n",
    "\n",
    "    while True:\n",
    "        check_finish = True\n",
    "        for i in range(4):\n",
    "            next_dir = now_dir + i\n",
    "            if next_dir > 4:\n",
    "                next_dir -= 4\n",
    "            x_dir, y_dir = MOVE_DIR[next_dir]\n",
    "\n",
    "            next_x = now_x + x_dir\n",
    "            next_y = now_y + y_dir\n",
    "            if game_map[next_x][next_y] == 0:\n",
    "                answer+=1\n",
    "                now_x, now_y = next_x, next_y\n",
    "                check_finish = False\n",
    "                game_map[next_x][next_y] = 2\n",
    "                break\n",
    "\n",
    "        # for g in game_map:\n",
    "        #     print(g)\n",
    "        # print()\n",
    "\n",
    "        if check_finish:\n",
    "            return answer\n"
   ]
  },
  {
   "cell_type": "code",
   "execution_count": 100,
   "metadata": {
    "tags": []
   },
   "outputs": [
    {
     "output_type": "execute_result",
     "data": {
      "text/plain": "3"
     },
     "metadata": {},
     "execution_count": 100
    }
   ],
   "source": [
    "sol_imp_2(N,M,character, game_map)"
   ]
  },
  {
   "cell_type": "code",
   "execution_count": null,
   "metadata": {},
   "outputs": [],
   "source": []
  },
  {
   "cell_type": "code",
   "execution_count": 101,
   "metadata": {},
   "outputs": [],
   "source": [
    "# DFS/BFS Examples"
   ]
  },
  {
   "cell_type": "code",
   "execution_count": 145,
   "metadata": {},
   "outputs": [],
   "source": [
    "N, M = 4, 5\n",
    "ice_case = '''00110\n",
    "00011\n",
    "11111\n",
    "00000'''\n",
    "\n",
    "N, M = 15, 14\n",
    "ice_case = '''00000111100000\n",
    "11111101111110\n",
    "11011101101110\n",
    "11011101100000\n",
    "11011111111111\n",
    "11011111111100\n",
    "11000000011111\n",
    "01111111111111\n",
    "00000000011111\n",
    "01111111111000\n",
    "00011111111000\n",
    "00000001111000\n",
    "11111111110011\n",
    "11100011111111\n",
    "11100011111111'''\n",
    "\n",
    "import copy\n",
    "from collections import deque\n",
    "\n",
    "def sol_bfs_1(N, M, ice_case):\n",
    "    ice_case = change_input(ice_case, 1)\n",
    "\n",
    "    # print_map(ice_case)\n",
    "\n",
    "    answer = 0\n",
    "    for i in range(N):\n",
    "        for j in range(M):\n",
    "            if ice_case[i][j] == 0:\n",
    "                answer += 1\n",
    "                q = deque()\n",
    "                q.append((i,j))\n",
    "                while q:\n",
    "                    now_x, now_y = q.popleft()\n",
    "                    ice_case[now_x][now_y] = 1\n",
    "                    for x_dir, y_dir in FOUR_MOVE_DIR:\n",
    "                        next_x, next_y = now_x+x_dir, now_y+y_dir\n",
    "                        if not(next_x < 0 or next_x >= N or next_y < 0 or next_y >= M) and ice_case[next_x][next_y] == 0:\n",
    "                            ice_case[next_x][next_y] = 1\n",
    "                            q.append((next_x, next_y))\n",
    "\n",
    "    # print_map(ice_case)\n",
    "\n",
    "    return answer"
   ]
  },
  {
   "cell_type": "code",
   "execution_count": 146,
   "metadata": {
    "tags": []
   },
   "outputs": [
    {
     "output_type": "execute_result",
     "data": {
      "text/plain": "8"
     },
     "metadata": {},
     "execution_count": 146
    }
   ],
   "source": [
    "sol_bfs_1(N,M,ice_case)"
   ]
  },
  {
   "cell_type": "code",
   "execution_count": null,
   "metadata": {},
   "outputs": [],
   "source": []
  },
  {
   "cell_type": "code",
   "execution_count": 163,
   "metadata": {},
   "outputs": [],
   "source": [
    "N, M = 5, 6\n",
    "\n",
    "# 0: 괴물 O, 1: 괴물 X\n",
    "maze='''101010\n",
    "111111\n",
    "000001\n",
    "111111\n",
    "111111'''\n",
    "\n",
    "from collections import deque\n",
    "\n",
    "def sol_bfs_2(N,M,maze):\n",
    "    maze = change_input(maze, 1)\n",
    "    answer_map = [[0]*M for _ in range(N)]\n",
    "    # print_map(answer_map)\n",
    "    \n",
    "    answer_map[0][0] = 1\n",
    "    q = deque()\n",
    "    q.append((0,0))\n",
    "\n",
    "    while q:\n",
    "        now_x, now_y = q.popleft()\n",
    "        for x_dir, y_dir in FOUR_MOVE_DIR:\n",
    "            next_x, next_y = now_x + x_dir, now_y + y_dir\n",
    "\n",
    "            if next_x < 0 or next_x >= N or next_y < 0 or next_y >= M or maze[next_x][next_y] == 0 or answer_map[next_x][next_y] != 0:\n",
    "                continue\n",
    "            else:\n",
    "                answer_map[next_x][next_y] = answer_map[now_x][now_y]+1\n",
    "                q.append((next_x,next_y))\n",
    "        \n",
    "    print_map(answer_map)\n",
    "    return answer_map[N-1][M-1]"
   ]
  },
  {
   "cell_type": "code",
   "execution_count": 164,
   "metadata": {
    "tags": []
   },
   "outputs": [
    {
     "output_type": "stream",
     "name": "stdout",
     "text": "[1, 0, 5, 0, 7, 0]\n[2, 3, 4, 5, 6, 7]\n[0, 0, 0, 0, 0, 8]\n[14, 13, 12, 11, 10, 9]\n[15, 14, 13, 12, 11, 10]\n\n"
    },
    {
     "output_type": "execute_result",
     "data": {
      "text/plain": "10"
     },
     "metadata": {},
     "execution_count": 164
    }
   ],
   "source": [
    "sol_bfs_2(N,M,maze)"
   ]
  },
  {
   "cell_type": "code",
   "execution_count": null,
   "metadata": {},
   "outputs": [],
   "source": []
  },
  {
   "cell_type": "code",
   "execution_count": 1,
   "metadata": {},
   "outputs": [],
   "source": [
    "# Sort Examples"
   ]
  },
  {
   "cell_type": "code",
   "execution_count": 13,
   "metadata": {},
   "outputs": [],
   "source": [
    "N = [3, 15, 27, 12]\n",
    "\n",
    "def sol_sort_1(N):\n",
    "    print(' '.join(map(str,sorted(N,reverse=True))))"
   ]
  },
  {
   "cell_type": "code",
   "execution_count": 14,
   "metadata": {},
   "outputs": [
    {
     "output_type": "stream",
     "name": "stdout",
     "text": [
      "27 15 12 3\n"
     ]
    }
   ],
   "source": [
    "sol_sort_1(N)"
   ]
  },
  {
   "cell_type": "code",
   "execution_count": null,
   "metadata": {},
   "outputs": [],
   "source": []
  },
  {
   "cell_type": "code",
   "execution_count": 66,
   "metadata": {},
   "outputs": [],
   "source": [
    "N = 2\n",
    "students = '''홍길동 95\n",
    "이순신 77'''\n",
    "\n",
    "import numpy as np\n",
    "def sol_sort_2(N, students):\n",
    "    students = [i.split() for i in students.split('\\n')]\n",
    "    for i in range(len(students)):\n",
    "        students[i][1] = int(students[i][1])\n",
    "    return sorted(students, key=lambda i : i[1])"
   ]
  },
  {
   "cell_type": "code",
   "execution_count": 67,
   "metadata": {},
   "outputs": [
    {
     "output_type": "execute_result",
     "data": {
      "text/plain": [
       "[['이순신', 77], ['홍길동', 95]]"
      ]
     },
     "metadata": {},
     "execution_count": 67
    }
   ],
   "source": [
    "sol_sort_2(N,students)"
   ]
  },
  {
   "cell_type": "code",
   "execution_count": null,
   "metadata": {},
   "outputs": [],
   "source": []
  },
  {
   "cell_type": "code",
   "execution_count": 76,
   "metadata": {},
   "outputs": [],
   "source": [
    "N, K = 5, 3\n",
    "array_A = [1,2,5,4,3]\n",
    "array_B = [5,5,6,6,5]\n",
    "\n",
    "def sol_sort_3(N, K, array_A, array_B):\n",
    "    for i in range(K):\n",
    "        print(array_A, array_B)\n",
    "        temp1 = array_A.pop(array_A.index(min(array_A)))\n",
    "        temp2 = array_B.pop(array_B.index(max(array_B)))\n",
    "        if temp1 > temp2:\n",
    "            break\n",
    "        array_A.append(temp2)\n",
    "        array_B.append(temp1)\n",
    "\n",
    "    return sum(array_A)"
   ]
  },
  {
   "cell_type": "code",
   "execution_count": 77,
   "metadata": {},
   "outputs": [
    {
     "output_type": "stream",
     "name": "stdout",
     "text": [
      "[1, 2, 5, 4, 3] [5, 5, 6, 6, 5]\n[2, 5, 4, 3, 6] [5, 5, 6, 5, 1]\n[5, 4, 3, 6, 6] [5, 5, 5, 1, 2]\n"
     ]
    },
    {
     "output_type": "execute_result",
     "data": {
      "text/plain": [
       "26"
      ]
     },
     "metadata": {},
     "execution_count": 77
    }
   ],
   "source": [
    "sol_sort_3(N,K,array_A,array_B)"
   ]
  },
  {
   "cell_type": "code",
   "execution_count": null,
   "metadata": {},
   "outputs": [],
   "source": []
  },
  {
   "cell_type": "code",
   "execution_count": 78,
   "metadata": {},
   "outputs": [],
   "source": [
    "# Binary Search Examples\n",
    "# Key Concept\n",
    "# 1. 정렬 상태 만들기\n",
    "# 2. 반씩 탐색범위 줄이기 \n",
    "# 3. 시작, 끝 범위 조절 시 mid에서 (+1, -1)"
   ]
  },
  {
   "cell_type": "code",
   "execution_count": 79,
   "metadata": {},
   "outputs": [],
   "source": [
    "# 이진탐색 함수 (재귀호출)\n",
    "def binary_search(array, target, start, end):\n",
    "    if start > end:\n",
    "        return None\n",
    "    mid = (start + end) // 2\n",
    "    if array[mid] == target:\n",
    "        return mid\n",
    "    elif array[mid] > target:\n",
    "        return binary_search(array, target, start, mid - 1)\n",
    "    else:\n",
    "        return binary_search(array, target, mid + 1, end)"
   ]
  },
  {
   "cell_type": "code",
   "execution_count": 85,
   "metadata": {},
   "outputs": [],
   "source": [
    "N = 5\n",
    "store_part = [8,3,7,9,2]\n",
    "M = 3\n",
    "customer_part = [5,7,9]\n",
    "\n",
    "def sol_bs_1(N,store_part,M,customer_part):\n",
    "    store_part.sort()\n",
    "    for cp in customer_part:\n",
    "        if binary_search(store_part, cp, 0, len(store_part)):\n",
    "            print('yes', end=' ')\n",
    "        else:\n",
    "            print('no', end=' ')"
   ]
  },
  {
   "cell_type": "code",
   "execution_count": 86,
   "metadata": {},
   "outputs": [
    {
     "output_type": "stream",
     "name": "stdout",
     "text": [
      "no yes yes "
     ]
    }
   ],
   "source": [
    "sol_bs_1(N,store_part,M,customer_part)"
   ]
  },
  {
   "cell_type": "code",
   "execution_count": null,
   "metadata": {},
   "outputs": [],
   "source": []
  },
  {
   "cell_type": "code",
   "execution_count": 18,
   "metadata": {},
   "outputs": [],
   "source": [
    "N, M = 4, 6\n",
    "dduck = [19, 15, 10, 17]\n",
    "\n",
    "def sol_bs_2(N,M,dduck):\n",
    "    max_height = max(dduck)\n",
    "    min_height = 0\n",
    "\n",
    "    while True:\n",
    "        if max_height < min_height:\n",
    "            return height\n",
    "        height = (min_height + max_height) // 2\n",
    "        temp = 0\n",
    "        for d in dduck:\n",
    "            temp += max(d-height, 0)\n",
    "        if M == temp:\n",
    "            return height\n",
    "        elif M > temp:\n",
    "            max_height = height - 1\n",
    "        else:\n",
    "            min_height = height + 1"
   ]
  },
  {
   "cell_type": "code",
   "execution_count": 19,
   "metadata": {},
   "outputs": [
    {
     "output_type": "execute_result",
     "data": {
      "text/plain": [
       "15"
      ]
     },
     "metadata": {},
     "execution_count": 19
    }
   ],
   "source": [
    "sol_bs_2(N,M,dduck)"
   ]
  },
  {
   "cell_type": "code",
   "execution_count": null,
   "metadata": {},
   "outputs": [],
   "source": []
  },
  {
   "cell_type": "code",
   "execution_count": 20,
   "metadata": {},
   "outputs": [],
   "source": [
    "# Dynamic Programming Examples\n",
    "# Key Concept \n",
    "# 1. 점화식 탐색 \n",
    "# 2. 반복 시 바텀업 방식 활용 (메모리에 저장해놓고 연산횟수 줄이기)"
   ]
  },
  {
   "cell_type": "code",
   "execution_count": 64,
   "metadata": {},
   "outputs": [],
   "source": [
    "def cal_a(x):\n",
    "    if x%5 == 0:\n",
    "        return x//5\n",
    "def cal_b(x):\n",
    "    if x%3 == 0:\n",
    "        return x//3\n",
    "def cal_c(x):\n",
    "    if x%2 == 0:\n",
    "        return x//2\n",
    "def cal_d(x):\n",
    "    return x-1\n",
    "\n",
    "def dynamic(x, count, answer_array):\n",
    "    if x == 1:\n",
    "        answer_array.append(count)\n",
    "        return\n",
    "    if x%5 == 0:\n",
    "        dynamic(x//5, count+1, answer_array)\n",
    "    if x%3 == 0:\n",
    "        dynamic(x//3, count+1, answer_array)\n",
    "    if x%2 == 0:\n",
    "        dynamic(x//2, count+1, answer_array)\n",
    "    dynamic(x-1, count+1, answer_array)\n",
    "\n",
    "X = 26\n",
    "def sol_dp_1(X):\n",
    "    answer_array = []\n",
    "    dynamic(X, 0, answer_array)\n",
    "    return min(answer_array)"
   ]
  },
  {
   "cell_type": "code",
   "execution_count": 66,
   "metadata": {
    "tags": []
   },
   "outputs": [
    {
     "output_type": "stream",
     "name": "stdout",
     "text": [
      "[2, 2, 2, 3, 3, 2, 4, 4, 4, 5, 5]\n"
     ]
    },
    {
     "output_type": "execute_result",
     "data": {
      "text/plain": [
       "2"
      ]
     },
     "metadata": {},
     "execution_count": 66
    }
   ],
   "source": [
    "sol_dp_1(6)"
   ]
  },
  {
   "cell_type": "code",
   "execution_count": null,
   "metadata": {},
   "outputs": [],
   "source": []
  }
 ]
}