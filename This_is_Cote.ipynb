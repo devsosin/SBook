{
 "metadata": {
  "language_info": {
   "codemirror_mode": {
    "name": "ipython",
    "version": 3
   },
   "file_extension": ".py",
   "mimetype": "text/x-python",
   "name": "python",
   "nbconvert_exporter": "python",
   "pygments_lexer": "ipython3",
   "version": "3.7.6-final"
  },
  "orig_nbformat": 2,
  "kernelspec": {
   "name": "Python 3.7.6 64-bit ('base': conda)",
   "display_name": "Python 3.7.6 64-bit ('base': conda)",
   "metadata": {
    "interpreter": {
     "hash": "4582d230e25b8217e666f0f9ff9e4572247d830a78f80b8cc5849d556084ed3c"
    }
   }
  }
 },
 "nbformat": 4,
 "nbformat_minor": 2,
 "cells": [
  {
   "cell_type": "code",
   "execution_count": 27,
   "metadata": {},
   "outputs": [],
   "source": [
    "# 자주 사용 함수"
   ]
  },
  {
   "cell_type": "code",
   "execution_count": 142,
   "metadata": {},
   "outputs": [],
   "source": [
    "def change_input(x, input_type=0):\n",
    "    if input_type:\n",
    "        return [list(map(int, i)) for i in x.split('\\n')]\n",
    "    return [list(map(int, i.split())) for i in x.split('\\n')]\n",
    "\n",
    "def print_map(x):\n",
    "    for _ in x:\n",
    "        print(_)\n",
    "    print()"
   ]
  },
  {
   "cell_type": "code",
   "execution_count": 133,
   "metadata": {},
   "outputs": [],
   "source": [
    "# 자주 쓰는 변수"
   ]
  },
  {
   "cell_type": "code",
   "execution_count": 134,
   "metadata": {},
   "outputs": [],
   "source": [
    "FOUR_MOVE_DIR = [(-1,0),(0,1),(1,0),(0,-1)]"
   ]
  },
  {
   "cell_type": "code",
   "execution_count": null,
   "metadata": {},
   "outputs": [],
   "source": []
  },
  {
   "cell_type": "code",
   "execution_count": 2,
   "metadata": {},
   "outputs": [],
   "source": [
    "# Greedy Examples"
   ]
  },
  {
   "cell_type": "code",
   "execution_count": 25,
   "metadata": {},
   "outputs": [],
   "source": [
    "N, M, K = 5, 8, 3\n",
    "array = [2, 4, 5, 4, 6]\n",
    "\n",
    "def sol_greedy_1(N, M, K, array):\n",
    "    array.sort(reverse=True)\n",
    "    big_1 = array[0]\n",
    "    big_2 = array[1]\n",
    "    repeat = M//(K+1)\n",
    "    rest = M%(K+1)\n",
    "    return (big_1*K+big_2)*repeat + big_1*rest"
   ]
  },
  {
   "cell_type": "code",
   "execution_count": 26,
   "metadata": {
    "tags": []
   },
   "outputs": [
    {
     "output_type": "execute_result",
     "data": {
      "text/plain": "46"
     },
     "metadata": {},
     "execution_count": 26
    }
   ],
   "source": [
    "sol_greedy_1(N,M,K,array)"
   ]
  },
  {
   "cell_type": "code",
   "execution_count": null,
   "metadata": {},
   "outputs": [],
   "source": []
  },
  {
   "cell_type": "code",
   "execution_count": 31,
   "metadata": {},
   "outputs": [],
   "source": [
    "N, M = 3, 3\n",
    "cards = '''3 1 2\n",
    "4 1 4\n",
    "2 2 2'''\n",
    "\n",
    "N, M = 2, 4\n",
    "cards = '''7 3 1 8\n",
    "3 3 3 4'''\n",
    "\n",
    "def sol_greedy_2(N, M, cards):\n",
    "    cards = change_input(cards)\n",
    "    answer = -1\n",
    "    for row in cards:\n",
    "        if answer < min(row):\n",
    "            answer = min(row)\n",
    "    return answer\n"
   ]
  },
  {
   "cell_type": "code",
   "execution_count": 32,
   "metadata": {},
   "outputs": [
    {
     "output_type": "execute_result",
     "data": {
      "text/plain": "3"
     },
     "metadata": {},
     "execution_count": 32
    }
   ],
   "source": [
    "sol_greedy_2(N, M, cards)"
   ]
  },
  {
   "cell_type": "code",
   "execution_count": null,
   "metadata": {},
   "outputs": [],
   "source": []
  },
  {
   "cell_type": "code",
   "execution_count": 51,
   "metadata": {},
   "outputs": [],
   "source": [
    "N, K = 25, 5\n",
    "N, K = 25, 3\n",
    "def sol_greedy_3(N, K):\n",
    "    answer = 0\n",
    "    while N != 1:\n",
    "        if N%K == 0:\n",
    "            answer+=1\n",
    "            N//=K\n",
    "        else:\n",
    "            answer+=N%K\n",
    "            N-=N%K\n",
    "        \n",
    "        if N < K:\n",
    "            answer += N-1\n",
    "            break\n",
    "        \n",
    "    return answer"
   ]
  },
  {
   "cell_type": "code",
   "execution_count": 52,
   "metadata": {
    "tags": []
   },
   "outputs": [
    {
     "output_type": "execute_result",
     "data": {
      "text/plain": "6"
     },
     "metadata": {},
     "execution_count": 52
    }
   ],
   "source": [
    "sol_greedy_3(N, K)"
   ]
  },
  {
   "cell_type": "code",
   "execution_count": null,
   "metadata": {},
   "outputs": [],
   "source": []
  },
  {
   "cell_type": "code",
   "execution_count": 54,
   "metadata": {},
   "outputs": [],
   "source": [
    "# 구현 Examples"
   ]
  },
  {
   "cell_type": "code",
   "execution_count": 81,
   "metadata": {},
   "outputs": [],
   "source": [
    "pos = 'f1'\n",
    "\n",
    "DX = [1, 2]\n",
    "DY = [2, 1]\n",
    "BUHO = [(0,1), (1,1), (0,0), (1,0)] # 0: - 1: +\n",
    "\n",
    "def sol_imp_1(pos):\n",
    "    cur_pos = (int(pos[1])-1, ord(pos[0])-ord('a'))\n",
    "    answer=0\n",
    "    for x_buho, y_buho in BUHO:\n",
    "        for i in range(2):\n",
    "            next_x = cur_pos[0] + (-DX[i] if x_buho == 0 else DX[i])\n",
    "            next_y = cur_pos[1] + (-DY[i] if y_buho == 0 else DY[i])\n",
    "            if not(next_x < 0 or next_x >= 8 or next_y < 0 or next_y >= 8):\n",
    "                answer+=1\n",
    "    return answer"
   ]
  },
  {
   "cell_type": "code",
   "execution_count": 82,
   "metadata": {},
   "outputs": [
    {
     "output_type": "execute_result",
     "data": {
      "text/plain": "4"
     },
     "metadata": {},
     "execution_count": 82
    }
   ],
   "source": [
    "sol_imp_1(pos)"
   ]
  },
  {
   "cell_type": "code",
   "execution_count": null,
   "metadata": {},
   "outputs": [],
   "source": []
  },
  {
   "cell_type": "code",
   "execution_count": 99,
   "metadata": {},
   "outputs": [],
   "source": [
    "N, M = 4, 4\n",
    "# x, y, dir(0: 북 1: 동 2: 남 3: 서)\n",
    "character = '1 1 0'\n",
    "# 0: 육지 1: 바다\n",
    "game_map = '''1 1 1 1\n",
    "1 0 0 1\n",
    "1 1 0 1\n",
    "1 1 1 1'''\n",
    "\n",
    "# 서, 북, 동, 남 순서대로 (방향에 맞추기 위함)\n",
    "MOVE_DIR = [(0,-1), (-1,0), (0,1), (1,0)]\n",
    "\n",
    "def sol_imp_2(N,M,character,game_map):\n",
    "    now_x, now_y, now_dir = change_input(character)[0]\n",
    "    game_map = change_input(game_map)\n",
    "    game_map[now_x][now_y] = 2\n",
    "    answer = 1\n",
    "\n",
    "    while True:\n",
    "        check_finish = True\n",
    "        for i in range(4):\n",
    "            next_dir = now_dir + i\n",
    "            if next_dir > 4:\n",
    "                next_dir -= 4\n",
    "            x_dir, y_dir = MOVE_DIR[next_dir]\n",
    "\n",
    "            next_x = now_x + x_dir\n",
    "            next_y = now_y + y_dir\n",
    "            if game_map[next_x][next_y] == 0:\n",
    "                answer+=1\n",
    "                now_x, now_y = next_x, next_y\n",
    "                check_finish = False\n",
    "                game_map[next_x][next_y] = 2\n",
    "                break\n",
    "\n",
    "        # for g in game_map:\n",
    "        #     print(g)\n",
    "        # print()\n",
    "\n",
    "        if check_finish:\n",
    "            return answer\n"
   ]
  },
  {
   "cell_type": "code",
   "execution_count": 100,
   "metadata": {
    "tags": []
   },
   "outputs": [
    {
     "output_type": "execute_result",
     "data": {
      "text/plain": "3"
     },
     "metadata": {},
     "execution_count": 100
    }
   ],
   "source": [
    "sol_imp_2(N,M,character, game_map)"
   ]
  },
  {
   "cell_type": "code",
   "execution_count": null,
   "metadata": {},
   "outputs": [],
   "source": []
  },
  {
   "cell_type": "code",
   "execution_count": 101,
   "metadata": {},
   "outputs": [],
   "source": [
    "# DFS/BFS Examples"
   ]
  },
  {
   "cell_type": "code",
   "execution_count": 145,
   "metadata": {},
   "outputs": [],
   "source": [
    "N, M = 4, 5\n",
    "ice_case = '''00110\n",
    "00011\n",
    "11111\n",
    "00000'''\n",
    "\n",
    "N, M = 15, 14\n",
    "ice_case = '''00000111100000\n",
    "11111101111110\n",
    "11011101101110\n",
    "11011101100000\n",
    "11011111111111\n",
    "11011111111100\n",
    "11000000011111\n",
    "01111111111111\n",
    "00000000011111\n",
    "01111111111000\n",
    "00011111111000\n",
    "00000001111000\n",
    "11111111110011\n",
    "11100011111111\n",
    "11100011111111'''\n",
    "\n",
    "import copy\n",
    "from collections import deque\n",
    "\n",
    "def sol_bfs_1(N, M, ice_case):\n",
    "    ice_case = change_input(ice_case, 1)\n",
    "\n",
    "    # print_map(ice_case)\n",
    "\n",
    "    answer = 0\n",
    "    for i in range(N):\n",
    "        for j in range(M):\n",
    "            if ice_case[i][j] == 0:\n",
    "                answer += 1\n",
    "                q = deque()\n",
    "                q.append((i,j))\n",
    "                while q:\n",
    "                    now_x, now_y = q.popleft()\n",
    "                    ice_case[now_x][now_y] = 1\n",
    "                    for x_dir, y_dir in FOUR_MOVE_DIR:\n",
    "                        next_x, next_y = now_x+x_dir, now_y+y_dir\n",
    "                        if not(next_x < 0 or next_x >= N or next_y < 0 or next_y >= M) and ice_case[next_x][next_y] == 0:\n",
    "                            ice_case[next_x][next_y] = 1\n",
    "                            q.append((next_x, next_y))\n",
    "\n",
    "    # print_map(ice_case)\n",
    "\n",
    "    return answer"
   ]
  },
  {
   "cell_type": "code",
   "execution_count": 146,
   "metadata": {
    "tags": []
   },
   "outputs": [
    {
     "output_type": "execute_result",
     "data": {
      "text/plain": "8"
     },
     "metadata": {},
     "execution_count": 146
    }
   ],
   "source": [
    "sol_bfs_1(N,M,ice_case)"
   ]
  },
  {
   "cell_type": "code",
   "execution_count": null,
   "metadata": {},
   "outputs": [],
   "source": []
  },
  {
   "cell_type": "code",
   "execution_count": 163,
   "metadata": {},
   "outputs": [],
   "source": [
    "N, M = 5, 6\n",
    "\n",
    "# 0: 괴물 O, 1: 괴물 X\n",
    "maze='''101010\n",
    "111111\n",
    "000001\n",
    "111111\n",
    "111111'''\n",
    "\n",
    "from collections import deque\n",
    "\n",
    "def sol_bfs_2(N,M,maze):\n",
    "    maze = change_input(maze, 1)\n",
    "    answer_map = [[0]*M for _ in range(N)]\n",
    "    # print_map(answer_map)\n",
    "    \n",
    "    answer_map[0][0] = 1\n",
    "    q = deque()\n",
    "    q.append((0,0))\n",
    "\n",
    "    while q:\n",
    "        now_x, now_y = q.popleft()\n",
    "        for x_dir, y_dir in FOUR_MOVE_DIR:\n",
    "            next_x, next_y = now_x + x_dir, now_y + y_dir\n",
    "\n",
    "            if next_x < 0 or next_x >= N or next_y < 0 or next_y >= M or maze[next_x][next_y] == 0 or answer_map[next_x][next_y] != 0:\n",
    "                continue\n",
    "            else:\n",
    "                answer_map[next_x][next_y] = answer_map[now_x][now_y]+1\n",
    "                q.append((next_x,next_y))\n",
    "        \n",
    "    print_map(answer_map)\n",
    "    return answer_map[N-1][M-1]"
   ]
  },
  {
   "cell_type": "code",
   "execution_count": 164,
   "metadata": {
    "tags": []
   },
   "outputs": [
    {
     "output_type": "stream",
     "name": "stdout",
     "text": "[1, 0, 5, 0, 7, 0]\n[2, 3, 4, 5, 6, 7]\n[0, 0, 0, 0, 0, 8]\n[14, 13, 12, 11, 10, 9]\n[15, 14, 13, 12, 11, 10]\n\n"
    },
    {
     "output_type": "execute_result",
     "data": {
      "text/plain": "10"
     },
     "metadata": {},
     "execution_count": 164
    }
   ],
   "source": [
    "sol_bfs_2(N,M,maze)"
   ]
  },
  {
   "cell_type": "code",
   "execution_count": null,
   "metadata": {},
   "outputs": [],
   "source": []
  }
 ]
}