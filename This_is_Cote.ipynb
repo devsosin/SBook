{
 "metadata": {
  "language_info": {
   "codemirror_mode": {
    "name": "ipython",
    "version": 3
   },
   "file_extension": ".py",
   "mimetype": "text/x-python",
   "name": "python",
   "nbconvert_exporter": "python",
   "pygments_lexer": "ipython3",
   "version": "3.7.6-final"
  },
  "orig_nbformat": 2,
  "kernelspec": {
   "name": "Python 3.7.6 64-bit",
   "display_name": "Python 3.7.6 64-bit",
   "metadata": {
    "interpreter": {
     "hash": "4582d230e25b8217e666f0f9ff9e4572247d830a78f80b8cc5849d556084ed3c"
    }
   }
  }
 },
 "nbformat": 4,
 "nbformat_minor": 2,
 "cells": [
  {
   "cell_type": "code",
   "execution_count": 27,
   "metadata": {},
   "outputs": [],
   "source": [
    "# 자주 사용 함수"
   ]
  },
  {
   "cell_type": "code",
   "execution_count": 2,
   "metadata": {},
   "outputs": [],
   "source": [
    "def change_input(x, input_type=0, str_column=None):\n",
    "    if input_type:\n",
    "        return [list(map(int, i)) for i in x.split('\\n')]\n",
    "    return [list(map(int, i.split())) for i in x.split('\\n')]\n",
    "\n",
    "def print_map(x):\n",
    "    for _ in x:\n",
    "        print(_)\n",
    "    print()\n",
    "\n",
    "def fast_input():\n",
    "    return sys.stdin.readline().rstrip()"
   ]
  },
  {
   "cell_type": "code",
   "execution_count": 2,
   "metadata": {},
   "outputs": [],
   "source": [
    "# 자주 쓰는 변수"
   ]
  },
  {
   "cell_type": "code",
   "execution_count": 3,
   "metadata": {},
   "outputs": [],
   "source": [
    "FOUR_MOVE_DIR = [(-1,0),(0,1),(1,0),(0,-1)]"
   ]
  },
  {
   "cell_type": "code",
   "execution_count": null,
   "metadata": {},
   "outputs": [],
   "source": []
  },
  {
   "cell_type": "code",
   "execution_count": 2,
   "metadata": {},
   "outputs": [],
   "source": [
    "# Greedy Examples"
   ]
  },
  {
   "cell_type": "code",
   "execution_count": 25,
   "metadata": {},
   "outputs": [],
   "source": [
    "N, M, K = 5, 8, 3\n",
    "array = [2, 4, 5, 4, 6]\n",
    "\n",
    "def sol_greedy_1(N, M, K, array):\n",
    "    array.sort(reverse=True)\n",
    "    big_1 = array[0]\n",
    "    big_2 = array[1]\n",
    "    repeat = M//(K+1)\n",
    "    rest = M%(K+1)\n",
    "    return (big_1*K+big_2)*repeat + big_1*rest"
   ]
  },
  {
   "cell_type": "code",
   "execution_count": 26,
   "metadata": {
    "tags": []
   },
   "outputs": [
    {
     "output_type": "execute_result",
     "data": {
      "text/plain": "46"
     },
     "metadata": {},
     "execution_count": 26
    }
   ],
   "source": [
    "sol_greedy_1(N,M,K,array)"
   ]
  },
  {
   "cell_type": "code",
   "execution_count": null,
   "metadata": {},
   "outputs": [],
   "source": []
  },
  {
   "cell_type": "code",
   "execution_count": 31,
   "metadata": {},
   "outputs": [],
   "source": [
    "N, M = 3, 3\n",
    "cards = '''3 1 2\n",
    "4 1 4\n",
    "2 2 2'''\n",
    "\n",
    "N, M = 2, 4\n",
    "cards = '''7 3 1 8\n",
    "3 3 3 4'''\n",
    "\n",
    "def sol_greedy_2(N, M, cards):\n",
    "    cards = change_input(cards)\n",
    "    answer = -1\n",
    "    for row in cards:\n",
    "        if answer < min(row):\n",
    "            answer = min(row)\n",
    "    return answer\n"
   ]
  },
  {
   "cell_type": "code",
   "execution_count": 32,
   "metadata": {},
   "outputs": [
    {
     "output_type": "execute_result",
     "data": {
      "text/plain": "3"
     },
     "metadata": {},
     "execution_count": 32
    }
   ],
   "source": [
    "sol_greedy_2(N, M, cards)"
   ]
  },
  {
   "cell_type": "code",
   "execution_count": null,
   "metadata": {},
   "outputs": [],
   "source": []
  },
  {
   "cell_type": "code",
   "execution_count": 51,
   "metadata": {},
   "outputs": [],
   "source": [
    "N, K = 25, 5\n",
    "N, K = 25, 3\n",
    "def sol_greedy_3(N, K):\n",
    "    answer = 0\n",
    "    while N != 1:\n",
    "        if N%K == 0:\n",
    "            answer+=1\n",
    "            N//=K\n",
    "        else:\n",
    "            answer+=N%K\n",
    "            N-=N%K\n",
    "        \n",
    "        if N < K:\n",
    "            answer += N-1\n",
    "            break\n",
    "        \n",
    "    return answer"
   ]
  },
  {
   "cell_type": "code",
   "execution_count": 52,
   "metadata": {
    "tags": []
   },
   "outputs": [
    {
     "output_type": "execute_result",
     "data": {
      "text/plain": "6"
     },
     "metadata": {},
     "execution_count": 52
    }
   ],
   "source": [
    "sol_greedy_3(N, K)"
   ]
  },
  {
   "cell_type": "code",
   "execution_count": null,
   "metadata": {},
   "outputs": [],
   "source": []
  },
  {
   "cell_type": "code",
   "execution_count": 54,
   "metadata": {},
   "outputs": [],
   "source": [
    "# 구현 Examples"
   ]
  },
  {
   "cell_type": "code",
   "execution_count": 81,
   "metadata": {},
   "outputs": [],
   "source": [
    "pos = 'f1'\n",
    "\n",
    "DX = [1, 2]\n",
    "DY = [2, 1]\n",
    "BUHO = [(0,1), (1,1), (0,0), (1,0)] # 0: - 1: +\n",
    "\n",
    "def sol_imp_1(pos):\n",
    "    cur_pos = (int(pos[1])-1, ord(pos[0])-ord('a'))\n",
    "    answer=0\n",
    "    for x_buho, y_buho in BUHO:\n",
    "        for i in range(2):\n",
    "            next_x = cur_pos[0] + (-DX[i] if x_buho == 0 else DX[i])\n",
    "            next_y = cur_pos[1] + (-DY[i] if y_buho == 0 else DY[i])\n",
    "            if not(next_x < 0 or next_x >= 8 or next_y < 0 or next_y >= 8):\n",
    "                answer+=1\n",
    "    return answer"
   ]
  },
  {
   "cell_type": "code",
   "execution_count": 82,
   "metadata": {},
   "outputs": [
    {
     "output_type": "execute_result",
     "data": {
      "text/plain": "4"
     },
     "metadata": {},
     "execution_count": 82
    }
   ],
   "source": [
    "sol_imp_1(pos)"
   ]
  },
  {
   "cell_type": "code",
   "execution_count": null,
   "metadata": {},
   "outputs": [],
   "source": []
  },
  {
   "cell_type": "code",
   "execution_count": 99,
   "metadata": {},
   "outputs": [],
   "source": [
    "N, M = 4, 4\n",
    "# x, y, dir(0: 북 1: 동 2: 남 3: 서)\n",
    "character = '1 1 0'\n",
    "# 0: 육지 1: 바다\n",
    "game_map = '''1 1 1 1\n",
    "1 0 0 1\n",
    "1 1 0 1\n",
    "1 1 1 1'''\n",
    "\n",
    "# 서, 북, 동, 남 순서대로 (방향에 맞추기 위함)\n",
    "MOVE_DIR = [(0,-1), (-1,0), (0,1), (1,0)]\n",
    "\n",
    "def sol_imp_2(N,M,character,game_map):\n",
    "    now_x, now_y, now_dir = change_input(character)[0]\n",
    "    game_map = change_input(game_map)\n",
    "    game_map[now_x][now_y] = 2\n",
    "    answer = 1\n",
    "\n",
    "    while True:\n",
    "        check_finish = True\n",
    "        for i in range(4):\n",
    "            next_dir = now_dir + i\n",
    "            if next_dir > 4:\n",
    "                next_dir -= 4\n",
    "            x_dir, y_dir = MOVE_DIR[next_dir]\n",
    "\n",
    "            next_x = now_x + x_dir\n",
    "            next_y = now_y + y_dir\n",
    "            if game_map[next_x][next_y] == 0:\n",
    "                answer+=1\n",
    "                now_x, now_y = next_x, next_y\n",
    "                check_finish = False\n",
    "                game_map[next_x][next_y] = 2\n",
    "                break\n",
    "\n",
    "        # for g in game_map:\n",
    "        #     print(g)\n",
    "        # print()\n",
    "\n",
    "        if check_finish:\n",
    "            return answer\n"
   ]
  },
  {
   "cell_type": "code",
   "execution_count": 100,
   "metadata": {
    "tags": []
   },
   "outputs": [
    {
     "output_type": "execute_result",
     "data": {
      "text/plain": "3"
     },
     "metadata": {},
     "execution_count": 100
    }
   ],
   "source": [
    "sol_imp_2(N,M,character, game_map)"
   ]
  },
  {
   "cell_type": "code",
   "execution_count": null,
   "metadata": {},
   "outputs": [],
   "source": []
  },
  {
   "cell_type": "code",
   "execution_count": 101,
   "metadata": {},
   "outputs": [],
   "source": [
    "# DFS/BFS Examples"
   ]
  },
  {
   "cell_type": "code",
   "execution_count": 145,
   "metadata": {},
   "outputs": [],
   "source": [
    "N, M = 4, 5\n",
    "ice_case = '''00110\n",
    "00011\n",
    "11111\n",
    "00000'''\n",
    "\n",
    "N, M = 15, 14\n",
    "ice_case = '''00000111100000\n",
    "11111101111110\n",
    "11011101101110\n",
    "11011101100000\n",
    "11011111111111\n",
    "11011111111100\n",
    "11000000011111\n",
    "01111111111111\n",
    "00000000011111\n",
    "01111111111000\n",
    "00011111111000\n",
    "00000001111000\n",
    "11111111110011\n",
    "11100011111111\n",
    "11100011111111'''\n",
    "\n",
    "import copy\n",
    "from collections import deque\n",
    "\n",
    "def sol_bfs_1(N, M, ice_case):\n",
    "    ice_case = change_input(ice_case, 1)\n",
    "\n",
    "    # print_map(ice_case)\n",
    "\n",
    "    answer = 0\n",
    "    for i in range(N):\n",
    "        for j in range(M):\n",
    "            if ice_case[i][j] == 0:\n",
    "                answer += 1\n",
    "                q = deque()\n",
    "                q.append((i,j))\n",
    "                while q:\n",
    "                    now_x, now_y = q.popleft()\n",
    "                    ice_case[now_x][now_y] = 1\n",
    "                    for x_dir, y_dir in FOUR_MOVE_DIR:\n",
    "                        next_x, next_y = now_x+x_dir, now_y+y_dir\n",
    "                        if not(next_x < 0 or next_x >= N or next_y < 0 or next_y >= M) and ice_case[next_x][next_y] == 0:\n",
    "                            ice_case[next_x][next_y] = 1\n",
    "                            q.append((next_x, next_y))\n",
    "\n",
    "    # print_map(ice_case)\n",
    "\n",
    "    return answer"
   ]
  },
  {
   "cell_type": "code",
   "execution_count": 146,
   "metadata": {
    "tags": []
   },
   "outputs": [
    {
     "output_type": "execute_result",
     "data": {
      "text/plain": "8"
     },
     "metadata": {},
     "execution_count": 146
    }
   ],
   "source": [
    "sol_bfs_1(N,M,ice_case)"
   ]
  },
  {
   "cell_type": "code",
   "execution_count": null,
   "metadata": {},
   "outputs": [],
   "source": []
  },
  {
   "cell_type": "code",
   "execution_count": 163,
   "metadata": {},
   "outputs": [],
   "source": [
    "N, M = 5, 6\n",
    "\n",
    "# 0: 괴물 O, 1: 괴물 X\n",
    "maze='''101010\n",
    "111111\n",
    "000001\n",
    "111111\n",
    "111111'''\n",
    "\n",
    "from collections import deque\n",
    "\n",
    "def sol_bfs_2(N,M,maze):\n",
    "    maze = change_input(maze, 1)\n",
    "    answer_map = [[0]*M for _ in range(N)]\n",
    "    # print_map(answer_map)\n",
    "    \n",
    "    answer_map[0][0] = 1\n",
    "    q = deque()\n",
    "    q.append((0,0))\n",
    "\n",
    "    while q:\n",
    "        now_x, now_y = q.popleft()\n",
    "        for x_dir, y_dir in FOUR_MOVE_DIR:\n",
    "            next_x, next_y = now_x + x_dir, now_y + y_dir\n",
    "\n",
    "            if next_x < 0 or next_x >= N or next_y < 0 or next_y >= M or maze[next_x][next_y] == 0 or answer_map[next_x][next_y] != 0:\n",
    "                continue\n",
    "            else:\n",
    "                answer_map[next_x][next_y] = answer_map[now_x][now_y]+1\n",
    "                q.append((next_x,next_y))\n",
    "        \n",
    "    print_map(answer_map)\n",
    "    return answer_map[N-1][M-1]"
   ]
  },
  {
   "cell_type": "code",
   "execution_count": 164,
   "metadata": {
    "tags": []
   },
   "outputs": [
    {
     "output_type": "stream",
     "name": "stdout",
     "text": "[1, 0, 5, 0, 7, 0]\n[2, 3, 4, 5, 6, 7]\n[0, 0, 0, 0, 0, 8]\n[14, 13, 12, 11, 10, 9]\n[15, 14, 13, 12, 11, 10]\n\n"
    },
    {
     "output_type": "execute_result",
     "data": {
      "text/plain": "10"
     },
     "metadata": {},
     "execution_count": 164
    }
   ],
   "source": [
    "sol_bfs_2(N,M,maze)"
   ]
  },
  {
   "cell_type": "code",
   "execution_count": null,
   "metadata": {},
   "outputs": [],
   "source": []
  },
  {
   "cell_type": "code",
   "execution_count": 1,
   "metadata": {},
   "outputs": [],
   "source": [
    "# Sort Examples"
   ]
  },
  {
   "cell_type": "code",
   "execution_count": 13,
   "metadata": {},
   "outputs": [],
   "source": [
    "N = [3, 15, 27, 12]\n",
    "\n",
    "def sol_sort_1(N):\n",
    "    print(' '.join(map(str,sorted(N,reverse=True))))"
   ]
  },
  {
   "cell_type": "code",
   "execution_count": 14,
   "metadata": {},
   "outputs": [
    {
     "output_type": "stream",
     "name": "stdout",
     "text": [
      "27 15 12 3\n"
     ]
    }
   ],
   "source": [
    "sol_sort_1(N)"
   ]
  },
  {
   "cell_type": "code",
   "execution_count": null,
   "metadata": {},
   "outputs": [],
   "source": []
  },
  {
   "cell_type": "code",
   "execution_count": 66,
   "metadata": {},
   "outputs": [],
   "source": [
    "N = 2\n",
    "students = '''홍길동 95\n",
    "이순신 77'''\n",
    "\n",
    "import numpy as np\n",
    "def sol_sort_2(N, students):\n",
    "    students = [i.split() for i in students.split('\\n')]\n",
    "    for i in range(len(students)):\n",
    "        students[i][1] = int(students[i][1])\n",
    "    return sorted(students, key=lambda i : i[1])"
   ]
  },
  {
   "cell_type": "code",
   "execution_count": 67,
   "metadata": {},
   "outputs": [
    {
     "output_type": "execute_result",
     "data": {
      "text/plain": [
       "[['이순신', 77], ['홍길동', 95]]"
      ]
     },
     "metadata": {},
     "execution_count": 67
    }
   ],
   "source": [
    "sol_sort_2(N,students)"
   ]
  },
  {
   "cell_type": "code",
   "execution_count": null,
   "metadata": {},
   "outputs": [],
   "source": []
  },
  {
   "cell_type": "code",
   "execution_count": 76,
   "metadata": {},
   "outputs": [],
   "source": [
    "N, K = 5, 3\n",
    "array_A = [1,2,5,4,3]\n",
    "array_B = [5,5,6,6,5]\n",
    "\n",
    "def sol_sort_3(N, K, array_A, array_B):\n",
    "    for i in range(K):\n",
    "        print(array_A, array_B)\n",
    "        temp1 = array_A.pop(array_A.index(min(array_A)))\n",
    "        temp2 = array_B.pop(array_B.index(max(array_B)))\n",
    "        if temp1 > temp2:\n",
    "            break\n",
    "        array_A.append(temp2)\n",
    "        array_B.append(temp1)\n",
    "\n",
    "    return sum(array_A)"
   ]
  },
  {
   "cell_type": "code",
   "execution_count": 77,
   "metadata": {},
   "outputs": [
    {
     "output_type": "stream",
     "name": "stdout",
     "text": [
      "[1, 2, 5, 4, 3] [5, 5, 6, 6, 5]\n[2, 5, 4, 3, 6] [5, 5, 6, 5, 1]\n[5, 4, 3, 6, 6] [5, 5, 5, 1, 2]\n"
     ]
    },
    {
     "output_type": "execute_result",
     "data": {
      "text/plain": [
       "26"
      ]
     },
     "metadata": {},
     "execution_count": 77
    }
   ],
   "source": [
    "sol_sort_3(N,K,array_A,array_B)"
   ]
  },
  {
   "cell_type": "code",
   "execution_count": null,
   "metadata": {},
   "outputs": [],
   "source": []
  },
  {
   "cell_type": "code",
   "execution_count": 78,
   "metadata": {},
   "outputs": [],
   "source": [
    "# Binary Search Examples\n",
    "# Key Concept\n",
    "# 1. 정렬 상태 만들기\n",
    "# 2. 반씩 탐색범위 줄이기 \n",
    "# 3. 시작, 끝 범위 조절 시 mid에서 (+1, -1)"
   ]
  },
  {
   "cell_type": "code",
   "execution_count": 79,
   "metadata": {},
   "outputs": [],
   "source": [
    "# 이진탐색 함수 (재귀호출)\n",
    "def binary_search(array, target, start, end):\n",
    "    if start > end:\n",
    "        return None\n",
    "    mid = (start + end) // 2\n",
    "    if array[mid] == target:\n",
    "        return mid\n",
    "    elif array[mid] > target:\n",
    "        return binary_search(array, target, start, mid - 1)\n",
    "    else:\n",
    "        return binary_search(array, target, mid + 1, end)"
   ]
  },
  {
   "cell_type": "code",
   "execution_count": 85,
   "metadata": {},
   "outputs": [],
   "source": [
    "N = 5\n",
    "store_part = [8,3,7,9,2]\n",
    "M = 3\n",
    "customer_part = [5,7,9]\n",
    "\n",
    "def sol_bs_1(N,store_part,M,customer_part):\n",
    "    store_part.sort()\n",
    "    for cp in customer_part:\n",
    "        if binary_search(store_part, cp, 0, len(store_part)):\n",
    "            print('yes', end=' ')\n",
    "        else:\n",
    "            print('no', end=' ')"
   ]
  },
  {
   "cell_type": "code",
   "execution_count": 86,
   "metadata": {},
   "outputs": [
    {
     "output_type": "stream",
     "name": "stdout",
     "text": [
      "no yes yes "
     ]
    }
   ],
   "source": [
    "sol_bs_1(N,store_part,M,customer_part)"
   ]
  },
  {
   "cell_type": "code",
   "execution_count": null,
   "metadata": {},
   "outputs": [],
   "source": []
  },
  {
   "cell_type": "code",
   "execution_count": 18,
   "metadata": {},
   "outputs": [],
   "source": [
    "N, M = 4, 6\n",
    "dduck = [19, 15, 10, 17]\n",
    "\n",
    "def sol_bs_2(N,M,dduck):\n",
    "    max_height = max(dduck)\n",
    "    min_height = 0\n",
    "\n",
    "    while True:\n",
    "        if max_height < min_height:\n",
    "            return height\n",
    "        height = (min_height + max_height) // 2\n",
    "        temp = 0\n",
    "        for d in dduck:\n",
    "            temp += max(d-height, 0)\n",
    "        if M == temp:\n",
    "            return height\n",
    "        elif M > temp:\n",
    "            max_height = height - 1\n",
    "        else:\n",
    "            min_height = height + 1"
   ]
  },
  {
   "cell_type": "code",
   "execution_count": 19,
   "metadata": {},
   "outputs": [
    {
     "output_type": "execute_result",
     "data": {
      "text/plain": [
       "15"
      ]
     },
     "metadata": {},
     "execution_count": 19
    }
   ],
   "source": [
    "sol_bs_2(N,M,dduck)"
   ]
  },
  {
   "cell_type": "code",
   "execution_count": null,
   "metadata": {},
   "outputs": [],
   "source": []
  },
  {
   "cell_type": "code",
   "execution_count": 20,
   "metadata": {},
   "outputs": [],
   "source": [
    "# Dynamic Programming Examples\n",
    "# Key Concept \n",
    "# 1. 점화식 탐색 \n",
    "# 2. 반복 시 바텀업 방식 활용 (메모리에 저장해놓고 연산횟수 줄이기)"
   ]
  },
  {
   "cell_type": "code",
   "execution_count": 4,
   "metadata": {},
   "outputs": [],
   "source": [
    "def dynamic(x, count, answer_array):\n",
    "    if x == 1:\n",
    "        answer_array.append(count)\n",
    "        return\n",
    "    if x%5 == 0:\n",
    "        dynamic(x//5, count+1, answer_array)\n",
    "    if x%3 == 0:\n",
    "        dynamic(x//3, count+1, answer_array)\n",
    "    if x%2 == 0:\n",
    "        dynamic(x//2, count+1, answer_array)\n",
    "    dynamic(x-1, count+1, answer_array)\n",
    "\n",
    "X = 26\n",
    "def sol_dp_1(X):\n",
    "    answer_array = []\n",
    "    dynamic(X, 0, answer_array)\n",
    "    return min(answer_array)"
   ]
  },
  {
   "cell_type": "code",
   "execution_count": 5,
   "metadata": {
    "tags": []
   },
   "outputs": [
    {
     "output_type": "execute_result",
     "data": {
      "text/plain": [
       "2"
      ]
     },
     "metadata": {},
     "execution_count": 5
    }
   ],
   "source": [
    "sol_dp_1(6)"
   ]
  },
  {
   "cell_type": "code",
   "execution_count": null,
   "metadata": {},
   "outputs": [],
   "source": []
  },
  {
   "cell_type": "code",
   "execution_count": 28,
   "metadata": {},
   "outputs": [],
   "source": [
    "N = 5\n",
    "foods=[1,3,1,5,19]\n",
    "\n",
    "def sol_dp_2(N, foods):\n",
    "    answer = [0] * N\n",
    "    answer[0] = foods[0]\n",
    "    answer[1] = foods[1]\n",
    "    for i in range(2, len(foods)):\n",
    "        answer[i] = max(foods[i]+answer[i-2], answer[i-1])\n",
    "    return max(answer)\n"
   ]
  },
  {
   "cell_type": "code",
   "execution_count": 29,
   "metadata": {},
   "outputs": [
    {
     "output_type": "execute_result",
     "data": {
      "text/plain": [
       "22"
      ]
     },
     "metadata": {},
     "execution_count": 29
    }
   ],
   "source": [
    "sol_dp_2(N, foods)"
   ]
  },
  {
   "cell_type": "code",
   "execution_count": null,
   "metadata": {},
   "outputs": [],
   "source": []
  },
  {
   "cell_type": "code",
   "execution_count": 82,
   "metadata": {},
   "outputs": [],
   "source": [
    "N = 15\n",
    "\n",
    "def sol_dp_3(N):\n",
    "    d = [0] * 1001\n",
    "    d[1] = 1\n",
    "    d[2] = 3\n",
    "\n",
    "    for i in range(3, N+1):\n",
    "        d[i] = d[i-1] + 2 * d[i-2]\n",
    "\n",
    "    return d[N]"
   ]
  },
  {
   "cell_type": "code",
   "execution_count": 83,
   "metadata": {},
   "outputs": [
    {
     "output_type": "execute_result",
     "data": {
      "text/plain": [
       "21845"
      ]
     },
     "metadata": {},
     "execution_count": 83
    }
   ],
   "source": [
    "sol_dp_3(N)"
   ]
  },
  {
   "cell_type": "code",
   "execution_count": 84,
   "metadata": {},
   "outputs": [],
   "source": [
    "# 답 봤음"
   ]
  },
  {
   "cell_type": "code",
   "execution_count": null,
   "metadata": {},
   "outputs": [],
   "source": []
  },
  {
   "cell_type": "code",
   "execution_count": 100,
   "metadata": {},
   "outputs": [],
   "source": [
    "N, M = 2, 15\n",
    "coins = [2, 3]\n",
    "\n",
    "# N, M = 3, 7\n",
    "# coins = [2,3,5]\n",
    "\n",
    "answer = []\n",
    "def make_target(now, target, coins, use_coin):\n",
    "    global answer\n",
    "    if now == target:\n",
    "        answer.append(use_coin)\n",
    "    elif now <= target:\n",
    "        for c in coins:\n",
    "            make_target(now + c, target, coins, use_coin+1)\n",
    "\n",
    "def sol_dp_4(N, M, coins):\n",
    "    global answer\n",
    "    make_target(0, M, coins, 0)\n",
    "    if answer:\n",
    "        return min(answer)\n",
    "    else:\n",
    "        return -1\n"
   ]
  },
  {
   "cell_type": "code",
   "execution_count": 101,
   "metadata": {},
   "outputs": [
    {
     "output_type": "execute_result",
     "data": {
      "text/plain": [
       "5"
      ]
     },
     "metadata": {},
     "execution_count": 101
    }
   ],
   "source": [
    "sol_dp_4(N,M,coins)"
   ]
  },
  {
   "cell_type": "code",
   "execution_count": null,
   "metadata": {},
   "outputs": [],
   "source": []
  },
  {
   "cell_type": "code",
   "execution_count": 102,
   "metadata": {},
   "outputs": [],
   "source": [
    "# Shortest Path Examples"
   ]
  },
  {
   "cell_type": "code",
   "execution_count": 119,
   "metadata": {},
   "outputs": [],
   "source": [
    "N, M = 5, 7\n",
    "routes = '''1 2\n",
    "1 3\n",
    "1 4\n",
    "2 4\n",
    "3 4\n",
    "3 5\n",
    "4 5'''\n",
    "# K를 거쳐 X로 이동\n",
    "X, K = 4, 5\n",
    "\n",
    "# N, M = 4, 2\n",
    "# routes = '''1 3\n",
    "# 2 4'''\n",
    "# X, K = 3, 4\n",
    "\n",
    "\n",
    "\n",
    "def sol_sp_1(N,M,routes, X, K):\n",
    "    routes = change_input(routes)\n",
    "    INF = int(1e9)\n",
    "\n",
    "    graphs = {i:[] for i in range(1, N+1)}\n",
    "    costs = [[INF]*(N+1) for _ in range(N+1)]\n",
    "    for s, e in routes:\n",
    "        costs[s][e] = 1\n",
    "        costs[e][s] = 1\n",
    "        graphs[s].append(e)\n",
    "        graphs[e].append(s)\n",
    "\n",
    "    \n",
    "    for start_pos in range(1, N+1):\n",
    "        for end_pos in range(1, N+1):\n",
    "            for connect_pos in range(1, N+1):\n",
    "                costs[start_pos][end_pos] = min(costs[start_pos][end_pos], costs[start_pos][connect_pos] + costs[connect_pos][end_pos])\n",
    "\n",
    "    answer = costs[1][K] + costs[K][X]\n",
    "    return -1 if answer > INF else answer"
   ]
  },
  {
   "cell_type": "code",
   "execution_count": 120,
   "metadata": {},
   "outputs": [
    {
     "output_type": "execute_result",
     "data": {
      "text/plain": [
       "3"
      ]
     },
     "metadata": {},
     "execution_count": 120
    }
   ],
   "source": [
    "sol_sp_1(N,M,routes,X,K)"
   ]
  },
  {
   "cell_type": "code",
   "execution_count": null,
   "metadata": {},
   "outputs": [],
   "source": []
  },
  {
   "cell_type": "code",
   "execution_count": 140,
   "metadata": {},
   "outputs": [],
   "source": [
    "N,M,C = 3,2,1\n",
    "paths = '''1 2 4\n",
    "1 3 2'''\n",
    "\n",
    "def sol_sp_2(N,M,C,paths):\n",
    "    paths = change_input(paths)\n",
    "    INF = int(1e9)\n",
    "\n",
    "    graphs = {i:[] for i in range(1, N+1)}\n",
    "    costs = [[INF]*(N+1) for _ in range(N+1)]\n",
    "    for s, e, c in paths:\n",
    "        costs[s][e] = c\n",
    "        graphs[s].append((e,c))\n",
    "\n",
    "    for i in range(1, N+1):\n",
    "        for j in range(1, N+1):\n",
    "            for k in range(1, N+1):\n",
    "                costs[i][j] = min(costs[i][j], costs[i][k]+costs[k][j])\n",
    "\n",
    "    answer_list = list(filter(lambda i : i != INF, costs[C]))\n",
    "    return len(answer_list), max(answer_list)"
   ]
  },
  {
   "cell_type": "code",
   "execution_count": 141,
   "metadata": {},
   "outputs": [
    {
     "output_type": "execute_result",
     "data": {
      "text/plain": [
       "(2, 4)"
      ]
     },
     "metadata": {},
     "execution_count": 141
    }
   ],
   "source": [
    "sol_sp_2(N,M,C,paths)"
   ]
  },
  {
   "cell_type": "code",
   "execution_count": null,
   "metadata": {},
   "outputs": [],
   "source": []
  },
  {
   "cell_type": "code",
   "execution_count": 1,
   "metadata": {},
   "outputs": [],
   "source": [
    "# Graph Examples"
   ]
  },
  {
   "cell_type": "code",
   "execution_count": 11,
   "metadata": {},
   "outputs": [],
   "source": [
    "N, M = 7, 8\n",
    "computation = '''0 1 3\n",
    "1 1 7\n",
    "0 7 6\n",
    "1 7 1\n",
    "0 3 7\n",
    "0 4 2\n",
    "0 1 1\n",
    "1 1 1'''\n",
    "\n",
    "\n",
    "def find_parents(x, parents):\n",
    "    if x == parents[x]:\n",
    "        return x\n",
    "    else:\n",
    "        return find_parents(parents[x], parents)\n",
    "\n",
    "def union_parents(a, b, parents):\n",
    "    a = find_parents(a, parents)\n",
    "    b = find_parents(b, parents)\n",
    "\n",
    "    if a < b:\n",
    "        parents[b] = a\n",
    "    else:\n",
    "        parents[a] = b\n",
    "\n",
    "def sol_graph_1(N,M,computation):\n",
    "    computation = change_input(computation)\n",
    "    parents = [i for i in range(N+1)]\n",
    "\n",
    "    for com_type, a, b in computation:\n",
    "        if com_type:\n",
    "            if find_parents(a, parents) == find_parents(b, parents):\n",
    "                print('YES')\n",
    "            else:\n",
    "                print('NO')\n",
    "        else:\n",
    "            union_parents(a,b,parents)"
   ]
  },
  {
   "cell_type": "code",
   "execution_count": 12,
   "metadata": {},
   "outputs": [
    {
     "output_type": "stream",
     "name": "stdout",
     "text": [
      "NO\nNO\nYES\n"
     ]
    }
   ],
   "source": [
    "sol_graph_1(N,M,computation)"
   ]
  },
  {
   "cell_type": "code",
   "execution_count": null,
   "metadata": {},
   "outputs": [],
   "source": []
  },
  {
   "cell_type": "code",
   "execution_count": 54,
   "metadata": {},
   "outputs": [],
   "source": [
    "N, M = 7, 12\n",
    "roads = '''1 2 3\n",
    "1 3 2\n",
    "3 2 1\n",
    "2 5 2\n",
    "3 4 4\n",
    "7 3 6\n",
    "5 1 5\n",
    "1 6 2\n",
    "6 4 1\n",
    "6 5 3\n",
    "4 5 3\n",
    "6 7 4'''\n",
    "\n",
    "def find_parents(x, parents):\n",
    "    if x == parents[x]:\n",
    "        return x\n",
    "    else:\n",
    "        return find_parents(parents[x], parents)\n",
    "\n",
    "def union_parents(a,b,parents):\n",
    "    a = find_parents(a, parents)\n",
    "    b = find_parents(b, parents)\n",
    "\n",
    "    if a < b:\n",
    "        parents[b] = a\n",
    "    else:\n",
    "        parents[a] = b\n",
    "        \n",
    "def sol_graph_2(N,M,roads):\n",
    "    roads = change_input(roads)\n",
    "    roads = sorted(roads, key=lambda i : i[2])\n",
    "    parents = [i for i in range(N+1)]\n",
    "\n",
    "    answer = 0\n",
    "    \n",
    "    for a, b, c in roads:\n",
    "        if find_parents(a, parents) != find_parents(b, parents):\n",
    "            union_parents(a,b,parents)\n",
    "            answer+=c\n",
    "            last = c\n",
    "    return answer-last\n"
   ]
  },
  {
   "cell_type": "code",
   "execution_count": 55,
   "metadata": {},
   "outputs": [
    {
     "output_type": "execute_result",
     "data": {
      "text/plain": [
       "8"
      ]
     },
     "metadata": {},
     "execution_count": 55
    }
   ],
   "source": [
    "sol_graph_2(N,M,roads)"
   ]
  },
  {
   "cell_type": "code",
   "execution_count": 56,
   "metadata": {},
   "outputs": [],
   "source": [
    "# 답 봤음, 마지막 집은 연결할 필요가 없다는 것"
   ]
  },
  {
   "cell_type": "code",
   "execution_count": null,
   "metadata": {},
   "outputs": [],
   "source": []
  },
  {
   "cell_type": "code",
   "execution_count": 163,
   "metadata": {},
   "outputs": [],
   "source": [
    "N = 5\n",
    "classes = '''10\n",
    "10 1\n",
    "4 1\n",
    "4 3 1\n",
    "3 3'''\n",
    "\n",
    "from collections import deque\n",
    "\n",
    "def sol_graph_3(N, classes):\n",
    "    classes = change_input(classes)\n",
    "    graph = {i:[] for i in range(1, N+1)}\n",
    "    costs = [classes[i][0] for i in range(N)]\n",
    "    temp = [0 for _ in range(N+1)]\n",
    "\n",
    "    for c in range(1, N+1):\n",
    "        for i in classes[c-1][1:]:\n",
    "            graph[i].append(c)\n",
    "            temp[c] += 1\n",
    "\n",
    "    # 강의 costs 계산\n",
    "    answer = [0] * (N+1)\n",
    "    q = deque()\n",
    "    for i in range(1, N+1):\n",
    "        if temp[i] == 0:\n",
    "            answer[i] = costs[i-1]\n",
    "            q.append(i)\n",
    "    \n",
    "    while q:\n",
    "        now_class = q.popleft()\n",
    "        for next_class in graph[now_class]:\n",
    "            temp[next_class] -= 1\n",
    "            answer[next_class] = max(answer[next_class], answer[now_class] + costs[next_class-1])\n",
    "            if temp[next_class] == 0:\n",
    "                q.append(next_class)\n",
    "\n",
    "    print(answer[1:])\n",
    "\n"
   ]
  },
  {
   "cell_type": "code",
   "execution_count": 164,
   "metadata": {},
   "outputs": [
    {
     "output_type": "stream",
     "name": "stdout",
     "text": [
      "[10, 20, 14, 18, 17]\n"
     ]
    }
   ],
   "source": [
    "sol_graph_3(N, classes)"
   ]
  },
  {
   "cell_type": "code",
   "execution_count": 165,
   "metadata": {},
   "outputs": [],
   "source": [
    "# 답 봤음"
   ]
  },
  {
   "cell_type": "code",
   "execution_count": null,
   "metadata": {},
   "outputs": [],
   "source": []
  },
  {
   "cell_type": "code",
   "execution_count": null,
   "metadata": {},
   "outputs": [],
   "source": []
  }
 ]
}