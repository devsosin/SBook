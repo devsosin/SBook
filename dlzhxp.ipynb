{
 "metadata": {
  "language_info": {
   "codemirror_mode": {
    "name": "ipython",
    "version": 3
   },
   "file_extension": ".py",
   "mimetype": "text/x-python",
   "name": "python",
   "nbconvert_exporter": "python",
   "pygments_lexer": "ipython3",
   "version": "3.8.5-final"
  },
  "orig_nbformat": 2,
  "kernelspec": {
   "name": "python3",
   "display_name": "Python 3",
   "language": "python"
  }
 },
 "nbformat": 4,
 "nbformat_minor": 2,
 "cells": [
  {
   "cell_type": "code",
   "execution_count": null,
   "metadata": {},
   "outputs": [],
   "source": []
  },
  {
   "cell_type": "code",
   "execution_count": 4,
   "metadata": {},
   "outputs": [
    {
     "output_type": "execute_result",
     "data": {
      "text/plain": [
       "2"
      ]
     },
     "metadata": {},
     "execution_count": 4
    }
   ],
   "source": [
    "N = int(input())\n",
    "avatar = list(map(int, input().split()))\n",
    "\n",
    "def sol(N, avatar):\n",
    "    answer = 0\n",
    "    avatar.sort()\n",
    "    now_fears = 0\n",
    "    for a in avatar:\n",
    "        now_fears += 1\n",
    "        if a <= now_fears:\n",
    "            answer+=1\n",
    "            now_fears = 0\n",
    "    return answer\n",
    "    \n",
    "sol(N, avatar)"
   ]
  },
  {
   "cell_type": "code",
   "execution_count": 6,
   "metadata": {},
   "outputs": [],
   "source": []
  },
  {
   "cell_type": "code",
   "execution_count": 12,
   "metadata": {},
   "outputs": [],
   "source": [
    "numbers = N.copy()"
   ]
  },
  {
   "cell_type": "code",
   "execution_count": 9,
   "metadata": {},
   "outputs": [],
   "source": [
    "answer = numbers.pop(0)"
   ]
  },
  {
   "cell_type": "code",
   "execution_count": 13,
   "metadata": {},
   "outputs": [
    {
     "output_type": "execute_result",
     "data": {
      "text/plain": [
       "0"
      ]
     },
     "metadata": {},
     "execution_count": 13
    }
   ],
   "source": [
    "answer"
   ]
  },
  {
   "cell_type": "code",
   "execution_count": 15,
   "metadata": {},
   "outputs": [
    {
     "output_type": "execute_result",
     "data": {
      "text/plain": [
       "210"
      ]
     },
     "metadata": {},
     "execution_count": 15
    }
   ],
   "source": [
    "numbers = list(map(int, list(input())))\n",
    "\n",
    "answer = numbers.pop(0)\n",
    "for num in numbers:\n",
    "    if answer == 0 or num==0:\n",
    "        answer+=num\n",
    "    else:\n",
    "        answer*=num\n",
    "answer"
   ]
  },
  {
   "cell_type": "code",
   "execution_count": 16,
   "metadata": {},
   "outputs": [
    {
     "output_type": "execute_result",
     "data": {
      "text/plain": [
       "1"
      ]
     },
     "metadata": {},
     "execution_count": 16
    }
   ],
   "source": [
    "numbers = list(map(int, list(input())))\n",
    "zeros = 0\n",
    "ones = 0\n",
    "if numbers.pop(0) == 0:\n",
    "    zeros+=1\n",
    "    current = 0\n",
    "else:\n",
    "    ones+=1\n",
    "    current = 1\n",
    "\n",
    "for num in numbers:\n",
    "    if current:\n",
    "        if num == 0:\n",
    "            zeros+=1\n",
    "            current=0\n",
    "    else:\n",
    "        if num == 1:\n",
    "            ones+=1\n",
    "            current=1\n",
    "min(ones, zeros)"
   ]
  },
  {
   "cell_type": "code",
   "execution_count": null,
   "metadata": {},
   "outputs": [],
   "source": []
  },
  {
   "cell_type": "code",
   "execution_count": null,
   "metadata": {},
   "outputs": [],
   "source": [
    "N = int(input())\n",
    "coins = list(map(int, input().split()))\n",
    "coins.sort()\n",
    "target = 1\n",
    "\n",
    "for coin in coins:\n",
    "    if target < coin:\n",
    "        break\n",
    "    target += coin\n",
    "\n",
    "print(target)"
   ]
  },
  {
   "cell_type": "code",
   "execution_count": null,
   "metadata": {},
   "outputs": [],
   "source": []
  },
  {
   "cell_type": "code",
   "execution_count": 39,
   "metadata": {},
   "outputs": [],
   "source": [
    "# import sys\n",
    "# sys.stdin.readline().rstrip()\n",
    "N, M = map(int, input().split())\n",
    "balls = list(map(int, input().split()))"
   ]
  },
  {
   "cell_type": "code",
   "execution_count": 40,
   "metadata": {},
   "outputs": [
    {
     "output_type": "execute_result",
     "data": {
      "text/plain": [
       "8"
      ]
     },
     "metadata": {},
     "execution_count": 40
    }
   ],
   "source": [
    "from collections import Counter\n",
    "\n",
    "answer = 0\n",
    "temp = N\n",
    "counter = dict(Counter(balls))\n",
    "for a in counter:\n",
    "    temp -= counter[a]\n",
    "    answer += temp * counter[a]\n",
    "answer\n",
    "\n",
    "# 현재 선택한 무게의 공 개수 * 현재 선택한 공을 제외한 나머지"
   ]
  },
  {
   "cell_type": "code",
   "execution_count": null,
   "metadata": {},
   "outputs": [],
   "source": []
  },
  {
   "cell_type": "code",
   "execution_count": 25,
   "metadata": {},
   "outputs": [
    {
     "output_type": "stream",
     "name": "stdout",
     "text": [
      "25\n"
     ]
    }
   ],
   "source": [
    "answer = 0\n",
    "for i in range(N):\n",
    "    for j in range(i, N):\n",
    "        if balls[i] != balls[j]:\n",
    "            answer+=1\n",
    "print(answer)"
   ]
  },
  {
   "cell_type": "code",
   "execution_count": 41,
   "metadata": {},
   "outputs": [
    {
     "output_type": "error",
     "ename": "TypeError",
     "evalue": "'set' object is not subscriptable",
     "traceback": [
      "\u001b[1;31m---------------------------------------------------------------------------\u001b[0m",
      "\u001b[1;31mTypeError\u001b[0m                                 Traceback (most recent call last)",
      "\u001b[1;32m<ipython-input-41-29fa94aceec8>\u001b[0m in \u001b[0;36m<module>\u001b[1;34m\u001b[0m\n\u001b[1;32m----> 1\u001b[1;33m \u001b[1;32mif\u001b[0m \u001b[1;33m{\u001b[0m\u001b[1;36m1\u001b[0m\u001b[1;33m,\u001b[0m\u001b[1;36m2\u001b[0m\u001b[1;33m,\u001b[0m\u001b[1;36m3\u001b[0m\u001b[1;33m}\u001b[0m\u001b[1;33m[\u001b[0m\u001b[1;36m1\u001b[0m\u001b[1;33m]\u001b[0m\u001b[1;33m:\u001b[0m\u001b[1;33m\u001b[0m\u001b[1;33m\u001b[0m\u001b[0m\n\u001b[0m\u001b[0;32m      2\u001b[0m     \u001b[0mprint\u001b[0m\u001b[1;33m(\u001b[0m\u001b[1;34m'here'\u001b[0m\u001b[1;33m)\u001b[0m\u001b[1;33m\u001b[0m\u001b[1;33m\u001b[0m\u001b[0m\n",
      "\u001b[1;31mTypeError\u001b[0m: 'set' object is not subscriptable"
     ]
    }
   ],
   "source": []
  },
  {
   "cell_type": "code",
   "execution_count": 48,
   "metadata": {},
   "outputs": [
    {
     "output_type": "execute_result",
     "data": {
      "text/plain": [
       "{1: 0, 2: 0, 3: 0}"
      ]
     },
     "metadata": {},
     "execution_count": 48
    }
   ],
   "source": [
    "dict(zip({1,2,3}, [0]*len({1,2,3})))"
   ]
  },
  {
   "cell_type": "code",
   "execution_count": 50,
   "metadata": {},
   "outputs": [],
   "source": [
    "N = 5\n",
    "texts = 'happy'"
   ]
  },
  {
   "cell_type": "code",
   "execution_count": 74,
   "metadata": {},
   "outputs": [],
   "source": []
  },
  {
   "cell_type": "code",
   "execution_count": 81,
   "metadata": {},
   "outputs": [
    {
     "output_type": "stream",
     "name": "stdout",
     "text": [
      "y y 1\ne y 1\na y 1\nr y 1\n1\n"
     ]
    }
   ],
   "source": [
    "check_word('')"
   ]
  },
  {
   "cell_type": "code",
   "execution_count": 92,
   "metadata": {},
   "outputs": [
    {
     "output_type": "stream",
     "name": "stdout",
     "text": [
      "['a', 'a', 'b', 'b', 'b', 'c', 'c', 'b']\n",
      "a 0 a 0\n",
      "a 1 a 1\n",
      "b 0 a 1\n",
      "b 1 b 1\n",
      "b 1 b 1\n",
      "c 0 b 1\n",
      "c 1 c 1\n",
      "b -1 c 1\n",
      "0\n",
      "[]\n"
     ]
    },
    {
     "output_type": "error",
     "ename": "IndexError",
     "evalue": "list index out of range",
     "traceback": [
      "\u001b[1;31m---------------------------------------------------------------------------\u001b[0m",
      "\u001b[1;31mIndexError\u001b[0m                                Traceback (most recent call last)",
      "\u001b[1;32m<ipython-input-92-da86f001a7bb>\u001b[0m in \u001b[0;36m<module>\u001b[1;34m\u001b[0m\n\u001b[0;32m     28\u001b[0m     \u001b[0mtexts\u001b[0m \u001b[1;33m=\u001b[0m \u001b[0mlist\u001b[0m\u001b[1;33m(\u001b[0m\u001b[0minput\u001b[0m\u001b[1;33m(\u001b[0m\u001b[1;33m)\u001b[0m\u001b[1;33m)\u001b[0m\u001b[1;33m\u001b[0m\u001b[1;33m\u001b[0m\u001b[0m\n\u001b[0;32m     29\u001b[0m     \u001b[0mprint\u001b[0m\u001b[1;33m(\u001b[0m\u001b[0mtexts\u001b[0m\u001b[1;33m)\u001b[0m\u001b[1;33m\u001b[0m\u001b[1;33m\u001b[0m\u001b[0m\n\u001b[1;32m---> 30\u001b[1;33m     \u001b[0manswer\u001b[0m\u001b[1;33m+=\u001b[0m\u001b[0mcheck_word\u001b[0m\u001b[1;33m(\u001b[0m\u001b[0mtexts\u001b[0m\u001b[1;33m)\u001b[0m\u001b[1;33m\u001b[0m\u001b[1;33m\u001b[0m\u001b[0m\n\u001b[0m\u001b[0;32m     31\u001b[0m     \u001b[0mprint\u001b[0m\u001b[1;33m(\u001b[0m\u001b[0manswer\u001b[0m\u001b[1;33m)\u001b[0m\u001b[1;33m\u001b[0m\u001b[1;33m\u001b[0m\u001b[0m\n\u001b[0;32m     32\u001b[0m \u001b[1;33m\u001b[0m\u001b[0m\n",
      "\u001b[1;32m<ipython-input-92-da86f001a7bb>\u001b[0m in \u001b[0;36mcheck_word\u001b[1;34m(texts)\u001b[0m\n\u001b[0;32m      2\u001b[0m     \u001b[0munique_text\u001b[0m \u001b[1;33m=\u001b[0m \u001b[0mset\u001b[0m\u001b[1;33m(\u001b[0m\u001b[0mtexts\u001b[0m\u001b[1;33m)\u001b[0m\u001b[1;33m\u001b[0m\u001b[1;33m\u001b[0m\u001b[0m\n\u001b[0;32m      3\u001b[0m     \u001b[0mtemp\u001b[0m \u001b[1;33m=\u001b[0m \u001b[0mdict\u001b[0m\u001b[1;33m(\u001b[0m\u001b[0mzip\u001b[0m\u001b[1;33m(\u001b[0m\u001b[0munique_text\u001b[0m\u001b[1;33m,\u001b[0m \u001b[1;33m[\u001b[0m\u001b[1;36m0\u001b[0m\u001b[1;33m]\u001b[0m\u001b[1;33m*\u001b[0m\u001b[0mlen\u001b[0m\u001b[1;33m(\u001b[0m\u001b[0munique_text\u001b[0m\u001b[1;33m)\u001b[0m\u001b[1;33m)\u001b[0m\u001b[1;33m)\u001b[0m\u001b[1;33m\u001b[0m\u001b[1;33m\u001b[0m\u001b[0m\n\u001b[1;32m----> 4\u001b[1;33m     \u001b[0mlast_word\u001b[0m\u001b[1;33m=\u001b[0m\u001b[0mtexts\u001b[0m\u001b[1;33m[\u001b[0m\u001b[1;36m0\u001b[0m\u001b[1;33m]\u001b[0m\u001b[1;33m\u001b[0m\u001b[1;33m\u001b[0m\u001b[0m\n\u001b[0m\u001b[0;32m      5\u001b[0m     \u001b[0manswer\u001b[0m \u001b[1;33m=\u001b[0m \u001b[1;36m1\u001b[0m\u001b[1;33m\u001b[0m\u001b[1;33m\u001b[0m\u001b[0m\n\u001b[0;32m      6\u001b[0m     \u001b[1;32mfor\u001b[0m \u001b[0mt\u001b[0m \u001b[1;32min\u001b[0m \u001b[0mtexts\u001b[0m\u001b[1;33m:\u001b[0m\u001b[1;33m\u001b[0m\u001b[1;33m\u001b[0m\u001b[0m\n",
      "\u001b[1;31mIndexError\u001b[0m: list index out of range"
     ]
    }
   ],
   "source": [
    "def check_word(texts):\n",
    "    unique_text = set(texts)\n",
    "    temp = dict(zip(unique_text, [0]*len(unique_text)))\n",
    "    last_word=texts[0]\n",
    "    answer = 1\n",
    "    for t in texts:\n",
    "        if temp[t] == -1:\n",
    "            answer-=1\n",
    "            break\n",
    "        if last_word == t:\n",
    "            if temp[t] == 0:\n",
    "                temp[t] = 1\n",
    "        else:\n",
    "            temp[last_word] = -1\n",
    "            last_word = t\n",
    "            if temp[t] == 0:\n",
    "                temp[t] = 1\n",
    "        \n",
    "    return answer\n",
    "\n",
    "import sys\n",
    "N = int(sys.stdin.readline().rstrip())\n",
    "answer = 0\n",
    "for i in range(N):\n",
    "    texts = list(sys.stdin.readline().rstrip())\n",
    "    answer+=check_word(texts)\n",
    "\n",
    "print(answer)"
   ]
  },
  {
   "cell_type": "code",
   "execution_count": null,
   "metadata": {},
   "outputs": [],
   "source": []
  },
  {
   "cell_type": "code",
   "execution_count": 120,
   "metadata": {},
   "outputs": [
    {
     "output_type": "stream",
     "name": "stdout",
     "text": [
      "[0, 1, 2]\n"
     ]
    }
   ],
   "source": [
    "food_times = [3,1,2]\n",
    "k = 5\n",
    "result = 1\n",
    "answer = -1\n",
    "\n",
    "food_idx = [_ for _ in range(len(food_times))]\n",
    "print(food_idx)"
   ]
  },
  {
   "cell_type": "code",
   "execution_count": 121,
   "metadata": {},
   "outputs": [],
   "source": [
    "answer = -1\n",
    "while True:\n",
    "    idx = food_times.index(min(food_times))\n",
    "    flow_time = len(food_idx) * min(food_times)\n",
    "    if flow_time < k:\n",
    "        k -= flow_time\n",
    "    elif flow_time==k:\n",
    "        answer = food_idx[0]+1\n",
    "        break\n",
    "    else:\n",
    "        answer = food_idx[k]+1\n",
    "        break\n",
    "\n",
    "    food_idx.pop(idx)\n",
    "    if len(food_idx) == 0:\n",
    "        break\n",
    "print(answer)"
   ]
  },
  {
   "cell_type": "code",
   "execution_count": 122,
   "metadata": {},
   "outputs": [
    {
     "output_type": "execute_result",
     "data": {
      "text/plain": [
       "1"
      ]
     },
     "metadata": {},
     "execution_count": 122
    }
   ],
   "source": [
    "answer"
   ]
  },
  {
   "cell_type": "code",
   "execution_count": 117,
   "metadata": {},
   "outputs": [
    {
     "output_type": "execute_result",
     "data": {
      "text/plain": [
       "4"
      ]
     },
     "metadata": {},
     "execution_count": 117
    }
   ],
   "source": [
    "flow_time"
   ]
  },
  {
   "cell_type": "code",
   "execution_count": 141,
   "metadata": {},
   "outputs": [],
   "source": []
  },
  {
   "cell_type": "code",
   "execution_count": 201,
   "metadata": {},
   "outputs": [],
   "source": [
    "food_times = [3,1,2]\n",
    "K = 5"
   ]
  },
  {
   "cell_type": "code",
   "execution_count": 213,
   "metadata": {},
   "outputs": [],
   "source": [
    "food_times = [4, 2, 3, 6, 7, 1, 5, 8]\n",
    "# K = 27\n",
    "K = 16"
   ]
  },
  {
   "cell_type": "code",
   "execution_count": 214,
   "metadata": {},
   "outputs": [],
   "source": [
    "import heapq\n",
    "\n",
    "def solution(food_times, K):\n",
    "    if sum(food_times) <= K:\n",
    "        return -1\n",
    "    \n",
    "    q = []\n",
    "    for i in range(len(food_times)):\n",
    "        heapq.heappush(q, (food_times[i], i+1))\n",
    "\n",
    "    previous = 0\n",
    "    length = len(q)\n",
    "    while K >= (q[0][0] - previous) * length:\n",
    "        now, idx = heapq.heappop(q)\n",
    "        K -= (now-previous)*length\n",
    "        previous = now\n",
    "        length -= 1\n",
    "\n",
    "    q = sorted(q, key=lambda i : i[1])\n",
    "    return q[K%length][1]"
   ]
  },
  {
   "cell_type": "code",
   "execution_count": 215,
   "metadata": {},
   "outputs": [
    {
     "output_type": "stream",
     "name": "stdout",
     "text": [
      "1 [(4, 1), (3, 3), (6, 4), (7, 5), (5, 7), (8, 8)]\n"
     ]
    },
    {
     "output_type": "execute_result",
     "data": {
      "text/plain": [
       "3"
      ]
     },
     "metadata": {},
     "execution_count": 215
    }
   ],
   "source": [
    "solution(food_times, K)"
   ]
  },
  {
   "cell_type": "code",
   "execution_count": 205,
   "metadata": {},
   "outputs": [],
   "source": [
    "food_times = [7,8,3,3,2,2,2,2,2,2,2,2] \n",
    "K = 35"
   ]
  },
  {
   "cell_type": "code",
   "execution_count": 125,
   "metadata": {},
   "outputs": [
    {
     "output_type": "execute_result",
     "data": {
      "text/plain": [
       "2"
      ]
     },
     "metadata": {},
     "execution_count": 125
    }
   ],
   "source": []
  },
  {
   "cell_type": "code",
   "execution_count": null,
   "metadata": {},
   "outputs": [],
   "source": []
  },
  {
   "cell_type": "code",
   "execution_count": null,
   "metadata": {},
   "outputs": [],
   "source": [
    "text = input()\n",
    "\n",
    "def sol(t):\n",
    "    combo = list(map(int, list(t)))\n",
    "    idx = len(combo)//2\n",
    "    left = combo[:idx]\n",
    "    right = combo[idx:]\n",
    "\n",
    "    if sum(left) == sum(right):\n",
    "        print('LUCKY')\n",
    "    else:\n",
    "        print('READY')\n",
    "\n",
    "sol(text)"
   ]
  },
  {
   "cell_type": "code",
   "execution_count": null,
   "metadata": {},
   "outputs": [],
   "source": []
  },
  {
   "cell_type": "code",
   "execution_count": 3,
   "metadata": {},
   "outputs": [
    {
     "output_type": "execute_result",
     "data": {
      "text/plain": [
       "'ADDIJJJKKLSS20'"
      ]
     },
     "metadata": {},
     "execution_count": 3
    }
   ],
   "source": [
    "s = input()\n",
    "\n",
    "def sol(text):\n",
    "    str_list = []\n",
    "    num = 0\n",
    "    for t in list(text):\n",
    "        if t.isdecimal():\n",
    "            num+=int(t)\n",
    "        else:\n",
    "            str_list.append(t)\n",
    "\n",
    "    return ''.join(sorted(str_list))+str(num)\n",
    "\n",
    "sol(s)"
   ]
  },
  {
   "cell_type": "code",
   "execution_count": null,
   "metadata": {},
   "outputs": [],
   "source": []
  },
  {
   "cell_type": "code",
   "execution_count": null,
   "metadata": {},
   "outputs": [],
   "source": [
    "def solution()\n",
    "for i in range()"
   ]
  },
  {
   "cell_type": "code",
   "execution_count": 6,
   "metadata": {},
   "outputs": [],
   "source": [
    "i = 123"
   ]
  },
  {
   "cell_type": "code",
   "execution_count": 10,
   "metadata": {},
   "outputs": [],
   "source": [
    "i = 123"
   ]
  },
  {
   "cell_type": "code",
   "execution_count": 11,
   "metadata": {},
   "outputs": [],
   "source": [
    "\n",
    "b = i"
   ]
  },
  {
   "cell_type": "code",
   "execution_count": 14,
   "metadata": {},
   "outputs": [],
   "source": [
    "b = 182"
   ]
  },
  {
   "cell_type": "code",
   "execution_count": 13,
   "metadata": {},
   "outputs": [
    {
     "output_type": "execute_result",
     "data": {
      "text/plain": [
       "123"
      ]
     },
     "metadata": {},
     "execution_count": 13
    }
   ],
   "source": [
    "i"
   ]
  },
  {
   "cell_type": "code",
   "execution_count": 15,
   "metadata": {},
   "outputs": [
    {
     "output_type": "execute_result",
     "data": {
      "text/plain": [
       "182"
      ]
     },
     "metadata": {},
     "execution_count": 15
    }
   ],
   "source": [
    "b"
   ]
  },
  {
   "cell_type": "code",
   "execution_count": 28,
   "metadata": {},
   "outputs": [
    {
     "output_type": "stream",
     "name": "stdout",
     "text": [
      "['2a', '2b', 'a', '3c', '']\n['aa', 'bb', 'ac', 'cc', '']\n['aab', 'bac', 'cc']\n['aabb', 'accc', '']\n"
     ]
    },
    {
     "output_type": "execute_result",
     "data": {
      "text/plain": [
       "7"
      ]
     },
     "metadata": {},
     "execution_count": 28
    }
   ],
   "source": [
    "sents = 'aabbaccc'\n",
    "\n",
    "def solution(sents):\n",
    "    length = len(sents)\n",
    "    answer = length\n",
    "    for i in range(1, length//2+1):\n",
    "        previous = ''\n",
    "        temp = []\n",
    "        for j in range(length//i) :\n",
    "            now = sents[j*i:j*i+i]\n",
    "            if j == 0:\n",
    "                previous = now\n",
    "                count = 1\n",
    "            else:\n",
    "                if previous == now:\n",
    "                    count += 1\n",
    "                else:\n",
    "                    if count != 1:\n",
    "                        temp.append(''.join([str(count),previous]))\n",
    "                    else:\n",
    "                        temp.append(previous)\n",
    "                    previous = now\n",
    "                    count = 1\n",
    "        \n",
    "        if count != 1:\n",
    "                        temp.append(''.join([str(count),previous]))\n",
    "        else:\n",
    "            temp.append(previous)\n",
    "        temp.append(sents[(j+1)*i:])\n",
    "        print(temp)\n",
    "\n",
    "        answer = min(answer, len(''.join(temp)))\n",
    "    \n",
    "    return answer\n",
    "\n",
    "solution(sents)"
   ]
  },
  {
   "cell_type": "code",
   "execution_count": 42,
   "metadata": {},
   "outputs": [],
   "source": [
    "def print_map(m):\n",
    "    for _ in m:\n",
    "        print(' '.join(map(str,_)))\n"
   ]
  },
  {
   "cell_type": "code",
   "execution_count": 46,
   "metadata": {},
   "outputs": [
    {
     "output_type": "stream",
     "name": "stdout",
     "text": [
      "1 1 1\n1 1 0\n1 0 1\n\n1 0 1\n1 1 0\n1 1 1\n"
     ]
    }
   ],
   "source": [
    "print_map([[1, 1, 1], [1, 1, 0], [1, 0, 1]])\n",
    "\n",
    "\n",
    "rot90([[1, 1, 1], [1, 1, 0], [1, 0, 1]])"
   ]
  },
  {
   "cell_type": "code",
   "execution_count": 34,
   "metadata": {},
   "outputs": [
    {
     "output_type": "execute_result",
     "data": {
      "text/plain": [
       "[[0, 0, 0], [1, 0, 0], [0, 1, 1]]"
      ]
     },
     "metadata": {},
     "execution_count": 34
    }
   ],
   "source": [
    "def move(m):\n",
    "    for i in range(len(m)):\n",
    "        for j in range(len(m)):\n",
    "            \n"
   ]
  },
  {
   "cell_type": "code",
   "execution_count": 150,
   "metadata": {},
   "outputs": [],
   "source": [
    "test = [[1, 2, 3],\n",
    "[4, 5, 6]]\n"
   ]
  },
  {
   "cell_type": "code",
   "execution_count": 160,
   "metadata": {},
   "outputs": [
    {
     "output_type": "execute_result",
     "data": {
      "text/plain": [
       "[[0, 0], [0, 0], [0, 0]]"
      ]
     },
     "metadata": {},
     "execution_count": 160
    }
   ],
   "source": [
    "temp"
   ]
  },
  {
   "cell_type": "code",
   "execution_count": 163,
   "metadata": {},
   "outputs": [
    {
     "output_type": "execute_result",
     "data": {
      "text/plain": [
       "[[1, 2, 3], [4, 5, 6]]"
      ]
     },
     "metadata": {},
     "execution_count": 163
    }
   ],
   "source": [
    "test"
   ]
  },
  {
   "cell_type": "code",
   "execution_count": 168,
   "metadata": {},
   "outputs": [],
   "source": [
    "def rot90(square):\n",
    "    len_row = len(square)\n",
    "    len_col = len(square[0])\n",
    "    temp = [[0 for _j in range(len_row)] for _i in range(len_col)]\n",
    "    \n",
    "    for i, row in enumerate(square):\n",
    "        for j, value in enumerate(row):\n",
    "            \n",
    "            temp[j][len_row-i-1] = value\n",
    "    return temp"
   ]
  },
  {
   "cell_type": "code",
   "execution_count": 173,
   "metadata": {},
   "outputs": [
    {
     "output_type": "stream",
     "name": "stdout",
     "text": [
      "1 2 3\n4 5 6\n\n4 1\n5 2\n6 3\n\n6 5 4\n3 2 1\n"
     ]
    }
   ],
   "source": [
    "print_map(test)\n",
    "print()\n",
    "print_map(rot90(test))\n",
    "print()\n",
    "print_map(rot90(rot90(test)))"
   ]
  },
  {
   "cell_type": "code",
   "execution_count": null,
   "metadata": {},
   "outputs": [],
   "source": []
  },
  {
   "cell_type": "code",
   "execution_count": 143,
   "metadata": {},
   "outputs": [],
   "source": [
    "\n",
    "# Python 회전함수 [ (value, value), (value, value) ] 리스트(튜플)\n",
    "def rotate(key):\n",
    "    return list(zip(*key[::-1]))\n",
    "# 가운데를 기준으로 자신의 크기//2만큼 더 가는 것\n",
    "\n",
    "def solution(key, lock):\n",
    "    min_i, max_i, min_j, max_j = len(lock), 0, len(lock), 0\n",
    "    for i, row in enumerate(lock):\n",
    "        for j, c in enumerate(row):\n",
    "            if c == 0:\n",
    "                min_i = min(i, min_i)\n",
    "                max_i = max(i, max_i)\n",
    "                min_j = min(j, min_j)\n",
    "                max_j = max(j, max_j)\n",
    "    part = []\n",
    "    for row in lock[min_i:max_i+1]:\n",
    "        part.append(row[min_j:max_j+1])\n",
    "    if not part:\n",
    "        return True\n",
    "    part = [[0 if c_p else 1 for c_p in p_row] for p_row in part]\n",
    "    for _ in range(4):\n",
    "        part = rotate(part)\n",
    "        row_range = len(key)-len(part)+1\n",
    "        col_range = len(key)-len(part[0])+1\n",
    "        for i in range(row_range):\n",
    "            for j in range(col_range):\n",
    "                key_search = []\n",
    "                for row in key[i:i+len(part)]:\n",
    "                    key_search.append(tuple(row[j:j+len(part[0])]))\n",
    "                if key_search == part:\n",
    "                    return True\n",
    "\n",
    "    return False"
   ]
  },
  {
   "cell_type": "code",
   "execution_count": 144,
   "metadata": {},
   "outputs": [
    {
     "output_type": "stream",
     "name": "stdout",
     "text": [
      "key [[0, 0, 0], [1, 0, 0], [0, 1, 1]]\npart [[0, 1], [1, 0]]\npart [(1, 0), (0, 1)]\nkey_search [(0, 0), (1, 0)]\nkey_search [(0, 0), (0, 0)]\nkey_search [(1, 0), (0, 1)]\n"
     ]
    },
    {
     "output_type": "execute_result",
     "data": {
      "text/plain": [
       "True"
      ]
     },
     "metadata": {},
     "execution_count": 144
    }
   ],
   "source": [
    "solution([[0, 0, 0], [1, 0, 0], [0, 1, 1]], [[1, 1, 1], [1, 1, 0], [1, 0, 1]])"
   ]
  },
  {
   "cell_type": "code",
   "execution_count": 103,
   "metadata": {},
   "outputs": [],
   "source": [
    "key = [[0, 0, 0], [1, 0, 0]]"
   ]
  },
  {
   "cell_type": "code",
   "execution_count": 104,
   "metadata": {},
   "outputs": [
    {
     "output_type": "stream",
     "name": "stdout",
     "text": [
      "0 0 0\n1 0 0\n"
     ]
    }
   ],
   "source": [
    "print_map(key)"
   ]
  },
  {
   "cell_type": "code",
   "execution_count": 139,
   "metadata": {},
   "outputs": [
    {
     "output_type": "execute_result",
     "data": {
      "text/plain": [
       "[[2, 5], [1, 3, 4, 6]]"
      ]
     },
     "metadata": {},
     "execution_count": 139
    }
   ],
   "source": [
    "rot90([[1,2,3],[4,5,6]])"
   ]
  },
  {
   "cell_type": "code",
   "execution_count": null,
   "metadata": {},
   "outputs": [],
   "source": [
    "1 2 3\n",
    "4 5 6\n",
    "\n",
    "2 5\n",
    "1 3 4 6"
   ]
  },
  {
   "cell_type": "code",
   "execution_count": 140,
   "metadata": {},
   "outputs": [
    {
     "output_type": "stream",
     "name": "stdout",
     "text": [
      "1 0\n0 0\n0 0\n"
     ]
    }
   ],
   "source": [
    "print_map(rotate(key))"
   ]
  },
  {
   "cell_type": "code",
   "execution_count": 100,
   "metadata": {},
   "outputs": [
    {
     "output_type": "stream",
     "name": "stdout",
     "text": [
      "0 0 0\n1 0 0\n0 1 1\n"
     ]
    }
   ],
   "source": [
    "print_map(key)"
   ]
  },
  {
   "cell_type": "code",
   "execution_count": 102,
   "metadata": {},
   "outputs": [
    {
     "output_type": "stream",
     "name": "stdout",
     "text": [
      "0 1 1\n1 0 0\n0 0 0\n"
     ]
    }
   ],
   "source": [
    "print_map(key[::-1])"
   ]
  },
  {
   "cell_type": "code",
   "execution_count": 101,
   "metadata": {},
   "outputs": [
    {
     "output_type": "stream",
     "name": "stdout",
     "text": [
      "0 1 0\n1 0 0\n1 0 0\n"
     ]
    }
   ],
   "source": [
    "print_map(zip(*key[::-1]))"
   ]
  },
  {
   "cell_type": "code",
   "execution_count": null,
   "metadata": {},
   "outputs": [],
   "source": []
  }
 ]
}