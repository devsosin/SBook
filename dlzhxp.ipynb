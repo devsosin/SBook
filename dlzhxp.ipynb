{
 "metadata": {
  "language_info": {
   "codemirror_mode": {
    "name": "ipython",
    "version": 3
   },
   "file_extension": ".py",
   "mimetype": "text/x-python",
   "name": "python",
   "nbconvert_exporter": "python",
   "pygments_lexer": "ipython3",
   "version": "3.8.5-final"
  },
  "orig_nbformat": 2,
  "kernelspec": {
   "name": "python3",
   "display_name": "Python 3",
   "language": "python"
  }
 },
 "nbformat": 4,
 "nbformat_minor": 2,
 "cells": [
  {
   "cell_type": "code",
   "execution_count": null,
   "metadata": {},
   "outputs": [],
   "source": []
  },
  {
   "cell_type": "code",
   "execution_count": 4,
   "metadata": {},
   "outputs": [
    {
     "output_type": "execute_result",
     "data": {
      "text/plain": [
       "2"
      ]
     },
     "metadata": {},
     "execution_count": 4
    }
   ],
   "source": [
    "N = int(input())\n",
    "avatar = list(map(int, input().split()))\n",
    "\n",
    "def sol(N, avatar):\n",
    "    answer = 0\n",
    "    avatar.sort()\n",
    "    now_fears = 0\n",
    "    for a in avatar:\n",
    "        now_fears += 1\n",
    "        if a <= now_fears:\n",
    "            answer+=1\n",
    "            now_fears = 0\n",
    "    return answer\n",
    "    \n",
    "sol(N, avatar)"
   ]
  },
  {
   "cell_type": "code",
   "execution_count": 6,
   "metadata": {},
   "outputs": [],
   "source": []
  },
  {
   "cell_type": "code",
   "execution_count": 12,
   "metadata": {},
   "outputs": [],
   "source": [
    "numbers = N.copy()"
   ]
  },
  {
   "cell_type": "code",
   "execution_count": 9,
   "metadata": {},
   "outputs": [],
   "source": [
    "answer = numbers.pop(0)"
   ]
  },
  {
   "cell_type": "code",
   "execution_count": 13,
   "metadata": {},
   "outputs": [
    {
     "output_type": "execute_result",
     "data": {
      "text/plain": [
       "0"
      ]
     },
     "metadata": {},
     "execution_count": 13
    }
   ],
   "source": [
    "answer"
   ]
  },
  {
   "cell_type": "code",
   "execution_count": 15,
   "metadata": {},
   "outputs": [
    {
     "output_type": "execute_result",
     "data": {
      "text/plain": [
       "210"
      ]
     },
     "metadata": {},
     "execution_count": 15
    }
   ],
   "source": [
    "numbers = list(map(int, list(input())))\n",
    "\n",
    "answer = numbers.pop(0)\n",
    "for num in numbers:\n",
    "    if answer == 0 or num==0:\n",
    "        answer+=num\n",
    "    else:\n",
    "        answer*=num\n",
    "answer"
   ]
  },
  {
   "cell_type": "code",
   "execution_count": 16,
   "metadata": {},
   "outputs": [
    {
     "output_type": "execute_result",
     "data": {
      "text/plain": [
       "1"
      ]
     },
     "metadata": {},
     "execution_count": 16
    }
   ],
   "source": [
    "numbers = list(map(int, list(input())))\n",
    "zeros = 0\n",
    "ones = 0\n",
    "if numbers.pop(0) == 0:\n",
    "    zeros+=1\n",
    "    current = 0\n",
    "else:\n",
    "    ones+=1\n",
    "    current = 1\n",
    "\n",
    "for num in numbers:\n",
    "    if current:\n",
    "        if num == 0:\n",
    "            zeros+=1\n",
    "            current=0\n",
    "    else:\n",
    "        if num == 1:\n",
    "            ones+=1\n",
    "            current=1\n",
    "min(ones, zeros)"
   ]
  },
  {
   "cell_type": "code",
   "execution_count": null,
   "metadata": {},
   "outputs": [],
   "source": []
  },
  {
   "cell_type": "code",
   "execution_count": null,
   "metadata": {},
   "outputs": [],
   "source": [
    "N = int(input())\n",
    "coins = list(map(int, input().split()))\n",
    "coins.sort()\n",
    "target = 1\n",
    "\n",
    "for coin in coins:\n",
    "    if target < coin:\n",
    "        break\n",
    "    target += coin\n",
    "\n",
    "print(target)"
   ]
  },
  {
   "cell_type": "code",
   "execution_count": null,
   "metadata": {},
   "outputs": [],
   "source": []
  },
  {
   "cell_type": "code",
   "execution_count": 39,
   "metadata": {},
   "outputs": [],
   "source": [
    "# import sys\n",
    "# sys.stdin.readline().rstrip()\n",
    "N, M = map(int, input().split())\n",
    "balls = list(map(int, input().split()))"
   ]
  },
  {
   "cell_type": "code",
   "execution_count": 40,
   "metadata": {},
   "outputs": [
    {
     "output_type": "execute_result",
     "data": {
      "text/plain": [
       "8"
      ]
     },
     "metadata": {},
     "execution_count": 40
    }
   ],
   "source": [
    "from collections import Counter\n",
    "\n",
    "answer = 0\n",
    "temp = N\n",
    "counter = dict(Counter(balls))\n",
    "for a in counter:\n",
    "    temp -= counter[a]\n",
    "    answer += temp * counter[a]\n",
    "answer\n",
    "\n",
    "# 현재 선택한 무게의 공 개수 * 현재 선택한 공을 제외한 나머지"
   ]
  },
  {
   "cell_type": "code",
   "execution_count": null,
   "metadata": {},
   "outputs": [],
   "source": []
  },
  {
   "cell_type": "code",
   "execution_count": 25,
   "metadata": {},
   "outputs": [
    {
     "output_type": "stream",
     "name": "stdout",
     "text": [
      "25\n"
     ]
    }
   ],
   "source": [
    "answer = 0\n",
    "for i in range(N):\n",
    "    for j in range(i, N):\n",
    "        if balls[i] != balls[j]:\n",
    "            answer+=1\n",
    "print(answer)"
   ]
  },
  {
   "cell_type": "code",
   "execution_count": 41,
   "metadata": {},
   "outputs": [
    {
     "output_type": "error",
     "ename": "TypeError",
     "evalue": "'set' object is not subscriptable",
     "traceback": [
      "\u001b[1;31m---------------------------------------------------------------------------\u001b[0m",
      "\u001b[1;31mTypeError\u001b[0m                                 Traceback (most recent call last)",
      "\u001b[1;32m<ipython-input-41-29fa94aceec8>\u001b[0m in \u001b[0;36m<module>\u001b[1;34m\u001b[0m\n\u001b[1;32m----> 1\u001b[1;33m \u001b[1;32mif\u001b[0m \u001b[1;33m{\u001b[0m\u001b[1;36m1\u001b[0m\u001b[1;33m,\u001b[0m\u001b[1;36m2\u001b[0m\u001b[1;33m,\u001b[0m\u001b[1;36m3\u001b[0m\u001b[1;33m}\u001b[0m\u001b[1;33m[\u001b[0m\u001b[1;36m1\u001b[0m\u001b[1;33m]\u001b[0m\u001b[1;33m:\u001b[0m\u001b[1;33m\u001b[0m\u001b[1;33m\u001b[0m\u001b[0m\n\u001b[0m\u001b[0;32m      2\u001b[0m     \u001b[0mprint\u001b[0m\u001b[1;33m(\u001b[0m\u001b[1;34m'here'\u001b[0m\u001b[1;33m)\u001b[0m\u001b[1;33m\u001b[0m\u001b[1;33m\u001b[0m\u001b[0m\n",
      "\u001b[1;31mTypeError\u001b[0m: 'set' object is not subscriptable"
     ]
    }
   ],
   "source": []
  },
  {
   "cell_type": "code",
   "execution_count": 48,
   "metadata": {},
   "outputs": [
    {
     "output_type": "execute_result",
     "data": {
      "text/plain": [
       "{1: 0, 2: 0, 3: 0}"
      ]
     },
     "metadata": {},
     "execution_count": 48
    }
   ],
   "source": [
    "dict(zip({1,2,3}, [0]*len({1,2,3})))"
   ]
  },
  {
   "cell_type": "code",
   "execution_count": 50,
   "metadata": {},
   "outputs": [],
   "source": [
    "N = 5\n",
    "texts = 'happy'"
   ]
  },
  {
   "cell_type": "code",
   "execution_count": 74,
   "metadata": {},
   "outputs": [],
   "source": []
  },
  {
   "cell_type": "code",
   "execution_count": 81,
   "metadata": {},
   "outputs": [
    {
     "output_type": "stream",
     "name": "stdout",
     "text": [
      "y y 1\ne y 1\na y 1\nr y 1\n1\n"
     ]
    }
   ],
   "source": [
    "check_word('')"
   ]
  },
  {
   "cell_type": "code",
   "execution_count": 92,
   "metadata": {},
   "outputs": [
    {
     "output_type": "stream",
     "name": "stdout",
     "text": [
      "['a', 'a', 'b', 'b', 'b', 'c', 'c', 'b']\n",
      "a 0 a 0\n",
      "a 1 a 1\n",
      "b 0 a 1\n",
      "b 1 b 1\n",
      "b 1 b 1\n",
      "c 0 b 1\n",
      "c 1 c 1\n",
      "b -1 c 1\n",
      "0\n",
      "[]\n"
     ]
    },
    {
     "output_type": "error",
     "ename": "IndexError",
     "evalue": "list index out of range",
     "traceback": [
      "\u001b[1;31m---------------------------------------------------------------------------\u001b[0m",
      "\u001b[1;31mIndexError\u001b[0m                                Traceback (most recent call last)",
      "\u001b[1;32m<ipython-input-92-da86f001a7bb>\u001b[0m in \u001b[0;36m<module>\u001b[1;34m\u001b[0m\n\u001b[0;32m     28\u001b[0m     \u001b[0mtexts\u001b[0m \u001b[1;33m=\u001b[0m \u001b[0mlist\u001b[0m\u001b[1;33m(\u001b[0m\u001b[0minput\u001b[0m\u001b[1;33m(\u001b[0m\u001b[1;33m)\u001b[0m\u001b[1;33m)\u001b[0m\u001b[1;33m\u001b[0m\u001b[1;33m\u001b[0m\u001b[0m\n\u001b[0;32m     29\u001b[0m     \u001b[0mprint\u001b[0m\u001b[1;33m(\u001b[0m\u001b[0mtexts\u001b[0m\u001b[1;33m)\u001b[0m\u001b[1;33m\u001b[0m\u001b[1;33m\u001b[0m\u001b[0m\n\u001b[1;32m---> 30\u001b[1;33m     \u001b[0manswer\u001b[0m\u001b[1;33m+=\u001b[0m\u001b[0mcheck_word\u001b[0m\u001b[1;33m(\u001b[0m\u001b[0mtexts\u001b[0m\u001b[1;33m)\u001b[0m\u001b[1;33m\u001b[0m\u001b[1;33m\u001b[0m\u001b[0m\n\u001b[0m\u001b[0;32m     31\u001b[0m     \u001b[0mprint\u001b[0m\u001b[1;33m(\u001b[0m\u001b[0manswer\u001b[0m\u001b[1;33m)\u001b[0m\u001b[1;33m\u001b[0m\u001b[1;33m\u001b[0m\u001b[0m\n\u001b[0;32m     32\u001b[0m \u001b[1;33m\u001b[0m\u001b[0m\n",
      "\u001b[1;32m<ipython-input-92-da86f001a7bb>\u001b[0m in \u001b[0;36mcheck_word\u001b[1;34m(texts)\u001b[0m\n\u001b[0;32m      2\u001b[0m     \u001b[0munique_text\u001b[0m \u001b[1;33m=\u001b[0m \u001b[0mset\u001b[0m\u001b[1;33m(\u001b[0m\u001b[0mtexts\u001b[0m\u001b[1;33m)\u001b[0m\u001b[1;33m\u001b[0m\u001b[1;33m\u001b[0m\u001b[0m\n\u001b[0;32m      3\u001b[0m     \u001b[0mtemp\u001b[0m \u001b[1;33m=\u001b[0m \u001b[0mdict\u001b[0m\u001b[1;33m(\u001b[0m\u001b[0mzip\u001b[0m\u001b[1;33m(\u001b[0m\u001b[0munique_text\u001b[0m\u001b[1;33m,\u001b[0m \u001b[1;33m[\u001b[0m\u001b[1;36m0\u001b[0m\u001b[1;33m]\u001b[0m\u001b[1;33m*\u001b[0m\u001b[0mlen\u001b[0m\u001b[1;33m(\u001b[0m\u001b[0munique_text\u001b[0m\u001b[1;33m)\u001b[0m\u001b[1;33m)\u001b[0m\u001b[1;33m)\u001b[0m\u001b[1;33m\u001b[0m\u001b[1;33m\u001b[0m\u001b[0m\n\u001b[1;32m----> 4\u001b[1;33m     \u001b[0mlast_word\u001b[0m\u001b[1;33m=\u001b[0m\u001b[0mtexts\u001b[0m\u001b[1;33m[\u001b[0m\u001b[1;36m0\u001b[0m\u001b[1;33m]\u001b[0m\u001b[1;33m\u001b[0m\u001b[1;33m\u001b[0m\u001b[0m\n\u001b[0m\u001b[0;32m      5\u001b[0m     \u001b[0manswer\u001b[0m \u001b[1;33m=\u001b[0m \u001b[1;36m1\u001b[0m\u001b[1;33m\u001b[0m\u001b[1;33m\u001b[0m\u001b[0m\n\u001b[0;32m      6\u001b[0m     \u001b[1;32mfor\u001b[0m \u001b[0mt\u001b[0m \u001b[1;32min\u001b[0m \u001b[0mtexts\u001b[0m\u001b[1;33m:\u001b[0m\u001b[1;33m\u001b[0m\u001b[1;33m\u001b[0m\u001b[0m\n",
      "\u001b[1;31mIndexError\u001b[0m: list index out of range"
     ]
    }
   ],
   "source": [
    "def check_word(texts):\n",
    "    unique_text = set(texts)\n",
    "    temp = dict(zip(unique_text, [0]*len(unique_text)))\n",
    "    last_word=texts[0]\n",
    "    answer = 1\n",
    "    for t in texts:\n",
    "        if temp[t] == -1:\n",
    "            answer-=1\n",
    "            break\n",
    "        if last_word == t:\n",
    "            if temp[t] == 0:\n",
    "                temp[t] = 1\n",
    "        else:\n",
    "            temp[last_word] = -1\n",
    "            last_word = t\n",
    "            if temp[t] == 0:\n",
    "                temp[t] = 1\n",
    "        \n",
    "    return answer\n",
    "\n",
    "import sys\n",
    "N = int(sys.stdin.readline().rstrip())\n",
    "answer = 0\n",
    "for i in range(N):\n",
    "    texts = list(sys.stdin.readline().rstrip())\n",
    "    answer+=check_word(texts)\n",
    "\n",
    "print(answer)"
   ]
  },
  {
   "cell_type": "code",
   "execution_count": null,
   "metadata": {},
   "outputs": [],
   "source": []
  },
  {
   "cell_type": "code",
   "execution_count": 120,
   "metadata": {},
   "outputs": [
    {
     "output_type": "stream",
     "name": "stdout",
     "text": [
      "[0, 1, 2]\n"
     ]
    }
   ],
   "source": [
    "food_times = [3,1,2]\n",
    "k = 5\n",
    "result = 1\n",
    "answer = -1\n",
    "\n",
    "food_idx = [_ for _ in range(len(food_times))]\n",
    "print(food_idx)"
   ]
  },
  {
   "cell_type": "code",
   "execution_count": 121,
   "metadata": {},
   "outputs": [],
   "source": [
    "answer = -1\n",
    "while True:\n",
    "    idx = food_times.index(min(food_times))\n",
    "    flow_time = len(food_idx) * min(food_times)\n",
    "    if flow_time < k:\n",
    "        k -= flow_time\n",
    "    elif flow_time==k:\n",
    "        answer = food_idx[0]+1\n",
    "        break\n",
    "    else:\n",
    "        answer = food_idx[k]+1\n",
    "        break\n",
    "\n",
    "    food_idx.pop(idx)\n",
    "    if len(food_idx) == 0:\n",
    "        break\n",
    "print(answer)"
   ]
  },
  {
   "cell_type": "code",
   "execution_count": 122,
   "metadata": {},
   "outputs": [
    {
     "output_type": "execute_result",
     "data": {
      "text/plain": [
       "1"
      ]
     },
     "metadata": {},
     "execution_count": 122
    }
   ],
   "source": [
    "answer"
   ]
  },
  {
   "cell_type": "code",
   "execution_count": 117,
   "metadata": {},
   "outputs": [
    {
     "output_type": "execute_result",
     "data": {
      "text/plain": [
       "4"
      ]
     },
     "metadata": {},
     "execution_count": 117
    }
   ],
   "source": [
    "flow_time"
   ]
  },
  {
   "cell_type": "code",
   "execution_count": 141,
   "metadata": {},
   "outputs": [],
   "source": []
  },
  {
   "cell_type": "code",
   "execution_count": 201,
   "metadata": {},
   "outputs": [],
   "source": [
    "food_times = [3,1,2]\n",
    "K = 5"
   ]
  },
  {
   "cell_type": "code",
   "execution_count": 213,
   "metadata": {},
   "outputs": [],
   "source": [
    "food_times = [4, 2, 3, 6, 7, 1, 5, 8]\n",
    "# K = 27\n",
    "K = 16"
   ]
  },
  {
   "cell_type": "code",
   "execution_count": 214,
   "metadata": {},
   "outputs": [],
   "source": [
    "import heapq\n",
    "\n",
    "def solution(food_times, K):\n",
    "    if sum(food_times) <= K:\n",
    "        return -1\n",
    "    \n",
    "    q = []\n",
    "    for i in range(len(food_times)):\n",
    "        heapq.heappush(q, (food_times[i], i+1))\n",
    "\n",
    "    previous = 0\n",
    "    length = len(q)\n",
    "    while K >= (q[0][0] - previous) * length:\n",
    "        now, idx = heapq.heappop(q)\n",
    "        K -= (now-previous)*length\n",
    "        previous = now\n",
    "        length -= 1\n",
    "\n",
    "    q = sorted(q, key=lambda i : i[1])\n",
    "    return q[K%length][1]"
   ]
  },
  {
   "cell_type": "code",
   "execution_count": 215,
   "metadata": {},
   "outputs": [
    {
     "output_type": "stream",
     "name": "stdout",
     "text": [
      "1 [(4, 1), (3, 3), (6, 4), (7, 5), (5, 7), (8, 8)]\n"
     ]
    },
    {
     "output_type": "execute_result",
     "data": {
      "text/plain": [
       "3"
      ]
     },
     "metadata": {},
     "execution_count": 215
    }
   ],
   "source": [
    "solution(food_times, K)"
   ]
  },
  {
   "cell_type": "code",
   "execution_count": 205,
   "metadata": {},
   "outputs": [],
   "source": [
    "food_times = [7,8,3,3,2,2,2,2,2,2,2,2] \n",
    "K = 35"
   ]
  },
  {
   "cell_type": "code",
   "execution_count": 125,
   "metadata": {},
   "outputs": [
    {
     "output_type": "execute_result",
     "data": {
      "text/plain": [
       "2"
      ]
     },
     "metadata": {},
     "execution_count": 125
    }
   ],
   "source": []
  },
  {
   "cell_type": "code",
   "execution_count": null,
   "metadata": {},
   "outputs": [],
   "source": []
  },
  {
   "cell_type": "code",
   "execution_count": null,
   "metadata": {},
   "outputs": [],
   "source": [
    "text = input()\n",
    "\n",
    "def sol(t):\n",
    "    combo = list(map(int, list(t)))\n",
    "    idx = len(combo)//2\n",
    "    left = combo[:idx]\n",
    "    right = combo[idx:]\n",
    "\n",
    "    if sum(left) == sum(right):\n",
    "        print('LUCKY')\n",
    "    else:\n",
    "        print('READY')\n",
    "\n",
    "sol(text)"
   ]
  },
  {
   "cell_type": "code",
   "execution_count": null,
   "metadata": {},
   "outputs": [],
   "source": []
  },
  {
   "cell_type": "code",
   "execution_count": 3,
   "metadata": {},
   "outputs": [
    {
     "output_type": "execute_result",
     "data": {
      "text/plain": [
       "'ADDIJJJKKLSS20'"
      ]
     },
     "metadata": {},
     "execution_count": 3
    }
   ],
   "source": [
    "s = input()\n",
    "\n",
    "def sol(text):\n",
    "    str_list = []\n",
    "    num = 0\n",
    "    for t in list(text):\n",
    "        if t.isdecimal():\n",
    "            num+=int(t)\n",
    "        else:\n",
    "            str_list.append(t)\n",
    "\n",
    "    return ''.join(sorted(str_list))+str(num)\n",
    "\n",
    "sol(s)"
   ]
  },
  {
   "cell_type": "code",
   "execution_count": null,
   "metadata": {},
   "outputs": [],
   "source": []
  },
  {
   "cell_type": "code",
   "execution_count": null,
   "metadata": {},
   "outputs": [],
   "source": [
    "def solution()\n",
    "for i in range()"
   ]
  },
  {
   "cell_type": "code",
   "execution_count": 6,
   "metadata": {},
   "outputs": [],
   "source": [
    "i = 123"
   ]
  },
  {
   "cell_type": "code",
   "execution_count": 10,
   "metadata": {},
   "outputs": [],
   "source": [
    "i = 123"
   ]
  },
  {
   "cell_type": "code",
   "execution_count": 11,
   "metadata": {},
   "outputs": [],
   "source": [
    "\n",
    "b = i"
   ]
  },
  {
   "cell_type": "code",
   "execution_count": 14,
   "metadata": {},
   "outputs": [],
   "source": [
    "b = 182"
   ]
  },
  {
   "cell_type": "code",
   "execution_count": 13,
   "metadata": {},
   "outputs": [
    {
     "output_type": "execute_result",
     "data": {
      "text/plain": [
       "123"
      ]
     },
     "metadata": {},
     "execution_count": 13
    }
   ],
   "source": [
    "i"
   ]
  },
  {
   "cell_type": "code",
   "execution_count": 15,
   "metadata": {},
   "outputs": [
    {
     "output_type": "execute_result",
     "data": {
      "text/plain": [
       "182"
      ]
     },
     "metadata": {},
     "execution_count": 15
    }
   ],
   "source": [
    "b"
   ]
  },
  {
   "cell_type": "code",
   "execution_count": 28,
   "metadata": {},
   "outputs": [
    {
     "output_type": "stream",
     "name": "stdout",
     "text": [
      "['2a', '2b', 'a', '3c', '']\n['aa', 'bb', 'ac', 'cc', '']\n['aab', 'bac', 'cc']\n['aabb', 'accc', '']\n"
     ]
    },
    {
     "output_type": "execute_result",
     "data": {
      "text/plain": [
       "7"
      ]
     },
     "metadata": {},
     "execution_count": 28
    }
   ],
   "source": [
    "sents = 'aabbaccc'\n",
    "\n",
    "def solution(sents):\n",
    "    length = len(sents)\n",
    "    answer = length\n",
    "    for i in range(1, length//2+1):\n",
    "        previous = ''\n",
    "        temp = []\n",
    "        for j in range(length//i) :\n",
    "            now = sents[j*i:j*i+i]\n",
    "            if j == 0:\n",
    "                previous = now\n",
    "                count = 1\n",
    "            else:\n",
    "                if previous == now:\n",
    "                    count += 1\n",
    "                else:\n",
    "                    if count != 1:\n",
    "                        temp.append(''.join([str(count),previous]))\n",
    "                    else:\n",
    "                        temp.append(previous)\n",
    "                    previous = now\n",
    "                    count = 1\n",
    "        \n",
    "        if count != 1:\n",
    "                        temp.append(''.join([str(count),previous]))\n",
    "        else:\n",
    "            temp.append(previous)\n",
    "        temp.append(sents[(j+1)*i:])\n",
    "        print(temp)\n",
    "\n",
    "        answer = min(answer, len(''.join(temp)))\n",
    "    \n",
    "    return answer\n",
    "\n",
    "solution(sents)"
   ]
  },
  {
   "cell_type": "code",
   "execution_count": 42,
   "metadata": {},
   "outputs": [],
   "source": [
    "def print_map(m):\n",
    "    for _ in m:\n",
    "        print(' '.join(map(str,_)))\n"
   ]
  },
  {
   "cell_type": "code",
   "execution_count": 46,
   "metadata": {},
   "outputs": [
    {
     "output_type": "stream",
     "name": "stdout",
     "text": [
      "1 1 1\n1 1 0\n1 0 1\n\n1 0 1\n1 1 0\n1 1 1\n"
     ]
    }
   ],
   "source": [
    "print_map([[1, 1, 1], [1, 1, 0], [1, 0, 1]])\n",
    "\n",
    "\n",
    "rot90([[1, 1, 1], [1, 1, 0], [1, 0, 1]])"
   ]
  },
  {
   "cell_type": "code",
   "execution_count": 34,
   "metadata": {},
   "outputs": [
    {
     "output_type": "execute_result",
     "data": {
      "text/plain": [
       "[[0, 0, 0], [1, 0, 0], [0, 1, 1]]"
      ]
     },
     "metadata": {},
     "execution_count": 34
    }
   ],
   "source": [
    "def move(m):\n",
    "    for i in range(len(m)):\n",
    "        for j in range(len(m)):\n",
    "            \n"
   ]
  },
  {
   "cell_type": "code",
   "execution_count": 150,
   "metadata": {},
   "outputs": [],
   "source": [
    "test = [[1, 2, 3],\n",
    "[4, 5, 6]]\n"
   ]
  },
  {
   "cell_type": "code",
   "execution_count": 160,
   "metadata": {},
   "outputs": [
    {
     "output_type": "execute_result",
     "data": {
      "text/plain": [
       "[[0, 0], [0, 0], [0, 0]]"
      ]
     },
     "metadata": {},
     "execution_count": 160
    }
   ],
   "source": [
    "temp"
   ]
  },
  {
   "cell_type": "code",
   "execution_count": 163,
   "metadata": {},
   "outputs": [
    {
     "output_type": "execute_result",
     "data": {
      "text/plain": [
       "[[1, 2, 3], [4, 5, 6]]"
      ]
     },
     "metadata": {},
     "execution_count": 163
    }
   ],
   "source": [
    "test"
   ]
  },
  {
   "cell_type": "code",
   "execution_count": 168,
   "metadata": {},
   "outputs": [],
   "source": [
    "def rot90(square):\n",
    "    len_row = len(square)\n",
    "    len_col = len(square[0])\n",
    "    temp = [[0 for _j in range(len_row)] for _i in range(len_col)]\n",
    "    \n",
    "    for i, row in enumerate(square):\n",
    "        for j, value in enumerate(row):\n",
    "            \n",
    "            temp[j][len_row-i-1] = value\n",
    "    return temp"
   ]
  },
  {
   "cell_type": "code",
   "execution_count": 173,
   "metadata": {},
   "outputs": [
    {
     "output_type": "stream",
     "name": "stdout",
     "text": [
      "1 2 3\n4 5 6\n\n4 1\n5 2\n6 3\n\n6 5 4\n3 2 1\n"
     ]
    }
   ],
   "source": [
    "print_map(test)\n",
    "print()\n",
    "print_map(rot90(test))\n",
    "print()\n",
    "print_map(rot90(rot90(test)))"
   ]
  },
  {
   "cell_type": "code",
   "execution_count": null,
   "metadata": {},
   "outputs": [],
   "source": []
  },
  {
   "cell_type": "code",
   "execution_count": 143,
   "metadata": {},
   "outputs": [],
   "source": [
    "\n",
    "# Python 회전함수 [ (value, value), (value, value) ] 리스트(튜플)\n",
    "def rotate(key):\n",
    "    return list(zip(*key[::-1]))\n",
    "# 가운데를 기준으로 자신의 크기//2만큼 더 가는 것\n",
    "\n",
    "def solution(key, lock):\n",
    "    min_i, max_i, min_j, max_j = len(lock), 0, len(lock), 0\n",
    "    for i, row in enumerate(lock):\n",
    "        for j, c in enumerate(row):\n",
    "            if c == 0:\n",
    "                min_i = min(i, min_i)\n",
    "                max_i = max(i, max_i)\n",
    "                min_j = min(j, min_j)\n",
    "                max_j = max(j, max_j)\n",
    "    part = []\n",
    "    for row in lock[min_i:max_i+1]:\n",
    "        part.append(row[min_j:max_j+1])\n",
    "    if not part:\n",
    "        return True\n",
    "    part = [[0 if c_p else 1 for c_p in p_row] for p_row in part]\n",
    "    for _ in range(4):\n",
    "        part = rotate(part)\n",
    "        row_range = len(key)-len(part)+1\n",
    "        col_range = len(key)-len(part[0])+1\n",
    "        for i in range(row_range):\n",
    "            for j in range(col_range):\n",
    "                key_search = []\n",
    "                for row in key[i:i+len(part)]:\n",
    "                    key_search.append(tuple(row[j:j+len(part[0])]))\n",
    "                if key_search == part:\n",
    "                    return True\n",
    "\n",
    "    return False"
   ]
  },
  {
   "cell_type": "code",
   "execution_count": 144,
   "metadata": {},
   "outputs": [
    {
     "output_type": "stream",
     "name": "stdout",
     "text": [
      "key [[0, 0, 0], [1, 0, 0], [0, 1, 1]]\npart [[0, 1], [1, 0]]\npart [(1, 0), (0, 1)]\nkey_search [(0, 0), (1, 0)]\nkey_search [(0, 0), (0, 0)]\nkey_search [(1, 0), (0, 1)]\n"
     ]
    },
    {
     "output_type": "execute_result",
     "data": {
      "text/plain": [
       "True"
      ]
     },
     "metadata": {},
     "execution_count": 144
    }
   ],
   "source": [
    "solution([[0, 0, 0], [1, 0, 0], [0, 1, 1]], [[1, 1, 1], [1, 1, 0], [1, 0, 1]])"
   ]
  },
  {
   "cell_type": "code",
   "execution_count": 103,
   "metadata": {},
   "outputs": [],
   "source": [
    "key = [[0, 0, 0], [1, 0, 0]]"
   ]
  },
  {
   "cell_type": "code",
   "execution_count": 104,
   "metadata": {},
   "outputs": [
    {
     "output_type": "stream",
     "name": "stdout",
     "text": [
      "0 0 0\n1 0 0\n"
     ]
    }
   ],
   "source": [
    "print_map(key)"
   ]
  },
  {
   "cell_type": "code",
   "execution_count": 139,
   "metadata": {},
   "outputs": [
    {
     "output_type": "execute_result",
     "data": {
      "text/plain": [
       "[[2, 5], [1, 3, 4, 6]]"
      ]
     },
     "metadata": {},
     "execution_count": 139
    }
   ],
   "source": [
    "rot90([[1,2,3],[4,5,6]])"
   ]
  },
  {
   "cell_type": "code",
   "execution_count": null,
   "metadata": {},
   "outputs": [],
   "source": [
    "1 2 3\n",
    "4 5 6\n",
    "\n",
    "2 5\n",
    "1 3 4 6"
   ]
  },
  {
   "cell_type": "code",
   "execution_count": 140,
   "metadata": {},
   "outputs": [
    {
     "output_type": "stream",
     "name": "stdout",
     "text": [
      "1 0\n0 0\n0 0\n"
     ]
    }
   ],
   "source": [
    "print_map(rotate(key))"
   ]
  },
  {
   "cell_type": "code",
   "execution_count": 100,
   "metadata": {},
   "outputs": [
    {
     "output_type": "stream",
     "name": "stdout",
     "text": [
      "0 0 0\n1 0 0\n0 1 1\n"
     ]
    }
   ],
   "source": [
    "print_map(key)"
   ]
  },
  {
   "cell_type": "code",
   "execution_count": 102,
   "metadata": {},
   "outputs": [
    {
     "output_type": "stream",
     "name": "stdout",
     "text": [
      "0 1 1\n1 0 0\n0 0 0\n"
     ]
    }
   ],
   "source": [
    "print_map(key[::-1])"
   ]
  },
  {
   "cell_type": "code",
   "execution_count": 101,
   "metadata": {},
   "outputs": [
    {
     "output_type": "stream",
     "name": "stdout",
     "text": [
      "0 1 0\n1 0 0\n1 0 0\n"
     ]
    }
   ],
   "source": [
    "print_map(zip(*key[::-1]))"
   ]
  },
  {
   "cell_type": "code",
   "execution_count": null,
   "metadata": {},
   "outputs": [],
   "source": []
  },
  {
   "cell_type": "code",
   "execution_count": 5,
   "metadata": {},
   "outputs": [],
   "source": [
    "apples = []\n",
    "apples.append(tuple(map(int,input().split())))"
   ]
  },
  {
   "cell_type": "code",
   "execution_count": 9,
   "metadata": {},
   "outputs": [],
   "source": [
    "moving = []\n",
    "moving.append(tuple(input().split()))"
   ]
  },
  {
   "cell_type": "code",
   "execution_count": 11,
   "metadata": {},
   "outputs": [],
   "source": [
    "FOUR_DIR = [(0,1), (1,0), (0,-1), (-1,0)]"
   ]
  },
  {
   "cell_type": "code",
   "execution_count": 16,
   "metadata": {},
   "outputs": [
    {
     "output_type": "execute_result",
     "data": {
      "text/plain": [
       "(0, 1)"
      ]
     },
     "metadata": {},
     "execution_count": 16
    }
   ],
   "source": [
    "FOUR_DIR[(FOUR_DIR.index((-1,0))+1)%4]"
   ]
  },
  {
   "cell_type": "code",
   "execution_count": 38,
   "metadata": {},
   "outputs": [
    {
     "output_type": "error",
     "ename": "SyntaxError",
     "evalue": "invalid syntax (<ipython-input-38-69060c4a5ff9>, line 3)",
     "traceback": [
      "\u001b[1;36m  File \u001b[1;32m\"<ipython-input-38-69060c4a5ff9>\"\u001b[1;36m, line \u001b[1;32m3\u001b[0m\n\u001b[1;33m    3 4\u001b[0m\n\u001b[1;37m      ^\u001b[0m\n\u001b[1;31mSyntaxError\u001b[0m\u001b[1;31m:\u001b[0m invalid syntax\n"
     ]
    }
   ],
   "source": [
    "6\n",
    "3\n",
    "3 4\n",
    "2 5\n",
    "5 3\n",
    "3\n",
    "3 D\n",
    "15 L\n",
    "17 D"
   ]
  },
  {
   "cell_type": "code",
   "execution_count": null,
   "metadata": {},
   "outputs": [],
   "source": [
    "10\n",
    "4\n",
    "1 2\n",
    "1 3\n",
    "1 4\n",
    "1 5\n",
    "4\n",
    "8 D\n",
    "10 D\n",
    "11 D\n",
    "13 L"
   ]
  },
  {
   "cell_type": "code",
   "execution_count": null,
   "metadata": {},
   "outputs": [],
   "source": [
    "10\n",
    "5\n",
    "1 5\n",
    "1 3\n",
    "1 2\n",
    "1 6\n",
    "1 7\n",
    "4\n",
    "8 D\n",
    "10 D\n",
    "11 D\n",
    "13 L"
   ]
  },
  {
   "cell_type": "code",
   "execution_count": 60,
   "metadata": {},
   "outputs": [],
   "source": [
    "N = int(input())\n",
    "K = int(input())\n",
    "apples = []\n",
    "for i in range(K):\n",
    "    apples.append(tuple(map(int,input().split())))\n",
    "moving = []\n",
    "L = int(input())\n",
    "for i in range(L):\n",
    "    moving.append(tuple(input().split()))"
   ]
  },
  {
   "cell_type": "code",
   "execution_count": 46,
   "metadata": {},
   "outputs": [
    {
     "output_type": "execute_result",
     "data": {
      "text/plain": [
       "(6, 3, [(3, 4), (2, 5), (5, 3)], 3, [('3', 'D'), ('15', 'L'), ('17', 'D')])"
      ]
     },
     "metadata": {},
     "execution_count": 46
    }
   ],
   "source": [
    "N, K, apples, L, moving"
   ]
  },
  {
   "cell_type": "code",
   "execution_count": 52,
   "metadata": {},
   "outputs": [],
   "source": [
    "def check_finish(N, body):\n",
    "    last_x, last_y = body[-1]\n",
    "    if 1 > last_x or last_x > N or 1 > last_y or last_y > N:\n",
    "        return True\n",
    "    for b in body:\n",
    "        if body.count(b) > 1:\n",
    "            return True\n",
    "    return False\n",
    "\n",
    "FOUR_DIR = [(0,1), (1,0), (0,-1), (-1,0)]\n",
    "def change_dir(word, now_dir):\n",
    "    if word == 'L':\n",
    "        next_dir = FOUR_DIR[FOUR_DIR.index(now_dir)-1]\n",
    "    else:\n",
    "        next_dir = FOUR_DIR[(FOUR_DIR.index(now_dir)+1)%4]\n",
    "    return next_dir"
   ]
  },
  {
   "cell_type": "code",
   "execution_count": 53,
   "metadata": {},
   "outputs": [],
   "source": [
    "def sol(N, K, apples, L, moving):\n",
    "    answer = 0\n",
    "    body = [(1,1)]\n",
    "    now_dir = (0,1)\n",
    "    while True:\n",
    "        answer += 1\n",
    "        head_i, head_j = body[-1]\n",
    "        next_i, next_j = head_i+now_dir[0], head_j+now_dir[1]\n",
    "        body.append((next_i, next_j))\n",
    "        if check_finish(N, body):\n",
    "            break\n",
    "\n",
    "        if (next_i, next_j) in apples:\n",
    "            apples.pop(apples.index((next_i, next_j)))\n",
    "        else:\n",
    "            body.pop(0)\n",
    "        \n",
    "        if moving:\n",
    "            if int(moving[0][0]) == answer:\n",
    "                now_dir = change_dir(moving[0][1], now_dir)\n",
    "                moving.pop(0)\n",
    "        print(body)\n",
    "\n",
    "    return answer"
   ]
  },
  {
   "cell_type": "code",
   "execution_count": 61,
   "metadata": {
    "tags": []
   },
   "outputs": [
    {
     "output_type": "stream",
     "name": "stdout",
     "text": [
      "[(1, 1), (1, 2)]\n[(1, 1), (1, 2), (1, 3)]\n[(1, 2), (1, 3), (1, 4)]\n[(1, 2), (1, 3), (1, 4), (1, 5)]\n[(1, 2), (1, 3), (1, 4), (1, 5), (1, 6)]\n[(1, 2), (1, 3), (1, 4), (1, 5), (1, 6), (1, 7)]\n[(1, 3), (1, 4), (1, 5), (1, 6), (1, 7), (1, 8)]\n[(1, 4), (1, 5), (1, 6), (1, 7), (1, 8), (1, 9)]\n[(1, 5), (1, 6), (1, 7), (1, 8), (1, 9), (2, 9)]\n[(1, 6), (1, 7), (1, 8), (1, 9), (2, 9), (3, 9)]\n[(1, 7), (1, 8), (1, 9), (2, 9), (3, 9), (3, 8)]\n[(1, 8), (1, 9), (2, 9), (3, 9), (3, 8), (2, 8)]\n"
     ]
    },
    {
     "output_type": "execute_result",
     "data": {
      "text/plain": [
       "13"
      ]
     },
     "metadata": {},
     "execution_count": 61
    }
   ],
   "source": [
    "sol(N, K, apples, L, moving)"
   ]
  },
  {
   "cell_type": "code",
   "execution_count": 92,
   "metadata": {},
   "outputs": [],
   "source": [
    "def check_build(build_list):\n",
    "    for x, y, build_type in build_list:\n",
    "        if build_type: #보\n",
    "            if [x-1, y, 1] in build_list and [x+1, y, 1] in build_list:\n",
    "                continue\n",
    "            elif [x, y-1, 0] in build_list or [x+1, y-1, 0] in build_list:\n",
    "                continue\n",
    "            else:\n",
    "                return False\n",
    "        else: # 기둥\n",
    "            if y == 0 or [x-1, y, 1] in build_list or [x, y, 1] in build_list or [x, y-1, 0] in build_list:\n",
    "                continue\n",
    "            else:\n",
    "                return False\n",
    "            \n",
    "    return True\n",
    "\n",
    "def solution(n, build_frame):\n",
    "    answer = []\n",
    "    # 0,0 은 왼쪽 하단\n",
    "    # x 가로, y 세로 좌표, a 0 기둥 1 보, b 0 삭제 1 설치\n",
    "    # 기둥은 위쪽, 보는 오른쪽으로 설치\n",
    "    for x, y, a, b in build_frame:\n",
    "        print(x,y,a,b)\n",
    "        if b:\n",
    "            answer.append([x, y, a])\n",
    "            if not check_build(answer):\n",
    "                answer.pop()\n",
    "        else:\n",
    "            try:\n",
    "                answer.pop(answer.index([x, y, a]))\n",
    "                if not check_build(answer):\n",
    "                    answer.append([x, y, a])\n",
    "            except: pass\n",
    "    \n",
    "    return sorted(answer, key=lambda i : (i[0], i[1], i[2]))"
   ]
  },
  {
   "cell_type": "code",
   "execution_count": 93,
   "metadata": {},
   "outputs": [
    {
     "output_type": "stream",
     "name": "stdout",
     "text": [
      "1 0 0 1\n[[1, 0, 0]]\n1 1 1 1\n[[1, 0, 0], [1, 1, 1]]\n2 1 0 1\n[[1, 0, 0], [1, 1, 1], [2, 1, 0]]\n2 2 1 1\n[[1, 0, 0], [1, 1, 1], [2, 1, 0], [2, 2, 1]]\n5 0 0 1\n[[1, 0, 0], [1, 1, 1], [2, 1, 0], [2, 2, 1], [5, 0, 0]]\n5 1 0 1\n[[1, 0, 0], [1, 1, 1], [2, 1, 0], [2, 2, 1], [5, 0, 0], [5, 1, 0]]\n4 2 1 1\n[[1, 0, 0], [1, 1, 1], [2, 1, 0], [2, 2, 1], [5, 0, 0], [5, 1, 0], [4, 2, 1]]\n3 2 1 1\n[[1, 0, 0], [1, 1, 1], [2, 1, 0], [2, 2, 1], [5, 0, 0], [5, 1, 0], [4, 2, 1], [3, 2, 1]]\n"
     ]
    },
    {
     "output_type": "execute_result",
     "data": {
      "text/plain": [
       "[[1, 0, 0],\n",
       " [1, 1, 1],\n",
       " [2, 1, 0],\n",
       " [2, 2, 1],\n",
       " [3, 2, 1],\n",
       " [4, 2, 1],\n",
       " [5, 0, 0],\n",
       " [5, 1, 0]]"
      ]
     },
     "metadata": {},
     "execution_count": 93
    }
   ],
   "source": [
    "solution(5, [[1,0,0,1],[1,1,1,1],[2,1,0,1],[2,2,1,1],[5,0,0,1],[5,1,0,1],[4,2,1,1],[3,2,1,1]])"
   ]
  },
  {
   "cell_type": "code",
   "execution_count": null,
   "metadata": {},
   "outputs": [],
   "source": []
  },
  {
   "cell_type": "code",
   "execution_count": 62,
   "metadata": {},
   "outputs": [],
   "source": [
    "answer = [(0,0,0)]"
   ]
  },
  {
   "cell_type": "code",
   "execution_count": 63,
   "metadata": {},
   "outputs": [
    {
     "output_type": "error",
     "ename": "ValueError",
     "evalue": "(0, 1, 0) is not in list",
     "traceback": [
      "\u001b[1;31m---------------------------------------------------------------------------\u001b[0m",
      "\u001b[1;31mValueError\u001b[0m                                Traceback (most recent call last)",
      "\u001b[1;32m<ipython-input-63-c585ad85c152>\u001b[0m in \u001b[0;36m<module>\u001b[1;34m\u001b[0m\n\u001b[1;32m----> 1\u001b[1;33m \u001b[0manswer\u001b[0m\u001b[1;33m.\u001b[0m\u001b[0mpop\u001b[0m\u001b[1;33m(\u001b[0m\u001b[0manswer\u001b[0m\u001b[1;33m.\u001b[0m\u001b[0mindex\u001b[0m\u001b[1;33m(\u001b[0m\u001b[1;33m(\u001b[0m\u001b[1;36m0\u001b[0m\u001b[1;33m,\u001b[0m\u001b[1;36m1\u001b[0m\u001b[1;33m,\u001b[0m\u001b[1;36m0\u001b[0m\u001b[1;33m)\u001b[0m\u001b[1;33m)\u001b[0m\u001b[1;33m)\u001b[0m\u001b[1;33m\u001b[0m\u001b[1;33m\u001b[0m\u001b[0m\n\u001b[0m",
      "\u001b[1;31mValueError\u001b[0m: (0, 1, 0) is not in list"
     ]
    }
   ],
   "source": [
    "answer.pop(answer.index((0,1,0)))"
   ]
  },
  {
   "cell_type": "code",
   "execution_count": 98,
   "metadata": {},
   "outputs": [],
   "source": [
    "from itertools import combinations\n",
    "import sys\n",
    "\n",
    "N, M = map(int, sys.stdin.readline().rstrip().split())\n",
    "house = []\n",
    "chicken_house = []\n",
    "for i in range(N):\n",
    "    for j, v in enumerate(map(int, sys.stdin.readline().rstrip().split())):\n",
    "        if v == 1:\n",
    "            house.append((i,j))\n",
    "        elif v == 2:\n",
    "            chicken_house.append((i,j))\n",
    "\n",
    "answer = int(1e9)\n",
    "for chickens in combinations(chicken_house, M):\n",
    "    temp = 0\n",
    "    for h_x, h_y in house:\n",
    "        house_dist = int(1e9)\n",
    "        for c_x, c_y in chickens:\n",
    "            house_dist = min(house_dist, abs(h_x-c_x) + abs(h_y-c_y))\n",
    "        \n",
    "        temp += house_dist\n",
    "    answer = min(answer, temp)\n",
    "\n",
    "print(answer)"
   ]
  },
  {
   "cell_type": "code",
   "execution_count": 99,
   "metadata": {},
   "outputs": [
    {
     "output_type": "execute_result",
     "data": {
      "text/plain": [
       "10"
      ]
     },
     "metadata": {},
     "execution_count": 99
    }
   ],
   "source": [
    "answer"
   ]
  },
  {
   "cell_type": "code",
   "execution_count": 104,
   "metadata": {},
   "outputs": [
    {
     "output_type": "stream",
     "name": "stdout",
     "text": [
      "((0, 1), (3, 0))\n((0, 1), (4, 0))\n((0, 1), (4, 1))\n((0, 1), (4, 4))\n((3, 0), (0, 1))\n((3, 0), (4, 0))\n((3, 0), (4, 1))\n((3, 0), (4, 4))\n((4, 0), (0, 1))\n((4, 0), (3, 0))\n((4, 0), (4, 1))\n((4, 0), (4, 4))\n((4, 1), (0, 1))\n((4, 1), (3, 0))\n((4, 1), (4, 0))\n((4, 1), (4, 4))\n((4, 4), (0, 1))\n((4, 4), (3, 0))\n((4, 4), (4, 0))\n((4, 4), (4, 1))\n"
     ]
    }
   ],
   "source": [
    "for i in permutations(chicken_house, 2):\n",
    "    print(i)"
   ]
  },
  {
   "cell_type": "code",
   "execution_count": 105,
   "metadata": {},
   "outputs": [],
   "source": [
    "weak = [1,2,3,4]"
   ]
  },
  {
   "cell_type": "code",
   "execution_count": 106,
   "metadata": {},
   "outputs": [
    {
     "output_type": "stream",
     "name": "stdout",
     "text": [
      "1\n3\n12\n12\n"
     ]
    }
   ],
   "source": [
    "for w in weak:\n",
    "    print(w)\n",
    "    weak.pop(0)\n",
    "    weak.append(0+12)"
   ]
  },
  {
   "cell_type": "code",
   "execution_count": 108,
   "metadata": {},
   "outputs": [
    {
     "output_type": "error",
     "ename": "ValueError",
     "evalue": "max() arg is an empty sequence",
     "traceback": [
      "\u001b[1;31m---------------------------------------------------------------------------\u001b[0m",
      "\u001b[1;31mValueError\u001b[0m                                Traceback (most recent call last)",
      "\u001b[1;32m<ipython-input-108-7950194aeef5>\u001b[0m in \u001b[0;36m<module>\u001b[1;34m\u001b[0m\n\u001b[1;32m----> 1\u001b[1;33m \u001b[0mmax\u001b[0m\u001b[1;33m(\u001b[0m\u001b[0mweak\u001b[0m\u001b[1;33m[\u001b[0m\u001b[1;36m5\u001b[0m\u001b[1;33m:\u001b[0m\u001b[1;33m]\u001b[0m\u001b[1;33m)\u001b[0m \u001b[1;33m-\u001b[0m \u001b[0mmin\u001b[0m\u001b[1;33m(\u001b[0m\u001b[0mweak\u001b[0m\u001b[1;33m[\u001b[0m\u001b[1;36m5\u001b[0m\u001b[1;33m:\u001b[0m\u001b[1;33m]\u001b[0m\u001b[1;33m)\u001b[0m\u001b[1;33m\u001b[0m\u001b[1;33m\u001b[0m\u001b[0m\n\u001b[0m",
      "\u001b[1;31mValueError\u001b[0m: max() arg is an empty sequence"
     ]
    }
   ],
   "source": [
    "max(weak[5:]) - min(weak[5:])"
   ]
  },
  {
   "cell_type": "code",
   "execution_count": null,
   "metadata": {},
   "outputs": [],
   "source": [
    "# num을 cnt만큼 분할하는 함수\n",
    "def partition(num, cnt):\n",
    "\tif cnt==1: return [[num]]\n",
    "\telse:\n",
    "\t\tret=[]\n",
    "\t\tfor i in range(1,num-cnt+2):\n",
    "\t\t\tfor j in partition(num-i,cnt-1):\n",
    "\t\t\t\ttemp=[i]+j\n",
    "\t\t\t\tret.append(temp)\n",
    "\t\treturn ret\n",
    "\n",
    "#같은 분할인지 체크\n",
    "def same_list(lst):\n",
    "\tret=[]\n",
    "\tsize = len(lst)\n",
    "\tfor start in range(size):\n",
    "\t\ttemp = lst[start:size]\n",
    "\t\ttemp+=lst[:start]\n",
    "\t\tret.append(temp)\n",
    "\treturn ret\n",
    "\n",
    "#리스트 안의 취약지점을 모두 체크하는 데 걸리는 시간\n",
    "def calc_dis(lst,n):\n",
    "\tret=[]\n",
    "\tfor cur in lst:\n",
    "\t\ttemp=0\n",
    "\t\tfor i in range(len(cur)-1):\n",
    "\t\t\tif cur[i]>cur[i+1]:\n",
    "\t\t\t\ttemp+=n-cur[i]+cur[i+1]\n",
    "\t\t\telse:\n",
    "\t\t\t\ttemp+=cur[i+1]-cur[i]\n",
    "\t\tret.append(temp)\n",
    "\treturn ret\n",
    "\n",
    "def solution(n, weak, dist):\n",
    "\tanswer = 0\n",
    "\tdist = sorted(dist,reverse=True)\n",
    "\n",
    "\tfor i in range(len(dist)):\n",
    "\t\t#가장 긴 범위를 체크하는 친구들\n",
    "\t\tmember = dist[:i+1]\n",
    "\n",
    "\t\t#분할\n",
    "\t\tprev = partition(len(weak),i+1)\n",
    "\t\tpart_list=[]\n",
    "\n",
    "\t\t#중복된 분할 제거\n",
    "\t\twhile len(prev)!=0:\n",
    "\t\t\tcur = prev.pop()\n",
    "\t\t\tlst=same_list(cur)\n",
    "\t\t\tfor idx,val in enumerate(prev):\n",
    "\t\t\t\tif val in lst: del(prev[idx])\n",
    "\t\t\tpart_list.append(cur)\n",
    "\n",
    "\t\t#분할 별로 시작 위치 바꿔가면서 체크 거리 계산\n",
    "\t\tfor part in part_list:\n",
    "\t\t\tfor idx in range(len(weak)):\n",
    "\t\t\t\tweak_partition = []\n",
    "\t\t\t\tcnt=0\n",
    "\t\t\t\tfor cur in part:\n",
    "\t\t\t\t\ttemp = []\n",
    "\t\t\t\t\tfor j in range(cur):\n",
    "\t\t\t\t\t\ttemp.append(weak[(idx+cnt)%len(weak)])\n",
    "\t\t\t\t\t\tcnt+=1\n",
    "\t\t\t\t\tweak_partition.append(temp)\n",
    "\t\t\t\t\n",
    "\t\t\t\t#체크거리를 정렬해서 모두 체크할 수 있는지 dist랑 비교\n",
    "\t\t\t\tdis_list = sorted(calc_dis(weak_partition,n),reverse=True)\n",
    "\t\t\t\tflag=True\n",
    "\t\t\t\tfor j in range(len(dis_list)):\n",
    "\t\t\t\t\tif member[j]<dis_list[j]:\n",
    "\t\t\t\t\t\tflag=False\n",
    "\t\t\t\t\t\tbreak\n",
    "\n",
    "\t\t\t\t#가능하면 반환\n",
    "\t\t\t\tif flag:\n",
    "\t\t\t\t\treturn i+1\n",
    "\treturn -1"
   ]
  },
  {
   "cell_type": "code",
   "execution_count": 171,
   "metadata": {},
   "outputs": [],
   "source": [
    "def solution(n, weak, dist):\n",
    "    answer = len(dist)+1\n",
    "    weak.sort()\n",
    "    dist.sort()\n",
    "\n",
    "    if len(weak) == 1 and len(dist) >= 1:\n",
    "        return 1\n",
    "\n",
    "    for _ in range(len(weak)):\n",
    "        for i in range(1, len(weak)+1):\n",
    "            # i 개수에 따라 순서대로 묶는다. (weak까지)\n",
    "            weak_dist = []\n",
    "            for j in range(len(weak)//i):\n",
    "                weak_dist.append(weak[i*j+i-1] - weak[i*j])\n",
    "            try:\n",
    "                if len(weak[i*j+i:]) == 1: weak_dist.append(0)\n",
    "                else: weak_dist.append(weak[-1] - weak[i*j+i])\n",
    "            except: pass\n",
    "            temp = dist.copy()\n",
    "            this_answer = len(weak_dist)\n",
    "            checking=True\n",
    "            weak_dist.sort()\n",
    "            for wd in weak_dist:\n",
    "                st = len(temp)\n",
    "                for d in temp:\n",
    "                    if d >= wd:\n",
    "                        temp.pop(temp.index(d))\n",
    "                        break\n",
    "                # 현재 dist로 해결 못한 경우\n",
    "                if st == len(temp):\n",
    "                    checking = False\n",
    "                    break\n",
    "            if checking:\n",
    "                answer = min(answer, this_answer)\n",
    "\n",
    "        weak.append(weak.pop(0)+n)\n",
    "        \n",
    "    if answer > len(dist):\n",
    "        return -1\n",
    "                \n",
    "    return answer"
   ]
  },
  {
   "cell_type": "code",
   "execution_count": 172,
   "metadata": {},
   "outputs": [
    {
     "output_type": "stream",
     "name": "stdout",
     "text": [
      "[0, 0, 0, 0]\n[3, 10]\n[11, 0]\n[21]\n[0, 0, 0, 0]\n[8, 9]\n[18, 0]\n[27]\n[0, 0, 0, 0]\n[10, 3]\n[19, 0]\n[22]\n[0, 0, 0, 0]\n[9, 8]\n[12, 0]\n[20]\n[0, 0, 0, 0]\n[3, 10]\n[11, 0]\n[21]\n"
     ]
    },
    {
     "output_type": "execute_result",
     "data": {
      "text/plain": [
       "2"
      ]
     },
     "metadata": {},
     "execution_count": 172
    }
   ],
   "source": [
    "solution(30, [0, 3, 11, 21], [10, 4])"
   ]
  },
  {
   "cell_type": "code",
   "execution_count": 187,
   "metadata": {},
   "outputs": [],
   "source": [
    "from itertools import permutations\n",
    "def solution(n, weak, dist):\n",
    "    answer = len(dist)+1\n",
    "    len_weak = len(weak)\n",
    "    len_dist = len(dist)\n",
    "    for i in range(len_weak):\n",
    "        weak.append(weak[i]+n)\n",
    "        \n",
    "    for start in range(len_weak):\n",
    "        for friends in permutations(dist, len_dist):\n",
    "            count = 1\n",
    "            position = weak[start] + friends[count-1]\n",
    "            for idx in range(start, start+len_weak):\n",
    "                if position < weak[idx]:\n",
    "                    count+=1\n",
    "                    if count > len(dist):\n",
    "                        break\n",
    "                    position = weak[idx] + friends[count-1]\n",
    "\n",
    "            answer = min(answer, count)\n",
    "        \n",
    "    if answer > len_dist:\n",
    "        return -1\n",
    "                \n",
    "    return answer"
   ]
  },
  {
   "cell_type": "code",
   "execution_count": 188,
   "metadata": {},
   "outputs": [
    {
     "output_type": "execute_result",
     "data": {
      "text/plain": [
       "2"
      ]
     },
     "metadata": {},
     "execution_count": 188
    }
   ],
   "source": [
    "solution(30, [0, 3, 11, 21], [10, 4])"
   ]
  },
  {
   "cell_type": "code",
   "execution_count": 190,
   "metadata": {},
   "outputs": [],
   "source": [
    "with open('D:/Downloads/5e15730aa280850006f3d005.txt', 'r', encoding='utf-8') as f:\n",
    "    datas = f.readlines()"
   ]
  },
  {
   "cell_type": "code",
   "execution_count": 199,
   "metadata": {},
   "outputs": [
    {
     "output_type": "execute_result",
     "data": {
      "text/plain": [
       "'#\\ttype:16\\tname:BMI160 Gyroscope Uncalibrated\\tversion:2062600\\tvendor:BOSCH\\tresolution:0.0010681152\\tpower:0.9\\tmaximumRange:34.906586\\n'"
      ]
     },
     "metadata": {},
     "execution_count": 199
    }
   ],
   "source": [
    "datas[7]"
   ]
  },
  {
   "cell_type": "code",
   "execution_count": 201,
   "metadata": {},
   "outputs": [
    {
     "output_type": "execute_result",
     "data": {
      "text/plain": [
       "'TK2PO5GA87D****'"
      ]
     },
     "metadata": {},
     "execution_count": 201
    }
   ],
   "source": [
    "'tk2po5ga87d****'.upper()"
   ]
  },
  {
   "cell_type": "code",
   "execution_count": 1,
   "metadata": {},
   "outputs": [],
   "source": [
    "N,M,K,X = 4,4,2,1\n",
    "data = '''1 2\n",
    "1 3\n",
    "2 3\n",
    "2 4'''"
   ]
  },
  {
   "cell_type": "code",
   "execution_count": 28,
   "metadata": {},
   "outputs": [],
   "source": [
    "N,M,K,X = 4,3,2,1\n",
    "data = '''1 2\n",
    "1 3\n",
    "1 4'''"
   ]
  },
  {
   "cell_type": "code",
   "execution_count": 31,
   "metadata": {},
   "outputs": [],
   "source": [
    "N,M,K,X = 4,4,1,1\n",
    "data = '''1 2\n",
    "1 3\n",
    "2 3\n",
    "2 4'''"
   ]
  },
  {
   "cell_type": "code",
   "execution_count": 32,
   "metadata": {},
   "outputs": [],
   "source": [
    "roads = {_:[] for _ in range(1, N+1)}\n",
    "for s, e in [map(int,_.split()) for _ in data.split('\\n')]:\n",
    "    roads[s].append(e)"
   ]
  },
  {
   "cell_type": "code",
   "execution_count": null,
   "metadata": {},
   "outputs": [],
   "source": []
  },
  {
   "cell_type": "code",
   "execution_count": 34,
   "metadata": {},
   "outputs": [
    {
     "output_type": "stream",
     "name": "stdout",
     "text": [
      "4\n"
     ]
    }
   ],
   "source": [
    "from collections import deque\n",
    "import sys\n",
    "\n",
    "N, M, K, X = map(int, sys.stdin.readline().rstrip().split())\n",
    "roads = {i:[] for i in range(1, N+1)}\n",
    "for i in range(M):\n",
    "    sc, ec = map(int, sys.stdin.readline().rstrip().split())\n",
    "    roads[sc].append(ec)\n",
    "\n",
    "def solution (N, K, X, roads):\n",
    "    visited = [False] * (N+1)\n",
    "    q = deque([(X, 0)])\n",
    "    visited[X] = True\n",
    "    answer = []\n",
    "    while q:\n",
    "        v, d = q.popleft()\n",
    "        for i in roads[v]:\n",
    "            if not visited[i]:\n",
    "                q.append((i, d+1))\n",
    "                if d+1 == K:\n",
    "                    answer.append(i)\n",
    "                visited[i] = True\n",
    "    if answer:\n",
    "        for i in sorted(answer):\n",
    "            print(i)\n",
    "    else:\n",
    "        print(-1)\n",
    "\n",
    "solution(N, K, X, roads)"
   ]
  },
  {
   "cell_type": "code",
   "execution_count": 26,
   "metadata": {},
   "outputs": [
    {
     "output_type": "error",
     "ename": "KeyError",
     "evalue": "4",
     "traceback": [
      "\u001b[1;31m---------------------------------------------------------------------------\u001b[0m",
      "\u001b[1;31mKeyError\u001b[0m                                  Traceback (most recent call last)",
      "\u001b[1;32m<ipython-input-26-20c77ba5e48f>\u001b[0m in \u001b[0;36m<module>\u001b[1;34m\u001b[0m\n\u001b[1;32m----> 1\u001b[1;33m \u001b[0msolution\u001b[0m\u001b[1;33m(\u001b[0m\u001b[0mN\u001b[0m\u001b[1;33m,\u001b[0m \u001b[0mK\u001b[0m\u001b[1;33m,\u001b[0m \u001b[0mX\u001b[0m\u001b[1;33m,\u001b[0m \u001b[0mroads\u001b[0m\u001b[1;33m)\u001b[0m\u001b[1;33m\u001b[0m\u001b[1;33m\u001b[0m\u001b[0m\n\u001b[0m",
      "\u001b[1;32m<ipython-input-25-1872e450aa80>\u001b[0m in \u001b[0;36msolution\u001b[1;34m(N, K, X, roads)\u001b[0m\n\u001b[0;32m      7\u001b[0m     \u001b[1;32mwhile\u001b[0m \u001b[0mq\u001b[0m\u001b[1;33m:\u001b[0m\u001b[1;33m\u001b[0m\u001b[1;33m\u001b[0m\u001b[0m\n\u001b[0;32m      8\u001b[0m         \u001b[0mv\u001b[0m\u001b[1;33m,\u001b[0m \u001b[0md\u001b[0m \u001b[1;33m=\u001b[0m \u001b[0mq\u001b[0m\u001b[1;33m.\u001b[0m\u001b[0mpopleft\u001b[0m\u001b[1;33m(\u001b[0m\u001b[1;33m)\u001b[0m\u001b[1;33m\u001b[0m\u001b[1;33m\u001b[0m\u001b[0m\n\u001b[1;32m----> 9\u001b[1;33m         \u001b[1;32mfor\u001b[0m \u001b[0mi\u001b[0m \u001b[1;32min\u001b[0m \u001b[0mroads\u001b[0m\u001b[1;33m[\u001b[0m\u001b[0mv\u001b[0m\u001b[1;33m]\u001b[0m\u001b[1;33m:\u001b[0m\u001b[1;33m\u001b[0m\u001b[1;33m\u001b[0m\u001b[0m\n\u001b[0m\u001b[0;32m     10\u001b[0m             \u001b[1;32mif\u001b[0m \u001b[1;32mnot\u001b[0m \u001b[0mvisited\u001b[0m\u001b[1;33m[\u001b[0m\u001b[0mi\u001b[0m\u001b[1;33m]\u001b[0m\u001b[1;33m:\u001b[0m\u001b[1;33m\u001b[0m\u001b[1;33m\u001b[0m\u001b[0m\n\u001b[0;32m     11\u001b[0m                 \u001b[0mq\u001b[0m\u001b[1;33m.\u001b[0m\u001b[0mappend\u001b[0m\u001b[1;33m(\u001b[0m\u001b[1;33m(\u001b[0m\u001b[0mi\u001b[0m\u001b[1;33m,\u001b[0m \u001b[0md\u001b[0m\u001b[1;33m+\u001b[0m\u001b[1;36m1\u001b[0m\u001b[1;33m)\u001b[0m\u001b[1;33m)\u001b[0m\u001b[1;33m\u001b[0m\u001b[1;33m\u001b[0m\u001b[0m\n",
      "\u001b[1;31mKeyError\u001b[0m: 4"
     ]
    }
   ],
   "source": [
    "solution(N, K, X, roads)"
   ]
  },
  {
   "cell_type": "code",
   "execution_count": null,
   "metadata": {},
   "outputs": [],
   "source": []
  },
  {
   "cell_type": "code",
   "execution_count": 35,
   "metadata": {},
   "outputs": [
    {
     "output_type": "error",
     "ename": "NameError",
     "evalue": "name 'combinations' is not defined",
     "traceback": [
      "\u001b[1;31m---------------------------------------------------------------------------\u001b[0m",
      "\u001b[1;31mNameError\u001b[0m                                 Traceback (most recent call last)",
      "\u001b[1;32m<ipython-input-35-7db4d3fcfe85>\u001b[0m in \u001b[0;36m<module>\u001b[1;34m\u001b[0m\n\u001b[0;32m     42\u001b[0m     \u001b[0mprint\u001b[0m\u001b[1;33m(\u001b[0m\u001b[0mmax\u001b[0m\u001b[1;33m(\u001b[0m\u001b[0manswer\u001b[0m\u001b[1;33m)\u001b[0m\u001b[1;33m)\u001b[0m\u001b[1;33m\u001b[0m\u001b[1;33m\u001b[0m\u001b[0m\n\u001b[0;32m     43\u001b[0m \u001b[1;33m\u001b[0m\u001b[0m\n\u001b[1;32m---> 44\u001b[1;33m \u001b[0msolution\u001b[0m\u001b[1;33m(\u001b[0m\u001b[0mN\u001b[0m\u001b[1;33m,\u001b[0m \u001b[0mM\u001b[0m\u001b[1;33m,\u001b[0m \u001b[0mvirus\u001b[0m\u001b[1;33m,\u001b[0m \u001b[0mwalls\u001b[0m\u001b[1;33m,\u001b[0m \u001b[0mspaces\u001b[0m\u001b[1;33m)\u001b[0m\u001b[1;33m\u001b[0m\u001b[1;33m\u001b[0m\u001b[0m\n\u001b[0m",
      "\u001b[1;32m<ipython-input-35-7db4d3fcfe85>\u001b[0m in \u001b[0;36msolution\u001b[1;34m(N, M, virus, walls, spaces)\u001b[0m\n\u001b[0;32m     35\u001b[0m \u001b[1;32mdef\u001b[0m \u001b[0msolution\u001b[0m\u001b[1;33m(\u001b[0m\u001b[0mN\u001b[0m\u001b[1;33m,\u001b[0m \u001b[0mM\u001b[0m\u001b[1;33m,\u001b[0m \u001b[0mvirus\u001b[0m\u001b[1;33m,\u001b[0m \u001b[0mwalls\u001b[0m\u001b[1;33m,\u001b[0m \u001b[0mspaces\u001b[0m\u001b[1;33m)\u001b[0m\u001b[1;33m:\u001b[0m\u001b[1;33m\u001b[0m\u001b[1;33m\u001b[0m\u001b[0m\n\u001b[0;32m     36\u001b[0m     \u001b[0manswer\u001b[0m \u001b[1;33m=\u001b[0m \u001b[1;33m[\u001b[0m\u001b[1;33m]\u001b[0m\u001b[1;33m\u001b[0m\u001b[1;33m\u001b[0m\u001b[0m\n\u001b[1;32m---> 37\u001b[1;33m     \u001b[1;32mfor\u001b[0m \u001b[0madd_walls\u001b[0m \u001b[1;32min\u001b[0m \u001b[0mcombinations\u001b[0m\u001b[1;33m(\u001b[0m\u001b[0mspaces\u001b[0m\u001b[1;33m,\u001b[0m \u001b[1;36m3\u001b[0m\u001b[1;33m)\u001b[0m\u001b[1;33m:\u001b[0m\u001b[1;33m\u001b[0m\u001b[1;33m\u001b[0m\u001b[0m\n\u001b[0m\u001b[0;32m     38\u001b[0m         \u001b[0mtemp_wall\u001b[0m \u001b[1;33m=\u001b[0m \u001b[0mwalls\u001b[0m\u001b[1;33m.\u001b[0m\u001b[0mcopy\u001b[0m\u001b[1;33m(\u001b[0m\u001b[1;33m)\u001b[0m\u001b[1;33m\u001b[0m\u001b[1;33m\u001b[0m\u001b[0m\n\u001b[0;32m     39\u001b[0m         \u001b[0mtemp_wall\u001b[0m\u001b[1;33m.\u001b[0m\u001b[0mextend\u001b[0m\u001b[1;33m(\u001b[0m\u001b[0madd_walls\u001b[0m\u001b[1;33m)\u001b[0m\u001b[1;33m\u001b[0m\u001b[1;33m\u001b[0m\u001b[0m\n",
      "\u001b[1;31mNameError\u001b[0m: name 'combinations' is not defined"
     ]
    }
   ],
   "source": [
    "N, M = map(int, input().split())\n",
    "virus = []\n",
    "walls = []\n",
    "spaces = []\n",
    "for i in range(N):\n",
    "    for j, v in enumerate(input().split()):\n",
    "        if int(v) == 2:\n",
    "            virus.append((i, j))\n",
    "        elif int(v) == 1:\n",
    "            walls.append((i, j))\n",
    "        else:\n",
    "            spaces.append((i, j))"
   ]
  },
  {
   "cell_type": "code",
   "execution_count": 18,
   "metadata": {},
   "outputs": [],
   "source": []
  },
  {
   "cell_type": "code",
   "execution_count": 90,
   "metadata": {},
   "outputs": [],
   "source": [
    "N, M = 4, 6\n",
    "maps = '''0 0 0 0 0 0\n",
    "1 0 0 0 0 2\n",
    "1 1 1 0 0 2\n",
    "0 0 0 0 0 2'''"
   ]
  },
  {
   "cell_type": "code",
   "execution_count": 19,
   "metadata": {},
   "outputs": [],
   "source": []
  },
  {
   "cell_type": "code",
   "execution_count": 16,
   "metadata": {
    "tags": []
   },
   "outputs": [
    {
     "output_type": "error",
     "ename": "TypeError",
     "evalue": "cannot unpack non-iterable int object",
     "traceback": [
      "\u001b[1;31m---------------------------------------------------------------------------\u001b[0m",
      "\u001b[1;31mTypeError\u001b[0m                                 Traceback (most recent call last)",
      "\u001b[1;32m<ipython-input-16-596ae2108d90>\u001b[0m in \u001b[0;36m<module>\u001b[1;34m\u001b[0m\n\u001b[0;32m      4\u001b[0m \u001b[0mspaces\u001b[0m \u001b[1;33m=\u001b[0m \u001b[1;33m[\u001b[0m\u001b[1;33m]\u001b[0m\u001b[1;33m\u001b[0m\u001b[1;33m\u001b[0m\u001b[0m\n\u001b[0;32m      5\u001b[0m \u001b[0mgraph\u001b[0m \u001b[1;33m=\u001b[0m \u001b[1;33m[\u001b[0m\u001b[1;33m]\u001b[0m\u001b[1;33m\u001b[0m\u001b[1;33m\u001b[0m\u001b[0m\n\u001b[1;32m----> 6\u001b[1;33m \u001b[1;32mfor\u001b[0m \u001b[0mi\u001b[0m\u001b[1;33m,\u001b[0m \u001b[0mrow\u001b[0m \u001b[1;32min\u001b[0m \u001b[0mrange\u001b[0m\u001b[1;33m(\u001b[0m\u001b[0mN\u001b[0m\u001b[1;33m)\u001b[0m\u001b[1;33m:\u001b[0m\u001b[1;33m\u001b[0m\u001b[1;33m\u001b[0m\u001b[0m\n\u001b[0m\u001b[0;32m      7\u001b[0m     \u001b[0mgraph\u001b[0m\u001b[1;33m.\u001b[0m\u001b[0mappend\u001b[0m\u001b[1;33m(\u001b[0m\u001b[0mlist\u001b[0m\u001b[1;33m(\u001b[0m\u001b[0mmap\u001b[0m\u001b[1;33m(\u001b[0m\u001b[0mint\u001b[0m\u001b[1;33m,\u001b[0m \u001b[0minput\u001b[0m\u001b[1;33m(\u001b[0m\u001b[1;33m)\u001b[0m\u001b[1;33m.\u001b[0m\u001b[0msplit\u001b[0m\u001b[1;33m(\u001b[0m\u001b[1;33m)\u001b[0m\u001b[1;33m)\u001b[0m\u001b[1;33m)\u001b[0m\u001b[1;33m)\u001b[0m\u001b[1;33m\u001b[0m\u001b[1;33m\u001b[0m\u001b[0m\n\u001b[0;32m      8\u001b[0m     \u001b[1;32mfor\u001b[0m \u001b[0mj\u001b[0m\u001b[1;33m,\u001b[0m \u001b[0mv\u001b[0m \u001b[1;32min\u001b[0m \u001b[0menumerate\u001b[0m\u001b[1;33m(\u001b[0m\u001b[0mgraph\u001b[0m\u001b[1;33m[\u001b[0m\u001b[0mi\u001b[0m\u001b[1;33m]\u001b[0m\u001b[1;33m)\u001b[0m\u001b[1;33m:\u001b[0m\u001b[1;33m\u001b[0m\u001b[1;33m\u001b[0m\u001b[0m\n",
      "\u001b[1;31mTypeError\u001b[0m: cannot unpack non-iterable int object"
     ]
    }
   ],
   "source": [
    "N, M = map(int, input().split())\n",
    "virus = []\n",
    "walls = []\n",
    "spaces = []\n",
    "graph = []\n",
    "for i in range(N):\n",
    "    graph.append(list(map(int, input().split())))\n",
    "    for j, v in enumerate(graph[i]):\n",
    "        if int(v) == 2:\n",
    "            virus.append((i, j))\n",
    "        elif int(v) == 1:\n",
    "            walls.append((i, j))\n",
    "        else:\n",
    "            spaces.append((i, j))\n",
    "\n",
    "from itertools import combinations\n",
    "from collections import deque\n",
    "\n",
    "# bfs 확산\n",
    "FOUR_DIR = [(-1,0),(0,1), (0,-1), (1,0)]\n",
    "\n",
    "data = []\n",
    "temp = []\n",
    "def spread(temp_virus, temp_graph):\n",
    "    q = deque()\n",
    "    len_virus = len(temp_virus)\n",
    "    for v in temp_virus:\n",
    "        q.append(v)\n",
    "    while q:\n",
    "        i, j = q.popleft()\n",
    "        for d_i, d_j in FOUR_DIR:\n",
    "            next_i, next_j = i+d_i, j+d_j\n",
    "            if 0 > next_i or next_i >= N or next_j < 0 or next_j >= M:\n",
    "                continue\n",
    "            else:\n",
    "                if temp_graph[next_i][next_j] == 0:\n",
    "                    temp_graph[next_i][next_j] = 2\n",
    "                    len_virus += 1\n",
    "                    q.append((next_i, next_j))\n",
    "    return len_virus\n",
    "\n",
    "def solution(N, M, virus, walls, graph, spaces):\n",
    "    answer = 0\n",
    "    temp = [[0]*M for _ in range(N)]\n",
    "    for add_walls in combinations(spaces, 3):\n",
    "        for i in range(N):\n",
    "            for j in range(M):\n",
    "                temp[i][j] = graph[i][j]\n",
    "        for i, j in add_walls:\n",
    "            temp[i][j] = 1\n",
    "            \n",
    "        result = N * M - spread(virus, temp) - len(walls) - 3\n",
    "        answer = max(result, answer)\n",
    "    \n",
    "    print(answer)\n",
    "\n",
    "solution(N, M, virus, walls, graph, spaces)"
   ]
  },
  {
   "cell_type": "code",
   "execution_count": null,
   "metadata": {},
   "outputs": [],
   "source": []
  },
  {
   "cell_type": "code",
   "execution_count": 10,
   "metadata": {},
   "outputs": [
    {
     "output_type": "stream",
     "name": "stdout",
     "text": [
      "27\n"
     ]
    }
   ],
   "source": [
    "N, M = map(int, input().split())\n",
    "\n",
    "data = []\n",
    "temp = [[0] * M for _ in range(N)]\n",
    "\n",
    "for _ in range(N):\n",
    "    data.append(list(map(int, input().split())))\n",
    "\n",
    "FOUR_DIR = [(-1, 0), (0, 1), (0, -1), (1, 0)]\n",
    "\n",
    "result = 0\n",
    "\n",
    "def virus(i, j):\n",
    "    for d_i, d_j in FOUR_DIR:\n",
    "        n_i, n_j = i+d_i, j+d_j\n",
    "        if n_i >= 0 and n_i < N and 0 <= n_j and n_j < M:\n",
    "            if temp[n_i][n_j] == 0:\n",
    "                temp[n_i][n_j] = 2\n",
    "                virus(n_i, n_j)\n",
    "\n",
    "def get_score():\n",
    "    score = 0\n",
    "    for i in range(N):\n",
    "        for j in range(M):\n",
    "            if temp[i][j] == 0:\n",
    "                score += 1\n",
    "    return score\n",
    "\n",
    "def dfs(count):\n",
    "    global result\n",
    "\n",
    "    if count == 3:\n",
    "        for i in range(N):\n",
    "            for j in range(M):\n",
    "                temp[i][j] = data[i][j]\n",
    "        \n",
    "        for i in range(N):\n",
    "            for j in range(M):\n",
    "                if temp[i][j] == 2:\n",
    "                    virus(i, j)\n",
    "        \n",
    "        result = max(result, get_score())\n",
    "        return\n",
    "    \n",
    "    for i in range(N):\n",
    "        for j in range(M):\n",
    "            if data[i][j] == 0:\n",
    "                data[i][j] = 1\n",
    "                count+=1\n",
    "                dfs(count)\n",
    "                data[i][j] = 0\n",
    "                count -= 1\n",
    "    \n",
    "dfs(0)\n",
    "print(result)"
   ]
  },
  {
   "cell_type": "code",
   "execution_count": 1,
   "metadata": {},
   "outputs": [],
   "source": [
    "import heapq"
   ]
  },
  {
   "cell_type": "code",
   "execution_count": 4,
   "metadata": {},
   "outputs": [],
   "source": [
    "q = []"
   ]
  },
  {
   "cell_type": "code",
   "execution_count": 5,
   "metadata": {},
   "outputs": [],
   "source": [
    "heapq.heappush(q, (1, (2,3)))\n",
    "heapq.heappush(q, (1, (3,7)))\n",
    "heapq.heappush(q, (2, (5,8)))\n",
    "heapq.heappush(q, (7, (3,2)))\n"
   ]
  },
  {
   "cell_type": "code",
   "execution_count": 7,
   "metadata": {},
   "outputs": [
    {
     "output_type": "stream",
     "name": "stdout",
     "text": [
      "(1, (2, 3))\n(1, (3, 7))\n(2, (5, 8))\n(7, (3, 2))\n"
     ]
    }
   ],
   "source": [
    "for _ in range(len(q)):\n",
    "    print(heapq.heappop(q))"
   ]
  },
  {
   "cell_type": "code",
   "execution_count": null,
   "metadata": {},
   "outputs": [],
   "source": []
  },
  {
   "cell_type": "code",
   "execution_count": 14,
   "metadata": {},
   "outputs": [
    {
     "output_type": "error",
     "ename": "NameError",
     "evalue": "name 'j_dy' is not defined",
     "traceback": [
      "\u001b[1;31m---------------------------------------------------------------------------\u001b[0m",
      "\u001b[1;31mNameError\u001b[0m                                 Traceback (most recent call last)",
      "\u001b[1;32m<ipython-input-14-ecfc10a11e45>\u001b[0m in \u001b[0;36m<module>\u001b[1;34m\u001b[0m\n\u001b[0;32m     29\u001b[0m     \u001b[0mprint\u001b[0m\u001b[1;33m(\u001b[0m\u001b[0mdata\u001b[0m\u001b[1;33m[\u001b[0m\u001b[0mX\u001b[0m\u001b[1;33m-\u001b[0m\u001b[1;36m1\u001b[0m\u001b[1;33m]\u001b[0m\u001b[1;33m[\u001b[0m\u001b[0mY\u001b[0m\u001b[1;33m-\u001b[0m\u001b[1;36m1\u001b[0m\u001b[1;33m]\u001b[0m\u001b[1;33m)\u001b[0m\u001b[1;33m\u001b[0m\u001b[1;33m\u001b[0m\u001b[0m\n\u001b[0;32m     30\u001b[0m \u001b[1;33m\u001b[0m\u001b[0m\n\u001b[1;32m---> 31\u001b[1;33m \u001b[0msolution\u001b[0m\u001b[1;33m(\u001b[0m\u001b[0mN\u001b[0m\u001b[1;33m,\u001b[0m \u001b[0mS\u001b[0m\u001b[1;33m,\u001b[0m \u001b[0mvirus\u001b[0m\u001b[1;33m,\u001b[0m \u001b[0mdata\u001b[0m\u001b[1;33m,\u001b[0m \u001b[0mK\u001b[0m\u001b[1;33m,\u001b[0m \u001b[0mX\u001b[0m\u001b[1;33m,\u001b[0m \u001b[0mY\u001b[0m\u001b[1;33m)\u001b[0m\u001b[1;33m\u001b[0m\u001b[1;33m\u001b[0m\u001b[0m\n\u001b[0m",
      "\u001b[1;32m<ipython-input-14-ecfc10a11e45>\u001b[0m in \u001b[0;36msolution\u001b[1;34m(N, S, virus, data, K, X, Y)\u001b[0m\n\u001b[0;32m     18\u001b[0m                 \u001b[0mi\u001b[0m\u001b[1;33m,\u001b[0m \u001b[0mj\u001b[0m \u001b[1;33m=\u001b[0m \u001b[0mvirus\u001b[0m\u001b[1;33m[\u001b[0m\u001b[0mv_num\u001b[0m\u001b[1;33m]\u001b[0m\u001b[1;33m[\u001b[0m\u001b[0midx\u001b[0m\u001b[1;33m]\u001b[0m\u001b[1;33m\u001b[0m\u001b[1;33m\u001b[0m\u001b[0m\n\u001b[0;32m     19\u001b[0m                 \u001b[1;32mfor\u001b[0m \u001b[0mdx\u001b[0m\u001b[1;33m,\u001b[0m \u001b[0mdy\u001b[0m \u001b[1;32min\u001b[0m \u001b[0mFOUR_DIR\u001b[0m\u001b[1;33m:\u001b[0m\u001b[1;33m\u001b[0m\u001b[1;33m\u001b[0m\u001b[0m\n\u001b[1;32m---> 20\u001b[1;33m                     \u001b[0mnx\u001b[0m\u001b[1;33m,\u001b[0m \u001b[0mny\u001b[0m \u001b[1;33m=\u001b[0m \u001b[0mi\u001b[0m\u001b[1;33m+\u001b[0m\u001b[0mdx\u001b[0m\u001b[1;33m,\u001b[0m \u001b[0mj_dy\u001b[0m\u001b[1;33m\u001b[0m\u001b[1;33m\u001b[0m\u001b[0m\n\u001b[0m\u001b[0;32m     21\u001b[0m                     \u001b[1;32mif\u001b[0m \u001b[0mnx\u001b[0m \u001b[1;33m>=\u001b[0m \u001b[1;36m0\u001b[0m \u001b[1;32mand\u001b[0m \u001b[0mnx\u001b[0m \u001b[1;33m<\u001b[0m \u001b[0mN\u001b[0m \u001b[1;32mand\u001b[0m \u001b[0mny\u001b[0m \u001b[1;33m>=\u001b[0m \u001b[1;36m0\u001b[0m \u001b[1;32mand\u001b[0m \u001b[0mny\u001b[0m \u001b[1;33m<\u001b[0m \u001b[0mN\u001b[0m\u001b[1;33m:\u001b[0m\u001b[1;33m\u001b[0m\u001b[1;33m\u001b[0m\u001b[0m\n\u001b[0;32m     22\u001b[0m                         \u001b[1;32mif\u001b[0m \u001b[0mnx\u001b[0m \u001b[1;33m==\u001b[0m \u001b[0mX\u001b[0m\u001b[1;33m-\u001b[0m\u001b[1;36m1\u001b[0m \u001b[1;32mand\u001b[0m \u001b[0mny\u001b[0m \u001b[1;33m==\u001b[0m \u001b[0mY\u001b[0m\u001b[1;33m-\u001b[0m\u001b[1;36m1\u001b[0m\u001b[1;33m:\u001b[0m\u001b[1;33m\u001b[0m\u001b[1;33m\u001b[0m\u001b[0m\n",
      "\u001b[1;31mNameError\u001b[0m: name 'j_dy' is not defined"
     ]
    }
   ],
   "source": [
    "N, K = map(int, input().split())\n",
    "data = []\n",
    "virus = [[] for _ in range(K+1)]\n",
    "for i in range(N):\n",
    "    data.append(list(map(int, input().split())))\n",
    "    for j, v in enumerate(data[i]):\n",
    "        if v != 0:\n",
    "            virus[v].append((i, j))\n",
    "\n",
    "S, X, Y = map(int, input().split())\n",
    "\n",
    "\n",
    "def solution(N, S, virus, data, K, X, Y):\n",
    "    FOUR_DIR = [(0,1), (0,-1), (1,0), (-1,0)]\n",
    "    for _ in range(S):\n",
    "        for v_num in range(1, K+1):\n",
    "            for idx in range(len(virus[v_num])):\n",
    "                i, j = virus[v_num][idx]\n",
    "                for dx, dy in FOUR_DIR:\n",
    "                    nx, ny = i+dx, j+dy\n",
    "                    if nx >= 0 and nx < N and ny >= 0 and ny < N:\n",
    "                        if nx == X-1 and ny == Y-1:\n",
    "                            print(v_num)\n",
    "                            return\n",
    "                        if data[nx][ny] == 0:\n",
    "                            data[nx][ny] = v_num\n",
    "                            virus[v_num].append((nx, ny))\n",
    "                    \n",
    "    print(data[X-1][Y-1])\n",
    "\n",
    "solution(N, S, virus, data, K, X, Y)"
   ]
  },
  {
   "cell_type": "code",
   "execution_count": 58,
   "metadata": {},
   "outputs": [],
   "source": [
    "def check_word(word):\n",
    "    lt = 0\n",
    "    rt = 0\n",
    "    for w in word:\n",
    "        if w == '(':\n",
    "            lt += 1\n",
    "        else:\n",
    "            rt += 1\n",
    "        if rt > lt:\n",
    "            return False\n",
    "    return True\n",
    "\n",
    "def change_word(word):\n",
    "    global result\n",
    "    if word == '':\n",
    "        return\n",
    "\n",
    "    lt = 0\n",
    "    rt = 0\n",
    "    for i, w in enumerate(word):\n",
    "        if w == '(':\n",
    "            lt+=1\n",
    "        else:\n",
    "            rt+=1\n",
    "        if lt==rt:\n",
    "            break\n",
    "    \n",
    "    u = word[:i+1]\n",
    "    try:\n",
    "        v = word[i+1:]\n",
    "    except: \n",
    "        v = ''\n",
    "    if check_word(u):\n",
    "        result+=u\n",
    "        change_word(v)\n",
    "    else:\n",
    "        result+='('\n",
    "        change_word(v)\n",
    "        result+=')'\n",
    "        for w in u[1:-1]:\n",
    "            if w == '(':\n",
    "                result+=')'\n",
    "            else:\n",
    "                result+='('\n",
    "\n",
    "def solution(p):\n",
    "    global result\n",
    "    change_word(p)\n",
    "    return result"
   ]
  },
  {
   "cell_type": "code",
   "execution_count": 59,
   "metadata": {},
   "outputs": [
    {
     "output_type": "stream",
     "name": "stdout",
     "text": [
      "() ))((()\n))(( ()\n() \n"
     ]
    },
    {
     "output_type": "execute_result",
     "data": {
      "text/plain": [
       "'()(())()'"
      ]
     },
     "metadata": {},
     "execution_count": 59
    }
   ],
   "source": [
    "result = ''\n",
    "solution('()))((()')"
   ]
  },
  {
   "cell_type": "code",
   "execution_count": null,
   "metadata": {},
   "outputs": [],
   "source": []
  },
  {
   "cell_type": "code",
   "execution_count": 61,
   "metadata": {},
   "outputs": [
    {
     "output_type": "execute_result",
     "data": {
      "text/plain": [
       "1"
      ]
     },
     "metadata": {},
     "execution_count": 61
    }
   ],
   "source": [
    "-5//-3"
   ]
  },
  {
   "cell_type": "code",
   "execution_count": 79,
   "metadata": {},
   "outputs": [
    {
     "output_type": "execute_result",
     "data": {
      "text/plain": [
       "2"
      ]
     },
     "metadata": {},
     "execution_count": 79
    }
   ],
   "source": [
    "6//3"
   ]
  },
  {
   "cell_type": "code",
   "execution_count": 90,
   "metadata": {},
   "outputs": [
    {
     "output_type": "stream",
     "name": "stdout",
     "text": [
      "54\n-24\n"
     ]
    }
   ],
   "source": [
    "N = int(input())\n",
    "numbers = list(map(int, input().split()))\n",
    "cals = list(map(int, input().split()))\n",
    "\n",
    "max_answer = -int(1e9)\n",
    "min_answer = int(1e9)\n",
    "\n",
    "CALCULATOR = ['+','-','*', '/']\n",
    "\n",
    "def calcul(a, b, e):\n",
    "    if e == '+':\n",
    "        return a+b\n",
    "    elif e == '-':\n",
    "        return a-b\n",
    "    elif e == '*':\n",
    "        return a*b\n",
    "    else:\n",
    "        return int(a/b)\n",
    "\n",
    "def dfs(this_idx, numbers, temp_cal, temp_answer):\n",
    "    global max_answer\n",
    "    global min_answer\n",
    "    if sum(temp_cal) == 0:\n",
    "        max_answer = max(max_answer, temp_answer)\n",
    "        min_answer = min(min_answer, temp_answer)\n",
    "    else:\n",
    "        for i, c in enumerate(temp_cal):\n",
    "            if c != 0:\n",
    "                temp_cal[i] -= 1\n",
    "                temp = calcul(temp_answer, numbers[this_idx], CALCULATOR[i])\n",
    "                dfs(this_idx+1, numbers, temp_cal, temp)\n",
    "                temp_cal[i] += 1\n",
    "\n",
    "dfs(1, numbers, cals, numbers[0])\n",
    "\n",
    "print(max_answer)\n",
    "print(min_answer)"
   ]
  },
  {
   "cell_type": "code",
   "execution_count": 88,
   "metadata": {},
   "outputs": [
    {
     "output_type": "stream",
     "name": "stdout",
     "text": [
      "54\n-24\n"
     ]
    }
   ],
   "source": []
  },
  {
   "cell_type": "code",
   "execution_count": 120,
   "metadata": {
    "tags": []
   },
   "outputs": [],
   "source": []
  },
  {
   "cell_type": "code",
   "execution_count": 121,
   "metadata": {},
   "outputs": [
    {
     "output_type": "stream",
     "name": "stdout",
     "text": [
      "YES\n"
     ]
    }
   ],
   "source": [
    "N = int(input())\n",
    "data = []\n",
    "teachers = []\n",
    "for i in range(N):\n",
    "    data.append(list(input().split()))\n",
    "    for j, v in enumerate(data[i]):\n",
    "        if v == 'T':\n",
    "            teachers.append((i,j))\n",
    "\n",
    "FOUR_DIR = [(0,1), (1,0), (0,-1), (-1,0)]\n",
    "\n",
    "temp = [['X'] * N for _ in range(N)]\n",
    "for i in range(N):\n",
    "    for j in range(N):\n",
    "        temp[i][j] = data[i][j]\n",
    "\n",
    "answer = False\n",
    "\n",
    "def dfs(count, temp):\n",
    "    global answer\n",
    "    if count == 3:\n",
    "        s_count = 3\n",
    "        for ti, tj in teachers:\n",
    "            for dx, dy in FOUR_DIR:\n",
    "                nx, ny = ti+dx, tj+dy\n",
    "                while nx >= 0 and nx < N and ny >= 0 and ny < N:\n",
    "                    if temp[nx][ny] == 'W':\n",
    "                        break\n",
    "                    if temp[nx][ny] == 'S':\n",
    "                        s_count -= 1\n",
    "                        return\n",
    "                    nx+=dx\n",
    "                    ny+=dy\n",
    "        if s_count == 3:\n",
    "            answer = True\n",
    "    else:\n",
    "        for i in range(N):\n",
    "            for j in range(N):\n",
    "                if temp[i][j] == 'X':\n",
    "                    temp[i][j] = 'W'\n",
    "                    dfs(count+1, temp)\n",
    "                    temp[i][j] = 'X'\n",
    "\n",
    "dfs(0, data)\n",
    "\n",
    "if answer:\n",
    "    print('YES')\n",
    "else:\n",
    "    print('NO')"
   ]
  },
  {
   "cell_type": "code",
   "execution_count": null,
   "metadata": {},
   "outputs": [],
   "source": []
  },
  {
   "cell_type": "code",
   "execution_count": 104,
   "metadata": {},
   "outputs": [
    {
     "output_type": "execute_result",
     "data": {
      "text/plain": [
       "[['S', 'S', 'S', 'T'],\n",
       " ['X', 'X', 'X', 'X'],\n",
       " ['X', 'X', 'X', 'X'],\n",
       " ['T', 'T', 'T', 'X']]"
      ]
     },
     "metadata": {},
     "execution_count": 104
    }
   ],
   "source": [
    "temp"
   ]
  },
  {
   "cell_type": "code",
   "execution_count": null,
   "metadata": {},
   "outputs": [],
   "source": []
  },
  {
   "cell_type": "code",
   "execution_count": 37,
   "metadata": {
    "tags": []
   },
   "outputs": [
    {
     "output_type": "stream",
     "name": "stdout",
     "text": [
      "deque([[1, 2]])\ndeque([[1, 3]])\ndeque([[1, 3], [1, 1]])\ndeque([[1, 3], [1, 1], [2, 2]])\ndeque([[1, 1], [2, 2], [2, 3]])\ndeque([[1, 1], [2, 2], [2, 3], [0, 3]])\ndeque([[2, 2], [2, 3], [0, 3], [1, 0]])\ndeque([[2, 3], [0, 3], [1, 0], [2, 1]])\ndeque([[0, 3], [1, 0], [2, 1], [3, 3]])\ndeque([[2, 1], [3, 3], [2, 0]])\ndeque([[3, 0]])\ndeque([[3, 1]])\ndeque([[1, 0]])\ndeque([[0, 2]])\ndeque([[0, 2], [1, 1]])\ndeque([[3, 2]])\ndeque([[3, 3]])\ndeque([[3, 3], [3, 1]])\ndeque([[0, 1]])\ndeque([[0, 3]])\ndeque([[0, 3], [1, 2]])\ndeque([[1, 1]])\ndeque([[1, 1], [2, 2]])\ndeque([[2, 2], [1, 0]])\ndeque([[2, 2], [1, 0], [2, 1]])\ndeque([[1, 0], [2, 1], [2, 3]])\ndeque([[2, 1], [2, 3], [2, 0]])\ndeque([[2, 3], [2, 0], [3, 1]])\ndeque([[2, 0], [3, 1], [3, 3]])\ndeque([[3, 3], [3, 0]])\n3\n"
     ]
    }
   ],
   "source": [
    "N, L, R = map(int, input().split())\n",
    "data = []\n",
    "for _ in range(N):\n",
    "    data.append(list(map(int, input().split())))\n",
    "\n",
    "FOUR_DIR = [(0,1), (0,-1), (1,0), (-1,0)]\n",
    "\n",
    "from collections import deque\n",
    "\n",
    "def bfs(i, j):\n",
    "    united = [(i, j)]\n",
    "    q = deque()\n",
    "    q.append((i, j))\n",
    "    popul = data[i][j]\n",
    "    length = 1\n",
    "    while q:\n",
    "        x, y = q.popleft()\n",
    "        for dx, dy in FOUR_DIR:\n",
    "            nx, ny = x+dx, y+dy\n",
    "            if 0 <= nx < N and 0 <= ny < N and union[nx][ny] == -1:\n",
    "                if  L<= abs(data[nx][ny]-data[x][y]) <=R:\n",
    "                    union[nx][ny] = 0\n",
    "                    popul += data[nx][ny]\n",
    "                    length += 1\n",
    "                    q.append([nx, ny])\n",
    "                    united.append([nx,ny])\n",
    "    for a, b in united:\n",
    "        data[a][b] = popul//length\n",
    "\n",
    "answer = 0\n",
    "\n",
    "while True:\n",
    "    union = [[-1] * N for _ in range(N)]\n",
    "    index = 0\n",
    "    for i in range(N):\n",
    "        for j in range(N):\n",
    "            if union[i][j] == -1:\n",
    "                union[i][j] = 0\n",
    "                bfs(i, j)\n",
    "                index+=1\n",
    "\n",
    "    if index == N*N:\n",
    "        break\n",
    "    \n",
    "    answer += 1\n",
    "\n",
    "print(answer)"
   ]
  },
  {
   "cell_type": "code",
   "execution_count": null,
   "metadata": {},
   "outputs": [],
   "source": []
  },
  {
   "cell_type": "code",
   "execution_count": null,
   "metadata": {},
   "outputs": [],
   "source": []
  },
  {
   "cell_type": "code",
   "execution_count": null,
   "metadata": {},
   "outputs": [],
   "source": []
  },
  {
   "cell_type": "code",
   "execution_count": 85,
   "metadata": {},
   "outputs": [],
   "source": [
    "FOUR_DIR = [(0,1), (1,0), (-1,0), (0,-1)] # 왼쪽, 위로 가는 경우는 더 오래걸리므로 제외\n",
    "\n",
    "answer = int(1e9)\n",
    "# i 가로 j 세로\n",
    "def dfs(robot, graph, N, count):\n",
    "    global answer\n",
    "    (i1, j1), (i2, j2) = robot\n",
    "    # 이동 먼저\n",
    "    for dx, dy in FOUR_DIR:\n",
    "        n1x, n1y = i1+dx, j1+dy\n",
    "        n2x, n2y = i2+dx, j2+dy\n",
    "        if 0 <= n1x and n1x < N and 0 <= n1y and n1y < N and 0 <= n2x and n2x < N and 0 <= n2y and n2y < N:\n",
    "            if graph[n1x][n1y] == 0 or graph[n2x][n2y] == 0:\n",
    "                if graph[n1x][n1y] == 1 or graph[n2x][n2y] == 1:\n",
    "                    pass\n",
    "                else:\n",
    "                    if (n2x, n2y) == (N-1, N-1):\n",
    "                        answer = min(answer, count+1)\n",
    "                    else:\n",
    "                        graph[n1x][n1y] = 2\n",
    "                        graph[n2x][n2y] = 2\n",
    "                        dfs([(n1x, n1y), (n2x, n2y)], graph, N, count+1)\n",
    "                        graph[n1x][n1y] = 0\n",
    "                        graph[n2x][n2y] = 0\n",
    "    # 회전 (가로일 땐 좌우 순, 세로일 땐 위 아래 순) (둘 중 큰 좌표가 뒤로)\n",
    "    if i1 == i2: # 가로로 있을 때\n",
    "        # 왼쪽 날개 접기\n",
    "        if i1+1 < N:\n",
    "            if graph[i1+1][j1] == 0: # 벽이 아닐 경우\n",
    "                if (i1+1, j1+1) == (N-1, N-1):\n",
    "                    answer = min(answer, count+1)\n",
    "                else:\n",
    "                    graph[i1+1][j1+1] = 2\n",
    "                    dfs([(i2, j2), (i1+1, j1+1)], graph, N, count+1)\n",
    "                    graph[i1+1][j1+1] = 0\n",
    "        # 오른쪽 날개 접기\n",
    "        if i2+1 < N:\n",
    "            if graph[i2+1][j2] == 0: # 벽이 아닐 경우\n",
    "                # if (i2+1, j1-1) == (N-1, N-1): 이거일리는 없음\n",
    "                #     answer = min(answer, count) \n",
    "                graph[i2+1][j2-1] = 2\n",
    "                dfs([(i1, j1), (i2+1, j2-1)], graph, N, count+1)\n",
    "                graph[i2+1][j2-1] = 0\n",
    "    else: # 세로로 있을 때\n",
    "        # 위를 왼쪽으로\n",
    "        if j1-1 >= 0 :\n",
    "            if graph[i1][j1-1] == 0:\n",
    "                graph[i1+1][j1-1] = 2\n",
    "                dfs([(i1+1, j1-1), (i2, j2)], graph, N, count+1)\n",
    "                graph[i1+1][j1-1] = 0\n",
    "        \n",
    "        # 위를 오른쪽으로\n",
    "        if j1+1 < N:\n",
    "            if graph[i1][j1+1] == 0:\n",
    "                if (i1+1, j1+1) == (N-1, N-1):\n",
    "                    answer = min(answer, count+1)\n",
    "                else:\n",
    "                    graph[i1+1][j1+1] = 2\n",
    "                    dfs([(i2, j2), (i1+1, j1+1)], graph, N, count+1)\n",
    "                    graph[i1+1][j1+1] = 0\n",
    "\n",
    "def solution(board):\n",
    "    global answer\n",
    "    N = len(board)\n",
    "    \n",
    "    board[0][0] = 2\n",
    "    board[0][1] = 2\n",
    "    dfs([(0,0), (0,1)], board, N, 0)\n",
    "    return answer"
   ]
  },
  {
   "cell_type": "code",
   "execution_count": 94,
   "metadata": {
    "tags": []
   },
   "outputs": [
    {
     "output_type": "error",
     "ename": "NameError",
     "evalue": "name 'po1_y' is not defined",
     "traceback": [
      "\u001b[1;31m---------------------------------------------------------------------------\u001b[0m",
      "\u001b[1;31mNameError\u001b[0m                                 Traceback (most recent call last)",
      "\u001b[1;32m<ipython-input-94-1926b4bc5cf7>\u001b[0m in \u001b[0;36m<module>\u001b[1;34m\u001b[0m\n\u001b[1;32m----> 1\u001b[1;33m \u001b[0msolution\u001b[0m\u001b[1;33m(\u001b[0m\u001b[1;33m[\u001b[0m\u001b[1;33m[\u001b[0m\u001b[1;36m0\u001b[0m\u001b[1;33m,\u001b[0m\u001b[1;36m0\u001b[0m\u001b[1;33m,\u001b[0m\u001b[1;36m0\u001b[0m\u001b[1;33m,\u001b[0m\u001b[1;36m1\u001b[0m\u001b[1;33m,\u001b[0m\u001b[1;36m1\u001b[0m\u001b[1;33m]\u001b[0m\u001b[1;33m,\u001b[0m \u001b[1;33m[\u001b[0m\u001b[1;36m0\u001b[0m\u001b[1;33m,\u001b[0m\u001b[1;36m0\u001b[0m\u001b[1;33m,\u001b[0m\u001b[1;36m0\u001b[0m\u001b[1;33m,\u001b[0m\u001b[1;36m1\u001b[0m\u001b[1;33m,\u001b[0m\u001b[1;36m0\u001b[0m\u001b[1;33m]\u001b[0m\u001b[1;33m,\u001b[0m \u001b[1;33m[\u001b[0m\u001b[1;36m0\u001b[0m\u001b[1;33m,\u001b[0m\u001b[1;36m1\u001b[0m\u001b[1;33m,\u001b[0m\u001b[1;36m0\u001b[0m\u001b[1;33m,\u001b[0m\u001b[1;36m1\u001b[0m\u001b[1;33m,\u001b[0m\u001b[1;36m1\u001b[0m\u001b[1;33m]\u001b[0m\u001b[1;33m,\u001b[0m \u001b[1;33m[\u001b[0m\u001b[1;36m1\u001b[0m\u001b[1;33m,\u001b[0m\u001b[1;36m1\u001b[0m\u001b[1;33m,\u001b[0m\u001b[1;36m0\u001b[0m\u001b[1;33m,\u001b[0m\u001b[1;36m0\u001b[0m\u001b[1;33m,\u001b[0m\u001b[1;36m1\u001b[0m\u001b[1;33m]\u001b[0m\u001b[1;33m,\u001b[0m \u001b[1;33m[\u001b[0m\u001b[1;36m0\u001b[0m\u001b[1;33m,\u001b[0m\u001b[1;36m0\u001b[0m\u001b[1;33m,\u001b[0m\u001b[1;36m0\u001b[0m\u001b[1;33m,\u001b[0m\u001b[1;36m0\u001b[0m\u001b[1;33m,\u001b[0m\u001b[1;36m0\u001b[0m\u001b[1;33m]\u001b[0m\u001b[1;33m]\u001b[0m\u001b[1;33m)\u001b[0m\u001b[1;33m\u001b[0m\u001b[1;33m\u001b[0m\u001b[0m\n\u001b[0m",
      "\u001b[1;32m<ipython-input-93-534f6bc4086b>\u001b[0m in \u001b[0;36msolution\u001b[1;34m(board)\u001b[0m\n\u001b[0;32m     38\u001b[0m         \u001b[1;32mif\u001b[0m \u001b[1;33m(\u001b[0m\u001b[0mn\u001b[0m\u001b[1;33m,\u001b[0m \u001b[0mn\u001b[0m\u001b[1;33m)\u001b[0m \u001b[1;32min\u001b[0m \u001b[0mpos\u001b[0m\u001b[1;33m:\u001b[0m\u001b[1;33m\u001b[0m\u001b[1;33m\u001b[0m\u001b[0m\n\u001b[0;32m     39\u001b[0m             \u001b[1;32mreturn\u001b[0m \u001b[0mcost\u001b[0m\u001b[1;33m\u001b[0m\u001b[1;33m\u001b[0m\u001b[0m\n\u001b[1;32m---> 40\u001b[1;33m         \u001b[1;32mfor\u001b[0m \u001b[0mnext_pos\u001b[0m \u001b[1;32min\u001b[0m \u001b[0mget_next_pos\u001b[0m\u001b[1;33m(\u001b[0m\u001b[0mpos\u001b[0m\u001b[1;33m,\u001b[0m \u001b[0mnew_board\u001b[0m\u001b[1;33m)\u001b[0m\u001b[1;33m:\u001b[0m\u001b[1;33m\u001b[0m\u001b[1;33m\u001b[0m\u001b[0m\n\u001b[0m\u001b[0;32m     41\u001b[0m             \u001b[1;32mif\u001b[0m \u001b[0mnext_pos\u001b[0m \u001b[1;32mnot\u001b[0m \u001b[1;32min\u001b[0m \u001b[0mvisited\u001b[0m\u001b[1;33m:\u001b[0m\u001b[1;33m\u001b[0m\u001b[1;33m\u001b[0m\u001b[0m\n\u001b[0;32m     42\u001b[0m                 \u001b[0mq\u001b[0m\u001b[1;33m.\u001b[0m\u001b[0mappend\u001b[0m\u001b[1;33m(\u001b[0m\u001b[1;33m(\u001b[0m\u001b[0mnext_pos\u001b[0m\u001b[1;33m,\u001b[0m \u001b[0mcost\u001b[0m\u001b[1;33m+\u001b[0m\u001b[1;36m1\u001b[0m\u001b[1;33m)\u001b[0m\u001b[1;33m)\u001b[0m\u001b[1;33m\u001b[0m\u001b[1;33m\u001b[0m\u001b[0m\n",
      "\u001b[1;32m<ipython-input-93-534f6bc4086b>\u001b[0m in \u001b[0;36mget_next_pos\u001b[1;34m(pos, board)\u001b[0m\n\u001b[0;32m      7\u001b[0m     \u001b[0mpos1_x\u001b[0m\u001b[1;33m,\u001b[0m \u001b[0mpos1_y\u001b[0m\u001b[1;33m,\u001b[0m \u001b[0mpos2_x\u001b[0m\u001b[1;33m,\u001b[0m \u001b[0mpos2_y\u001b[0m \u001b[1;33m=\u001b[0m \u001b[0mpos\u001b[0m\u001b[1;33m[\u001b[0m\u001b[1;36m0\u001b[0m\u001b[1;33m]\u001b[0m\u001b[1;33m[\u001b[0m\u001b[1;36m0\u001b[0m\u001b[1;33m]\u001b[0m\u001b[1;33m,\u001b[0m \u001b[0mpos\u001b[0m\u001b[1;33m[\u001b[0m\u001b[1;36m0\u001b[0m\u001b[1;33m]\u001b[0m\u001b[1;33m[\u001b[0m\u001b[1;36m1\u001b[0m\u001b[1;33m]\u001b[0m\u001b[1;33m,\u001b[0m \u001b[0mpos\u001b[0m\u001b[1;33m[\u001b[0m\u001b[1;36m1\u001b[0m\u001b[1;33m]\u001b[0m\u001b[1;33m[\u001b[0m\u001b[1;36m0\u001b[0m\u001b[1;33m]\u001b[0m\u001b[1;33m,\u001b[0m \u001b[0mpos\u001b[0m\u001b[1;33m[\u001b[0m\u001b[1;36m1\u001b[0m\u001b[1;33m]\u001b[0m\u001b[1;33m[\u001b[0m\u001b[1;36m1\u001b[0m\u001b[1;33m]\u001b[0m\u001b[1;33m\u001b[0m\u001b[1;33m\u001b[0m\u001b[0m\n\u001b[0;32m      8\u001b[0m     \u001b[1;32mfor\u001b[0m \u001b[0mdx\u001b[0m\u001b[1;33m,\u001b[0m \u001b[0mdy\u001b[0m \u001b[1;32min\u001b[0m \u001b[0mFOUR_DIR\u001b[0m\u001b[1;33m:\u001b[0m\u001b[1;33m\u001b[0m\u001b[1;33m\u001b[0m\u001b[0m\n\u001b[1;32m----> 9\u001b[1;33m         \u001b[0mn1_x\u001b[0m\u001b[1;33m,\u001b[0m \u001b[0mn1_y\u001b[0m\u001b[1;33m,\u001b[0m \u001b[0mn2_x\u001b[0m\u001b[1;33m,\u001b[0m \u001b[0mn2_y\u001b[0m \u001b[1;33m=\u001b[0m \u001b[0mpos1_x\u001b[0m\u001b[1;33m+\u001b[0m\u001b[0mdx\u001b[0m\u001b[1;33m,\u001b[0m \u001b[0mpo1_y\u001b[0m\u001b[1;33m+\u001b[0m\u001b[0mdy\u001b[0m\u001b[1;33m,\u001b[0m \u001b[0mpos2_x\u001b[0m\u001b[1;33m+\u001b[0m\u001b[0mdx\u001b[0m\u001b[1;33m,\u001b[0m \u001b[0mpos2_y\u001b[0m\u001b[1;33m+\u001b[0m\u001b[0mdy\u001b[0m\u001b[1;33m\u001b[0m\u001b[1;33m\u001b[0m\u001b[0m\n\u001b[0m\u001b[0;32m     10\u001b[0m         \u001b[1;32mif\u001b[0m \u001b[0mboard\u001b[0m\u001b[1;33m[\u001b[0m\u001b[0mn1_x\u001b[0m\u001b[1;33m]\u001b[0m\u001b[1;33m[\u001b[0m\u001b[0mn1_y\u001b[0m\u001b[1;33m]\u001b[0m \u001b[1;33m==\u001b[0m \u001b[1;36m0\u001b[0m \u001b[1;32mand\u001b[0m \u001b[0mboard\u001b[0m\u001b[1;33m[\u001b[0m\u001b[0mn2_x\u001b[0m\u001b[1;33m]\u001b[0m\u001b[1;33m[\u001b[0m\u001b[0mn2_y\u001b[0m\u001b[1;33m]\u001b[0m \u001b[1;33m==\u001b[0m \u001b[1;36m0\u001b[0m\u001b[1;33m:\u001b[0m\u001b[1;33m\u001b[0m\u001b[1;33m\u001b[0m\u001b[0m\n\u001b[0;32m     11\u001b[0m             \u001b[0mnext_pos\u001b[0m\u001b[1;33m.\u001b[0m\u001b[0mappend\u001b[0m\u001b[1;33m(\u001b[0m\u001b[1;33m{\u001b[0m\u001b[1;33m(\u001b[0m\u001b[0mn1_x\u001b[0m\u001b[1;33m,\u001b[0m \u001b[0mn1_y\u001b[0m\u001b[1;33m)\u001b[0m\u001b[1;33m,\u001b[0m \u001b[1;33m(\u001b[0m\u001b[0mn2_x\u001b[0m\u001b[1;33m,\u001b[0m \u001b[0mn2_y\u001b[0m\u001b[1;33m)\u001b[0m\u001b[1;33m}\u001b[0m\u001b[1;33m)\u001b[0m\u001b[1;33m\u001b[0m\u001b[1;33m\u001b[0m\u001b[0m\n",
      "\u001b[1;31mNameError\u001b[0m: name 'po1_y' is not defined"
     ]
    }
   ],
   "source": [
    "solution([[0,0,0,1,1], [0,0,0,1,0], [0,1,0,1,1], [1,1,0,0,1], [0,0,0,0,0]])"
   ]
  },
  {
   "cell_type": "code",
   "execution_count": 93,
   "metadata": {},
   "outputs": [],
   "source": [
    "from collections import deque\n",
    "\n",
    "FOUR_DIR = [(-1,0), (0,1), (0,-1), (1,0)]\n",
    "def get_next_pos(pos, board):\n",
    "    next_pos = []\n",
    "    pos = list(pos)\n",
    "    pos1_x, pos1_y, pos2_x, pos2_y = pos[0][0], pos[0][1], pos[1][0], pos[1][1]\n",
    "    for dx, dy in FOUR_DIR:\n",
    "        n1_x, n1_y, n2_x, n2_y = pos1_x+dx, pos1_y+dy, pos2_x+dx, pos2_y+dy\n",
    "        if board[n1_x][n1_y] == 0 and board[n2_x][n2_y] == 0:\n",
    "            next_pos.append({(n1_x, n1_y), (n2_x, n2_y)})\n",
    "    if pos1_x == pos2_x:\n",
    "        for i in [-1, 1]:\n",
    "            if board[pos1_x+i][pos1_y] == 0 and board[pos2_x+i][pos2_y] == 0:\n",
    "                next_pos.append({(pos1_x, pos1_y), (pos1_x+i, pos1_y)})\n",
    "                next_pos.append({(pos2_x, pos2_y), (pos2_x+i, pos2_y)})\n",
    "    elif pos1_y == pos2_y:\n",
    "        for i in [-1, 1]:\n",
    "            if board[pos1_x][pos1_y+i] == 0 and board[pos2_x][pos2_y+i] == 0:\n",
    "                next_pos.append({(pos1_x, pos1_y), (pos1_x, pos1_y+i)})\n",
    "                next_pos.append({(pos2_x, pos2_y), (pos2_x, pos2_y+i)})\n",
    "    return next_pos\n",
    "\n",
    "def solution(board):\n",
    "    n = len(board)\n",
    "    new_board = [[1]*(n+2) for _ in range(n+2)]\n",
    "    for i in range(n):\n",
    "        for j in range(n):\n",
    "            new_board[i+1][j+1] = board[i][j]\n",
    "            \n",
    "    q = deque()\n",
    "    visited=[]\n",
    "    pos = {(1,1), (1,2)}\n",
    "    q.append((pos, 0))\n",
    "    visited.append(pos)\n",
    "    while q:\n",
    "        pos, cost = q.popleft()\n",
    "        if (n, n) in pos:\n",
    "            return cost\n",
    "        for next_pos in get_next_pos(pos, new_board):\n",
    "            if next_pos not in visited:\n",
    "                q.append((next_pos, cost+1))\n",
    "                visited.append(next_pos)\n",
    "\n",
    "    return 0"
   ]
  },
  {
   "cell_type": "code",
   "execution_count": null,
   "metadata": {},
   "outputs": [],
   "source": []
  }
 ]
}