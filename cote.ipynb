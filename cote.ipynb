{
 "metadata": {
  "language_info": {
   "codemirror_mode": {
    "name": "ipython",
    "version": 3
   },
   "file_extension": ".py",
   "mimetype": "text/x-python",
   "name": "python",
   "nbconvert_exporter": "python",
   "pygments_lexer": "ipython3",
   "version": "3.7.6-final"
  },
  "orig_nbformat": 2,
  "kernelspec": {
   "name": "python_defaultSpec_1600259981105",
   "display_name": "Python 3.7.6 64-bit"
  }
 },
 "nbformat": 4,
 "nbformat_minor": 2,
 "cells": [
  {
   "cell_type": "markdown",
   "metadata": {},
   "source": [
    "# 코딩테스트 연습"
   ]
  },
  {
   "cell_type": "code",
   "execution_count": 5,
   "metadata": {},
   "outputs": [],
   "source": [
    "N = 5\n",
    "r = ['R','R','R','U','D','D']"
   ]
  },
  {
   "cell_type": "code",
   "execution_count": 32,
   "metadata": {},
   "outputs": [],
   "source": [
    "def sol(x, N):\n",
    "    temp = [0 for _ in range(N*N)]\n",
    "    count = 1\n",
    "    temp [0] = count\n",
    "    for d in x:\n",
    "        if d == 'R':\n",
    "            if temp.index(count) % N != N-1:\n",
    "                temp[temp.index(count)+1] = count + 1\n",
    "                temp[temp.index(count)] = 0\n",
    "                count += 1\n",
    "        elif d == 'U':\n",
    "            if temp.index(count) // N != 0:\n",
    "                temp[temp.index(count)-N] = count + 1\n",
    "                temp[temp.index(count)] = 0\n",
    "                count += 1\n",
    "        elif d == 'D':\n",
    "            if temp.index(count) // N != N-1:\n",
    "                temp[temp.index(count)+N] = count + 1\n",
    "                temp[temp.index(count)] = 0\n",
    "                count += 1\n",
    "        elif d == 'L':\n",
    "            if temp.index(count) % N != 0:\n",
    "                temp[temp.index(count) - 1] = count + 1\n",
    "                temp[temp.index(count)] = 0\n",
    "                count += 1\n",
    "\n",
    "    print(temp.index(count) // N + 1, temp.index(count) % N + 1)\n"
   ]
  },
  {
   "cell_type": "code",
   "execution_count": 33,
   "metadata": {
    "tags": []
   },
   "outputs": [
    {
     "output_type": "stream",
     "name": "stdout",
     "text": "3 4\n"
    }
   ],
   "source": [
    "sol(r, N)"
   ]
  },
  {
   "cell_type": "code",
   "execution_count": 82,
   "metadata": {},
   "outputs": [],
   "source": [
    "def sol(N):\n",
    "    count = 0\n",
    "    result = 0 \n",
    "    answer = []\n",
    "    for n in range(N+1):\n",
    "        for i in range(60):\n",
    "            for j in range(60):\n",
    "                if '3' in str(n)+str(i)+str(j):\n",
    "                    result += 1\n",
    "    return result\n",
    "    "
   ]
  },
  {
   "cell_type": "code",
   "execution_count": 83,
   "metadata": {
    "tags": []
   },
   "outputs": [
    {
     "output_type": "execute_result",
     "data": {
      "text/plain": "11475"
     },
     "metadata": {},
     "execution_count": 83
    }
   ],
   "source": [
    "sol(5)"
   ]
  },
  {
   "cell_type": "code",
   "execution_count": 118,
   "metadata": {},
   "outputs": [],
   "source": [
    "def sol(x):\n",
    "    temp = [chr(97+i)for i in range(8)]\n",
    "    a = temp.index(x[0])\n",
    "    b = int(x[1]) - 1\n",
    "    route = [(-2,-1), (-2, 1), (2, 1), (2, -1), (-1, 2), (-1, -2), (1, 2), (1, -2)]\n",
    "    answer = 0\n",
    "    for r in route:\n",
    "        if a + r[0] >= 0 and a +r[0] < 8 and b + r[1] >= 0 and b + r[1] < 8:\n",
    "            answer += 1\n",
    "    return answer"
   ]
  },
  {
   "cell_type": "code",
   "execution_count": 122,
   "metadata": {
    "tags": []
   },
   "outputs": [
    {
     "output_type": "execute_result",
     "data": {
      "text/plain": "8"
     },
     "metadata": {},
     "execution_count": 122
    }
   ],
   "source": [
    "sol('d5')"
   ]
  },
  {
   "cell_type": "code",
   "execution_count": 158,
   "metadata": {
    "tags": []
   },
   "outputs": [
    {
     "output_type": "stream",
     "name": "stdout",
     "text": "[[1, 1, 1, 1], [1, 0, 0, 1], [1, 1, 0, 1], [1, 1, 1, 1]]\n"
    }
   ],
   "source": [
    "\n",
    "print(s_map)"
   ]
  },
  {
   "cell_type": "code",
   "execution_count": 159,
   "metadata": {},
   "outputs": [],
   "source": [
    "s_map[0][0] = 1"
   ]
  },
  {
   "cell_type": "code",
   "execution_count": 191,
   "metadata": {},
   "outputs": [],
   "source": [
    "\n",
    "import itertools\n",
    "# 입력\n",
    "N, M = 4, 4\n",
    "A, B, d = 1, 1, 0\n",
    "c_dir = [(-1,0), (0,1), (1,0), (0,-1)]\n",
    "\n",
    "s_map = [\n",
    "    [1,1,1,1],\n",
    "    [1,0,0,1],\n",
    "    [1,1,0,1],\n",
    "    [1,1,1,1]\n",
    "]\n",
    "\n",
    "# 출력\n",
    "def sol(A,B,d):\n",
    "    count = 0\n",
    "    answer = 0\n",
    "    s_map[A][B] = 2\n",
    "    while True:\n",
    "        next_a = A + c_dir[d][0]\n",
    "        next_b = B + c_dir[d][1]\n",
    "        if next_a >= 0 and next_a < N and next_b >= 0 and next_b < N and s_map[next_a][next_b] == 0:\n",
    "            A = next_a\n",
    "            B = next_b\n",
    "            s_map[next_a][next_b] = 2\n",
    "            answer += 1\n",
    "            count = 0\n",
    "        else:\n",
    "            count += 1\n",
    "            if count == 4:\n",
    "                break\n",
    "\n",
    "        d -= 1\n",
    "        if d < 0:\n",
    "            d = 3\n",
    "\n",
    "    print(list(itertools.chain(*s_map)).count(2))\n",
    "\n"
   ]
  },
  {
   "cell_type": "code",
   "execution_count": 192,
   "metadata": {
    "tags": []
   },
   "outputs": [
    {
     "output_type": "stream",
     "name": "stdout",
     "text": "3\n"
    }
   ],
   "source": [
    "sol(A, B, d)"
   ]
  },
  {
   "cell_type": "code",
   "execution_count": 285,
   "metadata": {},
   "outputs": [],
   "source": [
    "N, M = 15,14 \n",
    "# 0 구멍뚫림 (아이스크림을 만들 수 있는 곳)\n",
    "# 1 안뚫림\n",
    "# 한번에 만들 수 있느 아이스크림 개수\n",
    "datas = [\n",
    "    '00000111100000',\n",
    "    '11111101111110',\n",
    "    '11011101101110',\n",
    "    '11011101100000',\n",
    "    '11011111111111',\n",
    "    '11011111111100',\n",
    "    '11000000011111',\n",
    "    '01111111111111',\n",
    "    '00000000011111',\n",
    "    '01111111111000',\n",
    "    '00011111111000',\n",
    "    '00000001111000',\n",
    "    '11111111110011',\n",
    "    '11100011111111',\n",
    "    '11100011111111'\n",
    "\n",
    "    # [0,0,1,1,0],    \n",
    "    # [0,0,0,1,1],   \n",
    "    # [1,1,1,1,1],  \n",
    "    # [0,0,0,0,0]    \n",
    "]\n",
    "\n",
    "temp = [(-1,0), (1,0), (0,1), (0,-1)]\n",
    "\n",
    "count = 0\n",
    "\n",
    "def coloring(graph, a, b):\n",
    "    for t in temp:\n",
    "        if a + t[0] >= 0 and a + t[0] < N and b + t[1] >= 0 and b + t[1] < M and graph[a + t[0]][b + t[1]] == 0:\n",
    "            graph[a + t[0]][b + t[1]] = 2\n",
    "            coloring(graph, a + t[0], b + t[1])\n",
    "\n",
    "\n",
    "def sol(graph):\n",
    "    global count\n",
    "    for i, g in enumerate(graph):\n",
    "        g = list(map(lambda i : int(i), list(g)))\n",
    "        graph [i] = g\n",
    "    for i, gr in enumerate(graph):\n",
    "        for j, g  in enumerate(gr):\n",
    "            if g == 0:\n",
    "                count += 1\n",
    "                graph[i][j] = 2\n",
    "                coloring(graph, i, j)\n",
    "                # print(graph)\n",
    "\n",
    "    return count"
   ]
  },
  {
   "cell_type": "code",
   "execution_count": 286,
   "metadata": {
    "tags": []
   },
   "outputs": [
    {
     "output_type": "execute_result",
     "data": {
      "text/plain": "8"
     },
     "metadata": {},
     "execution_count": 286
    }
   ],
   "source": [
    "sol(datas)"
   ]
  },
  {
   "cell_type": "code",
   "execution_count": 46,
   "metadata": {},
   "outputs": [],
   "source": []
  },
  {
   "cell_type": "code",
   "execution_count": 78,
   "metadata": {},
   "outputs": [],
   "source": [
    "from collections import deque\n",
    "\n",
    "N, M = 5, 6\n",
    "m_map = [\n",
    "    [1,0,1,0,1,0],\n",
    "    [1,1,1,1,1,1],\n",
    "    [0,0,0,0,0,1],\n",
    "    [1,1,1,1,1,1],\n",
    "    [1,1,1,1,1,1]\n",
    "]\n",
    "\n",
    "# 괴물 0, 갈 수 있는 길 1\n",
    "\n",
    "temp = [(-1,0), (1,0), (0, 1), (0, -1)]\n",
    "\n",
    "def sol(graph):\n",
    "    s_pos = [0,0]\n",
    "    graph[s_pos[0]][s_pos[1]] = 2\n",
    "    q = deque([s_pos])\n",
    "    answer = 1\n",
    "    while True:\n",
    "        cur_pos = q.popleft()\n",
    "        count = 0\n",
    "        c_temp = answer\n",
    "        for t in temp:\n",
    "            count+=1\n",
    "            if cur_pos[0] + t[0] >= 0 and cur_pos[0] + t[0] < N and cur_pos[1] + t[1] >= 0 and cur_pos[1] + t[1] < M :\n",
    "                if graph[cur_pos[0] + t[0]][cur_pos[1] + t[1]] == 1:\n",
    "                    graph[cur_pos[0] + t[0]][cur_pos[1] + t[1]] = 2\n",
    "                    answer += 1\n",
    "\n",
    "                    if [cur_pos[0] + t[0],cur_pos[1] + t[1]] == [N-1, M-1]:\n",
    "                        return answer\n",
    "\n",
    "                    q.append([cur_pos[0] + t[0], cur_pos[1] + t[1]])\n",
    "\n",
    "            if count == 4 and c_temp == answer:\n",
    "                answer-=1\n",
    "\n",
    "    return answer"
   ]
  },
  {
   "cell_type": "code",
   "execution_count": 79,
   "metadata": {
    "tags": []
   },
   "outputs": [
    {
     "output_type": "stream",
     "name": "stdout",
     "text": "deque([])\n"
    },
    {
     "output_type": "execute_result",
     "data": {
      "text/plain": "10"
     },
     "metadata": {},
     "execution_count": 79
    }
   ],
   "source": [
    "sol(m_map)"
   ]
  },
  {
   "cell_type": "code",
   "execution_count": 80,
   "metadata": {},
   "outputs": [
    {
     "output_type": "execute_result",
     "data": {
      "text/plain": "[[2, 0, 2, 0, 2, 0],\n [2, 2, 2, 2, 2, 2],\n [0, 0, 0, 0, 0, 2],\n [1, 1, 1, 1, 1, 2],\n [1, 1, 1, 1, 1, 2]]"
     },
     "metadata": {},
     "execution_count": 80
    }
   ],
   "source": [
    "m_map"
   ]
  },
  {
   "cell_type": "code",
   "execution_count": 22,
   "metadata": {},
   "outputs": [],
   "source": []
  },
  {
   "cell_type": "code",
   "execution_count": 34,
   "metadata": {
    "tags": []
   },
   "outputs": [
    {
     "output_type": "stream",
     "name": "stdout",
     "text": "[6, 2, 5, 4, 3] [5, 5, 1, 6, 5]\n[6, 6, 5, 4, 3] [5, 5, 1, 2, 5]\n[6, 6, 5, 4, 5] [3, 5, 1, 2, 5]\n"
    },
    {
     "output_type": "execute_result",
     "data": {
      "text/plain": "26"
     },
     "metadata": {},
     "execution_count": 34
    }
   ],
   "source": [
    "A = [1,2,5,4,3]\n",
    "B = [5,5,6,6,5]\n",
    "K = 3\n",
    "\n",
    "def sol(a1, b1, K):\n",
    "    a1.index(min(a1))\n",
    "    for _ in range(K):\n",
    "        if min(a1) >= max(b1):\n",
    "            break\n",
    "        a1[a1.index(min(a1))], b1[b1.index(max(b1))] = max(b1), min(a1)\n",
    "        print(a1, b1)\n",
    "    return sum(a1)\n",
    "\n",
    "sol(A, B, K)"
   ]
  },
  {
   "cell_type": "code",
   "execution_count": null,
   "metadata": {},
   "outputs": [],
   "source": []
  },
  {
   "cell_type": "code",
   "execution_count": 38,
   "metadata": {},
   "outputs": [],
   "source": [
    "N = 5\n",
    "MY = [8,3,7,9,2]\n",
    "\n",
    "M = 3\n",
    "YOU = [5,7,9]\n",
    "\n",
    "def bise(Array, t, s, e):\n",
    "    mid = (s + e) // 2\n",
    "    if Array[s] == t:\n",
    "        return True\n",
    "    if Array[e] == t:\n",
    "        return True\n",
    "    if mid in [s, e]:\n",
    "        return False\n",
    "    if Array[mid] == t:\n",
    "        return True\n",
    "    elif Array[mid] < t:\n",
    "        return bise(Array, t, mid, e)\n",
    "    else:\n",
    "        return bise(Array, t, s, mid)\n",
    "\n",
    "def sol(A, B):\n",
    "    A.sort()\n",
    "    for b in B:\n",
    "        if bise(A, b, 0, len(A)-1):\n",
    "            print('yes', end=' ')\n",
    "        else:\n",
    "            print('no', end=' ')\n"
   ]
  },
  {
   "cell_type": "code",
   "execution_count": 39,
   "metadata": {
    "tags": []
   },
   "outputs": [
    {
     "output_type": "stream",
     "name": "stdout",
     "text": "[2, 3, 7, 8, 9]\nno yes yes"
    }
   ],
   "source": [
    "sol(MY, YOU)"
   ]
  },
  {
   "cell_type": "code",
   "execution_count": 43,
   "metadata": {
    "tags": []
   },
   "outputs": [
    {
     "output_type": "stream",
     "name": "stdout",
     "text": "yes\nyes\n"
    }
   ],
   "source": [
    "for i in range(len(set(MY) & set(YOU))):\n",
    "    print('yes')\n",
    "\n",
    "# for j in range(len(YOU))"
   ]
  },
  {
   "cell_type": "code",
   "execution_count": null,
   "metadata": {},
   "outputs": [],
   "source": []
  },
  {
   "cell_type": "code",
   "execution_count": 100,
   "metadata": {},
   "outputs": [],
   "source": [
    "N = 4\n",
    "dduck = [19,15,10,17]\n",
    "\n",
    "def sol(M):\n",
    "    dduck.sort(reverse = True)\n",
    "    answer = 0\n",
    "    temp = []\n",
    "    for d in dduck:\n",
    "        temp.append(d)\n",
    "        answer = min(temp)\n",
    "        t = sum(temp) - min(temp) * len(temp)\n",
    "        if t == M:\n",
    "            break\n",
    "        elif t > M:\n",
    "            answer += ((t - M) // len(temp) + 1)\n",
    "        elif len(temp) == N:\n",
    "            answer -= ((M - t) // len(temp))\n",
    "        \n",
    "    return answer        \n",
    "    \n"
   ]
  },
  {
   "cell_type": "code",
   "execution_count": 101,
   "metadata": {
    "tags": []
   },
   "outputs": [
    {
     "output_type": "execute_result",
     "data": {
      "text/plain": "6"
     },
     "metadata": {},
     "execution_count": 101
    }
   ],
   "source": [
    "sol(40)"
   ]
  },
  {
   "cell_type": "code",
   "execution_count": 188,
   "metadata": {},
   "outputs": [],
   "source": [
    "def cal(d, t):\n",
    "    if t == 1:\n",
    "        return 0\n",
    "    d[t] = d[t-1] + 1\n",
    "    if t%2 == 0:\n",
    "        d[t] = min(d[t], d[t//2] + 1)\n",
    "    if t%3 == 0:\n",
    "        d[t] = min(d[t], d[t//3] + 1)\n",
    "    if t%5 == 0:\n",
    "        d[t] = min(d[t], d[t//5] + 1)\n",
    "\n",
    "    return temp\n",
    "\n",
    "def sol(x):\n",
    "    d = [0] * (30000 + 1)\n",
    "    for i in range(1, x+1):\n",
    "        d[i] = cal(d, i)\n",
    "    return d[x]"
   ]
  },
  {
   "cell_type": "code",
   "execution_count": 191,
   "metadata": {
    "tags": []
   },
   "outputs": [
    {
     "output_type": "execute_result",
     "data": {
      "text/plain": "3"
     },
     "metadata": {},
     "execution_count": 191
    }
   ],
   "source": [
    "sol(30)"
   ]
  },
  {
   "cell_type": "code",
   "execution_count": 218,
   "metadata": {
    "tags": []
   },
   "outputs": [
    {
     "output_type": "execute_result",
     "data": {
      "text/plain": "<enumerate at 0x194105ab318>"
     },
     "metadata": {},
     "execution_count": 218
    }
   ],
   "source": [
    "food = [1,3,1,5]\n",
    "enumerate(food)"
   ]
  },
  {
   "cell_type": "code",
   "execution_count": 222,
   "metadata": {},
   "outputs": [
    {
     "output_type": "error",
     "ename": "TypeError",
     "evalue": "<lambda>() missing 1 required positional argument: 'j'",
     "traceback": [
      "\u001b[1;31m---------------------------------------------------------------------------\u001b[0m",
      "\u001b[1;31mTypeError\u001b[0m                                 Traceback (most recent call last)",
      "\u001b[1;32m<ipython-input-222-29ca61ca4bfd>\u001b[0m in \u001b[0;36m<module>\u001b[1;34m\u001b[0m\n\u001b[1;32m----> 1\u001b[1;33m \u001b[1;33m(\u001b[0m\u001b[1;32mlambda\u001b[0m \u001b[0mi\u001b[0m\u001b[1;33m,\u001b[0m \u001b[0mj\u001b[0m \u001b[1;33m:\u001b[0m \u001b[0mj\u001b[0m \u001b[1;32mif\u001b[0m \u001b[0mi\u001b[0m\u001b[1;33m%\u001b[0m\u001b[1;36m2\u001b[0m \u001b[1;33m==\u001b[0m \u001b[1;36m0\u001b[0m \u001b[1;32melse\u001b[0m \u001b[1;32mFalse\u001b[0m\u001b[1;33m)\u001b[0m\u001b[1;33m(\u001b[0m\u001b[0mlist\u001b[0m\u001b[1;33m(\u001b[0m\u001b[0mzip\u001b[0m\u001b[1;33m(\u001b[0m\u001b[0mrange\u001b[0m\u001b[1;33m(\u001b[0m\u001b[0mlen\u001b[0m\u001b[1;33m(\u001b[0m\u001b[0mfood\u001b[0m\u001b[1;33m)\u001b[0m\u001b[1;33m)\u001b[0m\u001b[1;33m,\u001b[0m\u001b[0mfood\u001b[0m\u001b[1;33m)\u001b[0m\u001b[1;33m)\u001b[0m\u001b[1;33m)\u001b[0m\u001b[1;33m\u001b[0m\u001b[1;33m\u001b[0m\u001b[0m\n\u001b[0m",
      "\u001b[1;31mTypeError\u001b[0m: <lambda>() missing 1 required positional argument: 'j'"
     ]
    }
   ],
   "source": [
    "(lambda i, j : j if i%2 == 0 else False)"
   ]
  },
  {
   "cell_type": "code",
   "execution_count": null,
   "metadata": {},
   "outputs": [],
   "source": []
  },
  {
   "cell_type": "code",
   "execution_count": null,
   "metadata": {},
   "outputs": [],
   "source": []
  },
  {
   "cell_type": "code",
   "execution_count": 256,
   "metadata": {},
   "outputs": [],
   "source": [
    "\n",
    "def cal(d, x, food):\n",
    "    if x == 1 or x == 2:\n",
    "        d[x] = food[x-1]\n",
    "    else:\n",
    "        d[x] = food[x-1] + max(d[:x-1])\n",
    "\n",
    "def sol(food):\n",
    "    d = [0] * 101\n",
    "    for i in range(1, len(food) + 1):\n",
    "        cal(d, i, food)\n",
    "    return max(d)"
   ]
  },
  {
   "cell_type": "code",
   "execution_count": 257,
   "metadata": {
    "tags": []
   },
   "outputs": [
    {
     "output_type": "execute_result",
     "data": {
      "text/plain": "8"
     },
     "metadata": {},
     "execution_count": 257
    }
   ],
   "source": [
    "sol([1,3,1,5])"
   ]
  },
  {
   "cell_type": "code",
   "execution_count": 52,
   "metadata": {},
   "outputs": [],
   "source": [
    "graph = [(1,2), (1,3), (1,4), (2,4), (3,4), (3,5), (4,5)]\n",
    "N, X, K = 5, 4, 5"
   ]
  },
  {
   "cell_type": "code",
   "execution_count": 67,
   "metadata": {},
   "outputs": [],
   "source": [
    "graph = [(1,3), (2,4)]\n",
    "N, X, K = 4, 3, 4"
   ]
  },
  {
   "cell_type": "code",
   "execution_count": 68,
   "metadata": {
    "tags": []
   },
   "outputs": [
    {
     "output_type": "execute_result",
     "data": {
      "text/plain": "-1"
     },
     "metadata": {},
     "execution_count": 68
    }
   ],
   "source": [
    "import heapq\n",
    "INF = int(1e9)\n",
    "\n",
    "def mkdict(graph, N):\n",
    "    temp = dict([(_, []) for _ in range(N+1)])\n",
    "    for g in graph:\n",
    "        temp[g[0]].append((1, g[1]))\n",
    "        temp[g[1]].append((1, g[0]))\n",
    "    return dict(temp)\n",
    "\n",
    "def sol(graph, N, start, target):\n",
    "    d = [INF for _ in range(N+1)]\n",
    "    temp = mkdict(graph, N)\n",
    "    q = []\n",
    "    heapq.heappush(q, (0, start))\n",
    "    d[start] = 0\n",
    "    while q:\n",
    "        cost, now = heapq.heappop(q)\n",
    "        for t in temp[now]:\n",
    "            if d[t[1]] > cost + t[0]:\n",
    "                d[t[1]] = cost + t[0]\n",
    "                heapq.heappush(q, (d[t[1]], t[1]))\n",
    "    return d[target]\n",
    "\n",
    "def finsol(graph, N, K, X):\n",
    "    answer = sol(graph, N, 1, K) + sol(graph, N, K, X)\n",
    "    if answer >= INF:\n",
    "        return -1\n",
    "    else:\n",
    "        return answer\n",
    "\n",
    "finsol(graph, N, K, X)"
   ]
  },
  {
   "cell_type": "code",
   "execution_count": null,
   "metadata": {},
   "outputs": [],
   "source": []
  },
  {
   "cell_type": "code",
   "execution_count": 99,
   "metadata": {},
   "outputs": [
    {
     "output_type": "execute_result",
     "data": {
      "text/plain": "(2, 4)"
     },
     "metadata": {},
     "execution_count": 99
    }
   ],
   "source": [
    "N, M, C = 3, 2, 1\n",
    "graph = [(1,2,4), (1,3,2)]\n",
    "\n",
    "import heapq\n",
    "INF = int(1e9)\n",
    "\n",
    "def mkgraph(graph):\n",
    "    temp = [(i, []) for i in range(N+1)]\n",
    "    temp = dict(temp)\n",
    "    for g in graph:\n",
    "        temp[g[0]].append((g[2], g[1]))\n",
    "    return temp\n",
    "\n",
    "def sol(graph, N, start):\n",
    "    d = [INF for _ in range(N+1)]\n",
    "    # INF * (n + 1)\n",
    "    graph = mkgraph(graph)\n",
    "    q = []\n",
    "    heapq.heappush(q, (0, start))\n",
    "    while q:\n",
    "        cost, now = heapq.heappop(q)\n",
    "        if d[now] < cost:\n",
    "            continue\n",
    "        for g in graph[now]:\n",
    "            if d[g[1]] > cost + g[0]:\n",
    "                d[g[1]] = cost + g[0]\n",
    "                heapq.heappush(q, (d[g[1]], g[1]))\n",
    "    answer = list(filter(lambda i : i != INF, d))                \n",
    "    return len(answer), max(answer)\n",
    "\n",
    "sol(graph, N, C)\n"
   ]
  },
  {
   "cell_type": "code",
   "execution_count": null,
   "metadata": {},
   "outputs": [],
   "source": []
  },
  {
   "cell_type": "code",
   "execution_count": 100,
   "metadata": {},
   "outputs": [],
   "source": [
    "N = 7"
   ]
  },
  {
   "cell_type": "code",
   "execution_count": 106,
   "metadata": {},
   "outputs": [],
   "source": [
    "datas = \"\"\"0 1 3\n",
    "1 1 7\n",
    "0 7 6\n",
    "1 7 1\n",
    "0 3 7\n",
    "0 4 2\n",
    "0 1 1\n",
    "1 1 1\"\"\""
   ]
  },
  {
   "cell_type": "code",
   "execution_count": 112,
   "metadata": {},
   "outputs": [],
   "source": [
    "# datas.split('\\n')\n",
    "graph = list(map(lambda i : list(map(lambda j : int(j), i.split())), datas.split('\\n')))"
   ]
  },
  {
   "cell_type": "code",
   "execution_count": 113,
   "metadata": {},
   "outputs": [
    {
     "output_type": "execute_result",
     "data": {
      "text/plain": "[[0, 1, 3],\n [1, 1, 7],\n [0, 7, 6],\n [1, 7, 1],\n [0, 3, 7],\n [0, 4, 2],\n [0, 1, 1],\n [1, 1, 1]]"
     },
     "metadata": {},
     "execution_count": 113
    }
   ],
   "source": [
    "graph"
   ]
  },
  {
   "cell_type": "code",
   "execution_count": 125,
   "metadata": {
    "tags": []
   },
   "outputs": [
    {
     "output_type": "stream",
     "name": "stdout",
     "text": "NO\nNO\nYES\n"
    }
   ],
   "source": [
    "def find_parent(parents, x):\n",
    "    if parents[x] != x:\n",
    "        parents[x] = find_parent(parents, parents[x])\n",
    "    return parents[x]\n",
    "\n",
    "def sol(exc):\n",
    "    parents = [i for i in range(N + 1)]\n",
    "    for e in exc:\n",
    "        if e[0] == 0:\n",
    "            a, b = find_parent(parents, e[1]), find_parent(parents, e[2])\n",
    "            if a > b:\n",
    "                parents[e[1]] = b\n",
    "            else:\n",
    "                parents[e[2]] = a\n",
    "        else:\n",
    "            if parents[e[1]] == parents[e[2]]:\n",
    "                print('YES')\n",
    "            else:\n",
    "                print('NO')\n",
    "sol(graph)"
   ]
  },
  {
   "cell_type": "code",
   "execution_count": 139,
   "metadata": {},
   "outputs": [],
   "source": [
    "N = 7"
   ]
  },
  {
   "cell_type": "code",
   "execution_count": 140,
   "metadata": {},
   "outputs": [],
   "source": [
    "# A 집 B 집 C Cost\n",
    "datas = \"\"\"1 2 3\n",
    "1 3 2\n",
    "3 2 1\n",
    "2 5 2\n",
    "3 4 4\n",
    "7 3 6\n",
    "5 1 5\n",
    "1 6 2\n",
    "6 4 1\n",
    "6 5 3\n",
    "4 5 3\n",
    "6 7 4\"\"\""
   ]
  },
  {
   "cell_type": "code",
   "execution_count": 141,
   "metadata": {},
   "outputs": [],
   "source": [
    "graph = list(map(lambda i : list(map(lambda j : int(j), i.split())), datas.split('\\n')))"
   ]
  },
  {
   "cell_type": "code",
   "execution_count": 195,
   "metadata": {},
   "outputs": [
    {
     "output_type": "execute_result",
     "data": {
      "text/plain": "[[1, 2, 3],\n [1, 3, 2],\n [3, 2, 1],\n [2, 5, 2],\n [3, 4, 4],\n [7, 3, 6],\n [5, 1, 5],\n [1, 6, 2],\n [6, 4, 1],\n [6, 5, 3],\n [4, 5, 3],\n [6, 7, 4]]"
     },
     "metadata": {},
     "execution_count": 195
    }
   ],
   "source": [
    "graph"
   ]
  },
  {
   "cell_type": "code",
   "execution_count": 232,
   "metadata": {},
   "outputs": [],
   "source": [
    "from collections import deque\n",
    "\n",
    "def mkgraph(graph, N):\n",
    "    temp = dict([(_, []) for _ in range(N+1)])\n",
    "    for g in graph:\n",
    "        temp[g[0]].append((g[1], g[2]))\n",
    "        temp[g[1]].append((g[0], g[2]))\n",
    "    return temp\n",
    "\n",
    "def find_parent(parents, x):\n",
    "    if parents[x] != x:\n",
    "        parents[x] = find_parent(parents, parents[x])\n",
    "    return parents[x]\n",
    "\n",
    "def union_parent(parents, a,b):\n",
    "    a = find_parent(parents, a)\n",
    "    b = find_parent(parents, b)\n",
    "    if a > b:\n",
    "        parents[a] = b\n",
    "    else:\n",
    "        parents[b] = a\n",
    "\n",
    "def sol(graph, N):\n",
    "    parents = [i for i in range(N+1)]\n",
    "    answer = 0\n",
    "    for g in sorted(graph, key = lambda i : i[2]):\n",
    "        if find_parent(parents, g[0]) != find_parent(parents, g[1]):\n",
    "            union_parent(parents, g[0], g[1])\n",
    "            answer += g[2]\n",
    "            last = g\n",
    "    answer -= last[2]\n",
    "    return answer"
   ]
  },
  {
   "cell_type": "code",
   "execution_count": 233,
   "metadata": {
    "tags": []
   },
   "outputs": [
    {
     "output_type": "stream",
     "name": "stdout",
     "text": "[0, 1, 1, 1, 1, 1, 1, 1]\n"
    },
    {
     "output_type": "execute_result",
     "data": {
      "text/plain": "8"
     },
     "metadata": {},
     "execution_count": 233
    }
   ],
   "source": [
    "sol(graph, N)"
   ]
  },
  {
   "cell_type": "code",
   "execution_count": null,
   "metadata": {},
   "outputs": [],
   "source": []
  },
  {
   "cell_type": "code",
   "execution_count": 257,
   "metadata": {},
   "outputs": [],
   "source": [
    "N = 5\n",
    "\n",
    "datas = \"\"\"10 -1 10 1 -1 4 1 -1 4 3 1 -1 3 3 -1\"\"\"\n",
    "lecture = dict(zip([_ for _ in range(N+1)],list(map(lambda i : list(map(lambda j: int(j), i.split())), datas.split('-1')))))"
   ]
  },
  {
   "cell_type": "code",
   "execution_count": 283,
   "metadata": {
    "tags": []
   },
   "outputs": [
    {
     "output_type": "execute_result",
     "data": {
      "text/plain": "{0: [10], 1: [10, 1], 2: [4, 1], 3: [4, 3, 1], 4: [3, 3], 5: []}"
     },
     "metadata": {},
     "execution_count": 283
    }
   ],
   "source": [
    "lecture"
   ]
  },
  {
   "cell_type": "code",
   "execution_count": 286,
   "metadata": {
    "tags": []
   },
   "outputs": [],
   "source": [
    "def sol(lecture):\n",
    "    lecture_time = [0 for _ in range(N+1)]\n",
    "    for l in lecture:\n",
    "        this_max = 0\n",
    "        for prelec in lecture[l][1:]:\n",
    "            this_max = max(this_max, lecture_time[prelec-1])\n",
    "        try:\n",
    "            print((l+1), '번째 강의', this_max + lecture[l][0])\n",
    "        except:\n",
    "            break\n",
    "        lecture_time[l] = this_max + lecture[l][0]\n"
   ]
  },
  {
   "cell_type": "code",
   "execution_count": 287,
   "metadata": {
    "tags": []
   },
   "outputs": [
    {
     "output_type": "stream",
     "name": "stdout",
     "text": "1 번째 강의 10\n2 번째 강의 20\n3 번째 강의 14\n4 번째 강의 18\n5 번째 강의 17\n"
    }
   ],
   "source": [
    "sol(lecture)"
   ]
  },
  {
   "cell_type": "code",
   "execution_count": null,
   "metadata": {},
   "outputs": [],
   "source": []
  },
  {
   "cell_type": "code",
   "execution_count": 1,
   "metadata": {},
   "outputs": [],
   "source": [
    "N = 5"
   ]
  },
  {
   "cell_type": "code",
   "execution_count": 37,
   "metadata": {},
   "outputs": [],
   "source": [
    "warriors = [2,3,1,2,2,4,5,3,2,2,3,1,2,4,3,2]"
   ]
  },
  {
   "cell_type": "code",
   "execution_count": 38,
   "metadata": {},
   "outputs": [],
   "source": [
    "def sol(warriors):\n",
    "    warriors.sort()\n",
    "    fears = []\n",
    "    groups = 0\n",
    "\n",
    "    for w in warriors:\n",
    "        if len(fears) == 0:\n",
    "            fears.append([w, 1])\n",
    "            groups += 1\n",
    "            continue\n",
    "        else:\n",
    "            if fears[groups-1][0] > fears[groups-1][1]:\n",
    "                fears[groups-1][0] = max(fears[groups-1][0], w)\n",
    "                fears[groups-1][1] += 1\n",
    "            else:\n",
    "                fears.append([w, 1])\n",
    "                groups += 1\n",
    "    print(fears)\n",
    "    return len(list(filter(lambda i : i[0] <= i[1], fears)))\n",
    "\n",
    "        "
   ]
  },
  {
   "cell_type": "code",
   "execution_count": 39,
   "metadata": {
    "tags": []
   },
   "outputs": [
    {
     "output_type": "stream",
     "name": "stdout",
     "text": "[[1, 1], [1, 1], [2, 2], [2, 2], [2, 2], [3, 3], [4, 4], [5, 1]]\n"
    },
    {
     "output_type": "execute_result",
     "data": {
      "text/plain": "7"
     },
     "metadata": {},
     "execution_count": 39
    }
   ],
   "source": [
    "sol(warriors)"
   ]
  },
  {
   "cell_type": "code",
   "execution_count": 40,
   "metadata": {},
   "outputs": [],
   "source": [
    "s = '02984'"
   ]
  },
  {
   "cell_type": "code",
   "execution_count": 53,
   "metadata": {},
   "outputs": [],
   "source": [
    "def sol(x):\n",
    "    answer = 0\n",
    "    for i in range(len(x)):\n",
    "        if answer == 0 or int(x[i]) == 0:\n",
    "            answer += int(x[i])\n",
    "        else:\n",
    "            answer *= int(x[i])\n",
    "    return answer\n",
    "            "
   ]
  },
  {
   "cell_type": "code",
   "execution_count": 55,
   "metadata": {
    "tags": []
   },
   "outputs": [
    {
     "output_type": "execute_result",
     "data": {
      "text/plain": "210"
     },
     "metadata": {},
     "execution_count": 55
    }
   ],
   "source": [
    "sol('567')"
   ]
  },
  {
   "cell_type": "code",
   "execution_count": 60,
   "metadata": {},
   "outputs": [],
   "source": [
    "def sol(x):\n",
    "    now = x[0]\n",
    "    count = 1\n",
    "    temp = []\n",
    "    for i in range(len(x)):\n",
    "        if x[i] == now:\n",
    "            count += 1\n",
    "            if i == len(x)-1:\n",
    "                temp.append(count)\n",
    "        else:\n",
    "            temp.append(count)\n",
    "            now = x[i]\n",
    "            count = 1\n",
    "    return len(temp)//2\n"
   ]
  },
  {
   "cell_type": "code",
   "execution_count": 61,
   "metadata": {},
   "outputs": [
    {
     "output_type": "execute_result",
     "data": {
      "text/plain": "1"
     },
     "metadata": {},
     "execution_count": 61
    }
   ],
   "source": [
    "sol('1110011')"
   ]
  },
  {
   "cell_type": "code",
   "execution_count": 76,
   "metadata": {},
   "outputs": [],
   "source": [
    "N = 5\n",
    "coins = [3,2,1,1,9]"
   ]
  },
  {
   "cell_type": "code",
   "execution_count": 113,
   "metadata": {},
   "outputs": [],
   "source": [
    "def sol(N, coins):\n",
    "    coins.sort(reverse = True)\n",
    "    answer = 1\n",
    "    while True:\n",
    "        temp = answer\n",
    "        for coin in coins:\n",
    "            if temp >= coin:\n",
    "                temp -= coin\n",
    "            if temp == 0:\n",
    "                answer += 1\n",
    "                break\n",
    "\n",
    "        if temp != 0:\n",
    "            break\n",
    "\n",
    "    return answer"
   ]
  },
  {
   "cell_type": "code",
   "execution_count": 114,
   "metadata": {
    "tags": []
   },
   "outputs": [
    {
     "output_type": "execute_result",
     "data": {
      "text/plain": "8"
     },
     "metadata": {},
     "execution_count": 114
    }
   ],
   "source": [
    "sol(N, coins)"
   ]
  },
  {
   "cell_type": "code",
   "execution_count": 13,
   "metadata": {},
   "outputs": [],
   "source": [
    "N, M = 8, 5\n",
    "balls = [1,5,4,3,2,4,5,2]"
   ]
  },
  {
   "cell_type": "code",
   "execution_count": 14,
   "metadata": {
    "tags": []
   },
   "outputs": [
    {
     "output_type": "execute_result",
     "data": {
      "text/plain": "25"
     },
     "metadata": {},
     "execution_count": 14
    }
   ],
   "source": [
    "from itertools import combinations\n",
    "\n",
    "def sol(balls):\n",
    "    return len(list(filter(lambda i : not i[0] == i[1], list(combinations(balls,2)))))\n",
    "\n",
    "sol(balls)"
   ]
  },
  {
   "cell_type": "code",
   "execution_count": 15,
   "metadata": {},
   "outputs": [],
   "source": [
    "food_times = [3,1,2]\n",
    "K = 5"
   ]
  },
  {
   "cell_type": "code",
   "execution_count": 60,
   "metadata": {
    "tags": []
   },
   "outputs": [],
   "source": [
    "def sol(food_times, K):\n",
    "\n",
    "    now_len = len(food_times)\n",
    "    while True:\n",
    "        if K >= now_len:\n",
    "            K -= now_len\n",
    "            food_times = list(map(lambda i : i - 1, food_times))\n",
    "            now_len = len(list(filter(lambda i : i > 0, food_times)))\n",
    "        else:\n",
    "            for i, f in enumerate(food_times):\n",
    "                if f <= 0:\n",
    "                    continue\n",
    "                else:\n",
    "                    K -= 1\n",
    "                    if K == -1:\n",
    "                        return i+1\n",
    "        if now_len == 0:\n",
    "            return -1\n",
    "                        "
   ]
  },
  {
   "cell_type": "code",
   "execution_count": 61,
   "metadata": {
    "tags": []
   },
   "outputs": [
    {
     "output_type": "execute_result",
     "data": {
      "text/plain": "1"
     },
     "metadata": {},
     "execution_count": 61
    }
   ],
   "source": [
    "sol(food_times, K)"
   ]
  },
  {
   "cell_type": "code",
   "execution_count": null,
   "metadata": {},
   "outputs": [],
   "source": []
  },
  {
   "cell_type": "code",
   "execution_count": 63,
   "metadata": {},
   "outputs": [],
   "source": [
    "def sol(x):\n",
    "    x = str(x)\n",
    "    if sum(list(map(int, x[:len(x)//2]))) == sum(list(map(int, x[len(x)//2:]))):\n",
    "        print('LUCKY')\n",
    "    else:\n",
    "        print('READY')\n"
   ]
  },
  {
   "cell_type": "code",
   "execution_count": 65,
   "metadata": {
    "tags": []
   },
   "outputs": [
    {
     "output_type": "stream",
     "name": "stdout",
     "text": "READY\n"
    }
   ],
   "source": [
    "sol(7755)"
   ]
  },
  {
   "cell_type": "code",
   "execution_count": 75,
   "metadata": {},
   "outputs": [],
   "source": [
    "def sol(sents):\n",
    "    a = []\n",
    "    b = []\n",
    "    for x in sents:\n",
    "        try:\n",
    "            a.append(int(x))\n",
    "        except:\n",
    "            b.append(x)\n",
    "    return ''.join(sorted(b))+str(sum(a))"
   ]
  },
  {
   "cell_type": "code",
   "execution_count": 77,
   "metadata": {},
   "outputs": [
    {
     "output_type": "execute_result",
     "data": {
      "text/plain": "'ADDIJJJKKLSS20'"
     },
     "metadata": {},
     "execution_count": 77
    }
   ],
   "source": [
    "# K1KA5CB7\n",
    "# AJKDLSI412K4JSJ9D\n",
    "sol('AJKDLSI412K4JSJ9D')"
   ]
  },
  {
   "cell_type": "code",
   "execution_count": 183,
   "metadata": {},
   "outputs": [],
   "source": [
    "def sol(sents):\n",
    "    answer = []\n",
    "    for n in range(1, len(sents)//2 + 1):\n",
    "        datas = [sents[i*n:i*n+n] for i in range(len(sents)//n)]\n",
    "        result = len(sents)\n",
    "        temp = ''\n",
    "        count = 0\n",
    "        for d in datas:\n",
    "            if temp == d:\n",
    "                count+=1\n",
    "                if count == 1:\n",
    "                    result+=1\n",
    "                result -= n\n",
    "            else:\n",
    "                count = 0\n",
    "                temp = d\n",
    "        answer.append(result)\n",
    "    return min(answer)\n"
   ]
  },
  {
   "cell_type": "code",
   "execution_count": 184,
   "metadata": {
    "tags": []
   },
   "outputs": [
    {
     "output_type": "stream",
     "name": "stdout",
     "text": "[7, 8, 8, 8]\n"
    },
    {
     "output_type": "execute_result",
     "data": {
      "text/plain": "7"
     },
     "metadata": {},
     "execution_count": 184
    }
   ],
   "source": [
    "sol('aabbaccc')"
   ]
  },
  {
   "cell_type": "code",
   "execution_count": 11,
   "metadata": {},
   "outputs": [],
   "source": [
    "# 0 홈 1 돌기\n",
    "keys = [[0,0,0], [1,0,0], [0,1,1]]\n",
    "locks = [[1,1,1], [1,1,0], [1,0,1]]\n",
    "\n",
    "# 0 0 0\n",
    "# 1 0 0\n",
    "# 0 1 1\n",
    "\n",
    "# 0 1 0\n",
    "# 1 0 0\n",
    "# 1 0 0 \n",
    "\n",
    "# 0 0 1\n",
    "# 0 0 1\n",
    "# 0 1 0\n",
    "\n",
    "def rotate(x, d):\n",
    "    if d == 'r':\n",
    "        temp = [[] for _ in range(len(x))]\n",
    "        for i in range(len(temp)):\n",
    "            for row in range(len(x)):\n",
    "                temp[i].append(x[len(x)-1-row][i])\n",
    "    elif d == 'l':\n",
    "        temp = [[] for _ in range(len(x))]\n",
    "        for row in x:\n",
    "            for i in range(len(temp)):\n",
    "                temp[i].append(row[len(temp)-1-i])\n",
    "    return temp\n",
    "\n",
    "# 1 2 3 \n",
    "# 4 5 6 \n",
    "# 7 8 9\n",
    "\n",
    "# 7 4 1\n",
    "# 8 5 2\n",
    "# 9 6 3\n",
    "\n",
    "# 3 6 9\n",
    "# 2 5 8\n",
    "# 1 4 7 \n",
    "\n"
   ]
  },
  {
   "cell_type": "code",
   "execution_count": 21,
   "metadata": {
    "tags": []
   },
   "outputs": [
    {
     "output_type": "execute_result",
     "data": {
      "text/plain": "True"
     },
     "metadata": {},
     "execution_count": 21
    }
   ],
   "source": [
    "\n",
    "import numpy as np\n",
    "def sol(keys, locks):\n",
    "    keys = np.matrix(keys)\n",
    "    locks = np.matrix(locks)\n",
    "    M = len(locks)\n",
    "    N = len(keys)\n",
    "    for i in range(4):\n",
    "        for dx in range(M):\n",
    "            for dy in range(M):\n",
    "                locks[dx:dx+len(keys),dy:dy+len(keys)] += keys[:len(locks)-dx,:len(locks)-dy]\n",
    "                if list(np.matrix(locks).flat).count(0) == 0:\n",
    "                    return True\n",
    "                else:\n",
    "                    locks[dx:dx+len(keys),dy:dy+len(keys)] -= keys[:len(locks)-dx,:len(locks)-dy]\n",
    "        keys = np.rot90(keys)\n",
    "    return False\n",
    "\n",
    "sol(keys,locks)\n"
   ]
  },
  {
   "cell_type": "code",
   "execution_count": null,
   "metadata": {},
   "outputs": [],
   "source": []
  },
  {
   "cell_type": "code",
   "execution_count": null,
   "metadata": {},
   "outputs": [],
   "source": []
  },
  {
   "cell_type": "code",
   "execution_count": null,
   "metadata": {},
   "outputs": [],
   "source": []
  },
  {
   "cell_type": "code",
   "execution_count": 277,
   "metadata": {},
   "outputs": [
    {
     "output_type": "execute_result",
     "data": {
      "text/plain": "2"
     },
     "metadata": {},
     "execution_count": 277
    }
   ],
   "source": [
    "list(np.matrix(locks).flat).count(0)"
   ]
  },
  {
   "cell_type": "code",
   "execution_count": 272,
   "metadata": {},
   "outputs": [
    {
     "output_type": "execute_result",
     "data": {
      "text/plain": "[[1, 1, 1], [1, 1, 0], [1, 0, 1]]"
     },
     "metadata": {},
     "execution_count": 272
    }
   ],
   "source": [
    "locks"
   ]
  },
  {
   "cell_type": "code",
   "execution_count": 232,
   "metadata": {
    "tags": []
   },
   "outputs": [
    {
     "output_type": "stream",
     "name": "stdout",
     "text": "[[1, 0, 0], [0, 0, 0], [0, 0, 0]]\n"
    },
    {
     "output_type": "execute_result",
     "data": {
      "text/plain": "False"
     },
     "metadata": {},
     "execution_count": 232
    }
   ],
   "source": [
    "sol(keys, locks)"
   ]
  },
  {
   "cell_type": "code",
   "execution_count": 229,
   "metadata": {
    "tags": []
   },
   "outputs": [
    {
     "output_type": "execute_result",
     "data": {
      "text/plain": "[[0, 0, 0]]"
     },
     "metadata": {},
     "execution_count": 229
    }
   ],
   "source": [
    "keys[0:2:2]"
   ]
  },
  {
   "cell_type": "code",
   "execution_count": 267,
   "metadata": {},
   "outputs": [
    {
     "output_type": "execute_result",
     "data": {
      "text/plain": "matrix([[0, 0, 1],\n        [0, 0, 1],\n        [0, 1, 0]])"
     },
     "metadata": {},
     "execution_count": 267
    }
   ],
   "source": [
    "np.rot90(a)"
   ]
  },
  {
   "cell_type": "code",
   "execution_count": 234,
   "metadata": {},
   "outputs": [],
   "source": [
    "import numpy as np"
   ]
  },
  {
   "cell_type": "code",
   "execution_count": 259,
   "metadata": {},
   "outputs": [],
   "source": [
    "a = np.matrix(locks)"
   ]
  },
  {
   "cell_type": "code",
   "execution_count": 260,
   "metadata": {},
   "outputs": [
    {
     "output_type": "execute_result",
     "data": {
      "text/plain": "matrix([[1, 1, 1],\n        [1, 1, 0],\n        [1, 0, 1]])"
     },
     "metadata": {},
     "execution_count": 260
    }
   ],
   "source": [
    "a"
   ]
  },
  {
   "cell_type": "code",
   "execution_count": 264,
   "metadata": {},
   "outputs": [],
   "source": [
    "a[0:3+0, 0:3+0] = np.matrix(keys)"
   ]
  },
  {
   "cell_type": "code",
   "execution_count": 265,
   "metadata": {},
   "outputs": [
    {
     "output_type": "execute_result",
     "data": {
      "text/plain": "matrix([[0, 0, 0],\n        [1, 0, 0],\n        [0, 1, 1]])"
     },
     "metadata": {},
     "execution_count": 265
    }
   ],
   "source": [
    "a"
   ]
  },
  {
   "cell_type": "code",
   "execution_count": 263,
   "metadata": {},
   "outputs": [
    {
     "output_type": "execute_result",
     "data": {
      "text/plain": "[[0, 0, 0], [1, 0, 0], [0, 1, 1]]"
     },
     "metadata": {},
     "execution_count": 263
    }
   ],
   "source": [
    "keys"
   ]
  },
  {
   "cell_type": "code",
   "execution_count": null,
   "metadata": {},
   "outputs": [],
   "source": []
  },
  {
   "cell_type": "code",
   "execution_count": 98,
   "metadata": {},
   "outputs": [],
   "source": [
    "N, K, L = 6, 3, 3\n",
    "apple = [(3,4), (2,5), (5,3)]\n",
    "move = [(3, 'D'), (15, 'L'), (17, 'D')]\n"
   ]
  },
  {
   "cell_type": "code",
   "execution_count": 126,
   "metadata": {},
   "outputs": [],
   "source": [
    "N, K, L = 10, 4, 4\n",
    "apple = [(1,2), (1,3), (1,4), (1,5)]\n",
    "move = [(8, 'D'), (10, 'D'), (11, 'D'), (13, 'L')]"
   ]
  },
  {
   "cell_type": "code",
   "execution_count": 121,
   "metadata": {},
   "outputs": [],
   "source": [
    "N, K, L = 10, 5, 4\n",
    "apple = [(1,5), (1,3), (1,2), (1,6), (1,7)]\n",
    "move = [(8, 'D'), (10, 'D'), (11, 'D'), (13, 'L')]"
   ]
  },
  {
   "cell_type": "code",
   "execution_count": 129,
   "metadata": {},
   "outputs": [],
   "source": [
    "import heapq\n",
    "import copy\n",
    "\n",
    "def next_dir(now_dir, command):\n",
    "    temp = DIR.index(now_dir)\n",
    "    if command == 'L':\n",
    "        temp -= 1\n",
    "        if temp < 0:\n",
    "            temp = len(DIR)-1\n",
    "    else:\n",
    "        temp += 1\n",
    "        if temp == len(DIR):\n",
    "            temp = 0\n",
    "    return DIR[temp]\n",
    "\n",
    "DIR = [(0, -1), (-1, 0), (0, 1), (1, 0)]\n",
    "\n",
    "def sol(N, K, L, apple, move):\n",
    "    t_map = [[0] * N for _ in range(N)]\n",
    "    t_map[0][0] = 0\n",
    "    for a in apple:\n",
    "        t_map[a[0]-1][a[1]-1] = 2\n",
    "    t = 0\n",
    "    next_move = 0\n",
    "    now_dir = (0, 1)\n",
    "    snake_head = (0, 0)\n",
    "    snake_body = []\n",
    "    MAX_MOVE = len(move)\n",
    "    while True:\n",
    "        t += 1\n",
    "        snake_body.append(snake_head)\n",
    "        snake_head = (snake_head[0] + now_dir[0], snake_head[1] + now_dir[1])\n",
    "\n",
    "        if snake_head[0] < 0 or snake_head[0] >= N-1 or snake_head[1] < 0 or snake_head[1] >= N-1 or snake_head in snake_body:\n",
    "            return t\n",
    "        \n",
    "        if t_map[snake_head[0]][snake_head[1]] == 2:\n",
    "            t_map[snake_head[0]][snake_head[1]] = 0\n",
    "        else:\n",
    "            snake_body.pop(0)\n",
    "\n",
    "        \n",
    "        if MAX_MOVE == next_move:\n",
    "            pass\n",
    "        else:\n",
    "            if t == move[next_move][0]:\n",
    "                now_dir = next_dir(now_dir, move[next_move][1])\n",
    "                next_move += 1\n",
    "\n",
    "        # temp_map = copy.deepcopy(t_map)\n",
    "        # temp_map[snake_head[0]][snake_head[1]] += 1\n",
    "        # for b in snake_body:\n",
    "        #     temp_map[b[0]][b[1]] += 1\n",
    "        # print(temp_map, sep = '\\n')\n",
    "        # print(snake_head, snake_body)\n"
   ]
  },
  {
   "cell_type": "code",
   "execution_count": 130,
   "metadata": {
    "tags": []
   },
   "outputs": [
    {
     "output_type": "execute_result",
     "data": {
      "text/plain": "21"
     },
     "metadata": {},
     "execution_count": 130
    }
   ],
   "source": [
    "sol(N, K, L, apple, move)"
   ]
  },
  {
   "cell_type": "code",
   "execution_count": 131,
   "metadata": {},
   "outputs": [],
   "source": [
    "n = 5\n",
    "build_frame = [[1,0,0,1], [1,1,1,1],[2,1,0,1],[2,2,1,1],[5,0,0,1],[5,1,0,1],[4,2,1,1],[3,2,1,1]]"
   ]
  },
  {
   "cell_type": "code",
   "execution_count": 161,
   "metadata": {},
   "outputs": [],
   "source": [
    "n = 5\n",
    "build_frame = [[0,0,0,1], [2,0,0,1],[4,0,0,1],[0,1,1,1],[1,1,1,1],[2,1,1,1],[3,1,1,1],[2,0,0,0],[1,1,1,0],[2,2,0,1]]"
   ]
  },
  {
   "cell_type": "code",
   "execution_count": null,
   "metadata": {},
   "outputs": [],
   "source": []
  },
  {
   "cell_type": "code",
   "execution_count": 233,
   "metadata": {},
   "outputs": [],
   "source": [
    "N, M = 5, 3\n",
    "c_map = '''00100\n",
    "00201\n",
    "01200\n",
    "00100\n",
    "00002\n",
    "'''"
   ]
  },
  {
   "cell_type": "code",
   "execution_count": 216,
   "metadata": {},
   "outputs": [],
   "source": [
    "N, M = 5, 2\n",
    "c_map = '''02010\n",
    "10100\n",
    "00000\n",
    "20011\n",
    "22012\n",
    "'''"
   ]
  },
  {
   "cell_type": "code",
   "execution_count": 236,
   "metadata": {},
   "outputs": [],
   "source": [
    "N, M = 5, 1\n",
    "c_map = '''12021\n",
    "12021\n",
    "12021\n",
    "12021\n",
    "12021'''"
   ]
  },
  {
   "cell_type": "code",
   "execution_count": 237,
   "metadata": {},
   "outputs": [],
   "source": [
    "from itertools import combinations\n",
    "def cal(x, y):\n",
    "    return abs(x[0] - y[0]) + abs(x[1] - y[1])\n",
    "\n",
    "def sol(N, M, c_map):\n",
    "    c_map = list(map(lambda i: list(i), c_map.split('\\n')))\n",
    "    house = []\n",
    "    chick = []\n",
    "    for row in range(N):\n",
    "        for col in range(N):\n",
    "            if c_map[row][col] == '1':\n",
    "                house.append((row,col))\n",
    "            elif c_map[row][col] == '2':\n",
    "                chick.append((row,col))\n",
    "\n",
    "    chicks = list(combinations(chick, M))\n",
    "    dist = []\n",
    "    for i, ch in enumerate(chicks):\n",
    "        dist.append(0)\n",
    "        for h in house:\n",
    "            temp = []\n",
    "            for c in ch:\n",
    "                temp.append(cal(h, c))\n",
    "            dist[i] += min(temp)\n",
    "    return min(dist)\n"
   ]
  },
  {
   "cell_type": "code",
   "execution_count": 238,
   "metadata": {
    "tags": []
   },
   "outputs": [
    {
     "output_type": "execute_result",
     "data": {
      "text/plain": "32"
     },
     "metadata": {},
     "execution_count": 238
    }
   ],
   "source": [
    "sol(N,M,c_map)"
   ]
  },
  {
   "cell_type": "code",
   "execution_count": 239,
   "metadata": {},
   "outputs": [],
   "source": [
    "n = 12\n",
    "weak = [1,5,6,10]\n",
    "dist = [1,2,3,4]"
   ]
  },
  {
   "cell_type": "code",
   "execution_count": null,
   "metadata": {},
   "outputs": [],
   "source": [
    "n = 12\n",
    "weak = [1,3,4,9,10]\n",
    "dist = [3,5,7]"
   ]
  },
  {
   "cell_type": "code",
   "execution_count": 260,
   "metadata": {},
   "outputs": [],
   "source": [
    "from itertools import combinations\n",
    "def sol(n, weak, dist):\n",
    "    # weak = [w - n//2 if w > (n//2) else w for w in weak]\n",
    "    weak_com = combinations(weak, 2)\n",
    "    weak_dis = {}\n",
    "    for weak in weak_com:\n",
    "        if abs(weak[1] - weak[0]) > 6:\n",
    "            weak_dis[weak] = 12 - abs(weak[1]-weak[0])\n",
    "        else:\n",
    "            weak_dis[weak] = abs(weak[1]-weak[0])\n",
    "\n",
    "    for d in dist:\n",
    "        for wd in weak_dis:\n",
    "\n",
    "    return dist\n"
   ]
  },
  {
   "cell_type": "code",
   "execution_count": 261,
   "metadata": {
    "tags": []
   },
   "outputs": [
    {
     "output_type": "execute_result",
     "data": {
      "text/plain": "{(1, 5): 4, (1, 6): 5, (1, 10): 3, (5, 6): 1, (5, 10): 5, (6, 10): 4}"
     },
     "metadata": {},
     "execution_count": 261
    }
   ],
   "source": [
    "sol(n, weak, dist)"
   ]
  },
  {
   "cell_type": "code",
   "execution_count": null,
   "metadata": {},
   "outputs": [],
   "source": []
  },
  {
   "cell_type": "code",
   "execution_count": null,
   "metadata": {},
   "outputs": [],
   "source": []
  },
  {
   "cell_type": "code",
   "execution_count": 326,
   "metadata": {},
   "outputs": [],
   "source": [
    "N, K, X = 4, 2, 1\n",
    "route = [[1,2], [1,3], [2,3], [2,4]]\n"
   ]
  },
  {
   "cell_type": "code",
   "execution_count": 331,
   "metadata": {},
   "outputs": [],
   "source": [
    "N, K, X = 4, 2, 1\n",
    "route = [[1,2], [1,3], [1,4]]\n"
   ]
  },
  {
   "cell_type": "code",
   "execution_count": 338,
   "metadata": {},
   "outputs": [],
   "source": [
    "N, K, X = 4, 1, 1\n",
    "route = [[1,2], [1,3], [2,3], [2,4]]\n"
   ]
  },
  {
   "cell_type": "code",
   "execution_count": 341,
   "metadata": {},
   "outputs": [],
   "source": [
    "def mkgraph(route):\n",
    "    graph = {_:[] for _ in range(1, len(route)+1)}\n",
    "    for r in route:\n",
    "        graph[r[0]].append(r[1])\n",
    "    return graph\n",
    "\n",
    "def sol(N, K, X, route):\n",
    "    graph = mkgraph(route)\n",
    "    result = [(X,0)]\n",
    "    v = [[0] for _ in range(N+1)]\n",
    "    answer = []\n",
    "    while result:\n",
    "        next_city, dist = result.pop()\n",
    "        if dist == K:\n",
    "            answer.append(str(next_city))\n",
    "            continue\n",
    "        try:\n",
    "            for nc in graph[next_city]:\n",
    "                if v[nc] != 1:\n",
    "                    v[nc] = 1\n",
    "                    result.append((nc, dist+1))\n",
    "        except:\n",
    "            pass\n",
    "\n",
    "    if answer != []:\n",
    "        answer.sort()\n",
    "        print('\\n'.join(answer))\n",
    "    else:\n",
    "        return -1\n"
   ]
  },
  {
   "cell_type": "code",
   "execution_count": 342,
   "metadata": {
    "tags": []
   },
   "outputs": [
    {
     "output_type": "stream",
     "name": "stdout",
     "text": "2\n3\n"
    }
   ],
   "source": [
    "sol(N,K,X,route)"
   ]
  },
  {
   "cell_type": "code",
   "execution_count": 343,
   "metadata": {},
   "outputs": [],
   "source": [
    "N, M = 7,7\n",
    "# 2 바이러스 1 벽\n",
    "jido = \"\"\"2 0 0 0 1 1 0\n",
    "0 0 1 0 1 2 0\n",
    "0 1 1 0 1 0 0\n",
    "0 1 0 0 0 0 0\n",
    "0 0 0 0 0 1 1\n",
    "0 1 0 0 0 0 0\n",
    "0 1 0 0 0 0 0\"\"\""
   ]
  },
  {
   "cell_type": "code",
   "execution_count": 8,
   "metadata": {},
   "outputs": [
    {
     "output_type": "error",
     "ename": "SyntaxError",
     "evalue": "unexpected EOF while parsing (<ipython-input-8-2c0ee9db05f4>, line 2)",
     "traceback": [
      "\u001b[1;36m  File \u001b[1;32m\"<ipython-input-8-2c0ee9db05f4>\"\u001b[1;36m, line \u001b[1;32m2\u001b[0m\n\u001b[1;33m    \u001b[0m\n\u001b[1;37m    ^\u001b[0m\n\u001b[1;31mSyntaxError\u001b[0m\u001b[1;31m:\u001b[0m unexpected EOF while parsing\n"
     ]
    }
   ],
   "source": [
    "def sol(N, M, jido):\n",
    "    "
   ]
  },
  {
   "cell_type": "code",
   "execution_count": null,
   "metadata": {},
   "outputs": [],
   "source": []
  },
  {
   "cell_type": "code",
   "execution_count": 9,
   "metadata": {},
   "outputs": [],
   "source": [
    "N = 10\n",
    "schedule = '''1 1\n",
    "1 2\n",
    "1 3\n",
    "1 4\n",
    "1 5\n",
    "1 6\n",
    "1 7\n",
    "1 8\n",
    "1 9\n",
    "1 10'''"
   ]
  },
  {
   "cell_type": "code",
   "execution_count": 46,
   "metadata": {},
   "outputs": [],
   "source": [
    "N = 10\n",
    "schedule = '''5 10\n",
    "5 9\n",
    "5 8\n",
    "5 7\n",
    "5 6\n",
    "5 10\n",
    "5 9\n",
    "5 8\n",
    "5 7\n",
    "5 6'''"
   ]
  },
  {
   "cell_type": "code",
   "execution_count": 49,
   "metadata": {},
   "outputs": [],
   "source": [
    "N = 10\n",
    "schedule = '''5 50\n",
    "4 40\n",
    "3 30\n",
    "2 20\n",
    "1 10\n",
    "1 10\n",
    "2 20\n",
    "3 30\n",
    "4 40\n",
    "5 50'''"
   ]
  },
  {
   "cell_type": "code",
   "execution_count": 50,
   "metadata": {},
   "outputs": [],
   "source": [
    "def next_schedule(now, dur, money, N, schedule, best_money):\n",
    "    # print(now, dur, money, best_money)\n",
    "    if now+dur >= N+1:\n",
    "        if best_money[i] < money + best_money[now]:\n",
    "            best_money[i] = money + best_money[now]\n",
    "        return\n",
    "    for i in range(now+dur, N+1):\n",
    "        if best_money[i] < money + best_money[now]:\n",
    "            best_money[i] = money + best_money[now]\n",
    "            try:\n",
    "                next_schedule(i, schedule[i][0], schedule[i][1], N, schedule, best_money)\n",
    "            except:\n",
    "                pass\n",
    "\n",
    "\n",
    "def sol(N, schedule):\n",
    "    schedule = [list(map(int, i.split())) for i in schedule.split('\\n')]\n",
    "    best_money = [0 for _ in range(N+1)]\n",
    "    answer = []\n",
    "    for i, s in enumerate(schedule):\n",
    "        if i + s[0] >= N+1:\n",
    "            continue\n",
    "        if best_money[i] != 0 and best_money[i] > s[1]:\n",
    "            continue\n",
    "        next_schedule(i, s[0], s[1], N, schedule, best_money)\n",
    "    return max(best_money)"
   ]
  },
  {
   "cell_type": "code",
   "execution_count": 51,
   "metadata": {
    "tags": []
   },
   "outputs": [
    {
     "output_type": "execute_result",
     "data": {
      "text/plain": "90"
     },
     "metadata": {},
     "execution_count": 51
    }
   ],
   "source": [
    "sol(N, schedule)"
   ]
  },
  {
   "cell_type": "code",
   "execution_count": 53,
   "metadata": {},
   "outputs": [],
   "source": [
    "N = 7\n",
    "soldiers = [15, 11, 4, 8, 5, 2, 4]"
   ]
  },
  {
   "cell_type": "code",
   "execution_count": 54,
   "metadata": {},
   "outputs": [],
   "source": [
    "def sol(N, soldiers):\n",
    "    answer = 0\n",
    "    for s in sorted(soldiers):\n",
    "        if soldiers == sorted(soldiers, reverse=True):\n",
    "            return answer\n",
    "        soldiers.pop(soldiers.index(s))\n",
    "        answer+=1\n"
   ]
  },
  {
   "cell_type": "code",
   "execution_count": 55,
   "metadata": {},
   "outputs": [
    {
     "output_type": "execute_result",
     "data": {
      "text/plain": "2"
     },
     "metadata": {},
     "execution_count": 55
    }
   ],
   "source": [
    "sol(N, soldiers)"
   ]
  },
  {
   "cell_type": "code",
   "execution_count": null,
   "metadata": {},
   "outputs": [],
   "source": []
  },
  {
   "cell_type": "code",
   "execution_count": 56,
   "metadata": {},
   "outputs": [],
   "source": [
    "n = 10"
   ]
  },
  {
   "cell_type": "code",
   "execution_count": 189,
   "metadata": {},
   "outputs": [],
   "source": [
    "def find_root(x):\n",
    "    if x == 1:\n",
    "        return True\n",
    "    for i in [2,3,5]:\n",
    "        if x%i == 0:\n",
    "            return find_root(x//i)\n",
    "    return False\n",
    "\n",
    "def sol(n):\n",
    "    temp_list = []\n",
    "    for i in range(1, int(1e9)):\n",
    "        if len(temp_list) == n:\n",
    "            print(temp_list[-1])\n",
    "            return \n",
    "        if find_root(i):\n",
    "            temp_list.append(i)\n",
    "        # print(temp_list)"
   ]
  },
  {
   "cell_type": "code",
   "execution_count": 192,
   "metadata": {
    "tags": []
   },
   "outputs": [
    {
     "output_type": "stream",
     "name": "stdout",
     "text": "51018336\n"
    }
   ],
   "source": [
    "sol(999)"
   ]
  },
  {
   "cell_type": "code",
   "execution_count": 202,
   "metadata": {},
   "outputs": [],
   "source": [
    "def sol(n):\n",
    "    ugly= [0]*n\n",
    "    ugly[0] = 1\n",
    "    i2 = i3 = i5 = 0\n",
    "    next2, next3, next5 = 2,3,5\n",
    "\n",
    "    for l in range(1, n):\n",
    "\n",
    "        ugly[l] = min(next2, next3, next5)\n",
    "\n",
    "        if ugly[l] == next2:\n",
    "            i2+=1\n",
    "            next2 = ugly[i2] * 2\n",
    "        if ugly[l] == next3:\n",
    "            i3+=1\n",
    "            next3 = ugly[i3] * 3\n",
    "        if ugly[l] == next5:\n",
    "            i5 +=1\n",
    "            next5 = ugly[i5] * 5\n",
    "    print(ugly, i2, i3, i5)\n",
    "    print(ugly[n-1])"
   ]
  },
  {
   "cell_type": "code",
   "execution_count": 203,
   "metadata": {
    "tags": []
   },
   "outputs": [
    {
     "output_type": "stream",
     "name": "stdout",
     "text": "[1, 2, 3, 4, 5, 6, 8, 9, 10, 12, 15, 16, 18, 20, 24, 25, 27, 30, 32, 36] 13 10 6\n36\n"
    }
   ],
   "source": [
    "sol(20)"
   ]
  },
  {
   "cell_type": "code",
   "execution_count": null,
   "metadata": {},
   "outputs": [],
   "source": []
  },
  {
   "cell_type": "code",
   "execution_count": 244,
   "metadata": {},
   "outputs": [],
   "source": [
    "a = 'sunday'\n",
    "b = 'saturday'"
   ]
  },
  {
   "cell_type": "code",
   "execution_count": 251,
   "metadata": {},
   "outputs": [],
   "source": [
    "def sol(a, b):\n",
    "    count = 0\n",
    "    while True:\n",
    "        if a==b:\n",
    "            return count\n",
    "        for i in range(len(a)):\n",
    "        # 삽입\n",
    "            if len(a) < len(b):\n",
    "                if a[i] != b[i]:\n",
    "                    a = a[:i]+b[i]+a[i:]\n",
    "                    count += 1\n",
    "        # 교체\n",
    "            elif len(a) == len(b):\n",
    "                if a[i] != b[i]:\n",
    "                    a = a[:i] + b[i] + a[i+1:]\n",
    "                    count += 1\n",
    "        # 삭제\n",
    "            else:\n",
    "                if a[i] != b[i]:\n",
    "                    a = a[:i] + a[i+1:]\n",
    "                    count += 1\n",
    "                    # print(a)\n",
    "                    break\n",
    "\n",
    "\n"
   ]
  },
  {
   "cell_type": "code",
   "execution_count": 252,
   "metadata": {
    "tags": []
   },
   "outputs": [
    {
     "output_type": "stream",
     "name": "stdout",
     "text": "saturday\n"
    },
    {
     "output_type": "execute_result",
     "data": {
      "text/plain": "3"
     },
     "metadata": {},
     "execution_count": 252
    }
   ],
   "source": [
    "sol(a,b)"
   ]
  },
  {
   "cell_type": "code",
   "execution_count": 1,
   "metadata": {},
   "outputs": [],
   "source": [
    "n, m = 5, 14\n",
    "buses = '''1 2 2\n",
    "1 3 3\n",
    "1 4 1\n",
    "1 5 10\n",
    "2 4 2\n",
    "3 4 1\n",
    "3 5 1\n",
    "4 5 3\n",
    "3 5 10\n",
    "3 1 8\n",
    "1 4 2\n",
    "5 1 7\n",
    "3 4 2\n",
    "5 2 4'''"
   ]
  },
  {
   "cell_type": "code",
   "execution_count": 63,
   "metadata": {},
   "outputs": [],
   "source": [
    "def make_graph(x):\n",
    "    graph = {}\n",
    "    for i in x:\n",
    "        try:\n",
    "            graph[i[0]].append(i[1:])\n",
    "        except:\n",
    "            graph[i[0]] = [i[1:]]\n",
    "    return graph\n",
    "\n",
    "import numpy as np\n",
    "def sol(n, m, buses):\n",
    "    buses = [list(map(int, i.split())) for i in buses.split('\\n')]\n",
    "    graph = make_graph(buses)\n",
    "    INF = int(1e9)\n",
    "    cost = [[INF]*(n+1) for _ in range(n+1)]\n",
    "    for city in graph:\n",
    "        for next_city in graph[city]:\n",
    "            cost[city][next_city[0]] = min(cost[city][next_city[0]], next_city[1])\n",
    "\n",
    "    for k in range(1, n+1):\n",
    "        for i in range(1, n+1):\n",
    "            for j in range(1, n+1):\n",
    "                if i==j:\n",
    "                    cost[i][j] = 0\n",
    "                else:\n",
    "                    cost[i][j] = min(cost[i][j], cost[i][k] + cost[k][j])\n",
    "    answer = [list(map(lambda i : 0 if i == INF else i, c)) for c in cost]\n",
    "    \n",
    "    for row in range(1, n+1):\n",
    "        for col in range(1, n+1):\n",
    "            print(answer[row][col], end =' ')\n",
    "            if col == n:\n",
    "                print()\n",
    "    \n",
    "    # return answer[1:,1:]\n"
   ]
  },
  {
   "cell_type": "code",
   "execution_count": 64,
   "metadata": {
    "tags": []
   },
   "outputs": [
    {
     "output_type": "stream",
     "name": "stdout",
     "text": "0 2 3 1 4 \n12 0 15 2 5 \n8 5 0 1 1 \n10 7 13 0 3 \n7 4 10 6 0 \n"
    }
   ],
   "source": [
    "sol(n, m, buses)"
   ]
  },
  {
   "cell_type": "code",
   "execution_count": 66,
   "metadata": {
    "tags": []
   },
   "outputs": [
    {
     "output_type": "error",
     "ename": "ValueError",
     "evalue": "invalid literal for int() with base 10: ''",
     "traceback": [
      "\u001b[1;31m---------------------------------------------------------------------------\u001b[0m",
      "\u001b[1;31mValueError\u001b[0m                                Traceback (most recent call last)",
      "\u001b[1;32m<ipython-input-66-16063bd863f5>\u001b[0m in \u001b[0;36m<module>\u001b[1;34m\u001b[0m\n\u001b[1;32m----> 1\u001b[1;33m \u001b[0mn\u001b[0m \u001b[1;33m=\u001b[0m \u001b[0mint\u001b[0m\u001b[1;33m(\u001b[0m\u001b[0minput\u001b[0m\u001b[1;33m(\u001b[0m\u001b[1;33m)\u001b[0m\u001b[1;33m)\u001b[0m\u001b[1;33m\u001b[0m\u001b[1;33m\u001b[0m\u001b[0m\n\u001b[0m\u001b[0;32m      2\u001b[0m \u001b[0mm\u001b[0m \u001b[1;33m=\u001b[0m \u001b[0mint\u001b[0m\u001b[1;33m(\u001b[0m\u001b[0minput\u001b[0m\u001b[1;33m(\u001b[0m\u001b[1;33m)\u001b[0m\u001b[1;33m)\u001b[0m\u001b[1;33m\u001b[0m\u001b[1;33m\u001b[0m\u001b[0m\n\u001b[0;32m      3\u001b[0m \u001b[0mbuses\u001b[0m \u001b[1;33m=\u001b[0m \u001b[1;33m[\u001b[0m\u001b[1;33m]\u001b[0m\u001b[1;33m\u001b[0m\u001b[1;33m\u001b[0m\u001b[0m\n\u001b[0;32m      4\u001b[0m \u001b[1;32mfor\u001b[0m \u001b[0m_\u001b[0m \u001b[1;32min\u001b[0m \u001b[0mrange\u001b[0m\u001b[1;33m(\u001b[0m\u001b[0mm\u001b[0m\u001b[1;33m)\u001b[0m\u001b[1;33m:\u001b[0m\u001b[1;33m\u001b[0m\u001b[1;33m\u001b[0m\u001b[0m\n\u001b[0;32m      5\u001b[0m     \u001b[0mbuses\u001b[0m\u001b[1;33m.\u001b[0m\u001b[0mappend\u001b[0m\u001b[1;33m(\u001b[0m\u001b[0mlist\u001b[0m\u001b[1;33m(\u001b[0m\u001b[0mmap\u001b[0m\u001b[1;33m(\u001b[0m\u001b[0mint\u001b[0m\u001b[1;33m,\u001b[0m \u001b[0minput\u001b[0m\u001b[1;33m(\u001b[0m\u001b[1;33m)\u001b[0m\u001b[1;33m.\u001b[0m\u001b[0msplit\u001b[0m\u001b[1;33m(\u001b[0m\u001b[1;33m)\u001b[0m\u001b[1;33m)\u001b[0m\u001b[1;33m)\u001b[0m\u001b[1;33m)\u001b[0m\u001b[1;33m\u001b[0m\u001b[1;33m\u001b[0m\u001b[0m\n",
      "\u001b[1;31mValueError\u001b[0m: invalid literal for int() with base 10: ''"
     ]
    }
   ],
   "source": [
    "n = int(input())\n",
    "m = int(input())\n",
    "buses = []\n",
    "for _ in range(m):\n",
    "    buses.append(list(map(int, input().split())))\n",
    "\n",
    "def make_graph(x):\n",
    "    graph = {}\n",
    "    for i in x:\n",
    "        try:\n",
    "            graph[i[0]].append(i[1:])\n",
    "        except:\n",
    "            graph[i[0]] = [i[1:]]\n",
    "    return graph\n",
    "\n",
    "def sol(n, buses):\n",
    "    graph = make_graph(buses)\n",
    "    INF = int(1e9)\n",
    "    cost = [[INF]*(n+1) for _ in range(n+1)]\n",
    "    for city in graph:\n",
    "        for next_city in graph[city]:\n",
    "            cost[city][next_city[0]] = min(cost[city][next_city[0]], next_city[1])\n",
    "\n",
    "    for k in range(1, n+1):\n",
    "        for i in range(1, n+1):\n",
    "            for j in range(1, n+1):\n",
    "                if i==j:\n",
    "                    cost[i][j] = 0\n",
    "                else:\n",
    "                    cost[i][j] = min(cost[i][j], cost[i][k] + cost[k][j])\n",
    "                    \n",
    "    answer = [list(map(lambda i : 0 if i == INF else i, c)) for c in cost]\n",
    "    \n",
    "    for row in range(1, n+1):\n",
    "        for col in range(1, n+1):\n",
    "            print(answer[row][col], end =' ')\n",
    "            if col == n:\n",
    "                print()\n",
    "                \n",
    "sol(n, buses)"
   ]
  },
  {
   "cell_type": "code",
   "execution_count": 67,
   "metadata": {},
   "outputs": [],
   "source": [
    "N, M = 6, 6\n",
    "compare = '''1 5\n",
    "3 4\n",
    "4 2\n",
    "4 6\n",
    "5 2\n",
    "5 4'''"
   ]
  },
  {
   "cell_type": "code",
   "execution_count": 227,
   "metadata": {},
   "outputs": [],
   "source": [
    "def find_upper(x, graph):\n",
    "    students = []\n",
    "    if graph[x]:\n",
    "        for next_student in graph[x]:\n",
    "            students.append(next_student)\n",
    "            students.extend(find_upper(next_student, graph))\n",
    "    if students:\n",
    "        return students\n",
    "    else:\n",
    "        return []\n",
    "\n",
    "def find_lower(x, graph):\n",
    "    students = []\n",
    "    for student in graph:\n",
    "        if x in graph[student]:\n",
    "            students.append(student)\n",
    "            students.extend(find_lower(student, graph))\n",
    "    if students:\n",
    "        return students\n",
    "    else:\n",
    "        return []\n",
    "\n",
    "import itertools\n",
    "import numpy as np\n",
    "def sol(N, compare):\n",
    "    graph = {_:[] for _ in range(N+1)}\n",
    "    for A, B in [list(map(int, c.split())) for c in compare.split('\\n')]:\n",
    "        try:\n",
    "            graph[A].append(B)\n",
    "        except:\n",
    "            graph[A] = [B]\n",
    "\n",
    "    upper = [[] for _ in range(N+1)]\n",
    "    lower = [[] for _ in range(N+1)]\n",
    "    for student in range(1, N+1):\n",
    "        upper[student].extend(find_upper(student, graph))\n",
    "        for next_student in graph[student]:\n",
    "            lower[next_student].extend(find_lower(next_student, graph))\n",
    "    answer = 0\n",
    "    for i in range(1, N+1):\n",
    "        upper[i] = list(set(upper[i]))\n",
    "        lower[i] = list(set(lower[i]))\n",
    "        if len(upper[i]) + len(lower[i]) == N-1:\n",
    "            answer+=1\n",
    "    return answer"
   ]
  },
  {
   "cell_type": "code",
   "execution_count": 228,
   "metadata": {
    "tags": []
   },
   "outputs": [
    {
     "output_type": "execute_result",
     "data": {
      "text/plain": "1"
     },
     "metadata": {},
     "execution_count": 228
    }
   ],
   "source": [
    "sol(N, compare)"
   ]
  },
  {
   "cell_type": "code",
   "execution_count": null,
   "metadata": {},
   "outputs": [],
   "source": []
  }
 ]
}