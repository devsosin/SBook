{
 "metadata": {
  "language_info": {
   "codemirror_mode": {
    "name": "ipython",
    "version": 3
   },
   "file_extension": ".py",
   "mimetype": "text/x-python",
   "name": "python",
   "nbconvert_exporter": "python",
   "pygments_lexer": "ipython3",
   "version": "3.7.6-final"
  },
  "orig_nbformat": 2,
  "kernelspec": {
   "name": "Python 3.7.6 64-bit ('base': conda)",
   "display_name": "Python 3.7.6 64-bit ('base': conda)",
   "metadata": {
    "interpreter": {
     "hash": "4582d230e25b8217e666f0f9ff9e4572247d830a78f80b8cc5849d556084ed3c"
    }
   }
  }
 },
 "nbformat": 4,
 "nbformat_minor": 2,
 "cells": [
  {
   "cell_type": "code",
   "execution_count": null,
   "metadata": {},
   "outputs": [],
   "source": []
  },
  {
   "cell_type": "code",
   "execution_count": 3,
   "metadata": {},
   "outputs": [],
   "source": [
    "move = [(1,0),(-1,0),(0,-1),(0,1)]\n",
    "#상, 하, 좌, 우"
   ]
  },
  {
   "cell_type": "code",
   "execution_count": 8,
   "metadata": {},
   "outputs": [],
   "source": [
    "N, K = 3, 3\n",
    "b_map = '''1 0 2\n",
    "0 0 0\n",
    "3 0 0'''\n",
    "S, X, Y = 2, 3, 2"
   ]
  },
  {
   "cell_type": "code",
   "execution_count": 50,
   "metadata": {},
   "outputs": [],
   "source": [
    "N, K = 3, 3\n",
    "b_map = '''1 0 2\n",
    "0 0 0\n",
    "3 0 0'''\n",
    "S, X, Y = 1, 2, 2"
   ]
  },
  {
   "cell_type": "code",
   "execution_count": 51,
   "metadata": {},
   "outputs": [],
   "source": [
    "def find_vir(q, N, b_map):\n",
    "    for row in range(N):\n",
    "        for col in range(N):\n",
    "            if b_map[row][col] != 0:\n",
    "                q.append((b_map[row][col], row, col))\n",
    "    q = sorted(q, key=lambda i : i[0])\n",
    "    return q\n",
    "\n",
    "import heapq\n",
    "def sol(N, K, b_map, S, X, Y):\n",
    "    b_map = [list(map(int,b.split())) for b in b_map.split('\\n')]\n",
    "    q = []\n",
    "    q = find_vir(q, N, b_map)\n",
    "    \n",
    "    while S > 0 :\n",
    "\n",
    "        while q:\n",
    "            vir, x, y = q.pop(0)\n",
    "            for m in move:\n",
    "                new_x, new_y = x+m[0], y+m[1]\n",
    "                if new_x >= 0 and new_x < N and new_y >= 0 and new_y < N and b_map[new_x][new_y] == 0:\n",
    "                    b_map[new_x][new_y] = vir\n",
    "        q = find_vir(q,N, b_map)\n",
    "        S -= 1\n",
    "\n",
    "    return b_map[X-1][Y-1]\n",
    "    \n"
   ]
  },
  {
   "cell_type": "code",
   "execution_count": 52,
   "metadata": {
    "tags": []
   },
   "outputs": [
    {
     "output_type": "execute_result",
     "data": {
      "text/plain": "0"
     },
     "metadata": {},
     "execution_count": 52
    }
   ],
   "source": [
    "sol(N, K, b_map, S, X, Y)"
   ]
  },
  {
   "cell_type": "code",
   "execution_count": null,
   "metadata": {},
   "outputs": [],
   "source": []
  },
  {
   "cell_type": "code",
   "execution_count": 129,
   "metadata": {},
   "outputs": [],
   "source": [
    "text = '(()())()'"
   ]
  },
  {
   "cell_type": "code",
   "execution_count": 110,
   "metadata": {},
   "outputs": [],
   "source": [
    "text = ')('"
   ]
  },
  {
   "cell_type": "code",
   "execution_count": 134,
   "metadata": {},
   "outputs": [],
   "source": [
    "text = '()))((()'"
   ]
  },
  {
   "cell_type": "code",
   "execution_count": 138,
   "metadata": {},
   "outputs": [],
   "source": [
    "import heapq\n",
    "def sol(text):\n",
    "    left = []\n",
    "    right = []\n",
    "\n",
    "    answer = []\n",
    "    left_count = 0\n",
    "    right_count = 0\n",
    "    for t in text:\n",
    "        if t == '(':\n",
    "            left.append('(')\n",
    "            left_count+=1\n",
    "        else:\n",
    "            right.append(')')\n",
    "            right_count+=1\n",
    "        if left_count >= right_count:\n",
    "            while left:\n",
    "                answer.append(left.pop())\n",
    "            while right:\n",
    "                answer.append(right.pop())\n",
    "    return ''.join(answer)"
   ]
  },
  {
   "cell_type": "code",
   "execution_count": 139,
   "metadata": {
    "tags": []
   },
   "outputs": [
    {
     "output_type": "execute_result",
     "data": {
      "text/plain": "'()(())()'"
     },
     "metadata": {},
     "execution_count": 139
    }
   ],
   "source": [
    "sol(text)"
   ]
  },
  {
   "cell_type": "code",
   "execution_count": 151,
   "metadata": {},
   "outputs": [],
   "source": [
    "cals = ['+','-','*','/']"
   ]
  },
  {
   "cell_type": "code",
   "execution_count": 186,
   "metadata": {},
   "outputs": [],
   "source": [
    "N = 2\n",
    "numbers = [5, 6]\n",
    "calculator = [0,0,1,0]"
   ]
  },
  {
   "cell_type": "code",
   "execution_count": 218,
   "metadata": {},
   "outputs": [],
   "source": [
    "N = 3\n",
    "numbers = [3, 4, 5]\n",
    "calculator = [1,0,1,0]"
   ]
  },
  {
   "cell_type": "code",
   "execution_count": 222,
   "metadata": {},
   "outputs": [],
   "source": [
    "N = 6\n",
    "numbers = [1, 2,3,4, 5,6]\n",
    "calculator = [2,1,1,1]"
   ]
  },
  {
   "cell_type": "code",
   "execution_count": 219,
   "metadata": {},
   "outputs": [],
   "source": [
    "def cal_two(num1, num2, cal):\n",
    "    if cal == '+':\n",
    "        return num1+num2\n",
    "    elif cal == '-':\n",
    "        return num1-num2\n",
    "    elif cal == '*':\n",
    "        return num1*num2\n",
    "    else:\n",
    "        if num1 < 0:\n",
    "            return -(-num1//num2)\n",
    "        else:\n",
    "            return num1//num2"
   ]
  },
  {
   "cell_type": "code",
   "execution_count": 227,
   "metadata": {},
   "outputs": [],
   "source": [
    "from itertools import permutations\n",
    "import heapq\n",
    "import copy\n",
    "def sol(N, numbers, calculator):\n",
    "    nc = dict(zip(cals, calculator))\n",
    "    cal_list = []\n",
    "    for c in nc:\n",
    "        for i in range(nc[c]):\n",
    "            cal_list.append(c)\n",
    "    INF = int(1e9)\n",
    "    max_result = -INF\n",
    "    min_result = INF\n",
    "\n",
    "    temp = ''\n",
    "    \n",
    "    for situ in list(permutations(cal_list, N-1)):\n",
    "        temp_numbers = copy.copy(numbers)\n",
    "        \n",
    "        for s in situ:\n",
    "            if temp == '':\n",
    "                temp = cal_two(heapq.heappop(temp_numbers), heapq.heappop(temp_numbers), s)\n",
    "            else:\n",
    "                temp = cal_two(temp, heapq.heappop(temp_numbers), s)\n",
    "        if temp < min_result:\n",
    "            min_result = temp\n",
    "        if temp > max_result:\n",
    "            max_result = temp\n",
    "        \n",
    "        temp = ''\n",
    "\n",
    "    return max_result, min_result\n",
    "\n",
    "    \n",
    "            "
   ]
  },
  {
   "cell_type": "code",
   "execution_count": 228,
   "metadata": {
    "tags": []
   },
   "outputs": [
    {
     "output_type": "execute_result",
     "data": {
      "text/plain": "(54, -24)"
     },
     "metadata": {},
     "execution_count": 228
    }
   ],
   "source": [
    "sol(N, numbers, calculator)"
   ]
  },
  {
   "cell_type": "code",
   "execution_count": 229,
   "metadata": {},
   "outputs": [],
   "source": [
    "N = 5\n",
    "T_MAP = '''X S X X T\n",
    "T X S X X\n",
    "X X X X X\n",
    "X T X X X\n",
    "X X T X X'''"
   ]
  },
  {
   "cell_type": "code",
   "execution_count": 317,
   "metadata": {},
   "outputs": [],
   "source": [
    "N = 4\n",
    "T_MAP = '''S S S T\n",
    "X X X X\n",
    "X X X X\n",
    "T T T X'''"
   ]
  },
  {
   "cell_type": "code",
   "execution_count": 320,
   "metadata": {},
   "outputs": [],
   "source": [
    "four_dir = [(1,0), (0,1), (-1,0), (0,-1)]\n",
    "\n",
    "from itertools import combinations\n",
    "\n",
    "def looking(x, y, sight, fd, now_map):\n",
    "    new_x = x + fd[0]\n",
    "    new_y = y + fd[1]\n",
    "    if new_x < 0 or new_x > len(now_map)-1 or new_y < 0 or new_y > len(now_map)-1:\n",
    "        pass\n",
    "    else:\n",
    "        if now_map[new_x][new_y] not in ['S', 'O']:\n",
    "            sight.append((new_x, new_y))\n",
    "            return looking(new_x, new_y, sight, fd, now_map)\n",
    "        else:\n",
    "            if now_map[new_x][new_y] == 'S':\n",
    "                return sight, {'target': (new_x, new_y)}\n",
    "\n",
    "def check(p, sights, now_map):\n",
    "    counter = len(sights)\n",
    "    for sight in sights:\n",
    "        for s in sight[0]:\n",
    "            if s in p:\n",
    "                counter-=1\n",
    "                break\n",
    "                \n",
    "    if counter <= 0:\n",
    "        return True\n",
    "    return False\n",
    "\n",
    "def sol(N, T_MAP):\n",
    "    now_map = [i.split() for i in T_MAP.split('\\n')]\n",
    "    teachers = []\n",
    "    students = []\n",
    "    obstacles = []\n",
    "    for row in range(N):\n",
    "        for col in range(N):\n",
    "            if now_map[row][col] == 'T':\n",
    "                teachers.append((row, col))\n",
    "            elif now_map[row][col] == 'S':\n",
    "                students.append((row, col))\n",
    "            elif now_map[row][col] == 'O':\n",
    "                obstacles.append((row,col))\n",
    "    sights = []\n",
    "    for t in teachers:\n",
    "        for fd in four_dir:\n",
    "            sights.append(looking(t[0],t[1], [], fd, now_map))\n",
    "    sights = list(filter(None, sights))\n",
    "    \n",
    "    pandan = []\n",
    "    for s in sights:\n",
    "        pandan.extend(s[0])\n",
    "    for p in list(combinations(pandan, 3)):\n",
    "        if check(p, sights, now_map):\n",
    "            return 'YES'\n",
    "    \n",
    "    return 'NO'"
   ]
  },
  {
   "cell_type": "code",
   "execution_count": 321,
   "metadata": {
    "tags": []
   },
   "outputs": [
    {
     "output_type": "execute_result",
     "data": {
      "text/plain": "'NO'"
     },
     "metadata": {},
     "execution_count": 321
    }
   ],
   "source": [
    "sol(N, T_MAP)"
   ]
  },
  {
   "cell_type": "code",
   "execution_count": null,
   "metadata": {},
   "outputs": [],
   "source": []
  },
  {
   "cell_type": "code",
   "execution_count": 1,
   "metadata": {},
   "outputs": [],
   "source": [
    "N, L, R = 2, 20, 50\n",
    "populs = [[50, 30], [20, 40]]"
   ]
  },
  {
   "cell_type": "code",
   "execution_count": 25,
   "metadata": {},
   "outputs": [],
   "source": [
    "N, L, R = 2, 40, 50\n",
    "populs = [[50, 30], [20, 40]]"
   ]
  },
  {
   "cell_type": "code",
   "execution_count": null,
   "metadata": {},
   "outputs": [],
   "source": [
    "N, L, R = 2, 20, 50\n",
    "populs = [[50, 30], [30, 40]]"
   ]
  },
  {
   "cell_type": "code",
   "execution_count": 45,
   "metadata": {},
   "outputs": [],
   "source": [
    "N, L, R = 3, 5, 10\n",
    "populs = [[10, 15, 20], [20, 30, 25], [40, 22, 10]]"
   ]
  },
  {
   "cell_type": "code",
   "execution_count": 78,
   "metadata": {},
   "outputs": [],
   "source": [
    "N, L, R = 4, 10, 50\n",
    "populs = [[10, 100, 20, 90], [80, 100, 60, 70], [70, 20, 30, 40], [50, 20, 100, 10]]"
   ]
  },
  {
   "cell_type": "code",
   "execution_count": 79,
   "metadata": {},
   "outputs": [],
   "source": [
    "four_dir = [(1,0), (0,1), (-1,0), (0,-1)]"
   ]
  },
  {
   "cell_type": "code",
   "execution_count": 80,
   "metadata": {},
   "outputs": [],
   "source": [
    "import copy\n",
    "\n",
    "def make_union(x, y, L, R, N, populs, union_num, unions_map, unions_total, unions_xy):\n",
    "    \n",
    "    for fd in four_dir:\n",
    "        new_x = x+fd[1]\n",
    "        new_y = y+fd[0]\n",
    "        if new_x < 0 or new_x > N-1 or new_y < 0 or new_y > N-1:\n",
    "            continue\n",
    "\n",
    "        temp = abs(populs[new_x][new_y] - populs[x][y])\n",
    "        # print(x,y, new_x, new_y, temp)\n",
    "\n",
    "        if unions_map[new_x][new_y] == 0 and temp >= L and temp <= R:\n",
    "            unions_map[new_x][new_y] = union_num\n",
    "            unions_total[union_num-1] += populs[new_x][new_y]\n",
    "            unions_xy[union_num-1].append((new_x, new_y))\n",
    "            make_union(new_x, new_y, L, R, N, populs, union_num, unions_map, unions_total, unions_xy)\n",
    "\n",
    "def sol(N, L, R, populs):\n",
    "    answer = 0\n",
    "\n",
    "    while True:\n",
    "        temp_map = copy.deepcopy(populs)\n",
    "        unions_total = [0 for _ in range(N*N)]\n",
    "        unions_xy = [[] for _ in range(N*N)]\n",
    "        unions_map = [[0] * N for _ in range(N)]\n",
    "        union_num = 0\n",
    "        for row in range(N):\n",
    "            for col in range(N):\n",
    "                if unions_map[row][col] == 0:\n",
    "                    # print(row, col)\n",
    "                    union_num += 1\n",
    "                    unions_map[row][col] = union_num\n",
    "                    unions_total[union_num-1] += populs[row][col]\n",
    "                    unions_xy[union_num-1].append((row, col))\n",
    "                    make_union(row, col, L, R, N, populs, union_num, unions_map, unions_total, unions_xy)\n",
    "        for un in range(union_num):\n",
    "            if len(unions_xy[un]) <= 1:\n",
    "                continue\n",
    "            else:\n",
    "                for uxy in unions_xy[un]:\n",
    "                    populs[uxy[0]][uxy[1]] = unions_total[un] // len(unions_xy[un])\n",
    "\n",
    "\n",
    "        if temp_map == populs:\n",
    "            return answer\n",
    "\n",
    "        answer += 1\n",
    "\n"
   ]
  },
  {
   "cell_type": "code",
   "execution_count": 81,
   "metadata": {
    "tags": []
   },
   "outputs": [
    {
     "output_type": "execute_result",
     "data": {
      "text/plain": "3"
     },
     "metadata": {},
     "execution_count": 81
    }
   ],
   "source": [
    "sol(N,L,R, populs)"
   ]
  },
  {
   "cell_type": "code",
   "execution_count": 51,
   "metadata": {
    "tags": []
   },
   "outputs": [
    {
     "output_type": "stream",
     "name": "stdout",
     "text": "[[18, 18, 20], [18, 18, 25], [40, 22, 10]]\n"
    }
   ],
   "source": [
    "print(populs)"
   ]
  },
  {
   "cell_type": "code",
   "execution_count": null,
   "metadata": {},
   "outputs": [],
   "source": []
  },
  {
   "cell_type": "code",
   "execution_count": 1,
   "metadata": {},
   "outputs": [],
   "source": [
    "board = [[0,0,0,1,1], [0,0,0,1,0],[0,1,0,1,1],[1,1,0,0,1],[0,0,0,0,0]]"
   ]
  },
  {
   "cell_type": "code",
   "execution_count": 2,
   "metadata": {},
   "outputs": [],
   "source": [
    "# 아래로 가거나, 오른쪽으로 가거나 둘 중 하나임\n",
    "move_dir = [(0, 1), (1, 0)]\n"
   ]
  },
  {
   "cell_type": "code",
   "execution_count": 26,
   "metadata": {},
   "outputs": [],
   "source": [
    "def check_rot(robot, board, time, target, rot_dir = 'UR'):\n",
    "    time += 1\n",
    "    print('회전')\n",
    "    if rot_dir == 'UR':\n",
    "        robot = sorted(robot, key=lambda i:i[0])\n",
    "        if (robot[0][0], robot[0][1]+1) == target:\n",
    "            return time\n",
    "        if robot[0][1]+1 > len(board) - 1 or board[robot[0][0]][robot[0][1]+1] == 1:\n",
    "            check_rot(robot, board, time - 1, target, 'RD')\n",
    "        else:\n",
    "            robot[0][1] += 1\n",
    "            robot[0][0] += 1\n",
    "            moving(robot, board, time, target)\n",
    "            \n",
    "    if rot_dir == 'RD':\n",
    "        robot = sorted(robot, reverse=True, key=lambda i:i[1])\n",
    "        if (robot[0][0]+1, robot[0][1]) == target:\n",
    "            return time\n",
    "        if robot[0][0]+1 > len(board) - 1 or board[robot[0][0]+1][robot[0][1]] == 1:\n",
    "            check_rot(robot, board, time - 1, target, 'LD')\n",
    "        else:\n",
    "            robot[0][0] += 1\n",
    "            \n",
    "            moving(robot, board, time, target)\n",
    "    if rot_dir == 'LD':\n",
    "        robot = sorted(robot, key=lambda i:i[1])\n",
    "        if (robot[0][0]+1, robot[0][1]) == target:\n",
    "            return time\n",
    "        if robot[0][0]+1 > len(board) - 1 or board[robot[0][0]+1][robot[0][1]] == 1:\n",
    "            moving(robot, board, time - 1, target)\n",
    "        else:\n",
    "            robot[0][0] += 1\n",
    "            moving(robot, board, time, target)\n",
    "\n",
    "\n",
    "\n"
   ]
  },
  {
   "cell_type": "code",
   "execution_count": 30,
   "metadata": {},
   "outputs": [],
   "source": [
    "def moving(robot, board, time, target):\n",
    "    print('이동')\n",
    "    for md in move_dir:\n",
    "        time += 1\n",
    "        new_robot = []\n",
    "        for r in robot:\n",
    "            board[r[0]][r[1]] = 0\n",
    "            new_robot.append((r[0]+md[0], r[1]+md[1]))\n",
    "    \n",
    "        try:\n",
    "            for nr in new_robot:\n",
    "                if (nr[0], nr[1]) == target:\n",
    "                    return time\n",
    "                board[nr[0]][nr[1]] = 2\n",
    "                moving(new_robot, board, time, target)\n",
    "        except:\n",
    "            check_rot(robot, board, time, target)"
   ]
  },
  {
   "cell_type": "code",
   "execution_count": 31,
   "metadata": {},
   "outputs": [],
   "source": [
    "def solution(board):\n",
    "    robot = [(0,0), (0,1)]\n",
    "    time = 0\n",
    "    N = len(board)\n",
    "    return moving(robot, board, time, (N,N))"
   ]
  },
  {
   "cell_type": "code",
   "execution_count": 32,
   "metadata": {
    "tags": [
     "outputPrepend"
    ]
   },
   "outputs": [
    {
     "output_type": "stream",
     "name": "stdout",
     "text": "전\n이동\n이동\n회전\n회전\n회전\n이동\n이동\n이동\n회전\n이동\n이동\n회전\n회전\n이동\n이동\n회전\n회전\n이동\n이동\n회전\n이동\n이동\n회전\n회전\n이동\n이동\n회전\n회전\n이동\n이동\n이동\n회전\n회전\n이동\n이동\n회전\n회전\n회전\n이동\n이동\n이동\n회전\n회전\n이동\n이동\n회전\n회전\n회전\n이동\n이동\n이동\n회전\n이동\n이동\n회전\n이동\n이동\n회전\n회전\n이동\n이동\n회전\n회전\n이동\n이동\n회전\n이동\n이동\n회전\n회전\n이동\n이동\n회전\n회전\n이동\n이동\n회전\n이동\n이동\n회전\n이동\n이동\n회전\n회전\n이동\n이동\n회전\n회전\n이동\n이동\n회전\n이동\n이동\n회전\n회전\n이동\n이동\n회전\n회전\n이동\n이동\n이동\n회전\n이동\n이동\n회전\n회전\n이동\n이동\n회전\n회전\n이동\n이동\n회전\n이동\n이동\n회전\n회전\n이동\n이동\n회전\n회전\n이동\n이동\n이동\n회전\n회전\n이동\n이동\n회전\n회전\n회전\n이동\n이동\n이동\n회전\n회전\n이동\n이동\n회전\n회전\n회전\n이동\n이동\n이동\n회전\n이동\n이동\n회전\n회전\n이동\n이동\n회전\n회전\n이동\n이동\n회전\n이동\n이동\n회전\n회전\n이동\n이동\n회전\n회전\n이동\n이동\n이동\n회전\n회전\n이동\n이동\n회전\n회전\n회전\n이동\n이동\n이동\n회전\n회전\n이동\n이동\n회전\n회전\n회전\n이동\n이동\n이동\n이동\n회전\n이동\n이동\n회전\n이동\n이동\n회전\n회전\n이동\n이동\n회전\n회전\n이동\n이동\n회전\n이동\n이동\n회전\n회전\n이동\n이동\n회전\n회전\n이동\n이동\n회전\n이동\n이동\n회전\n이동\n이동\n회전\n회전\n이동\n이동\n회전\n회전\n이동\n이동\n회전\n이동\n이동\n회전\n회전\n이동\n이동\n회전\n회전\n이동\n이동\n이동\n회전\n이동\n이동\n회전\n회전\n이동\n이동\n회전\n회전\n이동\n이동\n회전\n이동\n이동\n회전\n회전\n이동\n이동\n회전\n회전\n이동\n이동\n이동\n회전\n회전\n이동\n이동\n회전\n회전\n회전\n이동\n이동\n이동\n회전\n회전\n이동\n이동\n회전\n회전\n회전\n이동\n이동\n이동\n회전\n이동\n이동\n회전\n회전\n이동\n이동\n회전\n회전\n이동\n이동\n회전\n이동\n이동\n회전\n회전\n이동\n이동\n회전\n회전\n이동\n이동\n이동\n회전\n회전\n이동\n이동\n회전\n회전\n회전\n이동\n이동\n이동\n회전\n회전\n이동\n이동\n회전\n회전\n회전\n이동\n이동\n이동\n회전\n이동\n이동\n회전\n이동\n이동\n회전\n회전\n이동\n이동\n회전\n회전\n이동\n이동\n회전\n이동\n이동\n회전\n회전\n이동\n이동\n회전\n회전\n이동\n이동\n회전\n이동\n이동\n회전\n이동\n이동\n회전\n회전\n이동\n이동\n회전\n회전\n이동\n이동\n회전\n이동\n이동\n회전\n회전\n이동\n이동\n회전\n회전\n이동\n이동\n이동\n회전\n이동\n이동\n회전\n회전\n이동\n이동\n회전\n회전\n이동\n이동\n회전\n이동\n이동\n회전\n회전\n이동\n이동\n회전\n회전\n이동\n이동\n이동\n회전\n회전\n이동\n이동\n회전\n회전\n회전\n이동\n이동\n이동\n회전\n회전\n이동\n이동\n회전\n회전\n회전\n이동\n이동\n이동\n회전\n이동\n이동\n회전\n회전\n이동\n이동\n회전\n회전\n이동\n이동\n회전\n이동\n이동\n회전\n회전\n이동\n이동\n회전\n회전\n이동\n이동\n이동\n회전\n회전\n이동\n이동\n회전\n회전\n회전\n이동\n이동\n이동\n회전\n회전\n이동\n이동\n회전\n회전\n회전\n이동\n이동\n이동\n이동\n회전\n이동\n이동\n회전\n회전\n이동\n이동\n회전\n회전\n이동\n이동\n회전\n이동\n이동\n회전\n회전\n이동\n이동\n회전\n회전\n이동\n이동\n이동\n회전\n회전\n이동\n이동\n회전\n회전\n회전\n이동\n이동\n이동\n회전\n회전\n이동\n이동\n회전\n회전\n회전\n이동\n이동\n이동\n회전\n이동\n이동\n회전\n회전\n이동\n이동\n회전\n회전\n이동\n이동\n회전\n이동\n이동\n회전\n회전\n이동\n이동\n회전\n회전\n이동\n이동\n이동\n회전\n회전\n이동\n이동\n회전\n회전\n회전\n이동\n이동\n이동\n회전\n회전\n이동\n이동\n회전\n회전\n회전\n이동\n이동\n이동\n이동\n회전\n회전\n이동\n이동\n회전\n회전\n회전\n이동\n이동\n이동\n회전\n회전\n이동\n이동\n회전\n회전\n회전\n회전\n이동\n이동\n이동\n이동\n회전\n회전\n이동\n이동\n회전\n회전\n회전\n이동\n이동\n이동\n회전\n회전\n이동\n이동\n회전\n회전\n회전\n회전\n이동\n이동\n이동\n이동\n회전\n이동\n이동\n회전\n회전\n이동\n이동\n회전\n회전\n이동\n이동\n회전\n이동\n이동\n회전\n회전\n이동\n이동\n회전\n회전\n이동\n이동\n이동\n회전\n회전\n이동\n이동\n회전\n회전\n회전\n이동\n이동\n이동\n회전\n회전\n이동\n이동\n회전\n회전\n회전\n이동\n이동\n이동\n회전\n이동\n이동\n회전\n회전\n이동\n이동\n회전\n회전\n이동\n이동\n회전\n이동\n이동\n회전\n회전\n이동\n이동\n회전\n회전\n이동\n이동\n이동\n회전\n회전\n이동\n이동\n회전\n회전\n회전\n이동\n이동\n이동\n회전\n회전\n이동\n이동\n회전\n회전\n회전\n이동\n이동\n이동\n이동\n회전\n회전\n이동\n이동\n회전\n회전\n회전\n이동\n이동\n이동\n회전\n회전\n이동\n이동\n회전\n회전\n회전\n회전\n이동\n이동\n이동\n이동\n회전\n회전\n이동\n이동\n회전\n회전\n회전\n이동\n이동\n이동\n회전\n회전\n이동\n이동\n회전\n회전\n회전\n회전\n이동\n이동\n이동\n이동\n회전\n이동\n이동\n회전\n이동\n이동\n회전\n회전\n이동\n이동\n회전\n회전\n이동\n이동\n회전\n이동\n이동\n회전\n회전\n이동\n이동\n회전\n회전\n이동\n이동\n회전\n이동\n이동\n회전\n이동\n이동\n회전\n회전\n이동\n이동\n회전\n회전\n이동\n이동\n회전\n이동\n이동\n회전\n회전\n이동\n이동\n회전\n회전\n이동\n이동\n이동\n회전\n이동\n이동\n회전\n회전\n이동\n이동\n회전\n회전\n이동\n이동\n회전\n이동\n이동\n회전\n회전\n이동\n이동\n회전\n회전\n이동\n이동\n이동\n회전\n회전\n이동\n이동\n회전\n회전\n회전\n이동\n이동\n이동\n회전\n회전\n이동\n이동\n회전\n회전\n회전\n이동\n이동\n이동\n회전\n이동\n이동\n회전\n회전\n이동\n이동\n회전\n회전\n이동\n이동\n회전\n이동\n이동\n회전\n회전\n이동\n이동\n회전\n회전\n이동\n이동\n이동\n회전\n회전\n이동\n이동\n회전\n회전\n회전\n이동\n이동\n이동\n회전\n회전\n이동\n이동\n회전\n회전\n회전\n이동\n이동\n이동\n회전\n이동\n이동\n회전\n이동\n이동\n회전\n회전\n이동\n이동\n회전\n회전\n이동\n이동\n회전\n이동\n이동\n회전\n회전\n이동\n이동\n회전\n회전\n이동\n이동\n회전\n이동\n이동\n회전\n이동\n이동\n회전\n회전\n이동\n이동\n회전\n회전\n이동\n이동\n회전\n이동\n이동\n회전\n회전\n이동\n이동\n회전\n회전\n이동\n이동\n이동\n회전\n이동\n이동\n회전\n회전\n이동\n이동\n회전\n회전\n이동\n이동\n회전\n이동\n이동\n회전\n회전\n이동\n이동\n회전\n회전\n이동\n이동\n이동\n회전\n회전\n이동\n이동\n회전\n회전\n회전\n이동\n이동\n이동\n회전\n회전\n이동\n이동\n회전\n회전\n회전\n이동\n이동\n이동\n회전\n이동\n이동\n회전\n회전\n이동\n이동\n회전\n회전\n이동\n이동\n회전\n이동\n이동\n회전\n회전\n이동\n이동\n회전\n회전\n이동\n이동\n이동\n회전\n회전\n이동\n이동\n회전\n회전\n회전\n이동\n이동\n이동\n회전\n회전\n이동\n이동\n회전\n회전\n회전\n이동\n이동\n이동\n이동\n회전\n이동\n이동\n회전\n회전\n이동\n이동\n회전\n회전\n이동\n이동\n회전\n이동\n이동\n회전\n회전\n이동\n이동\n회전\n회전\n이동\n이동\n이동\n회전\n회전\n이동\n이동\n회전\n회전\n회전\n이동\n이동\n이동\n회전\n회전\n이동\n이동\n회전\n회전\n회전\n이동\n이동\n이동\n회전\n이동\n이동\n회전\n회전\n이동\n이동\n회전\n회전\n이동\n이동\n회전\n이동\n이동\n회전\n회전\n이동\n이동\n회전\n회전\n이동\n이동\n이동\n회전\n회전\n이동\n이동\n회전\n회전\n회전\n이동\n이동\n이동\n회전\n회전\n이동\n이동\n회전\n회전\n회전\n이동\n이동\n이동\n이동\n회전\n회전\n이동\n이동\n회전\n회전\n회전\n이동\n이동\n이동\n회전\n회전\n이동\n이동\n회전\n회전\n회전\n회전\n이동\n이동\n이동\n이동\n회전\n회전\n이동\n이동\n회전\n회전\n회전\n이동\n이동\n이동\n회전\n회전\n이동\n이동\n회전\n회전\n회전\n회전\n이동\n이동\n이동\n이동\n회전\n이동\n이동\n회전\n회전\n이동\n이동\n회전\n회전\n이동\n이동\n회전\n이동\n이동\n회전\n회전\n이동\n이동\n회전\n회전\n이동\n이동\n이동\n회전\n회전\n이동\n이동\n회전\n회전\n회전\n이동\n이동\n이동\n회전\n회전\n이동\n이동\n회전\n회전\n회전\n이동\n이동\n이동\n회전\n이동\n이동\n회전\n회전\n이동\n이동\n회전\n회전\n이동\n이동\n회전\n이동\n이동\n회전\n회전\n이동\n이동\n회전\n회전\n이동\n이동\n이동\n회전\n회전\n이동\n이동\n회전\n회전\n회전\n이동\n이동\n이동\n회전\n회전\n이동\n이동\n회전\n회전\n회전\n이동\n이동\n이동\n이동\n회전\n회전\n이동\n이동\n회전\n회전\n회전\n이동\n이동\n이동\n회전\n회전\n이동\n이동\n회전\n회전\n회전\n회전\n이동\n이동\n이동\n이동\n회전\n회전\n이동\n이동\n회전\n회전\n회전\n이동\n이동\n이동\n회전\n회전\n이동\n이동\n회전\n회전\n회전\n회전\n이동\n이동\n이동\n이동\n회전\n이동\n이동\n회전\n이동\n이동\n회전\n이동\n이동\n회전\n회전\n이동\n이동\n회전\n회전\n이동\n이동\n회전\n이동\n이동\n회전\n회전\n이동\n이동\n회전\n회전\n이동\n이동\n회전\n이동\n이동\n회전\n이동\n이동\n회전\n회전\n이동\n이동\n회전\n회전\n이동\n이동\n회전\n이동\n이동\n회전\n회전\n이동\n이동\n회전\n회전\n이동\n이동\n회전\n이동\n이동\n회전\n이동\n이동\n회전\n이동\n이동\n회전\n회전\n이동\n이동\n회전\n회전\n이동\n이동\n회전\n이동\n이동\n회전\n회전\n이동\n이동\n회전\n회전\n이동\n이동\n회전\n이동\n이동\n회전\n이동\n이동\n회전\n회전\n이동\n이동\n회전\n회전\n이동\n이동\n회전\n이동\n이동\n회전\n회전\n이동\n이동\n회전\n회전\n이동\n이동\n이동\n회전\n이동\n이동\n회전\n이동\n이동\n회전\n회전\n이동\n이동\n회전\n회전\n이동\n이동\n회전\n이동\n이동\n회전\n회전\n이동\n이동\n회전\n회전\n이동\n이동\n회전\n이동\n이동\n회전\n이동\n이동\n회전\n회전\n이동\n이동\n회전\n회전\n이동\n이동\n회전\n이동\n이동\n회전\n회전\n이동\n이동\n회전\n회전\n이동\n이동\n이동\n회전\n이동\n이동\n회전\n회전\n이동\n이동\n회전\n회전\n이동\n이동\n회전\n이동\n이동\n회전\n회전\n이동\n이동\n회전\n회전\n이동\n이동\n이동\n회전\n회전\n이동\n이동\n회전\n회전\n회전\n이동\n이동\n이동\n회전\n회전\n이동\n이동\n회전\n회전\n회전\n이동\n이동\n이동\n회전\n이동\n이동\n회전\n회전\n이동\n이동\n회전\n회전\n이동\n이동\n회전\n이동\n이동\n회전\n회전\n이동\n이동\n회전\n회전\n이동\n이동\n이동\n회전\n회전\n이동\n이동\n회전\n회전\n회전\n이동\n이동\n이동\n회전\n회전\n이동\n이동\n회전\n회전\n회전\n이동\n이동\n이동\n회전\n이동\n이동\n회전\n이동\n이동\n회전\n회전\n이동\n이동\n회전\n회전\n이동\n이동\n회전\n이동\n이동\n회전\n회전\n이동\n이동\n회전\n회전\n이동\n이동\n회전\n이동\n이동\n회전\n이동\n이동\n회전\n회전\n이동\n이동\n회전\n회전\n이동\n이동\n회전\n이동\n이동\n회전\n회전\n이동\n이동\n회전\n회전\n이동\n이동\n이동\n회전\n이동\n이동\n회전\n회전\n이동\n이동\n회전\n회전\n이동\n이동\n회전\n이동\n이동\n회전\n회전\n이동\n이동\n회전\n회전\n이동\n이동\n이동\n회전\n회전\n이동\n이동\n회전\n회전\n회전\n이동\n이동\n이동\n회전\n회전\n이동\n이동\n회전\n회전\n회전\n이동\n이동\n이동\n회전\n이동\n이동\n회전\n회전\n이동\n이동\n회전\n회전\n이동\n이동\n회전\n이동\n이동\n회전\n회전\n이동\n이동\n회전\n회전\n이동\n이동\n이동\n회전\n회전\n이동\n이동\n회전\n회전\n회전\n이동\n이동\n이동\n회전\n회전\n이동\n이동\n회전\n회전\n회전\n이동\n이동\n이동\n회전\n이동\n이동\n회전\n이동\n이동\n회전\n이동\n이동\n회전\n회전\n이동\n이동\n회전\n회전\n이동\n이동\n회전\n이동\n이동\n회전\n회전\n이동\n이동\n회전\n회전\n이동\n이동\n회전\n이동\n이동\n회전\n이동\n이동\n회전\n회전\n이동\n이동\n회전\n회전\n이동\n이동\n회전\n이동\n이동\n회전\n회전\n이동\n이동\n회전\n회전\n이동\n이동\n회전\n이동\n이동\n회전\n이동\n이동\n회전\n이동\n이동\n회전\n회전\n이동\n이동\n회전\n회전\n이동\n이동\n회전\n이동\n이동\n회전\n회전\n이동\n이동\n회전\n회전\n이동\n이동\n회전\n이동\n이동\n회전\n이동\n이동\n회전\n회전\n이동\n이동\n회전\n회전\n이동\n이동\n회전\n이동\n이동\n회전\n회전\n이동\n이동\n회전\n회전\n이동\n이동\n이동\n회전\n이동\n이동\n회전\n이동\n이동\n회전\n회전\n이동\n이동\n회전\n회전\n이동\n이동\n회전\n이동\n이동\n회전\n회전\n이동\n이동\n회전\n회전\n이동\n이동\n회전\n이동\n이동\n회전\n이동\n이동\n회전\n회전\n이동\n이동\n회전\n회전\n이동\n이동\n회전\n이동\n이동\n회전\n회전\n이동\n이동\n회전\n회전\n이동\n이동\n이동\n회전\n이동\n이동\n회전\n회전\n이동\n이동\n회전\n회전\n이동\n이동\n회전\n이동\n이동\n회전\n회전\n이동\n이동\n회전\n회전\n이동\n이동\n이동\n회전\n회전\n이동\n이동\n회전\n회전\n회전\n이동\n이동\n이동\n회전\n회전\n이동\n이동\n회전\n회전\n회전\n이동\n이동\n이동\n회전\n이동\n이동\n회전\n회전\n이동\n이동\n회전\n회전\n이동\n이동\n회전\n이동\n이동\n회전\n회전\n이동\n이동\n회전\n회전\n이동\n이동\n이동\n회전\n회전\n이동\n이동\n회전\n회전\n회전\n이동\n이동\n이동\n회전\n회전\n이동\n이동\n회전\n회전\n회전\n이동\n이동\n이동\n회전\n이동\n이동\n회전\n이동\n이동\n회전\n회전\n이동\n이동\n회전\n회전\n이동\n이동\n회전\n이동\n이동\n회전\n회전\n이동\n이동\n회전\n회전\n이동\n이동\n회전\n이동\n이동\n회전\n이동\n이동\n회전\n회전\n이동\n이동\n회전\n회전\n이동\n이동\n회전\n이동\n이동\n회전\n회전\n이동\n이동\n회전\n회전\n이동\n이동\n이동\n회전\n이동\n이동\n회전\n회전\n이동\n이동\n회전\n회전\n이동\n이동\n회전\n이동\n이동\n회전\n회전\n이동\n이동\n회전\n회전\n이동\n이동\n이동\n회전\n회전\n이동\n이동\n회전\n회전\n회전\n이동\n이동\n이동\n회전\n회전\n이동\n이동\n회전\n회전\n회전\n이동\n이동\n이동\n회전\n이동\n이동\n회전\n회전\n이동\n이동\n회전\n회전\n이동\n이동\n회전\n이동\n이동\n회전\n회전\n이동\n이동\n회전\n회전\n이동\n이동\n이동\n회전\n회전\n이동\n이동\n회전\n회전\n회전\n이동\n이동\n이동\n회전\n회전\n이동\n이동\n회전\n회전\n회전\n이동\n이동\n이동\n이동\n회전\n이동\n이동\n회전\n이동\n이동\n회전\n회전\n이동\n이동\n회전\n회전\n이동\n이동\n회전\n이동\n이동\n회전\n회전\n이동\n이동\n회전\n회전\n이동\n이동\n회전\n이동\n이동\n회전\n이동\n이동\n회전\n회전\n이동\n이동\n회전\n회전\n이동\n이동\n회전\n이동\n이동\n회전\n회전\n이동\n이동\n회전\n회전\n이동\n이동\n이동\n회전\n이동\n이동\n회전\n회전\n이동\n이동\n회전\n회전\n이동\n이동\n회전\n이동\n이동\n회전\n회전\n이동\n이동\n회전\n회전\n이동\n이동\n이동\n회전\n회전\n이동\n이동\n회전\n회전\n회전\n이동\n이동\n이동\n회전\n회전\n이동\n이동\n회전\n회전\n회전\n이동\n이동\n이동\n회전\n이동\n이동\n회전\n회전\n이동\n이동\n회전\n회전\n이동\n이동\n회전\n이동\n이동\n회전\n회전\n이동\n이동\n회전\n회전\n이동\n이동\n이동\n회전\n회전\n이동\n이동\n회전\n회전\n회전\n이동\n이동\n이동\n회전\n회전\n이동\n이동\n회전\n회전\n회전\n이동\n이동\n이동\n회전\n이동\n이동\n회전\n이동\n이동\n회전\n회전\n이동\n이동\n회전\n회전\n이동\n이동\n회전\n이동\n이동\n회전\n회전\n이동\n이동\n회전\n회전\n이동\n이동\n회전\n이동\n이동\n회전\n이동\n이동\n회전\n회전\n이동\n이동\n회전\n회전\n이동\n이동\n회전\n이동\n이동\n회전\n회전\n이동\n이동\n회전\n회전\n이동\n이동\n이동\n회전\n이동\n이동\n회전\n회전\n이동\n이동\n회전\n회전\n이동\n이동\n회전\n이동\n이동\n회전\n회전\n이동\n이동\n회전\n회전\n이동\n이동\n이동\n회전\n회전\n이동\n이동\n회전\n회전\n회전\n이동\n이동\n이동\n회전\n회전\n이동\n이동\n회전\n회전\n회전\n이동\n이동\n이동\n회전\n이동\n이동\n회전\n회전\n이동\n이동\n회전\n회전\n이동\n이동\n회전\n이동\n이동\n회전\n회전\n이동\n이동\n회전\n회전\n이동\n이동\n이동\n회전\n회전\n이동\n이동\n회전\n회전\n회전\n이동\n이동\n이동\n회전\n회전\n이동\n이동\n회전\n회전\n회전\n이동\n이동\n이동\n이동\n회전\n이동\n이동\n회전\n회전\n이동\n이동\n회전\n회전\n이동\n이동\n회전\n이동\n이동\n회전\n회전\n이동\n이동\n회전\n회전\n이동\n이동\n이동\n회전\n회전\n이동\n이동\n회전\n회전\n회전\n이동\n이동\n이동\n회전\n회전\n이동\n이동\n회전\n회전\n회전\n이동\n이동\n이동\n회전\n이동\n이동\n회전\n회전\n이동\n이동\n회전\n회전\n이동\n이동\n회전\n이동\n이동\n회전\n회전\n이동\n이동\n회전\n회전\n이동\n이동\n이동\n회전\n회전\n이동\n이동\n회전\n회전\n회전\n이동\n이동\n이동\n회전\n회전\n이동\n이동\n회전\n회전\n회전\n이동\n이동\n이동\n이동\n회전\n회전\n이동\n이동\n회전\n회전\n회전\n이동\n이동\n이동\n회전\n회전\n이동\n이동\n회전\n회전\n회전\n회전\n이동\n이동\n이동\n이동\n회전\n회전\n이동\n이동\n회전\n회전\n회전\n이동\n이동\n이동\n회전\n회전\n이동\n이동\n회전\n회전\n회전\n회전\n이동\n이동\n이동\n이동\n회전\n이동\n이동\n회전\n회전\n이동\n이동\n회전\n회전\n이동\n이동\n회전\n이동\n이동\n회전\n회전\n이동\n이동\n회전\n회전\n이동\n이동\n이동\n회전\n회전\n이동\n이동\n회전\n회전\n회전\n이동\n이동\n이동\n회전\n회전\n이동\n이동\n회전\n회전\n회전\n이동\n이동\n이동\n회전\n이동\n이동\n회전\n회전\n이동\n이동\n회전\n회전\n이동\n이동\n회전\n이동\n이동\n회전\n회전\n이동\n이동\n회전\n회전\n이동\n이동\n이동\n회전\n회전\n이동\n이동\n회전\n회전\n회전\n이동\n이동\n이동\n회전\n회전\n이동\n이동\n회전\n회전\n회전\n이동\n이동\n이동\n이동\n회전\n회전\n이동\n이동\n회전\n회전\n회전\n이동\n이동\n이동\n회전\n회전\n이동\n이동\n회전\n회전\n회전\n회전\n이동\n이동\n이동\n이동\n회전\n회전\n이동\n이동\n회전\n회전\n회전\n이동\n이동\n이동\n회전\n회전\n이동\n이동\n회전\n회전\n회전\n회전\n이동\n이동\n이동\n이동\n회전\n이동\n이동\n회전\n이동\n이동\n회전\n회전\n이동\n이동\n회전\n회전\n이동\n이동\n회전\n이동\n이동\n회전\n회전\n이동\n이동\n회전\n회전\n이동\n이동\n회전\n이동\n이동\n회전\n이동\n이동\n회전\n회전\n이동\n이동\n회전\n회전\n이동\n이동\n회전\n이동\n이동\n회전\n회전\n이동\n이동\n회전\n회전\n이동\n이동\n이동\n회전\n이동\n이동\n회전\n회전\n이동\n이동\n회전\n회전\n이동\n이동\n회전\n이동\n이동\n회전\n회전\n이동\n이동\n회전\n회전\n이동\n이동\n이동\n회전\n회전\n이동\n이동\n회전\n회전\n회전\n이동\n이동\n이동\n회전\n회전\n이동\n이동\n회전\n회전\n회전\n이동\n이동\n이동\n회전\n이동\n이동\n회전\n회전\n이동\n이동\n회전\n회전\n이동\n이동\n회전\n이동\n이동\n회전\n회전\n이동\n이동\n회전\n회전\n이동\n이동\n이동\n회전\n회전\n이동\n이동\n회전\n회전\n회전\n이동\n이동\n이동\n회전\n회전\n이동\n이동\n회전\n회전\n회전\n이동\n이동\n이동\n회전\n이동\n이동\n회전\n이동\n이동\n회전\n회전\n이동\n이동\n회전\n회전\n이동\n이동\n회전\n이동\n이동\n회전\n회전\n이동\n이동\n회전\n회전\n이동\n이동\n회전\n이동\n이동\n회전\n이동\n이동\n회전\n회전\n이동\n이동\n회전\n회전\n이동\n이동\n회전\n이동\n이동\n회전\n회전\n이동\n이동\n회전\n회전\n이동\n이동\n이동\n회전\n이동\n이동\n회전\n회전\n이동\n이동\n회전\n회전\n이동\n이동\n회전\n이동\n이동\n회전\n회전\n이동\n이동\n회전\n회전\n이동\n이동\n이동\n회전\n회전\n이동\n이동\n회전\n회전\n회전\n이동\n이동\n이동\n회전\n회전\n이동\n이동\n회전\n회전\n회전\n이동\n이동\n이동\n회전\n이동\n이동\n회전\n회전\n이동\n이동\n회전\n회전\n이동\n이동\n회전\n이동\n이동\n회전\n회전\n이동\n이동\n회전\n회전\n이동\n이동\n이동\n회전\n회전\n이동\n이동\n회전\n회전\n회전\n이동\n이동\n이동\n회전\n회전\n이동\n이동\n회전\n회전\n회전\n이동\n이동\n이동\n이동\n회전\n이동\n이동\n회전\n회전\n이동\n이동\n회전\n회전\n이동\n이동\n회전\n이동\n이동\n회전\n회전\n이동\n이동\n회전\n회전\n이동\n이동\n이동\n회전\n회전\n이동\n이동\n회전\n회전\n회전\n이동\n이동\n이동\n회전\n회전\n이동\n이동\n회전\n회전\n회전\n이동\n이동\n이동\n회전\n이동\n이동\n회전\n회전\n이동\n이동\n회전\n회전\n이동\n이동\n회전\n이동\n이동\n회전\n회전\n이동\n이동\n회전\n회전\n이동\n이동\n이동\n회전\n회전\n이동\n이동\n회전\n회전\n회전\n이동\n이동\n이동\n회전\n회전\n이동\n이동\n회전\n회전\n회전\n이동\n이동\n이동\n이동\n회전\n회전\n이동\n이동\n회전\n회전\n회전\n이동\n이동\n이동\n회전\n회전\n이동\n이동\n회전\n회전\n회전\n회전\n이동\n이동\n이동\n이동\n회전\n회전\n이동\n이동\n회전\n회전\n회전\n이동\n이동\n이동\n회전\n회전\n이동\n이동\n회전\n회전\n회전\n회전\n이동\n이동\n이동\n이동\n회전\n이동\n이동\n회전\n회전\n이동\n이동\n회전\n회전\n이동\n이동\n회전\n이동\n이동\n회전\n회전\n이동\n이동\n회전\n회전\n이동\n이동\n이동\n회전\n회전\n이동\n이동\n회전\n회전\n회전\n이동\n이동\n이동\n회전\n회전\n이동\n이동\n회전\n회전\n회전\n이동\n이동\n이동\n회전\n이동\n이동\n회전\n회전\n이동\n이동\n회전\n회전\n이동\n이동\n회전\n이동\n이동\n회전\n회전\n이동\n이동\n회전\n회전\n이동\n이동\n이동\n회전\n회전\n이동\n이동\n회전\n회전\n회전\n이동\n이동\n이동\n회전\n회전\n이동\n이동\n회전\n회전\n회전\n이동\n이동\n이동\n이동\n회전\n회전\n이동\n이동\n회전\n회전\n회전\n이동\n이동\n이동\n회전\n회전\n이동\n이동\n회전\n회전\n회전\n회전\n이동\n이동\n이동\n이동\n회전\n회전\n이동\n이동\n회전\n회전\n회전\n이동\n이동\n이동\n회전\n회전\n이동\n이동\n회전\n회전\n회전\n회전\n이동\n이동\n이동\n이동\n이동\n회전\n이동\n이동\n회전\n이동\n이동\n회전\n회전\n이동\n이동\n회전\n회전\n이동\n이동\n회전\n이동\n이동\n회전\n회전\n이동\n이동\n회전\n회전\n이동\n이동\n회전\n이동\n이동\n회전\n이동\n이동\n회전\n회전\n이동\n이동\n회전\n회전\n이동\n이동\n회전\n이동\n이동\n회전\n회전\n이동\n이동\n회전\n회전\n이동\n이동\n이동\n회전\n이동\n이동\n회전\n회전\n이동\n이동\n회전\n회전\n이동\n이동\n회전\n이동\n이동\n회전\n회전\n이동\n이동\n회전\n회전\n이동\n이동\n이동\n회전\n회전\n이동\n이동\n회전\n회전\n회전\n이동\n이동\n이동\n회전\n회전\n이동\n이동\n회전\n회전\n회전\n이동\n이동\n이동\n회전\n이동\n이동\n회전\n회전\n이동\n이동\n회전\n회전\n이동\n이동\n회전\n이동\n이동\n회전\n회전\n이동\n이동\n회전\n회전\n이동\n이동\n이동\n회전\n회전\n이동\n이동\n회전\n회전\n회전\n이동\n이동\n이동\n회전\n회전\n이동\n이동\n회전\n회전\n회전\n이동\n이동\n이동\n회전\n이동\n이동\n회전\n이동\n이동\n회전\n회전\n이동\n이동\n회전\n회전\n이동\n이동\n회전\n이동\n이동\n회전\n회전\n이동\n이동\n회전\n회전\n이동\n이동\n회전\n이동\n이동\n회전\n이동\n이동\n회전\n회전\n이동\n이동\n회전\n회전\n이동\n이동\n회전\n이동\n이동\n회전\n회전\n이동\n이동\n회전\n회전\n이동\n이동\n이동\n회전\n이동\n이동\n회전\n회전\n이동\n이동\n회전\n회전\n이동\n이동\n회전\n이동\n이동\n회전\n회전\n이동\n이동\n회전\n회전\n이동\n이동\n이동\n회전\n회전\n이동\n이동\n회전\n회전\n회전\n이동\n이동\n이동\n회전\n회전\n이동\n이동\n회전\n회전\n회전\n이동\n이동\n이동\n회전\n이동\n이동\n회전\n회전\n이동\n이동\n회전\n회전\n이동\n이동\n회전\n이동\n이동\n회전\n회전\n이동\n이동\n회전\n회전\n이동\n이동\n이동\n회전\n회전\n이동\n이동\n회전\n회전\n회전\n이동\n이동\n이동\n회전\n회전\n이동\n이동\n회전\n회전\n회전\n이동\n이동\n이동\n이동\n회전\n이동\n이동\n회전\n회전\n이동\n이동\n회전\n회전\n이동\n이동\n회전\n이동\n이동\n회전\n회전\n이동\n이동\n회전\n회전\n이동\n이동\n이동\n회전\n회전\n이동\n이동\n회전\n회전\n회전\n이동\n이동\n이동\n회전\n회전\n이동\n이동\n회전\n회전\n회전\n이동\n이동\n이동\n회전\n이동\n이동\n회전\n회전\n이동\n이동\n회전\n회전\n이동\n이동\n회전\n이동\n이동\n회전\n회전\n이동\n이동\n회전\n회전\n이동\n이동\n이동\n회전\n회전\n이동\n이동\n회전\n회전\n회전\n이동\n이동\n이동\n회전\n회전\n이동\n이동\n회전\n회전\n회전\n이동\n이동\n이동\n이동\n회전\n회전\n이동\n이동\n회전\n회전\n회전\n이동\n이동\n이동\n회전\n회전\n이동\n이동\n회전\n회전\n회전\n회전\n이동\n이동\n이동\n이동\n회전\n회전\n이동\n이동\n회전\n회전\n회전\n이동\n이동\n이동\n회전\n회전\n이동\n이동\n회전\n회전\n회전\n회전\n이동\n이동\n이동\n이동\n회전\n이동\n이동\n회전\n회전\n이동\n이동\n회전\n회전\n이동\n이동\n회전\n이동\n이동\n회전\n회전\n이동\n이동\n회전\n회전\n이동\n이동\n이동\n회전\n회전\n이동\n이동\n회전\n회전\n회전\n이동\n이동\n이동\n회전\n회전\n이동\n이동\n회전\n회전\n회전\n이동\n이동\n이동\n회전\n이동\n이동\n회전\n회전\n이동\n이동\n회전\n회전\n이동\n이동\n회전\n이동\n이동\n회전\n회전\n이동\n이동\n회전\n회전\n이동\n이동\n이동\n회전\n회전\n이동\n이동\n회전\n회전\n회전\n이동\n이동\n이동\n회전\n회전\n이동\n이동\n회전\n회전\n회전\n이동\n이동\n이동\n이동\n회전\n회전\n이동\n이동\n회전\n회전\n회전\n이동\n이동\n이동\n회전\n회전\n이동\n이동\n회전\n회전\n회전\n회전\n이동\n이동\n이동\n이동\n회전\n회전\n이동\n이동\n회전\n회전\n회전\n이동\n이동\n이동\n회전\n회전\n이동\n이동\n회전\n회전\n회전\n회전\n이동\n이동\n이동\n이동\n회전\n이동\n이동\n회전\n이동\n이동\n회전\n회전\n이동\n이동\n회전\n회전\n이동\n이동\n회전\n이동\n이동\n회전\n회전\n이동\n이동\n회전\n회전\n이동\n이동\n회전\n이동\n이동\n회전\n이동\n이동\n회전\n회전\n이동\n이동\n회전\n회전\n이동\n이동\n회전\n이동\n이동\n회전\n회전\n이동\n이동\n회전\n회전\n이동\n이동\n이동\n회전\n이동\n이동\n회전\n회전\n이동\n이동\n회전\n회전\n이동\n이동\n회전\n이동\n이동\n회전\n회전\n이동\n이동\n회전\n회전\n이동\n이동\n이동\n회전\n회전\n이동\n이동\n회전\n회전\n회전\n이동\n이동\n이동\n회전\n회전\n이동\n이동\n회전\n회전\n회전\n이동\n이동\n이동\n회전\n이동\n이동\n회전\n회전\n이동\n이동\n회전\n회전\n이동\n이동\n회전\n이동\n이동\n회전\n회전\n이동\n이동\n회전\n회전\n이동\n이동\n이동\n회전\n회전\n이동\n이동\n회전\n회전\n회전\n이동\n이동\n이동\n회전\n회전\n이동\n이동\n회전\n회전\n회전\n이동\n이동\n이동\n회전\n이동\n이동\n회전\n이동\n이동\n회전\n회전\n이동\n이동\n회전\n회전\n이동\n이동\n회전\n이동\n이동\n회전\n회전\n이동\n이동\n회전\n회전\n이동\n이동\n회전\n이동\n이동\n회전\n이동\n이동\n회전\n회전\n이동\n이동\n회전\n회전\n이동\n이동\n회전\n이동\n이동\n회전\n회전\n이동\n이동\n회전\n회전\n이동\n이동\n이동\n회전\n이동\n이동\n회전\n회전\n이동\n이동\n회전\n회전\n이동\n이동\n회전\n이동\n이동\n회전\n회전\n이동\n이동\n회전\n회전\n이동\n이동\n이동\n회전\n회전\n이동\n이동\n회전\n회전\n회전\n이동\n이동\n이동\n회전\n회전\n이동\n이동\n회전\n회전\n회전\n이동\n이동\n이동\n회전\n이동\n이동\n회전\n회전\n이동\n이동\n회전\n회전\n이동\n이동\n회전\n이동\n이동\n회전\n회전\n이동\n이동\n회전\n회전\n이동\n이동\n이동\n회전\n회전\n이동\n이동\n회전\n회전\n회전\n이동\n이동\n이동\n회전\n회전\n이동\n이동\n회전\n회전\n회전\n이동\n이동\n이동\n이동\n회전\n이동\n이동\n회전\n회전\n이동\n이동\n회전\n회전\n이동\n이동\n회전\n이동\n이동\n회전\n회전\n이동\n이동\n회전\n회전\n이동\n이동\n이동\n회전\n회전\n이동\n이동\n회전\n회전\n회전\n이동\n이동\n이동\n회전\n회전\n이동\n이동\n회전\n회전\n회전\n이동\n이동\n이동\n회전\n이동\n이동\n회전\n회전\n이동\n이동\n회전\n회전\n이동\n이동\n회전\n이동\n이동\n회전\n회전\n이동\n이동\n회전\n회전\n이동\n이동\n이동\n회전\n회전\n이동\n이동\n회전\n회전\n회전\n이동\n이동\n이동\n회전\n회전\n이동\n이동\n회전\n회전\n회전\n이동\n이동\n이동\n이동\n회전\n회전\n이동\n이동\n회전\n회전\n회전\n이동\n이동\n이동\n회전\n회전\n이동\n이동\n회전\n회전\n회전\n회전\n이동\n이동\n이동\n이동\n회전\n회전\n이동\n이동\n회전\n회전\n회전\n이동\n이동\n이동\n회전\n회전\n이동\n이동\n회전\n회전\n회전\n회전\n이동\n이동\n이동\n이동\n회전\n이동\n이동\n회전\n회전\n이동\n이동\n회전\n회전\n이동\n이동\n회전\n이동\n이동\n회전\n회전\n이동\n이동\n회전\n회전\n이동\n이동\n이동\n회전\n회전\n이동\n이동\n회전\n회전\n회전\n이동\n이동\n이동\n회전\n회전\n이동\n이동\n회전\n회전\n회전\n이동\n이동\n이동\n회전\n이동\n이동\n회전\n회전\n이동\n이동\n회전\n회전\n이동\n이동\n회전\n이동\n이동\n회전\n회전\n이동\n이동\n회전\n회전\n이동\n이동\n이동\n회전\n회전\n이동\n이동\n회전\n회전\n회전\n이동\n이동\n이동\n회전\n회전\n이동\n이동\n회전\n회전\n회전\n이동\n이동\n이동\n이동\n회전\n회전\n이동\n이동\n회전\n회전\n회전\n이동\n이동\n이동\n회전\n회전\n이동\n이동\n회전\n회전\n회전\n회전\n이동\n이동\n이동\n이동\n회전\n회전\n이동\n이동\n회전\n회전\n회전\n이동\n이동\n이동\n회전\n회전\n이동\n이동\n회전\n회전\n회전\n회전\n이동\n이동\n이동\n이동\n이동\n회전\n이동\n이동\n회전\n회전\n이동\n이동\n회전\n회전\n이동\n이동\n회전\n이동\n이동\n회전\n회전\n이동\n이동\n회전\n회전\n이동\n이동\n이동\n회전\n회전\n이동\n이동\n회전\n회전\n회전\n이동\n이동\n이동\n회전\n회전\n이동\n이동\n회전\n회전\n회전\n이동\n이동\n이동\n회전\n이동\n이동\n회전\n회전\n이동\n이동\n회전\n회전\n이동\n이동\n회전\n이동\n이동\n회전\n회전\n이동\n이동\n회전\n회전\n이동\n이동\n이동\n회전\n회전\n이동\n이동\n회전\n회전\n회전\n이동\n이동\n이동\n회전\n회전\n이동\n이동\n회전\n회전\n회전\n이동\n이동\n이동\n이동\n회전\n회전\n이동\n이동\n회전\n회전\n회전\n이동\n이동\n이동\n회전\n회전\n이동\n이동\n회전\n회전\n회전\n회전\n이동\n이동\n이동\n이동\n회전\n회전\n이동\n이동\n회전\n회전\n회전\n이동\n이동\n이동\n회전\n회전\n이동\n이동\n회전\n회전\n회전\n회전\n이동\n이동\n이동\n이동\n회전\n이동\n이동\n회전\n회전\n이동\n이동\n회전\n회전\n이동\n이동\n회전\n이동\n이동\n회전\n회전\n이동\n이동\n회전\n회전\n이동\n이동\n이동\n회전\n회전\n이동\n이동\n회전\n회전\n회전\n이동\n이동\n이동\n회전\n회전\n이동\n이동\n회전\n회전\n회전\n이동\n이동\n이동\n회전\n이동\n이동\n회전\n회전\n이동\n이동\n회전\n회전\n이동\n이동\n회전\n이동\n이동\n회전\n회전\n이동\n이동\n회전\n회전\n이동\n이동\n이동\n회전\n회전\n이동\n이동\n회전\n회전\n회전\n이동\n이동\n이동\n회전\n회전\n이동\n이동\n회전\n회전\n회전\n이동\n이동\n이동\n이동\n회전\n회전\n이동\n이동\n회전\n회전\n회전\n이동\n이동\n이동\n회전\n회전\n이동\n이동\n회전\n회전\n회전\n회전\n이동\n이동\n이동\n이동\n회전\n회전\n이동\n이동\n회전\n회전\n회전\n이동\n이동\n이동\n회전\n회전\n이동\n이동\n회전\n회전\n회전\n회전\n이동\n이동\n이동\n이동\n이동\n회전\n회전\n이동\n이동\n회전\n회전\n회전\n이동\n이동\n이동\n회전\n회전\n이동\n이동\n회전\n회전\n회전\n회전\n이동\n이동\n이동\n이동\n회전\n회전\n이동\n이동\n회전\n회전\n회전\n이동\n이동\n이동\n회전\n회전\n이동\n이동\n회전\n회전\n회전\n회전\n회전\n이동\n이동\n이동\n이동\n이동\n회전\n회전\n이동\n이동\n회전\n회전\n회전\n이동\n이동\n이동\n회전\n회전\n이동\n이동\n회전\n회전\n회전\n회전\n이동\n이동\n이동\n이동\n회전\n회전\n이동\n이동\n회전\n회전\n회전\n이동\n이동\n이동\n회전\n회전\n이동\n이동\n회전\n회전\n회전\n회전\n회전\n이동\n이동\n이동\n이동\n이동\n회전\n이동\n이동\n회전\n회전\n이동\n이동\n회전\n회전\n이동\n이동\n회전\n이동\n이동\n회전\n회전\n이동\n이동\n회전\n회전\n이동\n이동\n이동\n회전\n회전\n이동\n이동\n회전\n회전\n회전\n이동\n이동\n이동\n회전\n회전\n이동\n이동\n회전\n회전\n회전\n이동\n이동\n이동\n회전\n이동\n이동\n회전\n회전\n이동\n이동\n회전\n회전\n이동\n이동\n회전\n이동\n이동\n회전\n회전\n이동\n이동\n회전\n회전\n이동\n이동\n이동\n회전\n회전\n이동\n이동\n회전\n회전\n회전\n이동\n이동\n이동\n회전\n회전\n이동\n이동\n회전\n회전\n회전\n이동\n이동\n이동\n이동\n회전\n회전\n이동\n이동\n회전\n회전\n회전\n이동\n이동\n이동\n회전\n회전\n이동\n이동\n회전\n회전\n회전\n회전\n이동\n이동\n이동\n이동\n회전\n회전\n이동\n이동\n회전\n회전\n회전\n이동\n이동\n이동\n회전\n회전\n이동\n이동\n회전\n회전\n회전\n회전\n이동\n이동\n이동\n이동\n회전\n이동\n이동\n회전\n회전\n이동\n이동\n회전\n회전\n이동\n이동\n회전\n이동\n이동\n회전\n회전\n이동\n이동\n회전\n회전\n이동\n이동\n이동\n회전\n회전\n이동\n이동\n회전\n회전\n회전\n이동\n이동\n이동\n회전\n회전\n이동\n이동\n회전\n회전\n회전\n이동\n이동\n이동\n회전\n이동\n이동\n회전\n회전\n이동\n이동\n회전\n회전\n이동\n이동\n회전\n이동\n이동\n회전\n회전\n이동\n이동\n회전\n회전\n이동\n이동\n이동\n회전\n회전\n이동\n이동\n회전\n회전\n회전\n이동\n이동\n이동\n회전\n회전\n이동\n이동\n회전\n회전\n회전\n이동\n이동\n이동\n이동\n회전\n회전\n이동\n이동\n회전\n회전\n회전\n이동\n이동\n이동\n회전\n회전\n이동\n이동\n회전\n회전\n회전\n회전\n이동\n이동\n이동\n이동\n회전\n회전\n이동\n이동\n회전\n회전\n회전\n이동\n이동\n이동\n회전\n회전\n이동\n이동\n회전\n회전\n회전\n회전\n이동\n이동\n이동\n이동\n이동\n회전\n회전\n이동\n이동\n회전\n회전\n회전\n이동\n이동\n이동\n회전\n회전\n이동\n이동\n회전\n회전\n회전\n회전\n이동\n이동\n이동\n이동\n회전\n회전\n이동\n이동\n회전\n회전\n회전\n이동\n이동\n이동\n회전\n회전\n이동\n이동\n회전\n회전\n회전\n회전\n회전\n이동\n이동\n이동\n이동\n이동\n회전\n회전\n이동\n이동\n회전\n회전\n회전\n이동\n이동\n이동\n회전\n회전\n이동\n이동\n회전\n회전\n회전\n회전\n이동\n이동\n이동\n이동\n회전\n회전\n이동\n이동\n회전\n회전\n회전\n이동\n이동\n이동\n회전\n회전\n이동\n이동\n회전\n회전\n회전\n회전\n회전\n이동\n이동\n이동\n이동\n이동\n회전\n이동\n이동\n회전\n이동\n이동\n회전\n회전\n이동\n이동\n회전\n회전\n이동\n이동\n회전\n이동\n이동\n회전\n회전\n이동\n이동\n회전\n회전\n이동\n이동\n회전\n이동\n이동\n회전\n이동\n이동\n회전\n회전\n이동\n이동\n회전\n회전\n이동\n이동\n회전\n이동\n이동\n회전\n회전\n이동\n이동\n회전\n회전\n이동\n이동\n이동\n회전\n이동\n이동\n회전\n회전\n이동\n이동\n회전\n회전\n이동\n이동\n회전\n이동\n이동\n회전\n회전\n이동\n이동\n회전\n회전\n이동\n이동\n이동\n회전\n회전\n이동\n이동\n회전\n회전\n회전\n이동\n이동\n이동\n회전\n회전\n이동\n이동\n회전\n회전\n회전\n이동\n이동\n이동\n회전\n이동\n이동\n회전\n회전\n이동\n이동\n회전\n회전\n이동\n이동\n회전\n이동\n이동\n회전\n회전\n이동\n이동\n회전\n회전\n이동\n이동\n이동\n회전\n회전\n이동\n이동\n회전\n회전\n회전\n이동\n이동\n이동\n회전\n회전\n이동\n이동\n회전\n회전\n회전\n이동\n이동\n이동\n회전\n이동\n이동\n회전\n이동\n이동\n회전\n회전\n이동\n이동\n회전\n회전\n이동\n이동\n회전\n이동\n이동\n회전\n회전\n이동\n이동\n회전\n회전\n이동\n이동\n회전\n이동\n이동\n회전\n이동\n이동\n회전\n회전\n이동\n이동\n회전\n회전\n이동\n이동\n회전\n이동\n이동\n회전\n회전\n이동\n이동\n회전\n회전\n이동\n이동\n이동\n회전\n이동\n이동\n회전\n회전\n이동\n이동\n회전\n회전\n이동\n이동\n회전\n이동\n이동\n회전\n회전\n이동\n이동\n회전\n회전\n이동\n이동\n이동\n회전\n회전\n이동\n이동\n회전\n회전\n회전\n이동\n이동\n이동\n회전\n회전\n이동\n이동\n회전\n회전\n회전\n이동\n이동\n이동\n회전\n이동\n이동\n회전\n회전\n이동\n이동\n회전\n회전\n이동\n이동\n회전\n이동\n이동\n회전\n회전\n이동\n이동\n회전\n회전\n이동\n이동\n이동\n회전\n회전\n이동\n이동\n회전\n회전\n회전\n이동\n이동\n이동\n회전\n회전\n이동\n이동\n회전\n회전\n회전\n이동\n이동\n이동\n이동\n회전\n이동\n이동\n회전\n회전\n이동\n이동\n회전\n회전\n이동\n이동\n회전\n이동\n이동\n회전\n회전\n이동\n이동\n회전\n회전\n이동\n이동\n이동\n회전\n회전\n이동\n이동\n회전\n회전\n회전\n이동\n이동\n이동\n회전\n회전\n이동\n이동\n회전\n회전\n회전\n이동\n이동\n이동\n회전\n이동\n이동\n회전\n회전\n이동\n이동\n회전\n회전\n이동\n이동\n회전\n이동\n이동\n회전\n회전\n이동\n이동\n회전\n회전\n이동\n이동\n이동\n회전\n회전\n이동\n이동\n회전\n회전\n회전\n이동\n이동\n이동\n회전\n회전\n이동\n이동\n회전\n회전\n회전\n이동\n이동\n이동\n이동\n회전\n회전\n이동\n이동\n회전\n회전\n회전\n이동\n이동\n이동\n회전\n회전\n이동\n이동\n회전\n회전\n회전\n회전\n이동\n이동\n이동\n이동\n회전\n회전\n이동\n이동\n회전\n회전\n회전\n이동\n이동\n이동\n회전\n회전\n이동\n이동\n회전\n회전\n회전\n회전\n이동\n이동\n이동\n이동\n회전\n이동\n이동\n회전\n회전\n이동\n이동\n회전\n회전\n이동\n이동\n회전\n이동\n이동\n회전\n회전\n이동\n이동\n회전\n회전\n이동\n이동\n이동\n회전\n회전\n이동\n이동\n회전\n회전\n회전\n이동\n이동\n이동\n회전\n회전\n이동\n이동\n회전\n회전\n회전\n이동\n이동\n이동\n회전\n이동\n이동\n회전\n회전\n이동\n이동\n회전\n회전\n이동\n이동\n회전\n이동\n이동\n회전\n회전\n이동\n이동\n회전\n회전\n이동\n이동\n이동\n회전\n회전\n이동\n이동\n회전\n회전\n회전\n이동\n이동\n이동\n회전\n회전\n이동\n이동\n회전\n회전\n회전\n이동\n이동\n이동\n이동\n회전\n회전\n이동\n이동\n회전\n회전\n회전\n이동\n이동\n이동\n회전\n회전\n이동\n이동\n회전\n회전\n회전\n회전\n이동\n이동\n이동\n이동\n회전\n회전\n이동\n이동\n회전\n회전\n회전\n이동\n이동\n이동\n회전\n회전\n이동\n이동\n회전\n회전\n회전\n회전\n이동\n이동\n이동\n이동\n회전\n이동\n이동\n회전\n이동\n이동\n회전\n회전\n이동\n이동\n회전\n회전\n이동\n이동\n회전\n이동\n이동\n회전\n회전\n이동\n이동\n회전\n회전\n이동\n이동\n회전\n이동\n이동\n회전\n이동\n이동\n회전\n회전\n이동\n이동\n회전\n회전\n이동\n이동\n회전\n이동\n이동\n회전\n회전\n이동\n이동\n회전\n회전\n이동\n이동\n이동\n회전\n이동\n이동\n회전\n회전\n이동\n이동\n회전\n회전\n이동\n이동\n회전\n이동\n이동\n회전\n회전\n이동\n이동\n회전\n회전\n이동\n이동\n이동\n회전\n회전\n이동\n이동\n회전\n회전\n회전\n이동\n이동\n이동\n회전\n회전\n이동\n이동\n회전\n회전\n회전\n이동\n이동\n이동\n회전\n이동\n이동\n회전\n회전\n이동\n이동\n회전\n회전\n이동\n이동\n회전\n이동\n이동\n회전\n회전\n이동\n이동\n회전\n회전\n이동\n이동\n이동\n회전\n회전\n이동\n이동\n회전\n회전\n회전\n이동\n이동\n이동\n회전\n회전\n이동\n이동\n회전\n회전\n회전\n이동\n이동\n이동\n회전\n이동\n이동\n회전\n이동\n이동\n회전\n회전\n이동\n이동\n회전\n회전\n이동\n이동\n회전\n이동\n이동\n회전\n회전\n이동\n이동\n회전\n회전\n이동\n이동\n회전\n이동\n이동\n회전\n이동\n이동\n회전\n회전\n이동\n이동\n회전\n회전\n이동\n이동\n회전\n이동\n이동\n회전\n회전\n이동\n이동\n회전\n회전\n이동\n이동\n이동\n회전\n이동\n이동\n회전\n회전\n이동\n이동\n회전\n회전\n이동\n이동\n회전\n이동\n이동\n회전\n회전\n이동\n이동\n회전\n회전\n이동\n이동\n이동\n회전\n회전\n이동\n이동\n회전\n회전\n회전\n이동\n이동\n이동\n회전\n회전\n이동\n이동\n회전\n회전\n회전\n이동\n이동\n이동\n회전\n이동\n이동\n회전\n회전\n이동\n이동\n회전\n회전\n이동\n이동\n회전\n이동\n이동\n회전\n회전\n이동\n이동\n회전\n회전\n이동\n이동\n이동\n회전\n회전\n이동\n이동\n회전\n회전\n회전\n이동\n이동\n이동\n회전\n회전\n이동\n이동\n회전\n회전\n회전\n이동\n이동\n이동\n이동\n회전\n이동\n이동\n회전\n회전\n이동\n이동\n회전\n회전\n이동\n이동\n회전\n이동\n이동\n회전\n회전\n이동\n이동\n회전\n회전\n이동\n이동\n이동\n회전\n회전\n이동\n이동\n회전\n회전\n회전\n이동\n이동\n이동\n회전\n회전\n이동\n이동\n회전\n회전\n회전\n이동\n이동\n이동\n회전\n이동\n이동\n회전\n회전\n이동\n이동\n회전\n회전\n이동\n이동\n회전\n이동\n이동\n회전\n회전\n이동\n이동\n회전\n회전\n이동\n이동\n이동\n회전\n회전\n이동\n이동\n회전\n회전\n회전\n이동\n이동\n이동\n회전\n회전\n이동\n이동\n회전\n회전\n회전\n이동\n이동\n이동\n이동\n회전\n회전\n이동\n이동\n회전\n회전\n회전\n이동\n이동\n이동\n회전\n회전\n이동\n이동\n회전\n회전\n회전\n회전\n이동\n이동\n이동\n이동\n회전\n회전\n이동\n이동\n회전\n회전\n회전\n이동\n이동\n이동\n회전\n회전\n이동\n이동\n회전\n회전\n회전\n회전\n이동\n이동\n이동\n이동\n회전\n이동\n이동\n회전\n회전\n이동\n이동\n회전\n회전\n이동\n이동\n회전\n이동\n이동\n회전\n회전\n이동\n이동\n회전\n회전\n이동\n이동\n이동\n회전\n회전\n이동\n이동\n회전\n회전\n회전\n이동\n이동\n이동\n회전\n회전\n이동\n이동\n회전\n회전\n회전\n이동\n이동\n이동\n회전\n이동\n이동\n회전\n회전\n이동\n이동\n회전\n회전\n이동\n이동\n회전\n이동\n이동\n회전\n회전\n이동\n이동\n회전\n회전\n이동\n이동\n이동\n회전\n회전\n이동\n이동\n회전\n회전\n회전\n이동\n이동\n이동\n회전\n회전\n이동\n이동\n회전\n회전\n회전\n이동\n이동\n이동\n이동\n회전\n회전\n이동\n이동\n회전\n회전\n회전\n이동\n이동\n이동\n회전\n회전\n이동\n이동\n회전\n회전\n회전\n회전\n이동\n이동\n이동\n이동\n회전\n회전\n이동\n이동\n회전\n회전\n회전\n이동\n이동\n이동\n회전\n회전\n이동\n이동\n회전\n회전\n회전\n회전\n이동\n이동\n이동\n이동\n이동\n회전\n이동\n이동\n회전\n회전\n이동\n이동\n회전\n회전\n이동\n이동\n회전\n이동\n이동\n회전\n회전\n이동\n이동\n회전\n회전\n이동\n이동\n이동\n회전\n회전\n이동\n이동\n회전\n회전\n회전\n이동\n이동\n이동\n회전\n회전\n이동\n이동\n회전\n회전\n회전\n이동\n이동\n이동\n회전\n이동\n이동\n회전\n회전\n이동\n이동\n회전\n회전\n이동\n이동\n회전\n이동\n이동\n회전\n회전\n이동\n이동\n회전\n회전\n이동\n이동\n이동\n회전\n회전\n이동\n이동\n회전\n회전\n회전\n이동\n이동\n이동\n회전\n회전\n이동\n이동\n회전\n회전\n회전\n이동\n이동\n이동\n이동\n회전\n회전\n이동\n이동\n회전\n회전\n회전\n이동\n이동\n이동\n회전\n회전\n이동\n이동\n회전\n회전\n회전\n회전\n이동\n이동\n이동\n이동\n회전\n회전\n이동\n이동\n회전\n회전\n회전\n이동\n이동\n이동\n회전\n회전\n이동\n이동\n회전\n회전\n회전\n회전\n이동\n이동\n이동\n이동\n회전\n이동\n이동\n회전\n회전\n이동\n이동\n회전\n회전\n이동\n이동\n회전\n이동\n이동\n회전\n회전\n이동\n이동\n회전\n회전\n이동\n이동\n이동\n회전\n회전\n이동\n이동\n회전\n회전\n회전\n이동\n이동\n이동\n회전\n회전\n이동\n이동\n회전\n회전\n회전\n이동\n이동\n이동\n회전\n이동\n이동\n회전\n회전\n이동\n이동\n회전\n회전\n이동\n이동\n회전\n이동\n이동\n회전\n회전\n이동\n이동\n회전\n회전\n이동\n이동\n이동\n회전\n회전\n이동\n이동\n회전\n회전\n회전\n이동\n이동\n이동\n회전\n회전\n이동\n이동\n회전\n회전\n회전\n이동\n이동\n이동\n이동\n회전\n회전\n이동\n이동\n회전\n회전\n회전\n이동\n이동\n이동\n회전\n회전\n이동\n이동\n회전\n회전\n회전\n회전\n이동\n이동\n이동\n이동\n회전\n회전\n이동\n이동\n회전\n회전\n회전\n이동\n이동\n이동\n회전\n회전\n이동\n이동\n회전\n회전\n회전\n회전\n이동\n이동\n이동\n이동\n이동\n회전\n회전\n이동\n이동\n회전\n회전\n회전\n이동\n이동\n이동\n회전\n회전\n이동\n이동\n회전\n회전\n회전\n회전\n이동\n이동\n이동\n이동\n회전\n회전\n이동\n이동\n회전\n회전\n회전\n이동\n이동\n이동\n회전\n회전\n이동\n이동\n회전\n회전\n회전\n회전\n회전\n이동\n이동\n이동\n이동\n이동\n회전\n회전\n이동\n이동\n회전\n회전\n회전\n이동\n이동\n이동\n회전\n회전\n이동\n이동\n회전\n회전\n회전\n회전\n이동\n이동\n이동\n이동\n회전\n회전\n이동\n이동\n회전\n회전\n회전\n이동\n이동\n이동\n회전\n회전\n이동\n이동\n회전\n회전\n회전\n회전\n회전\n이동\n이동\n이동\n이동\n이동\n회전\n이동\n이동\n회전\n회전\n이동\n이동\n회전\n회전\n이동\n이동\n회전\n이동\n이동\n회전\n회전\n이동\n이동\n회전\n회전\n이동\n이동\n이동\n회전\n회전\n이동\n이동\n회전\n회전\n회전\n이동\n이동\n이동\n회전\n회전\n이동\n이동\n회전\n회전\n회전\n이동\n이동\n이동\n회전\n이동\n이동\n회전\n회전\n이동\n이동\n회전\n회전\n이동\n이동\n회전\n이동\n이동\n회전\n회전\n이동\n이동\n회전\n회전\n이동\n이동\n이동\n회전\n회전\n이동\n이동\n회전\n회전\n회전\n이동\n이동\n이동\n회전\n회전\n이동\n이동\n회전\n회전\n회전\n이동\n이동\n이동\n이동\n회전\n회전\n이동\n이동\n회전\n회전\n회전\n이동\n이동\n이동\n회전\n회전\n이동\n이동\n회전\n회전\n회전\n회전\n이동\n이동\n이동\n이동\n회전\n회전\n이동\n이동\n회전\n회전\n회전\n이동\n이동\n이동\n회전\n회전\n이동\n이동\n회전\n회전\n회전\n회전\n이동\n이동\n이동\n이동\n회전\n이동\n이동\n회전\n회전\n이동\n이동\n회전\n회전\n이동\n이동\n회전\n이동\n이동\n회전\n회전\n이동\n이동\n회전\n회전\n이동\n이동\n이동\n회전\n회전\n이동\n이동\n회전\n회전\n회전\n이동\n이동\n이동\n회전\n회전\n이동\n이동\n회전\n회전\n회전\n이동\n이동\n이동\n회전\n이동\n이동\n회전\n회전\n이동\n이동\n회전\n회전\n이동\n이동\n회전\n이동\n이동\n회전\n회전\n이동\n이동\n회전\n회전\n이동\n이동\n이동\n회전\n회전\n이동\n이동\n회전\n회전\n회전\n이동\n이동\n이동\n회전\n회전\n이동\n이동\n회전\n회전\n회전\n이동\n이동\n이동\n이동\n회전\n회전\n이동\n이동\n회전\n회전\n회전\n이동\n이동\n이동\n회전\n회전\n이동\n이동\n회전\n회전\n회전\n회전\n이동\n이동\n이동\n이동\n회전\n회전\n이동\n이동\n회전\n회전\n회전\n이동\n이동\n이동\n회전\n회전\n이동\n이동\n회전\n회전\n회전\n회전\n이동\n이동\n이동\n이동\n이동\n회전\n회전\n이동\n이동\n회전\n회전\n회전\n이동\n이동\n이동\n회전\n회전\n이동\n이동\n회전\n회전\n회전\n회전\n이동\n이동\n이동\n이동\n회전\n회전\n이동\n이동\n회전\n회전\n회전\n이동\n이동\n이동\n회전\n회전\n이동\n이동\n회전\n회전\n회전\n회전\n회전\n이동\n이동\n이동\n이동\n이동\n회전\n회전\n이동\n이동\n회전\n회전\n회전\n이동\n이동\n이동\n회전\n회전\n이동\n이동\n회전\n회전\n회전\n회전\n이동\n이동\n이동\n이동\n회전\n회전\n이동\n이동\n회전\n회전\n회전\n이동\n이동\n이동\n회전\n회전\n이동\n이동\n회전\n회전\n회전\n회전\n회전\n"
    }
   ],
   "source": [
    "solution(board)"
   ]
  },
  {
   "cell_type": "code",
   "execution_count": null,
   "metadata": {},
   "outputs": [],
   "source": []
  },
  {
   "cell_type": "code",
   "execution_count": null,
   "metadata": {},
   "outputs": [],
   "source": []
  },
  {
   "cell_type": "code",
   "execution_count": 1,
   "metadata": {},
   "outputs": [],
   "source": [
    "import pandas as pd"
   ]
  },
  {
   "cell_type": "code",
   "execution_count": 2,
   "metadata": {},
   "outputs": [],
   "source": [
    "N = 12\n",
    "# 이름 국어 영어 수학\n",
    "datas = '''Junkyu 50 60 100\n",
    "Sangkeun 80 60 50\n",
    "Sunyoung 80 70 100\n",
    "Soong 50 60 90\n",
    "Haebin 50 60 100\n",
    "Kangsoo 60 80 100\n",
    "Donghyuk 80 60 100\n",
    "Sei 70 70 70\n",
    "Wonseob 70 70 90\n",
    "Sanghyun 70 70 80\n",
    "nsj 80 80 80\n",
    "Taewhan 50 60 90'''"
   ]
  },
  {
   "cell_type": "code",
   "execution_count": 96,
   "metadata": {},
   "outputs": [],
   "source": [
    "def sol(N, datas):\n",
    "    datas = list(\n",
    "        map(\n",
    "            lambda i : list(\n",
    "                map(\n",
    "                    lambda n : n[1] if n[0] == 0 else int(n[1]), enumerate(i.split()))\n",
    "                ),\n",
    "                datas.split('\\n')\n",
    "            )\n",
    "    )\n",
    "\n",
    "    # datas = list(map(lambda i : list(enumerate(i.split())), datas.split('\\n')))\n",
    "    # print(datas)\n",
    "    # print(datas[::1])\n",
    "    \n",
    "    datas = sorted(datas, key=lambda i: (-i[1], i[2], -i[3], i[0]))\n",
    "    # e = [(1, 3), (0, 3), (1, 4), (1, 5), (0, 1), (2, 4)]\n",
    "    # f = sorted(e, key = lambda x : (x[0], -x[1]))\n",
    "                \n",
    "    return list(map(lambda i : i[0], datas))"
   ]
  },
  {
   "cell_type": "code",
   "execution_count": 97,
   "metadata": {
    "tags": []
   },
   "outputs": [
    {
     "output_type": "execute_result",
     "data": {
      "text/plain": "['Donghyuk',\n 'Sangkeun',\n 'Sunyoung',\n 'nsj',\n 'Wonseob',\n 'Sanghyun',\n 'Sei',\n 'Kangsoo',\n 'Haebin',\n 'Junkyu',\n 'Soong',\n 'Taewhan']"
     },
     "metadata": {},
     "execution_count": 97
    }
   ],
   "source": [
    "sol(N, datas)"
   ]
  },
  {
   "cell_type": "code",
   "execution_count": 154,
   "metadata": {},
   "outputs": [],
   "source": [
    "N = 4\n",
    "houses = [5,1,7,9]"
   ]
  },
  {
   "cell_type": "code",
   "execution_count": 155,
   "metadata": {
    "tags": []
   },
   "outputs": [
    {
     "output_type": "stream",
     "name": "stdout",
     "text": "5\n"
    }
   ],
   "source": [
    "# N = int(input())\n",
    "# houses = list(map(int, input().split()))\n",
    "    \n",
    "def find_house(t, direc, houses):\n",
    "    if t in houses:\n",
    "        return t\n",
    "    else:\n",
    "        if t+direc in houses:\n",
    "            return t+direc\n",
    "        else:\n",
    "            if direc >= 0:\n",
    "                direc += 1\n",
    "            else:\n",
    "                direc -= 1\n",
    "            return find_house(t, direc, houses)\n",
    "\n",
    "def sol(N, houses):\n",
    "    \n",
    "    temp = sum(houses)//len(houses)\n",
    "    \n",
    "    a = find_house(temp, 1, houses)\n",
    "    b = find_house(temp, -1, houses)\n",
    "    answer1=0\n",
    "    answer2=0\n",
    "    for h in houses:\n",
    "        answer1 += abs(a - h)\n",
    "        answer2 += abs(b - h)\n",
    "    if answer1 < answer2:\n",
    "        print(a)\n",
    "    else:\n",
    "        print(b)\n",
    "    \n",
    "\n",
    "sol(N, houses)"
   ]
  },
  {
   "cell_type": "code",
   "execution_count": 156,
   "metadata": {
    "tags": []
   },
   "outputs": [
    {
     "output_type": "stream",
     "name": "stdout",
     "text": "5\n"
    }
   ],
   "source": [
    "sol(N, houses)"
   ]
  },
  {
   "cell_type": "code",
   "execution_count": 158,
   "metadata": {},
   "outputs": [],
   "source": [
    "N = 5\n",
    "stages = [2,1,2,6,2,4,3,3]"
   ]
  },
  {
   "cell_type": "code",
   "execution_count": 237,
   "metadata": {},
   "outputs": [],
   "source": [
    "def solution(N, stages):\n",
    "    answer = []\n",
    "    stages.sort(reverse = True)\n",
    "    temp = stages[0]\n",
    "    this_failure = {}\n",
    "    this_failure[temp] = 0\n",
    "    total_users = 1\n",
    "    temp_list = []\n",
    "    for s in range(N, 0, -1):\n",
    "        a = stages.count(s)\n",
    "        total_users += a\n",
    "        temp_list.append((s, a/total_users))\n",
    "    \n",
    "    [print(i[0], end=' ') for i in sorted(temp_list, key=lambda i :(-i[1], i[0]))]\n",
    "    # return \n",
    "\n"
   ]
  },
  {
   "cell_type": "code",
   "execution_count": 238,
   "metadata": {
    "tags": []
   },
   "outputs": [
    {
     "output_type": "stream",
     "name": "stdout",
     "text": "3 4 2 1 5"
    }
   ],
   "source": [
    "solution(N, stages)"
   ]
  },
  {
   "cell_type": "code",
   "execution_count": 261,
   "metadata": {},
   "outputs": [],
   "source": [
    "N = 3\n",
    "card_list = [10, 20, 40, 60, 70, 100]"
   ]
  },
  {
   "cell_type": "code",
   "execution_count": 265,
   "metadata": {
    "tags": []
   },
   "outputs": [
    {
     "output_type": "stream",
     "name": "stdout",
     "text": "[10, 20, 40, 60, 70, 100]\n"
    }
   ],
   "source": [
    "# N = int(input())\n",
    "# import sys\n",
    "# card_list = list(map(int, sys.stdin.readlines()))\n",
    "\n",
    "print(card_list)\n",
    "import heapq\n",
    "from itertools import permutations\n",
    "def sol(N, card_list):\n",
    "    answer = []\n",
    "    if len(card_list) == 1:\n",
    "        return 0\n",
    "    for cards in permutations(card_list, len(card_list)):\n",
    "        cards = list(cards)\n",
    "        now_card = []\n",
    "        this_sum = 0\n",
    "        while cards:\n",
    "            now_card.append(heapq.heappop(cards))\n",
    "            # print(now_card)\n",
    "            if len(now_card) == 2:\n",
    "                now_card = [sum(now_card)]\n",
    "                this_sum += now_card[0]\n",
    "        answer.append(this_sum)\n",
    "        print(this_sum)\n",
    "    return min(answer)\n",
    "\n",
    "    "
   ]
  },
  {
   "cell_type": "code",
   "execution_count": 266,
   "metadata": {
    "tags": []
   },
   "outputs": [
    {
     "output_type": "stream",
     "name": "stdout",
     "text": "730\n730\n730\n730\n730\n730\n730\n730\n730\n730\n730\n730\n730\n730\n730\n730\n730\n730\n730\n730\n730\n730\n730\n730\n730\n730\n730\n730\n730\n730\n750\n750\n750\n730\n750\n730\n750\n750\n750\n730\n750\n730\n750\n750\n750\n730\n750\n730\n750\n750\n730\n730\n730\n730\n790\n790\n750\n730\n750\n730\n790\n790\n790\n750\n790\n730\n790\n790\n790\n750\n790\n730\n770\n750\n730\n730\n730\n730\n810\n790\n750\n730\n750\n730\n870\n790\n790\n750\n750\n730\n820\n820\n820\n770\n820\n730\n750\n750\n730\n730\n730\n730\n790\n790\n750\n730\n750\n730\n810\n790\n790\n750\n750\n730\n810\n790\n790\n750\n750\n730\n730\n730\n730\n730\n730\n730\n730\n730\n730\n730\n730\n730\n730\n730\n730\n730\n730\n730\n730\n730\n730\n730\n730\n730\n730\n730\n730\n730\n730\n730\n760\n760\n760\n730\n760\n730\n760\n760\n760\n730\n760\n730\n760\n760\n760\n730\n760\n730\n750\n750\n730\n730\n730\n730\n810\n810\n760\n730\n760\n730\n800\n800\n800\n750\n800\n730\n800\n800\n800\n750\n800\n730\n770\n750\n730\n730\n730\n730\n830\n810\n760\n730\n760\n730\n890\n810\n800\n750\n760\n730\n830\n830\n830\n770\n830\n730\n750\n750\n730\n730\n730\n730\n810\n810\n760\n730\n760\n730\n830\n810\n800\n750\n760\n730\n830\n810\n800\n750\n760\n730\n750\n750\n750\n750\n750\n750\n750\n750\n750\n750\n750\n750\n750\n750\n750\n750\n750\n750\n750\n750\n750\n750\n750\n750\n750\n750\n750\n750\n750\n750\n760\n760\n760\n750\n760\n750\n760\n760\n760\n750\n760\n750\n760\n760\n760\n750\n760\n750\n790\n790\n750\n750\n750\n750\n810\n810\n760\n750\n760\n750\n840\n840\n840\n790\n840\n750\n840\n840\n840\n790\n840\n750\n810\n790\n750\n750\n750\n750\n830\n810\n760\n750\n760\n750\n950\n810\n840\n790\n760\n750\n870\n870\n870\n810\n870\n750\n790\n790\n750\n750\n750\n750\n810\n810\n760\n750\n760\n750\n850\n810\n840\n790\n760\n750\n850\n810\n840\n790\n760\n750\n790\n790\n790\n790\n790\n790\n790\n790\n790\n790\n790\n790\n790\n790\n790\n790\n790\n790\n790\n790\n790\n790\n790\n790\n790\n790\n790\n790\n790\n790\n800\n800\n800\n790\n800\n790\n800\n800\n800\n790\n800\n790\n800\n800\n800\n790\n800\n790\n810\n810\n790\n790\n790\n790\n830\n830\n800\n790\n800\n790\n840\n840\n840\n810\n840\n790\n840\n840\n840\n810\n840\n790\n870\n810\n790\n790\n790\n790\n890\n830\n800\n790\n800\n790\n950\n830\n840\n810\n800\n790\n930\n930\n930\n870\n930\n790\n810\n810\n790\n790\n790\n790\n830\n830\n800\n790\n800\n790\n850\n830\n840\n810\n800\n790\n850\n830\n840\n810\n800\n790\n820\n820\n820\n820\n820\n820\n820\n820\n820\n820\n820\n820\n820\n820\n820\n820\n820\n820\n820\n820\n820\n820\n820\n820\n820\n820\n820\n820\n820\n820\n830\n830\n830\n820\n830\n820\n830\n830\n830\n820\n830\n820\n830\n830\n830\n820\n830\n820\n840\n840\n820\n820\n820\n820\n860\n860\n830\n820\n830\n820\n870\n870\n870\n840\n870\n820\n870\n870\n870\n840\n870\n820\n880\n840\n820\n820\n820\n820\n900\n860\n830\n820\n830\n820\n960\n860\n870\n840\n830\n820\n930\n930\n930\n880\n930\n820\n840\n840\n820\n820\n820\n820\n860\n860\n830\n820\n830\n820\n880\n860\n870\n840\n830\n820\n880\n860\n870\n840\n830\n820\n940\n940\n940\n940\n940\n940\n940\n940\n940\n940\n940\n940\n940\n940\n940\n940\n940\n940\n940\n940\n940\n940\n940\n940\n940\n940\n940\n940\n940\n940\n950\n950\n950\n940\n950\n940\n950\n950\n950\n940\n950\n940\n950\n950\n950\n940\n950\n940\n960\n960\n940\n940\n940\n940\n980\n980\n950\n940\n950\n940\n990\n990\n990\n960\n990\n940\n990\n990\n990\n960\n990\n940\n1000\n960\n940\n940\n940\n940\n1020\n980\n950\n940\n950\n940\n1080\n980\n990\n960\n950\n940\n1050\n1050\n1050\n1000\n1050\n940\n960\n960\n940\n940\n940\n940\n980\n980\n950\n940\n950\n940\n1000\n980\n990\n960\n950\n940\n1000\n980\n990\n960\n950\n940\n"
    },
    {
     "output_type": "execute_result",
     "data": {
      "text/plain": "730"
     },
     "metadata": {},
     "execution_count": 266
    }
   ],
   "source": [
    "sol(N, card_list)"
   ]
  },
  {
   "cell_type": "code",
   "execution_count": 271,
   "metadata": {},
   "outputs": [],
   "source": [
    "import heapq\n",
    "def sol(N, card_list):\n",
    "    answer = []\n",
    "    result = 0\n",
    "    for card in card_list:\n",
    "        heapq.heappush(answer, card)\n",
    "    while len(answer) != 1:\n",
    "        sum_value = (heapq.heappop(answer) + heapq.heappop(answer))\n",
    "        result += sum_value\n",
    "        heapq.heappush(answer, sum_value)\n",
    "    return result\n"
   ]
  },
  {
   "cell_type": "code",
   "execution_count": 272,
   "metadata": {},
   "outputs": [
    {
     "output_type": "execute_result",
     "data": {
      "text/plain": "700"
     },
     "metadata": {},
     "execution_count": 272
    }
   ],
   "source": [
    "sol(N, card_list)"
   ]
  },
  {
   "cell_type": "code",
   "execution_count": 278,
   "metadata": {},
   "outputs": [],
   "source": [
    "def sol(N, target, li):\n",
    "    temp = li.count(target)\n",
    "    return temp if temp > 0 else -1"
   ]
  },
  {
   "cell_type": "code",
   "execution_count": 279,
   "metadata": {},
   "outputs": [],
   "source": [
    "N = 7\n",
    "target = 2\n",
    "li = [1,1,2,2,2,2,3]"
   ]
  },
  {
   "cell_type": "code",
   "execution_count": 280,
   "metadata": {},
   "outputs": [],
   "source": [
    "N = 7\n",
    "target = 4\n",
    "li = [1,1,2,2,2,2,3]"
   ]
  },
  {
   "cell_type": "code",
   "execution_count": 281,
   "metadata": {},
   "outputs": [
    {
     "output_type": "execute_result",
     "data": {
      "text/plain": "-1"
     },
     "metadata": {},
     "execution_count": 281
    }
   ],
   "source": [
    "sol(N, target, li)"
   ]
  },
  {
   "cell_type": "code",
   "execution_count": 324,
   "metadata": {},
   "outputs": [],
   "source": [
    "N = 5\n",
    "a = [-15, -6, 1, 3, 7]"
   ]
  },
  {
   "cell_type": "code",
   "execution_count": 340,
   "metadata": {},
   "outputs": [],
   "source": [
    "N = 7\n",
    "a = [-15, -4, 2, 8, 9, 13, 15]"
   ]
  },
  {
   "cell_type": "code",
   "execution_count": 341,
   "metadata": {},
   "outputs": [],
   "source": [
    "from bisect import bisect_left, bisect_right\n",
    "\n",
    "def sol(N, a):\n",
    "    temp = bisect_left(a, 0)\n",
    "    while True:\n",
    "        if temp == a[temp]:\n",
    "            return temp\n",
    "        else:\n",
    "            if temp == bisect_left(a, temp):\n",
    "                break\n",
    "        temp = bisect_left(a, temp)\n",
    "            \n",
    "    return -1"
   ]
  },
  {
   "cell_type": "code",
   "execution_count": 342,
   "metadata": {
    "tags": []
   },
   "outputs": [
    {
     "output_type": "execute_result",
     "data": {
      "text/plain": "2"
     },
     "metadata": {},
     "execution_count": 342
    }
   ],
   "source": [
    "sol(N, a)"
   ]
  },
  {
   "cell_type": "code",
   "execution_count": 366,
   "metadata": {},
   "outputs": [],
   "source": [
    "N, C = 5, 3\n",
    "houses = [1,2,8,4,9]\n"
   ]
  },
  {
   "cell_type": "code",
   "execution_count": 367,
   "metadata": {},
   "outputs": [],
   "source": [
    "# N = int(input())\n",
    "# houses = sys.stdin.readline().rstrip()\n",
    "# houses = list(map(int, houses))\n",
    "\n",
    "from bisect import bisect_left, bisect_right\n",
    "\n",
    "def sol(N, C, houses):\n",
    "    houses.sort()\n",
    "    min_wifi = houses[0]\n",
    "    max_wifi = houses[N-1]\n",
    "    C-=2\n",
    "    middle_wifi = houses[N//2]\n",
    "    answer = max_wifi - min_wifi\n",
    "    while C != 0:\n",
    "        # wifis.append(middle_wifi)\n",
    "        C-=1\n",
    "        if middle_wifi - min_wifi < max_wifi - middle_wifi:\n",
    "            answer = middle_wifi - min_wifi\n",
    "            middle_wifi = bisect_right(houses, middle_wifi)\n",
    "            min_wifi = middle_wifi\n",
    "        else:\n",
    "            answer = max_wifi - middle_wifi\n",
    "            middle_wifi = bisect_left(houses, middle_wifi)\n",
    "            max_wifi = middle_wifi\n",
    "\n",
    "    print(answer)\n",
    "        \n"
   ]
  },
  {
   "cell_type": "code",
   "execution_count": 368,
   "metadata": {
    "tags": []
   },
   "outputs": [
    {
     "output_type": "stream",
     "name": "stdout",
     "text": "3\n"
    }
   ],
   "source": [
    "sol(N, C, houses)"
   ]
  },
  {
   "cell_type": "code",
   "execution_count": null,
   "metadata": {},
   "outputs": [],
   "source": []
  },
  {
   "cell_type": "code",
   "execution_count": 369,
   "metadata": {},
   "outputs": [],
   "source": [
    "N, M = 3,4\n",
    "gold_map = '1 3 3 2 2 1 4 1 0 6 4 7'"
   ]
  },
  {
   "cell_type": "code",
   "execution_count": 430,
   "metadata": {},
   "outputs": [],
   "source": [
    "N, M = 4,4\n",
    "gold_map = '1 3 1 5 2 2 4 1 5 0 2 3 0 6 1 2'"
   ]
  },
  {
   "cell_type": "code",
   "execution_count": 439,
   "metadata": {},
   "outputs": [],
   "source": [
    "from itertools import chain\n",
    "move_dir = [-1, 0, 1]\n",
    "def find_best(y, x, gold_map, answer_map, this_gold):\n",
    "    new_x = x + 1\n",
    "    for md in move_dir:\n",
    "        new_y = y + md\n",
    "        if new_x == len(gold_map[0]):\n",
    "            break\n",
    "        if new_y < 0 or new_y >= len(gold_map)-1:\n",
    "            continue\n",
    "        if answer_map[new_y][new_x] < gold_map[new_y][new_x] + this_gold:\n",
    "            answer_map[new_y][new_x] = gold_map[new_y][new_x] + this_gold\n",
    "            find_best(new_y, new_x, gold_map, answer_map, answer_map[new_y][new_x])\n",
    "\n",
    "    \n",
    "\n",
    "def sol(N, M, gold_map):\n",
    "    gold_map = [int(g) for g in gold_map.split()]\n",
    "    answer_map = [[0]*M for _ in range(N)]\n",
    "    temp = []\n",
    "    for i, g in enumerate(gold_map):\n",
    "        temp.append(g)\n",
    "        if i%M == 3:\n",
    "            gold_map.append(temp)\n",
    "            temp = []\n",
    "    gold_map = gold_map[N*M:]\n",
    "    \n",
    "    temp = []\n",
    "    for i in range(N):\n",
    "        answer_map[i][0] = gold_map[i][0]\n",
    "        find_best(i,0, gold_map, answer_map, gold_map[i][0])\n",
    "    \n",
    "    return max(list(chain(*answer_map)))\n",
    "            "
   ]
  },
  {
   "cell_type": "code",
   "execution_count": 440,
   "metadata": {
    "tags": []
   },
   "outputs": [
    {
     "output_type": "stream",
     "name": "stdout",
     "text": "-1\n-1\n-1\n-1\n-1\n4\n-1\n4\n4\n4\n4\n"
    },
    {
     "output_type": "execute_result",
     "data": {
      "text/plain": "16"
     },
     "metadata": {},
     "execution_count": 440
    }
   ],
   "source": [
    "sol(N, M, gold_map)"
   ]
  },
  {
   "cell_type": "code",
   "execution_count": null,
   "metadata": {},
   "outputs": [],
   "source": []
  },
  {
   "cell_type": "code",
   "execution_count": 484,
   "metadata": {},
   "outputs": [],
   "source": [
    "N = 5\n",
    "numbers ='''7\n",
    "3 8\n",
    "8 1 0\n",
    "2 7 4 4\n",
    "4 5 2 6 5'''"
   ]
  },
  {
   "cell_type": "code",
   "execution_count": 493,
   "metadata": {},
   "outputs": [],
   "source": [
    "from itertools import chain\n",
    "def find_sol(now, x, this_row, triangle, answer):\n",
    "    if this_row == len(triangle):\n",
    "        return\n",
    "    \n",
    "    for i in range(x, x+2):\n",
    "        if answer[this_row][i] == 0:\n",
    "            answer[this_row][i] = triangle[this_row][i] + now\n",
    "        elif answer[this_row][i] < triangle[this_row][i] + now:\n",
    "            answer[this_row][i] = triangle[this_row][i] + now\n",
    "        else:\n",
    "            break\n",
    "        find_sol(answer[this_row][i], i, this_row+1, triangle, answer)\n",
    "    \n",
    "\n",
    "def sol(N, numbers):\n",
    "    triangle = [list(map(int, n.split())) for n in numbers.split('\\n')]\n",
    "    answer = [[0] * (i+1) for i in range(N)]\n",
    "    answer[0][0] = triangle[0][0]\n",
    "    find_sol(triangle[0][0], 0, 1, triangle, answer)\n",
    "\n",
    "    print(max(chain(*answer)))"
   ]
  },
  {
   "cell_type": "code",
   "execution_count": 494,
   "metadata": {
    "tags": []
   },
   "outputs": [
    {
     "output_type": "stream",
     "name": "stdout",
     "text": "[[0], [0, 0], [0, 0, 0], [0, 0, 0, 0], [0, 0, 0, 0, 0]]\n"
    },
    {
     "output_type": "execute_result",
     "data": {
      "text/plain": "30"
     },
     "metadata": {},
     "execution_count": 494
    }
   ],
   "source": [
    "sol(N, numbers)"
   ]
  },
  {
   "cell_type": "code",
   "execution_count": 498,
   "metadata": {
    "tags": []
   },
   "outputs": [
    {
     "output_type": "stream",
     "name": "stdout",
     "text": "30\n"
    }
   ],
   "source": [
    "# N = int(input())\n",
    "# numbers = []\n",
    "# numbers.append(list(map(int,input().split())))\n",
    "\n",
    "N = 5\n",
    "numbers ='''7\n",
    "3 8\n",
    "8 1 0\n",
    "2 7 4 4\n",
    "4 5 2 6 5'''\n",
    "\n",
    "from itertools import chain\n",
    "def find_sol(now, x, this_row, triangle, answer):\n",
    "    if this_row == len(triangle):\n",
    "        return\n",
    "    \n",
    "    for i in range(x, x+2):\n",
    "        if answer[this_row][i] == 0:\n",
    "            answer[this_row][i] = triangle[this_row][i] + now\n",
    "        elif answer[this_row][i] < triangle[this_row][i] + now:\n",
    "            answer[this_row][i] = triangle[this_row][i] + now\n",
    "        else:\n",
    "            continue\n",
    "        find_sol(answer[this_row][i], i, this_row+1, triangle, answer)\n",
    "    \n",
    "\n",
    "def sol(N, numbers):\n",
    "    triangle = [list(map(int, n.split())) for n in numbers.split('\\n')]\n",
    "    answer = [[0] * (i+1) for i in range(N)]\n",
    "    answer[0][0] = triangle[0][0]\n",
    "    find_sol(triangle[0][0], 0, 1, triangle, answer)\n",
    "\n",
    "    print(max(chain(*answer)))\n",
    "\n",
    "sol(N, numbers)"
   ]
  },
  {
   "cell_type": "code",
   "execution_count": null,
   "metadata": {},
   "outputs": [],
   "source": []
  },
  {
   "cell_type": "code",
   "execution_count": 501,
   "metadata": {},
   "outputs": [],
   "source": [
    "N = 7\n",
    "schedule = '''3 10\n",
    "5 20\n",
    "1 10\n",
    "1 20\n",
    "2 15\n",
    "4 40\n",
    "2 200'''"
   ]
  },
  {
   "cell_type": "code",
   "execution_count": 561,
   "metadata": {},
   "outputs": [],
   "source": [
    "N = 10\n",
    "schedule = '''1 1\n",
    "1 2\n",
    "1 3\n",
    "1 4\n",
    "1 5\n",
    "1 6\n",
    "1 7\n",
    "1 8\n",
    "1 9\n",
    "1 10'''"
   ]
  },
  {
   "cell_type": "code",
   "execution_count": 562,
   "metadata": {},
   "outputs": [],
   "source": [
    "def next_schedule(now, dur, money, N, schedule, best_money):\n",
    "    # print(now, dur, money, best_money)\n",
    "    if now+dur >= N:\n",
    "        return\n",
    "    \n",
    "    for i in range(now+dur, N):\n",
    "        if best_money[i] < money + best_money[now]:\n",
    "            best_money[i] = money + best_money[now]\n",
    "            next_schedule(i, schedule[i][0], schedule[i][1], N, schedule, best_money)\n",
    "    \n",
    "\n",
    "def sol(N, schedule):\n",
    "    schedule = [list(map(int, i.split())) for i in schedule.split('\\n')]\n",
    "    best_money = [0 for _ in range(N)]\n",
    "    answer = []\n",
    "    for i, s in enumerate(schedule):\n",
    "        if i + s[0] >= N:\n",
    "            continue\n",
    "        if best_money[i] != 0 and best_money[i] > s[1]:\n",
    "            continue\n",
    "        next_schedule(i, s[0], s[1], N, schedule, best_money)\n",
    "\n",
    "    return max(best_money)"
   ]
  },
  {
   "cell_type": "code",
   "execution_count": 563,
   "metadata": {
    "tags": []
   },
   "outputs": [
    {
     "output_type": "execute_result",
     "data": {
      "text/plain": "45"
     },
     "metadata": {},
     "execution_count": 563
    }
   ],
   "source": [
    "sol(N, schedule)"
   ]
  },
  {
   "cell_type": "code",
   "execution_count": null,
   "metadata": {},
   "outputs": [],
   "source": []
  },
  {
   "cell_type": "code",
   "execution_count": null,
   "metadata": {},
   "outputs": [],
   "source": []
  },
  {
   "cell_type": "code",
   "execution_count": 1,
   "metadata": {},
   "outputs": [],
   "source": [
    "# 39\n",
    "N = 3\n",
    "maps = \"\"\"5 5 4\n",
    "3 9 1\n",
    "3 2 7\"\"\""
   ]
  },
  {
   "cell_type": "code",
   "execution_count": 24,
   "metadata": {},
   "outputs": [],
   "source": [
    "N = 5\n",
    "maps = \"\"\"3 7 2 0 1\n",
    "2 8 0 9 1\n",
    "1 2 1 8 1\n",
    "9 8 9 2 0\n",
    "3 6 5 1 5\"\"\""
   ]
  },
  {
   "cell_type": "code",
   "execution_count": 27,
   "metadata": {},
   "outputs": [],
   "source": [
    "N = 7\n",
    "maps = \"\"\"9 0 5 1 1 1 5 3\n",
    "4 1 2 1 6 5 3\n",
    "0 7 6 1 6 8 5\n",
    "1 1 7 8 3 2 3\n",
    "9 4 0 7 6 4 1\n",
    "5 8 3 2 4 8 3\n",
    "7 4 8 4 8 3 4\"\"\""
   ]
  },
  {
   "cell_type": "code",
   "execution_count": 28,
   "metadata": {},
   "outputs": [],
   "source": [
    "four_dir = [(1,0), (0,1), (-1,0), (0,-1)]\n",
    "\n",
    "def move(current_pos, maps, cost):\n",
    "    X = current_pos[0]\n",
    "    Y = current_pos[1]\n",
    "    for move_X, move_Y in four_dir:\n",
    "        next_X = X + move_X\n",
    "        next_Y = Y + move_Y\n",
    "\n",
    "        if next_X >= N or next_X < 0 or next_Y >= N or next_Y < 0:\n",
    "            continue\n",
    "        \n",
    "        temp = cost[next_X][next_Y]\n",
    "        cost[next_X][next_Y] = min(cost[next_X][next_Y], cost[X][Y] + maps[next_X][next_Y])\n",
    "        \n",
    "        if temp != cost[next_X][next_Y]:\n",
    "            move((next_X, next_Y), maps, cost)\n",
    "\n",
    "def sol_39(N, maps):\n",
    "    maps = [list(map(int, i.split())) for i in maps.split('\\n')]\n",
    "    INF = int(1e9)\n",
    "    cost = [[INF]*N for _ in range(N)]\n",
    "    start_pos = (0, 0)\n",
    "    cost[0][0] = maps[0][0]\n",
    "\n",
    "    move(start_pos, maps, cost)\n",
    "\n",
    "        \n",
    "\n",
    "    return cost[N-1][N-1]\n"
   ]
  },
  {
   "cell_type": "code",
   "execution_count": 29,
   "metadata": {},
   "outputs": [
    {
     "output_type": "execute_result",
     "data": {
      "text/plain": "36"
     },
     "metadata": {},
     "execution_count": 29
    }
   ],
   "source": [
    "sol_39(N, maps)"
   ]
  },
  {
   "cell_type": "code",
   "execution_count": null,
   "metadata": {},
   "outputs": [],
   "source": []
  },
  {
   "cell_type": "code",
   "execution_count": 30,
   "metadata": {},
   "outputs": [],
   "source": [
    "# 40\n",
    "N, M = 6, 7\n",
    "roads = \"\"\"3 6\n",
    "4 3\n",
    "3 2\n",
    "1 3\n",
    "1 2\n",
    "2 4\n",
    "5 2\"\"\""
   ]
  },
  {
   "cell_type": "code",
   "execution_count": 53,
   "metadata": {},
   "outputs": [],
   "source": [
    "def move(current_pos, graph, cost):\n",
    "    for next_pos in graph[current_pos]:\n",
    "        temp = cost[next_pos]\n",
    "        cost[next_pos] = min(cost[next_pos], cost[current_pos] + 1)\n",
    "        if cost[next_pos] == temp:\n",
    "            continue\n",
    "        move(next_pos, graph, cost)\n",
    "\n",
    "def sol_40(N, M, roads):\n",
    "    roads = [list(map(int, i.split())) for i in roads.split('\\n')]\n",
    "\n",
    "    graph = {_:[] for _ in range(1, N+1)}\n",
    "    for s, e in roads:\n",
    "        graph[s].append(e)\n",
    "        graph[e].append(s)\n",
    "    \n",
    "    INF = int(1e9)\n",
    "    cost = [INF] * (N+1)\n",
    "    cost[1] = 0\n",
    "\n",
    "    move(1, graph, cost)\n",
    "\n",
    "    max_distance = max(cost[1:])\n",
    "    return cost.index(max_distance), max_distance, cost.count(max_distance)"
   ]
  },
  {
   "cell_type": "code",
   "execution_count": 54,
   "metadata": {
    "tags": []
   },
   "outputs": [
    {
     "output_type": "execute_result",
     "data": {
      "text/plain": "(4, 2, 3)"
     },
     "metadata": {},
     "execution_count": 54
    }
   ],
   "source": [
    "sol_40(N, M, roads)"
   ]
  },
  {
   "cell_type": "code",
   "execution_count": null,
   "metadata": {},
   "outputs": [],
   "source": []
  },
  {
   "cell_type": "code",
   "execution_count": 56,
   "metadata": {},
   "outputs": [],
   "source": [
    "# 41\n",
    "N, M = 5, 4\n",
    "maps = '''0 1 0 1 1\n",
    "1 0 1 1 0\n",
    "0 1 0 0 0\n",
    "1 1 0 0 0\n",
    "1 0 0 0 0'''\n",
    "route = '2 3 4 3'"
   ]
  },
  {
   "cell_type": "code",
   "execution_count": 103,
   "metadata": {},
   "outputs": [],
   "source": [
    "def find_route(cur_city, target_city, graph, visited):\n",
    "    answer = True\n",
    "    for next_city in graph[cur_city]:\n",
    "        if visited[cur_city][next_city]:\n",
    "            continue\n",
    "        else:\n",
    "             visited[cur_city][next_city] = 1\n",
    "        print(next_city, cur_city, target_city)\n",
    "        if next_city == target_city:\n",
    "            return True\n",
    "        for return_city in graph[next_city]:\n",
    "            if return_city != cur_city:\n",
    "                if find_route(return_city, target_city, graph, visited):\n",
    "                    return True\n",
    "                else:\n",
    "                    answer = False\n",
    "    return answer\n",
    "\n",
    "def sol_41(N, M, maps, route):\n",
    "    maps = [list(map(int, i.split())) for i in maps.split('\\n')]\n",
    "    route = list(map(int, route.split()))\n",
    "    graph = {i : [] for i in range(1, N+1)}\n",
    "    for i in range(N):\n",
    "        for j in range(N):\n",
    "            if maps[i][j]:\n",
    "                graph[i+1].append(j+1)\n",
    "\n",
    "    for i in range(M-1):\n",
    "        visited = [[0]*(N+1) for _ in range(N+1)]\n",
    "        if not find_route(route[i], route[i+1], graph, visited):\n",
    "            return 'NO'\n",
    "\n",
    "    return 'YES'"
   ]
  },
  {
   "cell_type": "code",
   "execution_count": 104,
   "metadata": {
    "tags": []
   },
   "outputs": [
    {
     "output_type": "stream",
     "name": "stdout",
     "text": "1 2 3\n1 4 3\n3 2 3\n2 3 4\n2 1 4\n1 4 3\n1 2 3\n2 4 3\n2 1 3\n2 3 3\n4 1 3\n3 2 3\n"
    },
    {
     "output_type": "execute_result",
     "data": {
      "text/plain": "'YES'"
     },
     "metadata": {},
     "execution_count": 104
    }
   ],
   "source": [
    "sol_41(N, M, maps, route)"
   ]
  },
  {
   "cell_type": "code",
   "execution_count": null,
   "metadata": {},
   "outputs": [],
   "source": []
  },
  {
   "cell_type": "code",
   "execution_count": 1,
   "metadata": {},
   "outputs": [],
   "source": [
    "G, P = 4, 3\n",
    "planes = [4,1,1]"
   ]
  },
  {
   "cell_type": "code",
   "execution_count": 4,
   "metadata": {},
   "outputs": [],
   "source": [
    "G, P = 4, 6\n",
    "planes = [2,2,3,3,4,4]"
   ]
  },
  {
   "cell_type": "code",
   "execution_count": 5,
   "metadata": {},
   "outputs": [],
   "source": [
    "def sol_42(G, P, planes):\n",
    "    DOCKING = [0] * (G+1)\n",
    "    answer = 0\n",
    "    for this_plane in planes:\n",
    "        while True:\n",
    "            if DOCKING[this_plane] == 0:\n",
    "                DOCKING[this_plane] = 1\n",
    "                answer += 1\n",
    "                break\n",
    "            else:\n",
    "                this_plane -= 1\n",
    "            if this_plane == 0:\n",
    "                return answer\n",
    "    return answer"
   ]
  },
  {
   "cell_type": "code",
   "execution_count": 6,
   "metadata": {},
   "outputs": [
    {
     "output_type": "execute_result",
     "data": {
      "text/plain": "3"
     },
     "metadata": {},
     "execution_count": 6
    }
   ],
   "source": [
    "sol_42(G,P, planes)"
   ]
  },
  {
   "cell_type": "code",
   "execution_count": null,
   "metadata": {},
   "outputs": [],
   "source": []
  },
  {
   "cell_type": "code",
   "execution_count": 8,
   "metadata": {},
   "outputs": [],
   "source": []
  },
  {
   "cell_type": "code",
   "execution_count": 81,
   "metadata": {},
   "outputs": [],
   "source": [
    "N, M = 7, 11\n",
    "roads = \"\"\"0 1 7\n",
    "0 3 5\n",
    "1 2 8\n",
    "1 3 9\n",
    "1 4 7\n",
    "2 4 5\n",
    "3 4 15\n",
    "3 5 6\n",
    "4 5 8\n",
    "4 6 9\n",
    "5 6 11\"\"\"\n",
    "\n",
    "\n",
    "def find_parent(city, parents):\n",
    "    if city == parents[city]:\n",
    "        return city\n",
    "    else:\n",
    "        return find_parent(parents[city], parents)\n",
    "\n",
    "def union_parent(parents, a, b):\n",
    "    a = find_parent(a, parents)\n",
    "    b = find_parent(b, parents)\n",
    "    if a < b:\n",
    "        parents[b] = a\n",
    "    else:\n",
    "        parent[a] = b\n",
    "\n",
    "def sol_43(N, M, roads):\n",
    "    parents = [i for i in range(N)]\n",
    "    answer = 0\n",
    "    roads = sorted([list(map(int,i.split())) for i in roads.split('\\n')], key = lambda i : i[2])\n",
    "    for a, b, cost in roads:\n",
    "        if find_parent(a, parents) != find_parent(b, parents):\n",
    "            union_parent(parents, a, b)\n",
    "            answer += cost\n",
    "    return sum([i[2] for i in roads]) - answer"
   ]
  },
  {
   "cell_type": "code",
   "execution_count": 82,
   "metadata": {
    "tags": []
   },
   "outputs": [
    {
     "output_type": "execute_result",
     "data": {
      "text/plain": "51"
     },
     "metadata": {},
     "execution_count": 82
    }
   ],
   "source": [
    "sol_43(N, M, roads)"
   ]
  },
  {
   "cell_type": "code",
   "execution_count": null,
   "metadata": {},
   "outputs": [],
   "source": []
  },
  {
   "cell_type": "code",
   "execution_count": 8,
   "metadata": {},
   "outputs": [],
   "source": [
    "N = 5\n",
    "planets = \"\"\"11 -15 -15\n",
    "14 -5 -15\n",
    "-1 -1 -5\n",
    "10 -4 -1\n",
    "19 -4 19\"\"\""
   ]
  },
  {
   "cell_type": "code",
   "execution_count": 51,
   "metadata": {},
   "outputs": [],
   "source": [
    "def find_parent(x, parents):\n",
    "    if x != parents[x]:\n",
    "        return find_parent(parents[x], parents)\n",
    "    return x\n",
    "\n",
    "def union_parent(a, b, parents):\n",
    "    a = find_parent(a, parents)\n",
    "    b = find_parent(b, parents)\n",
    "\n",
    "    if a < b:\n",
    "        parents[b] = a\n",
    "    else:\n",
    "        parents[a] = b\n",
    "\n",
    "def change_input(x):\n",
    "    return [list(map(int, i.split())) for i in x.split('\\n')]\n",
    "\n",
    "def sol_44(N, planets):\n",
    "    planets = change_input(planets)\n",
    "    costs = []\n",
    "    for i, p1 in enumerate(planets):\n",
    "        for j, p2 in enumerate(planets):\n",
    "            if i == j:\n",
    "                continue\n",
    "            else:\n",
    "                cost = min(abs(p1[0]-p2[0]), abs(p1[1]-p2[1]), abs(p1[2]-p2[2]))\n",
    "                costs.append((i, j, cost))\n",
    "\n",
    "    parents = [i for i in range(N)]\n",
    "    costs = sorted(costs, key=lambda i : i[2])\n",
    "    answer = 0\n",
    "    for p1, p2, c in costs:\n",
    "        if find_parent(p1, parents) != find_parent(p2, parents):\n",
    "            union_parent(p1, p2, parents)\n",
    "            answer += c\n",
    "\n",
    "    return answer\n"
   ]
  },
  {
   "cell_type": "code",
   "execution_count": 52,
   "metadata": {},
   "outputs": [
    {
     "output_type": "execute_result",
     "data": {
      "text/plain": "4"
     },
     "metadata": {},
     "execution_count": 52
    }
   ],
   "source": [
    "sol_44(N, planets)"
   ]
  },
  {
   "cell_type": "code",
   "execution_count": 164,
   "metadata": {},
   "outputs": [],
   "source": [
    "n = 5\n",
    "past = [5,4,3,2,1]\n",
    "m = 2\n",
    "changes = '''2 4\n",
    "3 4'''"
   ]
  },
  {
   "cell_type": "code",
   "execution_count": 161,
   "metadata": {},
   "outputs": [],
   "source": [
    "n = 3\n",
    "past = [2,3,1]\n",
    "m = 0\n",
    "changes = ''''''"
   ]
  },
  {
   "cell_type": "code",
   "execution_count": 134,
   "metadata": {},
   "outputs": [],
   "source": [
    "n = 4\n",
    "past = [1,2,3,4]\n",
    "m = 3\n",
    "changes = '''1 2\n",
    "3 4\n",
    "2 3'''"
   ]
  },
  {
   "cell_type": "code",
   "execution_count": 165,
   "metadata": {},
   "outputs": [],
   "source": [
    "from collections import deque\n",
    "\n",
    "def change_input(x):\n",
    "    return [list(map(int, i.split())) for i in x.split('\\n')]\n",
    "\n",
    "# 위상 정렬 함수\n",
    "def topology_sort(v, indegree, graph):\n",
    "    result = []\n",
    "    q = deque()\n",
    "    cycle = False\n",
    "    certain = True\n",
    "\n",
    "    for i in range(1, v+1):\n",
    "        if indegree[i] == 0:\n",
    "            q.append(i)\n",
    "\n",
    "    for i in range(n):\n",
    "        if len(q) == 0:\n",
    "            cycle = True\n",
    "            break\n",
    "        if len(q) > 1:\n",
    "            certain = False\n",
    "            break\n",
    "        now = q.popleft()\n",
    "        result.append(now)\n",
    "\n",
    "        for j in graph[now]:\n",
    "            indegree[j] -= 1\n",
    "            if indegree[j] == 0:\n",
    "                q.append(j)\n",
    "\n",
    "    if cycle:\n",
    "        print('IMPOSSIBLE')\n",
    "        return\n",
    "    if not certain:\n",
    "        print('?')\n",
    "        return\n",
    "    else: return result\n",
    "\n",
    "def sol_45(n, past, m, changes):\n",
    "    changes = change_input(changes)\n",
    "    graph = [[] for i in range(n+1)]\n",
    "    indegree = [0] * (n + 1)\n",
    "    for i, a in enumerate(past):\n",
    "        for j, b in enumerate(past[i+1:]):\n",
    "            graph[a].append(b)\n",
    "            indegree[b] += 1\n",
    "\n",
    "    if changes != [[]]:\n",
    "        for c1, c2 in changes:\n",
    "            if c1 in graph[c2]:\n",
    "                graph[c2].pop(graph[c2].index(c1))\n",
    "                graph[c1].append(c2)\n",
    "                indegree[c1] -= 1\n",
    "                indegree[c2] += 1\n",
    "                \n",
    "    return topology_sort(n, indegree, graph)\n",
    "\n"
   ]
  },
  {
   "cell_type": "code",
   "execution_count": 166,
   "metadata": {
    "tags": []
   },
   "outputs": [
    {
     "output_type": "execute_result",
     "data": {
      "text/plain": "[5, 3, 2, 4, 1]"
     },
     "metadata": {},
     "execution_count": 166
    }
   ],
   "source": [
    "sol_45(n, past, m, changes)"
   ]
  },
  {
   "cell_type": "code",
   "execution_count": null,
   "metadata": {},
   "outputs": [],
   "source": []
  },
  {
   "cell_type": "code",
   "execution_count": 96,
   "metadata": {},
   "outputs": [],
   "source": [
    "N = 3\n",
    "fishbowl = '''0 0 0\n",
    "0 0 0\n",
    "0 9 0'''"
   ]
  },
  {
   "cell_type": "code",
   "execution_count": 2,
   "metadata": {},
   "outputs": [],
   "source": [
    "# 위 왼쪽, 아래 오른쪽 순서대로 찾기\n",
    "move_dir = [(-1,0),(0,-1),(1,0),(0,1)]"
   ]
  },
  {
   "cell_type": "code",
   "execution_count": 92,
   "metadata": {},
   "outputs": [],
   "source": [
    "N = 3\n",
    "fishbowl = '''0 0 1\n",
    "0 0 0\n",
    "0 9 0'''"
   ]
  },
  {
   "cell_type": "code",
   "execution_count": 102,
   "metadata": {},
   "outputs": [],
   "source": [
    "N = 4\n",
    "fishbowl = '''4 3 2 1\n",
    "0 0 0 0\n",
    "0 0 9 0\n",
    "1 2 3 4'''"
   ]
  },
  {
   "cell_type": "code",
   "execution_count": 103,
   "metadata": {},
   "outputs": [],
   "source": [
    "def change_input(x):\n",
    "    return [list(map(int, i.split())) for i in x.split('\\n')]\n",
    "\n",
    "def find_fish(baby_size, fishbowl):\n",
    "    temp = []\n",
    "    for i in range(N):\n",
    "        for j in range(N):\n",
    "            if fishbowl[i][j] < baby_size and fishbowl[i][j] != 0:\n",
    "                temp.append((i, j))\n",
    "    return temp\n",
    "\n",
    "from collections import deque\n",
    "\n",
    "def sol_46(N, fishbowl):\n",
    "\n",
    "    time = 0\n",
    "    baby_size = 2\n",
    "    now_eating = 0\n",
    "    \n",
    "    fishbowl = change_input(fishbowl)\n",
    "    print(fishbowl)\n",
    "    for i in range(N):\n",
    "        if 9 in fishbowl[i]:\n",
    "            shark_pos = (i, fishbowl[i].index(9))\n",
    "    print(shark_pos)\n",
    "\n",
    "    # 물고기 리스트 거리 탐색\n",
    "    visited = [[0]*N for _ in range(N)]\n",
    "    visited[shark_pos[0]][shark_pos[1]] = 1\n",
    "\n",
    "    fish_list = find_fish(baby_size, fishbowl)\n",
    "    if fish_list:\n",
    "        q = deque()\n",
    "        q.append(shark_pos)\n",
    "        while q:\n",
    "            x, y = q.popleft()\n",
    "            \n",
    "            for x_dir, y_dir in move_dir:\n",
    "                next_x = x + x_dir\n",
    "                next_y = y + y_dir\n",
    "                if next_x < 0 or next_x >= N or next_y < 0 or next_y >= N or visited[next_x][next_y] != 0 or fishbowl[next_x][next_y] > baby_size:\n",
    "                    continue\n",
    "                else:\n",
    "                    visited[next_x][next_y] = visited[x][y] + 1\n",
    "                    # 다음 위치정보\n",
    "                    if fishbowl[next_x][next_y] != 0 and fishbowl[next_x][next_y] < baby_size:\n",
    "                        # 먹고\n",
    "                        fishbowl[next_x][next_y] = 0\n",
    "                        # 큐 초기화\n",
    "                        q = deque()\n",
    "                        q.append((next_x, next_y))\n",
    "                        temp = visited[next_x][next_y]\n",
    "                        visited = [[0]*N for _ in range(N)]\n",
    "                        visited[next_x][next_y] = temp\n",
    "                        now_eating += 1\n",
    "                        print(temp)\n",
    "                        fish_list.pop(fish_list.index((next_x, next_y)))\n",
    "                        if now_eating == baby_size:\n",
    "                            baby_size+=1\n",
    "                            now_eating=0\n",
    "                            fish_list = find_fish(baby_size, fishbowl)\n",
    "                        if not fish_list:\n",
    "                            for vs in visited:\n",
    "                                time = max(time, max(vs))\n",
    "                            return time - 1\n",
    "                        break\n",
    "\n",
    "                    q.append((next_x, next_y))\n",
    "\n",
    "    for vs in visited:\n",
    "        time = max(time, max(vs))\n",
    "\n",
    "    return time - 1\n"
   ]
  },
  {
   "cell_type": "code",
   "execution_count": 104,
   "metadata": {
    "tags": []
   },
   "outputs": [
    {
     "output_type": "stream",
     "name": "stdout",
     "text": "[[4, 3, 2, 1], [0, 0, 0, 0], [0, 0, 9, 0], [1, 2, 3, 4]]\n(2, 2)\n4\n10\n11\n15\n"
    },
    {
     "output_type": "execute_result",
     "data": {
      "text/plain": "14"
     },
     "metadata": {},
     "execution_count": 104
    }
   ],
   "source": [
    "sol_46(N, fishbowl)"
   ]
  },
  {
   "cell_type": "code",
   "execution_count": null,
   "metadata": {},
   "outputs": [],
   "source": [
    "# 1시간 반 소요"
   ]
  },
  {
   "cell_type": "code",
   "execution_count": null,
   "metadata": {},
   "outputs": [],
   "source": []
  },
  {
   "cell_type": "code",
   "execution_count": 1,
   "metadata": {},
   "outputs": [],
   "source": [
    "move_dir = [(-1,0),(-1,-1),(0,-1),(1,-1),(1,0),(1,1),(0,1),(-1,1)]"
   ]
  },
  {
   "cell_type": "code",
   "execution_count": 2,
   "metadata": {},
   "outputs": [],
   "source": [
    "fishbowl = '''7 6 2 3 15 6 9 8\n",
    "3 1 1 8 14 7 10 1\n",
    "6 1 13 6 4 3 11 4\n",
    "16 1 8 7 5 2 12 2'''"
   ]
  },
  {
   "cell_type": "code",
   "execution_count": 28,
   "metadata": {},
   "outputs": [],
   "source": [
    "fishbowl = '''16 7 1 4 4 3 12 8\n",
    "14 7 7 6 3 4 10 2\n",
    "5 2 15 2 8 3 6 4\n",
    "11 8 2 4 13 5 9 4'''"
   ]
  },
  {
   "cell_type": "code",
   "execution_count": 25,
   "metadata": {},
   "outputs": [],
   "source": [
    "fishbowl = '''12 6 14 5 4 5 6 7\n",
    "15 1 11 7 3 7 7 5\n",
    "10 3 8 3 16 6 1 1\n",
    "5 8 2 7 13 6 9 2'''"
   ]
  },
  {
   "cell_type": "code",
   "execution_count": 29,
   "metadata": {},
   "outputs": [],
   "source": [
    "def change_input(x):\n",
    "    temp1 = [[] for _ in range(4)]\n",
    "    temp2 = [[] for _ in range(4)]\n",
    "    for i, row in enumerate([list(map(int, i.split())) for i in x.split('\\n')]):\n",
    "        for j, v in enumerate(row):\n",
    "            if j % 2 == 0:\n",
    "                temp1[i].append(v)\n",
    "            else:\n",
    "                temp2[i].append(v)\n",
    "    return temp1, temp2\n",
    "\n",
    "def move_fish(n, fishes, directions):\n",
    "    if n == 17:\n",
    "        return fishes, directions\n",
    "    else:\n",
    "        # 물고기 위치 탐색\n",
    "        for x, row in enumerate(fishes):\n",
    "            if n in row:\n",
    "                y = row.index(n)\n",
    "                break\n",
    "        # 물고기가 없을 때\n",
    "        try:\n",
    "            y = y\n",
    "        except:\n",
    "            return move_fish(n+1, fishes, directions)\n",
    "        \n",
    "        # 물고기 이동\n",
    "        for i in range(8):\n",
    "            now_dir = directions[x][y] - 1 + i\n",
    "            if now_dir > 7:\n",
    "                now_dir -= 8\n",
    "            x_dir, y_dir = move_dir[now_dir]\n",
    "            next_x = x+x_dir\n",
    "            next_y = y+y_dir\n",
    "            if next_x < 0 or next_x >= 4 or next_y < 0 or next_y >= 4 or fishes[next_x][next_y] == 100:\n",
    "                continue\n",
    "            else:\n",
    "                # 방향 변경\n",
    "                temp = directions[next_x][next_y]\n",
    "                directions[next_x][next_y] = now_dir+1\n",
    "                directions[x][y] = temp\n",
    "\n",
    "                # 물고기 번호 변경\n",
    "                temp = fishes[next_x][next_y]\n",
    "                fishes[next_x][next_y] = n\n",
    "                fishes[x][y] = temp\n",
    "                break\n",
    "\n",
    "        return move_fish(n+1, fishes, directions)\n",
    "\n",
    "import copy\n",
    "def shark_move(x, y, fish_map, dir_map, answer):\n",
    "    answer += fish_map[x][y]\n",
    "    shark_dir = dir_map[x][y]\n",
    "\n",
    "    temp_fish = copy.deepcopy(fish_map)\n",
    "    temp_dir = copy.deepcopy(dir_map)\n",
    "\n",
    "    temp_fish[x][y] = 100\n",
    "    temp_fish, temp_dir = move_fish(1, temp_fish, temp_dir)\n",
    "\n",
    "    answers=[]\n",
    "    for i in range(1, 4):\n",
    "        next_x = x + i * move_dir[shark_dir-1][0]\n",
    "        next_y = y + i * move_dir[shark_dir-1][1]\n",
    "\n",
    "        if next_x < 0 or next_x >= 4 or next_y < 0 or next_y >= 4 or temp_fish[next_x][next_y] == 0:\n",
    "            continue\n",
    "        else:\n",
    "            # 상어가 먹었을 때, DFS\n",
    "            temp_fish[x][y] = 0\n",
    "            temp_dir[x][y] = 0 # 방향 없음\n",
    "            answers.append(shark_move(next_x, next_y, temp_fish, temp_dir, answer))\n",
    "    \n",
    "    try:\n",
    "        return max(answers)\n",
    "    except:\n",
    "        return answer\n",
    "\n",
    "def sol_47(fishbowl):\n",
    "    fishes, directions = change_input(fishbowl)\n",
    "    answer = shark_move(0,0, fishes, directions, 0)\n",
    "    return answer\n"
   ]
  },
  {
   "cell_type": "code",
   "execution_count": 30,
   "metadata": {
    "tags": []
   },
   "outputs": [
    {
     "output_type": "execute_result",
     "data": {
      "text/plain": "43"
     },
     "metadata": {},
     "execution_count": 30
    }
   ],
   "source": [
    "sol_47(fishbowl)"
   ]
  },
  {
   "cell_type": "code",
   "execution_count": 31,
   "metadata": {},
   "outputs": [],
   "source": [
    "# 1시간 반 소요"
   ]
  },
  {
   "cell_type": "code",
   "execution_count": null,
   "metadata": {},
   "outputs": [],
   "source": []
  },
  {
   "cell_type": "code",
   "execution_count": null,
   "metadata": {},
   "outputs": [],
   "source": [
    "N, M, K = 4, 2, 6 # 수조 크기, 상어 수, 냄새 지속 시간\n",
    "\n",
    "SHARKBOWL = '''1 0 0 0\n",
    "0 0 0 0\n",
    "0 0 0 0\n",
    "0 0 0 2'''\n",
    "\n",
    "# 1 ~ 4 위 아래 왼쪽 오른쪽\n",
    "SHARKLOOK = [4, 3]\n",
    "\n",
    "# 상어별 우선순위 M개 만큼\n",
    "SHARKDIR = '''1 2 3 4\n",
    "2 3 4 1\n",
    "3 4 1 2\n",
    "4 1 2 3\n",
    "1 2 3 4\n",
    "2 3 4 1\n",
    "3 4 1 2\n",
    "4 1 2 3'''"
   ]
  },
  {
   "cell_type": "code",
   "execution_count": 110,
   "metadata": {},
   "outputs": [],
   "source": [
    "N, M, K = 5, 4, 4 # 수조 크기, 상어 수, 냄새 지속 시간\n",
    "\n",
    "SHARKBOWL = '''0 0 0 0 3\n",
    "0 2 0 0 0\n",
    "1 0 0 0 4\n",
    "0 0 0 0 0\n",
    "0 0 0 0 0'''\n",
    "\n",
    "# 1 ~ 4 위 아래 왼쪽 오른쪽\n",
    "SHARKLOOK = [4, 4, 3, 1]\n",
    "\n",
    "# 상어별 우선순위 M개 만큼\n",
    "SHARKDIR = '''2 3 1 4\n",
    "4 1 2 3\n",
    "3 4 2 1\n",
    "4 3 1 2\n",
    "2 4 3 1\n",
    "2 1 3 4\n",
    "3 4 1 2\n",
    "4 1 2 3\n",
    "4 3 2 1\n",
    "1 4 3 2\n",
    "1 3 2 4\n",
    "3 2 1 4\n",
    "3 4 1 2\n",
    "3 2 4 1 \n",
    "1 4 2 3\n",
    "1 4 2 3'''"
   ]
  },
  {
   "cell_type": "code",
   "execution_count": 111,
   "metadata": {},
   "outputs": [],
   "source": [
    "MOVE_DIR = [(-1,0),(1,0),(0,-1),(0,1)]"
   ]
  },
  {
   "cell_type": "code",
   "execution_count": 112,
   "metadata": {},
   "outputs": [],
   "source": [
    "def change_input(x):\n",
    "    return [list(map(int, i.split())) for i in x.split('\\n')]\n",
    "\n",
    "def reduce_smell(N, smell_map, smell_timer):\n",
    "    for i in range(N):\n",
    "        for j in range(N):\n",
    "            smell_timer[i][j] = max(smell_timer[i][j]-1, 0)\n",
    "            if smell_timer[i][j] == 0:\n",
    "                smell_map[i][j] = 0\n",
    "    return smell_map, smell_timer\n",
    "\n",
    "import copy\n",
    "\n",
    "def sol_48(N, M, K, SHARKBOWL, SHARKLOOK, SHARKDIR):\n",
    "    SHARKBOWL = change_input(SHARKBOWL)\n",
    "    SHARKDIR = change_input(SHARKDIR)\n",
    "    \n",
    "    SHARKDIR = {i:SHARKDIR[4 * (i-1) : 4 * i]for i in range(1, M+1)}\n",
    "    SHARKLOOK = [0] +SHARKLOOK\n",
    "    \n",
    "    shark_list = [i for i in range(1,M+1)]\n",
    "\n",
    "    # # 상어 최초 이동 방향 설정\n",
    "    # for s in shark_list:\n",
    "    #     SHARKLOOK[s] = SHARKDIR[s][SHARKLOOK[s]-1][0]\n",
    "\n",
    "    smell_map = copy.deepcopy(SHARKBOWL)\n",
    "    smell_timer = [[0]*N for _ in range(N)]\n",
    "\n",
    "    shark_pos = [0 for _ in range(M+1)]\n",
    "    for i in range(N):\n",
    "        for j in range(N):\n",
    "            if SHARKBOWL[i][j] != 0:\n",
    "                # 상어 포지션 파악\n",
    "                shark_pos[SHARKBOWL[i][j]] = (i,j)\n",
    "                # 맨처음 냄새 타이머 적용\n",
    "                smell_timer[i][j] = K\n",
    "\n",
    "    answer = 0\n",
    "    count = 0\n",
    "\n",
    "    # 상어 이동 반복\n",
    "    while True:\n",
    "        if len(shark_list) == 1:\n",
    "            break\n",
    "        answer += 1\n",
    "\n",
    "        for s in shark_list:\n",
    "            x, y = shark_pos[s]\n",
    "            # 이동\n",
    "\n",
    "            # 냄새 방향 확인\n",
    "            found = False\n",
    "            for next_look in SHARKDIR[s][SHARKLOOK[s]-1]:\n",
    "                nx_dir, ny_dir = MOVE_DIR[next_look-1]\n",
    "                next_x = x+nx_dir\n",
    "                next_y = y+ny_dir\n",
    "                if not(next_x < 0 or next_x >= N or next_y < 0 or next_y >= N or smell_map[next_x][next_y] != 0):\n",
    "                    SHARKLOOK[s] = next_look\n",
    "                    found = True\n",
    "                    break\n",
    "\n",
    "            # 만약에 찾지 못하면 자신의 냄새 쪽으로\n",
    "            if not found:\n",
    "                for next_look in SHARKDIR[s][SHARKLOOK[s]-1]:\n",
    "                    nx_dir, ny_dir = MOVE_DIR[next_look-1]\n",
    "                    next_x = x+nx_dir\n",
    "                    next_y = y+ny_dir\n",
    "                    if next_x >= 0 and next_x < N and next_y >= 0 and next_y < N and smell_map[next_x][next_y] == s:\n",
    "                        SHARKLOOK[s] = next_look\n",
    "                        break\n",
    "\n",
    "            # 어항 정보 초기화\n",
    "            SHARKBOWL[x][y] = 0\n",
    "            # 잡아먹히면 패스 (상어 순서대로 나오니)\n",
    "            if SHARKBOWL[next_x][next_y] != 0:\n",
    "                shark_list.pop(shark_list.index(s))\n",
    "            else:\n",
    "                SHARKBOWL[next_x][next_y] = s\n",
    "                shark_pos[s] = (next_x, next_y)\n",
    "\n",
    "        # 냄새 제거\n",
    "        smell_map, smell_timer = reduce_smell(N, smell_map, smell_timer)\n",
    "        \n",
    "        # 냄새 업데이트\n",
    "        for s in shark_list:\n",
    "            this_x, this_y = shark_pos[s]\n",
    "            smell_map[this_x][this_y] = s\n",
    "            smell_timer[this_x][this_y] = K\n",
    "\n",
    "        for i in range(N):\n",
    "            print(SHARKBOWL[i], smell_map[i], smell_timer[i])\n",
    "        print()\n",
    "\n",
    "    return answer\n"
   ]
  },
  {
   "cell_type": "code",
   "execution_count": 113,
   "metadata": {
    "tags": []
   },
   "outputs": [
    {
     "output_type": "stream",
     "name": "stdout",
     "text": "[0, 0, 0, 3, 0] [0, 0, 0, 3, 3] [0, 0, 0, 4, 3]\n[0, 0, 2, 0, 0] [0, 2, 2, 0, 0] [0, 3, 4, 0, 0]\n[0, 1, 0, 4, 0] [1, 1, 0, 4, 4] [3, 4, 0, 4, 3]\n[0, 0, 0, 0, 0] [0, 0, 0, 0, 0] [0, 0, 0, 0, 0]\n[0, 0, 0, 0, 0] [0, 0, 0, 0, 0] [0, 0, 0, 0, 0]\n\n[0, 0, 3, 0, 0] [0, 0, 3, 3, 3] [0, 0, 4, 3, 2]\n[0, 0, 0, 2, 0] [0, 2, 2, 2, 0] [0, 2, 3, 4, 0]\n[0, 0, 1, 0, 0] [1, 1, 1, 4, 4] [2, 3, 4, 3, 2]\n[0, 0, 0, 0, 0] [0, 0, 0, 0, 0] [0, 0, 0, 0, 0]\n[0, 0, 0, 0, 0] [0, 0, 0, 0, 0] [0, 0, 0, 0, 0]\n\n[0, 3, 0, 0, 0] [0, 3, 3, 3, 3] [0, 4, 3, 2, 1]\n[0, 0, 0, 0, 2] [0, 2, 2, 2, 2] [0, 1, 2, 3, 4]\n[0, 0, 0, 0, 0] [1, 1, 1, 4, 4] [1, 2, 3, 2, 1]\n[0, 0, 1, 0, 0] [0, 0, 1, 0, 0] [0, 0, 4, 0, 0]\n[0, 0, 0, 0, 0] [0, 0, 0, 0, 0] [0, 0, 0, 0, 0]\n\n[3, 0, 0, 0, 0] [3, 3, 3, 3, 0] [4, 3, 2, 1, 0]\n[0, 0, 0, 2, 0] [0, 0, 2, 2, 2] [0, 0, 1, 4, 3]\n[0, 0, 0, 0, 0] [0, 1, 1, 4, 0] [0, 1, 2, 1, 0]\n[0, 0, 0, 1, 0] [0, 0, 1, 1, 0] [0, 0, 3, 4, 0]\n[0, 0, 0, 0, 0] [0, 0, 0, 0, 0] [0, 0, 0, 0, 0]\n\n[0, 0, 0, 0, 0] [3, 3, 3, 0, 0] [3, 2, 1, 0, 0]\n[3, 0, 2, 0, 0] [3, 0, 2, 2, 2] [4, 0, 4, 3, 2]\n[0, 0, 0, 0, 0] [0, 0, 1, 0, 0] [0, 0, 1, 0, 0]\n[0, 0, 0, 0, 1] [0, 0, 1, 1, 1] [0, 0, 2, 3, 4]\n[0, 0, 0, 0, 0] [0, 0, 0, 0, 0] [0, 0, 0, 0, 0]\n\n[0, 0, 0, 0, 0] [3, 3, 0, 0, 0] [2, 1, 0, 0, 0]\n[0, 2, 0, 0, 0] [3, 2, 2, 2, 2] [3, 4, 3, 2, 1]\n[0, 0, 0, 0, 1] [0, 0, 0, 0, 1] [0, 0, 0, 0, 4]\n[0, 0, 0, 0, 0] [0, 0, 1, 1, 1] [0, 0, 1, 2, 3]\n[0, 0, 0, 0, 0] [0, 0, 0, 0, 0] [0, 0, 0, 0, 0]\n\n[0, 0, 0, 0, 0] [3, 0, 0, 0, 0] [1, 0, 0, 0, 0]\n[0, 0, 0, 0, 0] [3, 2, 2, 2, 0] [2, 3, 2, 1, 0]\n[0, 2, 0, 1, 0] [0, 2, 0, 1, 1] [0, 4, 0, 4, 3]\n[0, 0, 0, 0, 0] [0, 0, 0, 1, 1] [0, 0, 0, 1, 2]\n[0, 0, 0, 0, 0] [0, 0, 0, 0, 0] [0, 0, 0, 0, 0]\n\n[0, 0, 0, 0, 0] [0, 0, 0, 0, 0] [0, 0, 0, 0, 0]\n[0, 0, 0, 0, 0] [3, 2, 2, 0, 0] [1, 2, 1, 0, 0]\n[0, 0, 1, 0, 0] [0, 2, 1, 1, 1] [0, 3, 4, 3, 2]\n[0, 2, 0, 0, 0] [0, 2, 0, 0, 1] [0, 4, 0, 0, 1]\n[0, 0, 0, 0, 0] [0, 0, 0, 0, 0] [0, 0, 0, 0, 0]\n\n[0, 0, 0, 0, 0] [0, 0, 0, 0, 0] [0, 0, 0, 0, 0]\n[0, 0, 0, 0, 0] [0, 2, 0, 0, 0] [0, 1, 0, 0, 0]\n[0, 0, 0, 0, 0] [0, 2, 1, 1, 1] [0, 2, 3, 2, 1]\n[0, 0, 1, 0, 0] [0, 2, 1, 0, 0] [0, 3, 4, 0, 0]\n[0, 2, 0, 0, 0] [0, 2, 0, 0, 0] [0, 4, 0, 0, 0]\n\n[0, 0, 0, 0, 0] [0, 0, 0, 0, 0] [0, 0, 0, 0, 0]\n[0, 0, 0, 0, 0] [0, 0, 0, 0, 0] [0, 0, 0, 0, 0]\n[0, 0, 0, 0, 0] [0, 2, 1, 1, 0] [0, 1, 2, 1, 0]\n[0, 0, 0, 1, 0] [0, 2, 1, 1, 0] [0, 2, 3, 4, 0]\n[2, 0, 0, 0, 0] [2, 2, 0, 0, 0] [4, 3, 0, 0, 0]\n\n[0, 0, 0, 0, 0] [0, 0, 0, 0, 0] [0, 0, 0, 0, 0]\n[0, 0, 0, 0, 0] [0, 0, 0, 0, 0] [0, 0, 0, 0, 0]\n[0, 0, 0, 0, 0] [0, 0, 1, 0, 0] [0, 0, 1, 0, 0]\n[2, 0, 0, 0, 1] [2, 2, 1, 1, 1] [4, 1, 2, 3, 4]\n[0, 0, 0, 0, 0] [2, 2, 0, 0, 0] [3, 2, 0, 0, 0]\n\n[0, 0, 0, 0, 0] [0, 0, 0, 0, 0] [0, 0, 0, 0, 0]\n[0, 0, 0, 0, 0] [0, 0, 0, 0, 0] [0, 0, 0, 0, 0]\n[2, 0, 0, 0, 1] [2, 0, 0, 0, 1] [4, 0, 0, 0, 4]\n[0, 0, 0, 0, 0] [2, 0, 1, 1, 1] [3, 0, 1, 2, 3]\n[0, 0, 0, 0, 0] [2, 2, 0, 0, 0] [2, 1, 0, 0, 0]\n\n[0, 0, 0, 0, 0] [0, 0, 0, 0, 0] [0, 0, 0, 0, 0]\n[0, 0, 0, 0, 0] [0, 0, 0, 0, 0] [0, 0, 0, 0, 0]\n[0, 2, 0, 1, 0] [2, 2, 0, 1, 1] [3, 4, 0, 4, 3]\n[0, 0, 0, 0, 0] [2, 0, 0, 1, 1] [2, 0, 0, 1, 2]\n[0, 0, 0, 0, 0] [2, 0, 0, 0, 0] [1, 0, 0, 0, 0]\n\n[0, 0, 0, 0, 0] [0, 0, 0, 0, 0] [0, 0, 0, 0, 0]\n[0, 0, 0, 0, 0] [0, 0, 0, 0, 0] [0, 0, 0, 0, 0]\n[0, 0, 1, 0, 0] [2, 2, 1, 1, 1] [2, 3, 4, 3, 2]\n[0, 0, 0, 0, 0] [2, 0, 0, 0, 1] [1, 0, 0, 0, 1]\n[0, 0, 0, 0, 0] [0, 0, 0, 0, 0] [0, 0, 0, 0, 0]\n\n"
    },
    {
     "output_type": "execute_result",
     "data": {
      "text/plain": "14"
     },
     "metadata": {},
     "execution_count": 113
    }
   ],
   "source": [
    "sol_48(N,M,K,SHARKBOWL,SHARKLOOK,SHARKDIR)"
   ]
  },
  {
   "cell_type": "code",
   "execution_count": 114,
   "metadata": {},
   "outputs": [],
   "source": [
    "# 2시간 소요 - 답 봤음"
   ]
  },
  {
   "cell_type": "code",
   "execution_count": null,
   "metadata": {},
   "outputs": [],
   "source": []
  },
  {
   "cell_type": "code",
   "execution_count": null,
   "metadata": {},
   "outputs": [],
   "source": []
  },
  {
   "cell_type": "code",
   "execution_count": null,
   "metadata": {},
   "outputs": [],
   "source": []
  },
  {
   "cell_type": "code",
   "execution_count": null,
   "metadata": {},
   "outputs": [],
   "source": []
  }
 ]
}