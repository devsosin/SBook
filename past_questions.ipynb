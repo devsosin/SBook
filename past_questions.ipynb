{
 "metadata": {
  "language_info": {
   "codemirror_mode": {
    "name": "ipython",
    "version": 3
   },
   "file_extension": ".py",
   "mimetype": "text/x-python",
   "name": "python",
   "nbconvert_exporter": "python",
   "pygments_lexer": "ipython3",
   "version": "3.7.6-final"
  },
  "orig_nbformat": 2,
  "kernelspec": {
   "name": "Python 3.7.6 64-bit ('base': conda)",
   "display_name": "Python 3.7.6 64-bit ('base': conda)",
   "metadata": {
    "interpreter": {
     "hash": "4582d230e25b8217e666f0f9ff9e4572247d830a78f80b8cc5849d556084ed3c"
    }
   }
  }
 },
 "nbformat": 4,
 "nbformat_minor": 2,
 "cells": [
  {
   "cell_type": "code",
   "execution_count": null,
   "metadata": {},
   "outputs": [],
   "source": [
    "# 자주 사용 함수"
   ]
  },
  {
   "cell_type": "code",
   "execution_count": 1,
   "metadata": {},
   "outputs": [],
   "source": [
    "def change_input(x, input_type=0, str_column=None):\n",
    "    if input_type:\n",
    "        return [list(map(int, i)) for i in x.split('\\n')]\n",
    "    return [list(map(int, i.split())) for i in x.split('\\n')]\n",
    "\n",
    "def print_map(x):\n",
    "    for _ in x:\n",
    "        print(_)\n",
    "    print()\n",
    "\n",
    "def fast_input():\n",
    "    return sys.stdin.readline().rstrip()"
   ]
  },
  {
   "cell_type": "code",
   "execution_count": null,
   "metadata": {},
   "outputs": [],
   "source": [
    "# 자주 쓰는 변수"
   ]
  },
  {
   "cell_type": "code",
   "execution_count": 2,
   "metadata": {},
   "outputs": [],
   "source": [
    "FOUR_MOVE_DIR = [(-1,0),(0,1),(1,0),(0,-1)]"
   ]
  },
  {
   "cell_type": "code",
   "execution_count": null,
   "metadata": {},
   "outputs": [],
   "source": []
  },
  {
   "cell_type": "code",
   "execution_count": 11,
   "metadata": {},
   "outputs": [],
   "source": [
    "N = 5\n",
    "adventure = [2,3,1,2,2]\n",
    "\n",
    "def sol_1(N, adventure):\n",
    "    adventure.sort()\n",
    "    answer = 0\n",
    "    temp = []\n",
    "    for a in adventure:\n",
    "        if a == len(temp)+1:\n",
    "            temp = []\n",
    "            answer += 1\n",
    "        else:\n",
    "            temp.append(a)\n",
    "        \n",
    "    return answer"
   ]
  },
  {
   "cell_type": "code",
   "execution_count": 12,
   "metadata": {},
   "outputs": [
    {
     "output_type": "execute_result",
     "data": {
      "text/plain": [
       "2"
      ]
     },
     "metadata": {},
     "execution_count": 12
    }
   ],
   "source": [
    "sol_1(N, adventure)"
   ]
  },
  {
   "cell_type": "code",
   "execution_count": null,
   "metadata": {},
   "outputs": [],
   "source": []
  },
  {
   "cell_type": "code",
   "execution_count": 18,
   "metadata": {},
   "outputs": [],
   "source": [
    "S = '02984'\n",
    "S = '567'\n",
    "\n",
    "def sol_2(S):\n",
    "    answer = 0\n",
    "    for s in S:\n",
    "        if int(s) != 0:\n",
    "            if answer == 0:\n",
    "                answer += int(s)\n",
    "            else:\n",
    "                answer *= int(s)\n",
    "    return answer"
   ]
  },
  {
   "cell_type": "code",
   "execution_count": 19,
   "metadata": {},
   "outputs": [
    {
     "output_type": "execute_result",
     "data": {
      "text/plain": [
       "210"
      ]
     },
     "metadata": {},
     "execution_count": 19
    }
   ],
   "source": [
    "sol_2(S)"
   ]
  },
  {
   "cell_type": "code",
   "execution_count": null,
   "metadata": {},
   "outputs": [],
   "source": []
  },
  {
   "cell_type": "code",
   "execution_count": 32,
   "metadata": {},
   "outputs": [],
   "source": [
    "S = '0001100'\n",
    "\n",
    "def sol_3(S):\n",
    "    temp_0 = 0\n",
    "    temp_1 = 0\n",
    "\n",
    "    # 0 - True, 1 - False\n",
    "    temp = True\n",
    "    if S[0] == 1:\n",
    "        temp = False\n",
    "        temp_1 += 1\n",
    "    else:\n",
    "        temp_0 += 1\n",
    "\n",
    "    for s in S:\n",
    "        if temp and s == '1':\n",
    "            temp_0 += 1\n",
    "            temp = False\n",
    "        if not temp and s == '0':\n",
    "            temp_1 += 1\n",
    "            temp = True\n",
    "\n",
    "    return min(temp_0, temp_1)"
   ]
  },
  {
   "cell_type": "code",
   "execution_count": 33,
   "metadata": {},
   "outputs": [
    {
     "output_type": "execute_result",
     "data": {
      "text/plain": [
       "1"
      ]
     },
     "metadata": {},
     "execution_count": 33
    }
   ],
   "source": [
    "sol_3(S)"
   ]
  },
  {
   "cell_type": "code",
   "execution_count": null,
   "metadata": {},
   "outputs": [],
   "source": []
  },
  {
   "cell_type": "code",
   "execution_count": 17,
   "metadata": {},
   "outputs": [],
   "source": [
    "N = 5\n",
    "coins = [3,2,1,1,9]\n",
    "\n",
    "def sol_4(N, coins):\n",
    "    \n",
    "    coins.sort()\n",
    "    answer = 1\n",
    "    for coin in coins:\n",
    "        if answer < coin:\n",
    "            return answer\n",
    "        answer+=coin"
   ]
  },
  {
   "cell_type": "code",
   "execution_count": 18,
   "metadata": {},
   "outputs": [
    {
     "output_type": "execute_result",
     "data": {
      "text/plain": [
       "8"
      ]
     },
     "metadata": {},
     "execution_count": 18
    }
   ],
   "source": [
    "sol_4(N, coins)"
   ]
  },
  {
   "cell_type": "code",
   "execution_count": null,
   "metadata": {},
   "outputs": [],
   "source": [
    "# 답 봤음"
   ]
  },
  {
   "cell_type": "code",
   "execution_count": 23,
   "metadata": {},
   "outputs": [],
   "source": [
    "N, M = 5, 3\n",
    "balls = [1,3,2,3,2]\n",
    "\n",
    "N, M = 8, 5\n",
    "balls = [1,5,4,3,2,4,5,2]\n",
    "\n",
    "def sol_5(N, M, balls):\n",
    "    answer = 0\n",
    "    for i in range(N):\n",
    "        for j in range(i+1, N):\n",
    "            if balls[i] != balls[j]:\n",
    "                answer+=1\n",
    "    return answer\n"
   ]
  },
  {
   "cell_type": "code",
   "execution_count": 24,
   "metadata": {},
   "outputs": [
    {
     "output_type": "execute_result",
     "data": {
      "text/plain": [
       "25"
      ]
     },
     "metadata": {},
     "execution_count": 24
    }
   ],
   "source": [
    "sol_5(N,M,balls)"
   ]
  },
  {
   "cell_type": "code",
   "execution_count": null,
   "metadata": {},
   "outputs": [],
   "source": []
  },
  {
   "cell_type": "code",
   "execution_count": 97,
   "metadata": {},
   "outputs": [],
   "source": [
    "food_times = [3,1,2]\n",
    "k = 5\n",
    "\n",
    "import numpy as np\n",
    "def sol_6(food_times, k):\n",
    "    a = np.asarray(food_times)\n",
    "    while True:\n",
    "        now_len = len(a[a>0])\n",
    "        now_food = min(a[a>0])\n",
    "        if k < now_len * now_food:\n",
    "            last_food = k%now_len\n",
    "            answer = 0\n",
    "            for i in range(len(a)):\n",
    "                if a[i] != 0:\n",
    "                    if answer==last_food:\n",
    "                        return answer + 1\n",
    "                    else:\n",
    "                        answer += 1\n",
    "        else:\n",
    "            k-=now_len*now_food\n",
    "            a -= now_food"
   ]
  },
  {
   "cell_type": "code",
   "execution_count": 98,
   "metadata": {},
   "outputs": [
    {
     "output_type": "stream",
     "name": "stdout",
     "text": [
      "0 1 0 0 0\n"
     ]
    },
    {
     "output_type": "execute_result",
     "data": {
      "text/plain": [
       "1"
      ]
     },
     "metadata": {},
     "execution_count": 98
    }
   ],
   "source": [
    "sol_6(food_times, k)"
   ]
  },
  {
   "cell_type": "code",
   "execution_count": 111,
   "metadata": {},
   "outputs": [],
   "source": [
    "# 답 봤음\n",
    "\n",
    "import heapq\n",
    "\n",
    "def sol_6(food_times, K):\n",
    "    if sum(food_times) <= K:\n",
    "        return -1\n",
    "    \n",
    "    q = []\n",
    "    for i in range(len(food_times)):\n",
    "        heapq.heappush(q, (food_times[i], i + 1))\n",
    "    \n",
    "    sum_value = 0\n",
    "    previous = 0\n",
    "    \n",
    "    length = len(food_times)\n",
    "    while sum_value + ((q[0][0] - previous) * length) <= K:\n",
    "        now = heapq.heappop(q)[0]\n",
    "        sum_value += (now-previous) * length\n",
    "        length -= 1\n",
    "        previous = now\n",
    "\n",
    "    result = sorted(q, key=lambda x : x[1])\n",
    "    return result[(K-sum_value) % length][1]"
   ]
  },
  {
   "cell_type": "code",
   "execution_count": 118,
   "metadata": {},
   "outputs": [],
   "source": [
    "food_times = [3,1,2]\n",
    "K = 5"
   ]
  },
  {
   "cell_type": "code",
   "execution_count": 116,
   "metadata": {},
   "outputs": [],
   "source": [
    "food_times = [8,6,4]\n",
    "K = 15"
   ]
  },
  {
   "cell_type": "code",
   "execution_count": 119,
   "metadata": {},
   "outputs": [
    {
     "output_type": "execute_result",
     "data": {
      "text/plain": [
       "1"
      ]
     },
     "metadata": {},
     "execution_count": 119
    }
   ],
   "source": [
    "sol_6(food_times,K)"
   ]
  },
  {
   "cell_type": "code",
   "execution_count": null,
   "metadata": {},
   "outputs": [],
   "source": []
  }
 ]
}