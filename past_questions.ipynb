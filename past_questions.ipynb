{
 "metadata": {
  "language_info": {
   "codemirror_mode": {
    "name": "ipython",
    "version": 3
   },
   "file_extension": ".py",
   "mimetype": "text/x-python",
   "name": "python",
   "nbconvert_exporter": "python",
   "pygments_lexer": "ipython3",
   "version": "3.7.6-final"
  },
  "orig_nbformat": 2,
  "kernelspec": {
   "name": "Python 3.7.6 64-bit ('base': conda)",
   "display_name": "Python 3.7.6 64-bit ('base': conda)",
   "metadata": {
    "interpreter": {
     "hash": "4582d230e25b8217e666f0f9ff9e4572247d830a78f80b8cc5849d556084ed3c"
    }
   }
  }
 },
 "nbformat": 4,
 "nbformat_minor": 2,
 "cells": [
  {
   "cell_type": "code",
   "execution_count": null,
   "metadata": {},
   "outputs": [],
   "source": [
    "# 자주 사용 함수"
   ]
  },
  {
   "cell_type": "code",
   "execution_count": 1,
   "metadata": {},
   "outputs": [],
   "source": [
    "def change_input(x, input_type=0, str_column=None):\n",
    "    if input_type:\n",
    "        return [list(map(int, i)) for i in x.split('\\n')]\n",
    "    return [list(map(int, i.split())) for i in x.split('\\n')]\n",
    "\n",
    "def print_map(x):\n",
    "    for _ in x:\n",
    "        print(_)\n",
    "    print()\n",
    "\n",
    "def fast_input():\n",
    "    return sys.stdin.readline().rstrip()"
   ]
  },
  {
   "cell_type": "code",
   "execution_count": null,
   "metadata": {},
   "outputs": [],
   "source": [
    "# 자주 쓰는 변수"
   ]
  },
  {
   "cell_type": "code",
   "execution_count": 2,
   "metadata": {},
   "outputs": [],
   "source": [
    "FOUR_MOVE_DIR = [(-1,0),(0,1),(1,0),(0,-1)]"
   ]
  },
  {
   "cell_type": "code",
   "execution_count": null,
   "metadata": {},
   "outputs": [],
   "source": []
  },
  {
   "cell_type": "code",
   "execution_count": 11,
   "metadata": {},
   "outputs": [],
   "source": [
    "N = 5\n",
    "adventure = [2,3,1,2,2]\n",
    "\n",
    "def sol_1(N, adventure):\n",
    "    adventure.sort()\n",
    "    answer = 0\n",
    "    temp = []\n",
    "    for a in adventure:\n",
    "        if a == len(temp)+1:\n",
    "            temp = []\n",
    "            answer += 1\n",
    "        else:\n",
    "            temp.append(a)\n",
    "        \n",
    "    return answer"
   ]
  },
  {
   "cell_type": "code",
   "execution_count": 12,
   "metadata": {},
   "outputs": [
    {
     "output_type": "execute_result",
     "data": {
      "text/plain": [
       "2"
      ]
     },
     "metadata": {},
     "execution_count": 12
    }
   ],
   "source": [
    "sol_1(N, adventure)"
   ]
  },
  {
   "cell_type": "code",
   "execution_count": null,
   "metadata": {},
   "outputs": [],
   "source": []
  },
  {
   "cell_type": "code",
   "execution_count": 18,
   "metadata": {},
   "outputs": [],
   "source": [
    "S = '02984'\n",
    "S = '567'\n",
    "\n",
    "def sol_2(S):\n",
    "    answer = 0\n",
    "    for s in S:\n",
    "        if int(s) != 0:\n",
    "            if answer == 0:\n",
    "                answer += int(s)\n",
    "            else:\n",
    "                answer *= int(s)\n",
    "    return answer"
   ]
  },
  {
   "cell_type": "code",
   "execution_count": 19,
   "metadata": {},
   "outputs": [
    {
     "output_type": "execute_result",
     "data": {
      "text/plain": [
       "210"
      ]
     },
     "metadata": {},
     "execution_count": 19
    }
   ],
   "source": [
    "sol_2(S)"
   ]
  },
  {
   "cell_type": "code",
   "execution_count": null,
   "metadata": {},
   "outputs": [],
   "source": []
  },
  {
   "cell_type": "code",
   "execution_count": 32,
   "metadata": {},
   "outputs": [],
   "source": [
    "S = '0001100'\n",
    "\n",
    "def sol_3(S):\n",
    "    temp_0 = 0\n",
    "    temp_1 = 0\n",
    "\n",
    "    # 0 - True, 1 - False\n",
    "    temp = True\n",
    "    if S[0] == 1:\n",
    "        temp = False\n",
    "        temp_1 += 1\n",
    "    else:\n",
    "        temp_0 += 1\n",
    "\n",
    "    for s in S:\n",
    "        if temp and s == '1':\n",
    "            temp_0 += 1\n",
    "            temp = False\n",
    "        if not temp and s == '0':\n",
    "            temp_1 += 1\n",
    "            temp = True\n",
    "\n",
    "    return min(temp_0, temp_1)"
   ]
  },
  {
   "cell_type": "code",
   "execution_count": 33,
   "metadata": {},
   "outputs": [
    {
     "output_type": "execute_result",
     "data": {
      "text/plain": [
       "1"
      ]
     },
     "metadata": {},
     "execution_count": 33
    }
   ],
   "source": [
    "sol_3(S)"
   ]
  },
  {
   "cell_type": "code",
   "execution_count": null,
   "metadata": {},
   "outputs": [],
   "source": []
  },
  {
   "cell_type": "code",
   "execution_count": 17,
   "metadata": {},
   "outputs": [],
   "source": [
    "N = 5\n",
    "coins = [3,2,1,1,9]\n",
    "\n",
    "def sol_4(N, coins):\n",
    "    \n",
    "    coins.sort()\n",
    "    answer = 1\n",
    "    for coin in coins:\n",
    "        if answer < coin:\n",
    "            return answer\n",
    "        answer+=coin"
   ]
  },
  {
   "cell_type": "code",
   "execution_count": 18,
   "metadata": {},
   "outputs": [
    {
     "output_type": "execute_result",
     "data": {
      "text/plain": [
       "8"
      ]
     },
     "metadata": {},
     "execution_count": 18
    }
   ],
   "source": [
    "sol_4(N, coins)"
   ]
  },
  {
   "cell_type": "code",
   "execution_count": null,
   "metadata": {},
   "outputs": [],
   "source": [
    "# 답 봤음"
   ]
  },
  {
   "cell_type": "code",
   "execution_count": 23,
   "metadata": {},
   "outputs": [],
   "source": [
    "N, M = 5, 3\n",
    "balls = [1,3,2,3,2]\n",
    "\n",
    "N, M = 8, 5\n",
    "balls = [1,5,4,3,2,4,5,2]\n",
    "\n",
    "def sol_5(N, M, balls):\n",
    "    answer = 0\n",
    "    for i in range(N):\n",
    "        for j in range(i+1, N):\n",
    "            if balls[i] != balls[j]:\n",
    "                answer+=1\n",
    "    return answer\n"
   ]
  },
  {
   "cell_type": "code",
   "execution_count": 24,
   "metadata": {},
   "outputs": [
    {
     "output_type": "execute_result",
     "data": {
      "text/plain": [
       "25"
      ]
     },
     "metadata": {},
     "execution_count": 24
    }
   ],
   "source": [
    "sol_5(N,M,balls)"
   ]
  },
  {
   "cell_type": "code",
   "execution_count": null,
   "metadata": {},
   "outputs": [],
   "source": []
  },
  {
   "cell_type": "code",
   "execution_count": 97,
   "metadata": {},
   "outputs": [],
   "source": [
    "food_times = [3,1,2]\n",
    "k = 5\n",
    "\n",
    "import numpy as np\n",
    "def sol_6(food_times, k):\n",
    "    a = np.asarray(food_times)\n",
    "    while True:\n",
    "        now_len = len(a[a>0])\n",
    "        now_food = min(a[a>0])\n",
    "        if k < now_len * now_food:\n",
    "            last_food = k%now_len\n",
    "            answer = 0\n",
    "            for i in range(len(a)):\n",
    "                if a[i] != 0:\n",
    "                    if answer==last_food:\n",
    "                        return answer + 1\n",
    "                    else:\n",
    "                        answer += 1\n",
    "        else:\n",
    "            k-=now_len*now_food\n",
    "            a -= now_food"
   ]
  },
  {
   "cell_type": "code",
   "execution_count": 98,
   "metadata": {},
   "outputs": [
    {
     "output_type": "stream",
     "name": "stdout",
     "text": [
      "0 1 0 0 0\n"
     ]
    },
    {
     "output_type": "execute_result",
     "data": {
      "text/plain": [
       "1"
      ]
     },
     "metadata": {},
     "execution_count": 98
    }
   ],
   "source": [
    "sol_6(food_times, k)"
   ]
  },
  {
   "cell_type": "code",
   "execution_count": 111,
   "metadata": {},
   "outputs": [],
   "source": [
    "# 답 봤음\n",
    "\n",
    "import heapq\n",
    "\n",
    "def sol_6(food_times, K):\n",
    "    if sum(food_times) <= K:\n",
    "        return -1\n",
    "    \n",
    "    q = []\n",
    "    for i in range(len(food_times)):\n",
    "        heapq.heappush(q, (food_times[i], i + 1))\n",
    "    \n",
    "    sum_value = 0\n",
    "    previous = 0\n",
    "    \n",
    "    length = len(food_times)\n",
    "    while sum_value + ((q[0][0] - previous) * length) <= K:\n",
    "        now = heapq.heappop(q)[0]\n",
    "        sum_value += (now-previous) * length\n",
    "        length -= 1\n",
    "        previous = now\n",
    "\n",
    "    result = sorted(q, key=lambda x : x[1])\n",
    "    return result[(K-sum_value) % length][1]"
   ]
  },
  {
   "cell_type": "code",
   "execution_count": 118,
   "metadata": {},
   "outputs": [],
   "source": [
    "food_times = [3,1,2]\n",
    "K = 5"
   ]
  },
  {
   "cell_type": "code",
   "execution_count": 116,
   "metadata": {},
   "outputs": [],
   "source": [
    "food_times = [8,6,4]\n",
    "K = 15"
   ]
  },
  {
   "cell_type": "code",
   "execution_count": 119,
   "metadata": {},
   "outputs": [
    {
     "output_type": "execute_result",
     "data": {
      "text/plain": [
       "1"
      ]
     },
     "metadata": {},
     "execution_count": 119
    }
   ],
   "source": [
    "sol_6(food_times,K)"
   ]
  },
  {
   "cell_type": "code",
   "execution_count": null,
   "metadata": {},
   "outputs": [],
   "source": []
  },
  {
   "cell_type": "code",
   "execution_count": 15,
   "metadata": {},
   "outputs": [],
   "source": [
    "N = 123402\n",
    "\n",
    "def sol_7(N):\n",
    "    length = len(str(N))//2\n",
    "    left = str(N)[:length]\n",
    "    right = str(N)[length:]\n",
    "    left = sum(list(map(int, left)))\n",
    "    right = sum(list(map(int, right)))\n",
    "\n",
    "    return 'LUCKY' if left==right else 'READY'"
   ]
  },
  {
   "cell_type": "code",
   "execution_count": 18,
   "metadata": {},
   "outputs": [
    {
     "output_type": "execute_result",
     "data": {
      "text/plain": [
       "'LUCKY'"
      ]
     },
     "metadata": {},
     "execution_count": 18
    }
   ],
   "source": [
    "sol_7(123402)"
   ]
  },
  {
   "cell_type": "code",
   "execution_count": null,
   "metadata": {},
   "outputs": [],
   "source": []
  },
  {
   "cell_type": "code",
   "execution_count": 35,
   "metadata": {},
   "outputs": [],
   "source": [
    "S = 'K1KA5CB7'\n",
    "\n",
    "def sol_8(S):\n",
    "    answer = []\n",
    "    numeric = 0\n",
    "    for s in S:\n",
    "        try:\n",
    "            numeric += int(s)\n",
    "        except:\n",
    "            answer.append(s)\n",
    "            \n",
    "    answer = sorted(answer)\n",
    "    answer.append(str(numeric))\n",
    "    return ''.join(answer)"
   ]
  },
  {
   "cell_type": "code",
   "execution_count": 37,
   "metadata": {},
   "outputs": [
    {
     "output_type": "execute_result",
     "data": {
      "text/plain": [
       "'ADDIJJJKKLSS20'"
      ]
     },
     "metadata": {},
     "execution_count": 37
    }
   ],
   "source": [
    "sol_8('AJKDLSI412K4JSJ9D')"
   ]
  },
  {
   "cell_type": "code",
   "execution_count": null,
   "metadata": {},
   "outputs": [],
   "source": []
  },
  {
   "cell_type": "code",
   "execution_count": 57,
   "metadata": {},
   "outputs": [],
   "source": [
    "s = 'aabbaccc'\n",
    "\n",
    "def sol_9(s):\n",
    "    # 2개부터 length/2 만큼 돌기\n",
    "    # 1번도 줄일 수 없을 시\n",
    "    answer = len(s)\n",
    "    for i in range(2, len(s)//2+1):\n",
    "        temp_answer = 0\n",
    "        con_temp = False\n",
    "        for s_num in range(len(s)//i+1):\n",
    "            if s_num == 0:\n",
    "                now = s[i*s_num:i*(s_num+1)]\n",
    "                temp_answer += len(now)\n",
    "                continue\n",
    "            temp = s[i*s_num:i*(s_num+1)]\n",
    "            if now == temp:\n",
    "                if not con_temp:\n",
    "                    temp_answer += 1\n",
    "            else:\n",
    "                now = temp\n",
    "                con_temp = False\n",
    "                temp_answer += len(now)\n",
    "        answer = min(answer, temp_answer)\n",
    "\n",
    "    return answer"
   ]
  },
  {
   "cell_type": "code",
   "execution_count": 62,
   "metadata": {},
   "outputs": [
    {
     "output_type": "execute_result",
     "data": {
      "text/plain": [
       "17"
      ]
     },
     "metadata": {},
     "execution_count": 62
    }
   ],
   "source": [
    "sol_9('xababcdcdababcdcd')"
   ]
  },
  {
   "cell_type": "code",
   "execution_count": 63,
   "metadata": {},
   "outputs": [],
   "source": [
    "# 답 참고함"
   ]
  },
  {
   "cell_type": "code",
   "execution_count": null,
   "metadata": {},
   "outputs": [],
   "source": []
  },
  {
   "cell_type": "code",
   "execution_count": 124,
   "metadata": {},
   "outputs": [],
   "source": [
    "key = [[0,0,0], [1,0,0],[0,1,1]]\n",
    "lock = [[1,1,1],[1,1,0],[1,0,1]]\n",
    "\n",
    "import numpy as np\n",
    "def sol_10(key, lock):\n",
    "    key = np.asarray(key)\n",
    "    lock = np.asarray(lock)\n",
    "\n",
    "    lock_size = len(lock)\n",
    "    max_x, max_y = 0,0\n",
    "    min_x, min_y = lock_size, lock_size\n",
    "    for i in range(lock_size):\n",
    "        for j in range(lock_size):\n",
    "            if lock[i][j] == 0:\n",
    "                max_x = max(max_x, i)\n",
    "                min_x = min(min_x, i)\n",
    "                max_y = max(max_y, j)\n",
    "                min_y = min(min_y, j)\n",
    "    target_lock = lock[min_x:max_x+1,min_y:max_y+1]\n",
    "    target_size_x = len(target_lock)\n",
    "    target_size_y = len(target_lock[0])\n",
    "    for _ in range(4):\n",
    "        key=np.rot90(key)\n",
    "        \n",
    "        for i in range(target_size_x):\n",
    "            for j in range(target_size_y):\n",
    "                target_key = key[i:target_size_x+i,j:target_size_y+j]\n",
    "                if not list((target_key + target_lock).flatten()).count(0):\n",
    "                    return True\n",
    "    \n",
    "    return False"
   ]
  },
  {
   "cell_type": "code",
   "execution_count": 125,
   "metadata": {},
   "outputs": [
    {
     "output_type": "execute_result",
     "data": {
      "text/plain": [
       "True"
      ]
     },
     "metadata": {},
     "execution_count": 125
    }
   ],
   "source": [
    "sol_10(key,lock)"
   ]
  },
  {
   "cell_type": "code",
   "execution_count": null,
   "metadata": {},
   "outputs": [],
   "source": []
  }
 ]
}