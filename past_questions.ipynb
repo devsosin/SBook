{
 "metadata": {
  "language_info": {
   "codemirror_mode": {
    "name": "ipython",
    "version": 3
   },
   "file_extension": ".py",
   "mimetype": "text/x-python",
   "name": "python",
   "nbconvert_exporter": "python",
   "pygments_lexer": "ipython3",
   "version": "3.7.6-final"
  },
  "orig_nbformat": 2,
  "kernelspec": {
   "name": "Python 3.7.6 64-bit",
   "display_name": "Python 3.7.6 64-bit",
   "metadata": {
    "interpreter": {
     "hash": "4582d230e25b8217e666f0f9ff9e4572247d830a78f80b8cc5849d556084ed3c"
    }
   }
  }
 },
 "nbformat": 4,
 "nbformat_minor": 2,
 "cells": [
  {
   "cell_type": "code",
   "execution_count": null,
   "metadata": {},
   "outputs": [],
   "source": [
    "# 자주 사용 함수"
   ]
  },
  {
   "cell_type": "code",
   "execution_count": 1,
   "metadata": {},
   "outputs": [],
   "source": [
    "def change_input(x, input_type=0, str_column=None):\n",
    "    if input_type:\n",
    "        return [list(map(int, i)) for i in x.split('\\n')]\n",
    "    return [list(map(int, i.split())) for i in x.split('\\n')]\n",
    "\n",
    "def print_map(x):\n",
    "    for _ in x:\n",
    "        print(_)\n",
    "    print()\n",
    "\n",
    "def fast_input():\n",
    "    return sys.stdin.readline().rstrip()"
   ]
  },
  {
   "cell_type": "code",
   "execution_count": 2,
   "metadata": {},
   "outputs": [],
   "source": [
    "# 자주 쓰는 변수"
   ]
  },
  {
   "cell_type": "code",
   "execution_count": 3,
   "metadata": {},
   "outputs": [],
   "source": [
    "FOUR_MOVE_DIR = [(-1,0),(0,1),(1,0),(0,-1)]"
   ]
  },
  {
   "cell_type": "code",
   "execution_count": null,
   "metadata": {},
   "outputs": [],
   "source": []
  },
  {
   "cell_type": "code",
   "execution_count": 11,
   "metadata": {},
   "outputs": [],
   "source": [
    "N = 5\n",
    "adventure = [2,3,1,2,2]\n",
    "\n",
    "def sol_1(N, adventure):\n",
    "    adventure.sort()\n",
    "    answer = 0\n",
    "    temp = []\n",
    "    for a in adventure:\n",
    "        if a == len(temp)+1:\n",
    "            temp = []\n",
    "            answer += 1\n",
    "        else:\n",
    "            temp.append(a)\n",
    "        \n",
    "    return answer"
   ]
  },
  {
   "cell_type": "code",
   "execution_count": 12,
   "metadata": {},
   "outputs": [
    {
     "output_type": "execute_result",
     "data": {
      "text/plain": [
       "2"
      ]
     },
     "metadata": {},
     "execution_count": 12
    }
   ],
   "source": [
    "sol_1(N, adventure)"
   ]
  },
  {
   "cell_type": "code",
   "execution_count": null,
   "metadata": {},
   "outputs": [],
   "source": []
  },
  {
   "cell_type": "code",
   "execution_count": 18,
   "metadata": {},
   "outputs": [],
   "source": [
    "S = '02984'\n",
    "S = '567'\n",
    "\n",
    "def sol_2(S):\n",
    "    answer = 0\n",
    "    for s in S:\n",
    "        if int(s) != 0:\n",
    "            if answer == 0:\n",
    "                answer += int(s)\n",
    "            else:\n",
    "                answer *= int(s)\n",
    "    return answer"
   ]
  },
  {
   "cell_type": "code",
   "execution_count": 19,
   "metadata": {},
   "outputs": [
    {
     "output_type": "execute_result",
     "data": {
      "text/plain": [
       "210"
      ]
     },
     "metadata": {},
     "execution_count": 19
    }
   ],
   "source": [
    "sol_2(S)"
   ]
  },
  {
   "cell_type": "code",
   "execution_count": null,
   "metadata": {},
   "outputs": [],
   "source": []
  },
  {
   "cell_type": "code",
   "execution_count": 32,
   "metadata": {},
   "outputs": [],
   "source": [
    "S = '0001100'\n",
    "\n",
    "def sol_3(S):\n",
    "    temp_0 = 0\n",
    "    temp_1 = 0\n",
    "\n",
    "    # 0 - True, 1 - False\n",
    "    temp = True\n",
    "    if S[0] == 1:\n",
    "        temp = False\n",
    "        temp_1 += 1\n",
    "    else:\n",
    "        temp_0 += 1\n",
    "\n",
    "    for s in S:\n",
    "        if temp and s == '1':\n",
    "            temp_0 += 1\n",
    "            temp = False\n",
    "        if not temp and s == '0':\n",
    "            temp_1 += 1\n",
    "            temp = True\n",
    "\n",
    "    return min(temp_0, temp_1)"
   ]
  },
  {
   "cell_type": "code",
   "execution_count": 33,
   "metadata": {},
   "outputs": [
    {
     "output_type": "execute_result",
     "data": {
      "text/plain": [
       "1"
      ]
     },
     "metadata": {},
     "execution_count": 33
    }
   ],
   "source": [
    "sol_3(S)"
   ]
  },
  {
   "cell_type": "code",
   "execution_count": null,
   "metadata": {},
   "outputs": [],
   "source": []
  },
  {
   "cell_type": "code",
   "execution_count": 17,
   "metadata": {},
   "outputs": [],
   "source": [
    "N = 5\n",
    "coins = [3,2,1,1,9]\n",
    "\n",
    "def sol_4(N, coins):\n",
    "    \n",
    "    coins.sort()\n",
    "    answer = 1\n",
    "    for coin in coins:\n",
    "        if answer < coin:\n",
    "            return answer\n",
    "        answer+=coin"
   ]
  },
  {
   "cell_type": "code",
   "execution_count": 18,
   "metadata": {},
   "outputs": [
    {
     "output_type": "execute_result",
     "data": {
      "text/plain": [
       "8"
      ]
     },
     "metadata": {},
     "execution_count": 18
    }
   ],
   "source": [
    "sol_4(N, coins)"
   ]
  },
  {
   "cell_type": "code",
   "execution_count": null,
   "metadata": {},
   "outputs": [],
   "source": [
    "# 답 봤음"
   ]
  },
  {
   "cell_type": "code",
   "execution_count": 23,
   "metadata": {},
   "outputs": [],
   "source": [
    "N, M = 5, 3\n",
    "balls = [1,3,2,3,2]\n",
    "\n",
    "N, M = 8, 5\n",
    "balls = [1,5,4,3,2,4,5,2]\n",
    "\n",
    "def sol_5(N, M, balls):\n",
    "    answer = 0\n",
    "    for i in range(N):\n",
    "        for j in range(i+1, N):\n",
    "            if balls[i] != balls[j]:\n",
    "                answer+=1\n",
    "    return answer\n"
   ]
  },
  {
   "cell_type": "code",
   "execution_count": 24,
   "metadata": {},
   "outputs": [
    {
     "output_type": "execute_result",
     "data": {
      "text/plain": [
       "25"
      ]
     },
     "metadata": {},
     "execution_count": 24
    }
   ],
   "source": [
    "sol_5(N,M,balls)"
   ]
  },
  {
   "cell_type": "code",
   "execution_count": null,
   "metadata": {},
   "outputs": [],
   "source": []
  },
  {
   "cell_type": "code",
   "execution_count": 97,
   "metadata": {},
   "outputs": [],
   "source": [
    "food_times = [3,1,2]\n",
    "k = 5\n",
    "\n",
    "import numpy as np\n",
    "def sol_6(food_times, k):\n",
    "    a = np.asarray(food_times)\n",
    "    while True:\n",
    "        now_len = len(a[a>0])\n",
    "        now_food = min(a[a>0])\n",
    "        if k < now_len * now_food:\n",
    "            last_food = k%now_len\n",
    "            answer = 0\n",
    "            for i in range(len(a)):\n",
    "                if a[i] != 0:\n",
    "                    if answer==last_food:\n",
    "                        return answer + 1\n",
    "                    else:\n",
    "                        answer += 1\n",
    "        else:\n",
    "            k-=now_len*now_food\n",
    "            a -= now_food"
   ]
  },
  {
   "cell_type": "code",
   "execution_count": 98,
   "metadata": {},
   "outputs": [
    {
     "output_type": "stream",
     "name": "stdout",
     "text": [
      "0 1 0 0 0\n"
     ]
    },
    {
     "output_type": "execute_result",
     "data": {
      "text/plain": [
       "1"
      ]
     },
     "metadata": {},
     "execution_count": 98
    }
   ],
   "source": [
    "sol_6(food_times, k)"
   ]
  },
  {
   "cell_type": "code",
   "execution_count": 111,
   "metadata": {},
   "outputs": [],
   "source": [
    "# 답 봤음\n",
    "\n",
    "import heapq\n",
    "\n",
    "def sol_6(food_times, K):\n",
    "    if sum(food_times) <= K:\n",
    "        return -1\n",
    "    \n",
    "    q = []\n",
    "    for i in range(len(food_times)):\n",
    "        heapq.heappush(q, (food_times[i], i + 1))\n",
    "    \n",
    "    sum_value = 0\n",
    "    previous = 0\n",
    "    \n",
    "    length = len(food_times)\n",
    "    while sum_value + ((q[0][0] - previous) * length) <= K:\n",
    "        now = heapq.heappop(q)[0]\n",
    "        sum_value += (now-previous) * length\n",
    "        length -= 1\n",
    "        previous = now\n",
    "\n",
    "    result = sorted(q, key=lambda x : x[1])\n",
    "    return result[(K-sum_value) % length][1]"
   ]
  },
  {
   "cell_type": "code",
   "execution_count": 118,
   "metadata": {},
   "outputs": [],
   "source": [
    "food_times = [3,1,2]\n",
    "K = 5"
   ]
  },
  {
   "cell_type": "code",
   "execution_count": 116,
   "metadata": {},
   "outputs": [],
   "source": [
    "food_times = [8,6,4]\n",
    "K = 15"
   ]
  },
  {
   "cell_type": "code",
   "execution_count": 119,
   "metadata": {},
   "outputs": [
    {
     "output_type": "execute_result",
     "data": {
      "text/plain": [
       "1"
      ]
     },
     "metadata": {},
     "execution_count": 119
    }
   ],
   "source": [
    "sol_6(food_times,K)"
   ]
  },
  {
   "cell_type": "code",
   "execution_count": null,
   "metadata": {},
   "outputs": [],
   "source": []
  },
  {
   "cell_type": "code",
   "execution_count": 15,
   "metadata": {},
   "outputs": [],
   "source": [
    "N = 123402\n",
    "\n",
    "def sol_7(N):\n",
    "    length = len(str(N))//2\n",
    "    left = str(N)[:length]\n",
    "    right = str(N)[length:]\n",
    "    left = sum(list(map(int, left)))\n",
    "    right = sum(list(map(int, right)))\n",
    "\n",
    "    return 'LUCKY' if left==right else 'READY'"
   ]
  },
  {
   "cell_type": "code",
   "execution_count": 18,
   "metadata": {},
   "outputs": [
    {
     "output_type": "execute_result",
     "data": {
      "text/plain": [
       "'LUCKY'"
      ]
     },
     "metadata": {},
     "execution_count": 18
    }
   ],
   "source": [
    "sol_7(123402)"
   ]
  },
  {
   "cell_type": "code",
   "execution_count": null,
   "metadata": {},
   "outputs": [],
   "source": []
  },
  {
   "cell_type": "code",
   "execution_count": 35,
   "metadata": {},
   "outputs": [],
   "source": [
    "S = 'K1KA5CB7'\n",
    "\n",
    "def sol_8(S):\n",
    "    answer = []\n",
    "    numeric = 0\n",
    "    for s in S:\n",
    "        try:\n",
    "            numeric += int(s)\n",
    "        except:\n",
    "            answer.append(s)\n",
    "            \n",
    "    answer = sorted(answer)\n",
    "    answer.append(str(numeric))\n",
    "    return ''.join(answer)"
   ]
  },
  {
   "cell_type": "code",
   "execution_count": 37,
   "metadata": {},
   "outputs": [
    {
     "output_type": "execute_result",
     "data": {
      "text/plain": [
       "'ADDIJJJKKLSS20'"
      ]
     },
     "metadata": {},
     "execution_count": 37
    }
   ],
   "source": [
    "sol_8('AJKDLSI412K4JSJ9D')"
   ]
  },
  {
   "cell_type": "code",
   "execution_count": null,
   "metadata": {},
   "outputs": [],
   "source": []
  },
  {
   "cell_type": "code",
   "execution_count": 57,
   "metadata": {},
   "outputs": [],
   "source": [
    "s = 'aabbaccc'\n",
    "\n",
    "def sol_9(s):\n",
    "    # 2개부터 length/2 만큼 돌기\n",
    "    # 1번도 줄일 수 없을 시\n",
    "    answer = len(s)\n",
    "    for i in range(2, len(s)//2+1):\n",
    "        temp_answer = 0\n",
    "        con_temp = False\n",
    "        for s_num in range(len(s)//i+1):\n",
    "            if s_num == 0:\n",
    "                now = s[i*s_num:i*(s_num+1)]\n",
    "                temp_answer += len(now)\n",
    "                continue\n",
    "            temp = s[i*s_num:i*(s_num+1)]\n",
    "            if now == temp:\n",
    "                if not con_temp:\n",
    "                    temp_answer += 1\n",
    "            else:\n",
    "                now = temp\n",
    "                con_temp = False\n",
    "                temp_answer += len(now)\n",
    "        answer = min(answer, temp_answer)\n",
    "\n",
    "    return answer"
   ]
  },
  {
   "cell_type": "code",
   "execution_count": 62,
   "metadata": {},
   "outputs": [
    {
     "output_type": "execute_result",
     "data": {
      "text/plain": [
       "17"
      ]
     },
     "metadata": {},
     "execution_count": 62
    }
   ],
   "source": [
    "sol_9('xababcdcdababcdcd')"
   ]
  },
  {
   "cell_type": "code",
   "execution_count": 63,
   "metadata": {},
   "outputs": [],
   "source": [
    "# 답 참고함"
   ]
  },
  {
   "cell_type": "code",
   "execution_count": null,
   "metadata": {},
   "outputs": [],
   "source": []
  },
  {
   "cell_type": "code",
   "execution_count": 124,
   "metadata": {},
   "outputs": [],
   "source": [
    "key = [[0,0,0], [1,0,0],[0,1,1]]\n",
    "lock = [[1,1,1],[1,1,0],[1,0,1]]\n",
    "\n",
    "import numpy as np\n",
    "def sol_10(key, lock):\n",
    "    key = np.asarray(key)\n",
    "    lock = np.asarray(lock)\n",
    "\n",
    "    lock_size = len(lock)\n",
    "    max_x, max_y = 0,0\n",
    "    min_x, min_y = lock_size, lock_size\n",
    "    for i in range(lock_size):\n",
    "        for j in range(lock_size):\n",
    "            if lock[i][j] == 0:\n",
    "                max_x = max(max_x, i)\n",
    "                min_x = min(min_x, i)\n",
    "                max_y = max(max_y, j)\n",
    "                min_y = min(min_y, j)\n",
    "    target_lock = lock[min_x:max_x+1,min_y:max_y+1]\n",
    "    target_size_x = len(target_lock)\n",
    "    target_size_y = len(target_lock[0])\n",
    "    for _ in range(4):\n",
    "        key=np.rot90(key)\n",
    "        \n",
    "        for i in range(target_size_x):\n",
    "            for j in range(target_size_y):\n",
    "                target_key = key[i:target_size_x+i,j:target_size_y+j]\n",
    "                if not list((target_key + target_lock).flatten()).count(0):\n",
    "                    return True\n",
    "    \n",
    "    return False"
   ]
  },
  {
   "cell_type": "code",
   "execution_count": 125,
   "metadata": {},
   "outputs": [
    {
     "output_type": "execute_result",
     "data": {
      "text/plain": [
       "True"
      ]
     },
     "metadata": {},
     "execution_count": 125
    }
   ],
   "source": [
    "sol_10(key,lock)"
   ]
  },
  {
   "cell_type": "code",
   "execution_count": null,
   "metadata": {},
   "outputs": [],
   "source": []
  },
  {
   "cell_type": "code",
   "execution_count": 3,
   "metadata": {},
   "outputs": [
    {
     "output_type": "execute_result",
     "data": {
      "text/plain": [
       "[(-1, 0), (0, 1), (1, 0), (0, -1)]"
      ]
     },
     "metadata": {},
     "execution_count": 3
    }
   ],
   "source": [
    "FOUR_MOVE_DIR"
   ]
  },
  {
   "cell_type": "code",
   "execution_count": 118,
   "metadata": {},
   "outputs": [],
   "source": [
    "# N, K, L = 6, 3, 3\n",
    "# apples = '''3 4\n",
    "# 2 5\n",
    "# 5 3'''\n",
    "# snake_moving = '''3 D\n",
    "# 15 L\n",
    "# 17 D'''\n",
    "\n",
    "# N, K, L = 10, 4, 4\n",
    "# apples = '''1 2\n",
    "# 1 3\n",
    "# 1 4\n",
    "# 1 5'''\n",
    "# snake_moving = '''8 D\n",
    "# 10 D\n",
    "# 11 D\n",
    "# 13 L'''\n",
    "\n",
    "N, K, L = 10, 5, 4\n",
    "apples = '''1 5\n",
    "1 3\n",
    "1 2\n",
    "1 6\n",
    "1 7'''\n",
    "snake_moving = '''8 D\n",
    "10 D\n",
    "11 D\n",
    "13 L'''\n",
    "\n",
    "def change_dir(now_dir, x):\n",
    "    if x == 'D':\n",
    "        return now_dir + 1 if now_dir != 3 else 0\n",
    "    else:\n",
    "        return now_dir - 1 if now_dir != 0 else 3\n",
    "\n",
    "def check_apple(next_pos, apples):\n",
    "    check_pos = [next_pos[0] + 1, next_pos[1] + 1]\n",
    "    if check_pos in apples:\n",
    "        apples.pop(apples.index(check_pos))\n",
    "        return False\n",
    "    return True\n",
    "\n",
    "def check_end(N, next_pos, snake_body):\n",
    "    next_x, next_y = next_pos\n",
    "    if next_pos in snake_body or next_x < 0 or next_x >= N or next_y < 0 or next_y >= N:\n",
    "        return True\n",
    "    return False\n",
    "\n",
    "from collections import deque\n",
    "import numpy as np\n",
    "\n",
    "def sol_11(N,K,L,apples, snake_moving):\n",
    "    apples = change_input(apples)\n",
    "    snake_moving = [i.split() for i in snake_moving.split('\\n')]\n",
    "    snake_moving = list(map(lambda i : (int(i[0]), i[1]), snake_moving))\n",
    "\n",
    "    timer = 0\n",
    "    snake_body = deque([(0,0)])\n",
    "    now_dir = 1\n",
    "    \n",
    "    while True:\n",
    "        timer += 1\n",
    "        now_x, now_y = snake_body[len(snake_body)-1]\n",
    "        next_x, next_y = FOUR_MOVE_DIR[now_dir]\n",
    "        next_pos = (now_x+next_x, now_y+next_y)\n",
    "        if check_end(N, next_pos, snake_body):\n",
    "            return timer\n",
    "\n",
    "        if check_apple(next_pos,apples):\n",
    "            snake_body.popleft()\n",
    "\n",
    "        snake_body.append(next_pos)\n",
    "        if snake_moving:\n",
    "            if timer == snake_moving[0][0]:\n",
    "                change_time, next_dir = snake_moving.pop(0)\n",
    "                now_dir = change_dir(now_dir, next_dir)\n"
   ]
  },
  {
   "cell_type": "code",
   "execution_count": 119,
   "metadata": {},
   "outputs": [
    {
     "output_type": "execute_result",
     "data": {
      "text/plain": [
       "13"
      ]
     },
     "metadata": {},
     "execution_count": 119
    }
   ],
   "source": [
    "sol_11(N,K,L,apples, snake_moving)"
   ]
  },
  {
   "cell_type": "code",
   "execution_count": null,
   "metadata": {},
   "outputs": [],
   "source": []
  },
  {
   "cell_type": "code",
   "execution_count": 25,
   "metadata": {},
   "outputs": [],
   "source": [
    "n = 5\n",
    "build_frame = [[1,0,0,1],[1,1,1,1],[2,1,0,1],[2,2,1,1],[5,0,0,1],[5,1,0,1],[4,2,1,1],[3,2,1,1]]\n",
    "\n",
    "n = 5\n",
    "build_frame = [[0,0,0,1], [2,0,0,1], [4,0,0,1], [0,1,1,1], [1,1,1,1], [2,1,1,1], [3,1,1,1], [2,0,0,0], [1,1,1,0], [2,2,0,1]]\n",
    "\n",
    "# x = 가로, y = 세로\n",
    "def check_building(building):\n",
    "    for x, y, a in building:\n",
    "        if a == 0: # 기둥\n",
    "            if y == 0 or [x-1,y,1] in building or [x,y,1] in building or [x,y-1,0] in building:\n",
    "                continue\n",
    "            else:\n",
    "                return False\n",
    "        else: # 보\n",
    "            if [x, y-1, 0] in building or [x+1, y-1, 0] in building or ([x-1,y,1] in building and [x+1,y,1] in building):\n",
    "                continue\n",
    "            else:\n",
    "                return False\n",
    "    return True\n",
    "\n",
    "def sol_12(n, build_frame):\n",
    "    now_building = []\n",
    "    for x, y, a, b in build_frame:\n",
    "        if b == 1: # 설치\n",
    "            temp = [x,y,a]\n",
    "            now_building.append(temp)\n",
    "            if not check_building(now_building):\n",
    "                now_building.pop(now_building.index(temp))\n",
    "        else: # 삭제\n",
    "            temp = [x,y,a]\n",
    "            now_building.pop(now_building.index(temp))\n",
    "            if not check_building(now_building):\n",
    "                now_building.append(temp)\n",
    "    return sorted(now_building, key=lambda i : (i[0], i[1], i[2]))"
   ]
  },
  {
   "cell_type": "code",
   "execution_count": 26,
   "metadata": {},
   "outputs": [
    {
     "output_type": "execute_result",
     "data": {
      "text/plain": [
       "[[0, 0, 0], [0, 1, 1], [1, 1, 1], [2, 1, 1], [3, 1, 1], [4, 0, 0]]"
      ]
     },
     "metadata": {},
     "execution_count": 26
    }
   ],
   "source": [
    "sol_12(n, build_frame)"
   ]
  },
  {
   "cell_type": "code",
   "execution_count": null,
   "metadata": {},
   "outputs": [],
   "source": []
  },
  {
   "cell_type": "code",
   "execution_count": 52,
   "metadata": {},
   "outputs": [],
   "source": [
    "N, M = 5, 3\n",
    "chicken_map = '''0 0 1 0 0\n",
    "0 0 2 0 1\n",
    "0 1 2 0 0\n",
    "0 0 1 0 0\n",
    "0 0 0 0 2'''\n",
    "\n",
    "N, M = 5, 2\n",
    "chicken_map = '''0 2 0 1 0\n",
    "1 0 1 0 0\n",
    "0 0 0 0 0\n",
    "2 0 0 1 1\n",
    "2 2 0 1 2'''\n",
    "\n",
    "N, M = 5, 1\n",
    "chicken_map = '''1 2 0 0 0\n",
    "1 2 0 0 0\n",
    "1 2 0 0 0\n",
    "1 2 0 0 0\n",
    "1 2 0 0 0'''\n",
    "\n",
    "N, M = 5, 1\n",
    "chicken_map = '''1 2 0 2 1\n",
    "1 2 0 2 1\n",
    "1 2 0 2 1\n",
    "1 2 0 2 1\n",
    "1 2 0 2 1'''\n",
    "\n",
    "def chicken_distanace(houses, chickens):\n",
    "    total_chicken_dist = 0\n",
    "    for x, y in houses:\n",
    "        home_chickens_dist = int(1e9)\n",
    "        for c_x, c_y in chickens:\n",
    "            home_chickens_dist = min(home_chickens_dist, (abs(x-c_x) + abs(y-c_y)))\n",
    "        total_chicken_dist += home_chickens_dist\n",
    "    return total_chicken_dist\n",
    "\n",
    "from itertools import combinations\n",
    "def sol_13(N, M, chicken_map):\n",
    "    chicken_map = change_input(chicken_map)\n",
    "    houses = []\n",
    "    chickens = []\n",
    "\n",
    "    for i in range(N):\n",
    "        for j in range(N):\n",
    "            if chicken_map[i][j] == 1:\n",
    "                houses.append((i,j))\n",
    "            elif chicken_map[i][j] == 2:\n",
    "                chickens.append((i,j))\n",
    "\n",
    "    answer = int(1e9)\n",
    "    for now_chickens in combinations(chickens, M):\n",
    "        answer = min(answer, chicken_distanace(houses, now_chickens))\n",
    "    return answer"
   ]
  },
  {
   "cell_type": "code",
   "execution_count": 53,
   "metadata": {},
   "outputs": [
    {
     "output_type": "execute_result",
     "data": {
      "text/plain": [
       "32"
      ]
     },
     "metadata": {},
     "execution_count": 53
    }
   ],
   "source": [
    "sol_13(N, M, chicken_map)"
   ]
  },
  {
   "cell_type": "code",
   "execution_count": null,
   "metadata": {},
   "outputs": [],
   "source": []
  },
  {
   "cell_type": "code",
   "execution_count": 12,
   "metadata": {},
   "outputs": [],
   "source": [
    "n = 12\n",
    "weak = [1,5,6,10]\n",
    "dist = [1,2,3,4]\n",
    "\n",
    "def check_wall():\n",
    "    return\n",
    "\n",
    "def sol_14(n, weak, dist):\n",
    "    dist.sort(reverse=True)\n",
    "    for d in dist:\n",
    "        this_best = 0\n",
    "        this_wall = []\n",
    "        for i in range(n):\n",
    "            walls = list(map(lambda t : t-n if t >= n else t, range(i, i+d)))\n",
    "            temp = 0\n",
    "            wall_list = []\n",
    "            for wall in walls:\n",
    "                if wall in weak:\n",
    "                    temp += 1\n",
    "                    wall_list.append(wall)\n",
    "            this_best = max(this_best, temp)\n",
    "\n",
    "    return "
   ]
  },
  {
   "cell_type": "code",
   "execution_count": null,
   "metadata": {},
   "outputs": [],
   "source": [
    "# 답 봤음, IDEA - 원형을 일자로 변경, 순차적으로 투입"
   ]
  },
  {
   "cell_type": "code",
   "execution_count": 16,
   "metadata": {},
   "outputs": [],
   "source": [
    "from itertools import permutations\n",
    "\n",
    "def solution(n, weak, dist):\n",
    "    # 원형을 선형으로\n",
    "    length = len(weak)\n",
    "    for i in range(length):\n",
    "        weak.append(weak[i]+n)\n",
    "\n",
    "    # 최소 인원 구해야 하기 때문에 \n",
    "    answer = len(dist) + 1\n",
    "\n",
    "    # 길이만큼 순차탐색\n",
    "    for start in range(length):\n",
    "        \n",
    "        # 조합을 사용해 배치 가능한 경우의 수 확인\n",
    "        for friends in list(permutations(dist, len(dist))):\n",
    "            count = 1\n",
    "            # 시작 weak 지점부터 dist 까지\n",
    "            position = weak[start] + friends[count-1]\n",
    "            # weak 길이 두배만큼까지 (선형)\n",
    "            for index in range(start, start + length):\n",
    "                # weak 끝까지 도달하지 못했을 경우\n",
    "                if position < weak[index]:\n",
    "                    count+=1\n",
    "                    # 더이상 투입할 수 없는 경우\n",
    "                    if count > len(dist):\n",
    "                        break\n",
    "                    position = weak[index] + friends[count-1]\n",
    "            answer = min(answer,count)\n",
    "    if answer > len(dist):\n",
    "        return -1\n",
    "    return answer"
   ]
  },
  {
   "cell_type": "code",
   "execution_count": 17,
   "metadata": {},
   "outputs": [
    {
     "output_type": "execute_result",
     "data": {
      "text/plain": [
       "2"
      ]
     },
     "metadata": {},
     "execution_count": 17
    }
   ],
   "source": [
    "solution(n, weak, dist)"
   ]
  },
  {
   "cell_type": "code",
   "execution_count": null,
   "metadata": {},
   "outputs": [],
   "source": []
  },
  {
   "cell_type": "code",
   "execution_count": 74,
   "metadata": {},
   "outputs": [],
   "source": [
    "N, M, K, X = 4, 4, 2, 1\n",
    "roads = '''1 2\n",
    "1 3\n",
    "2 3\n",
    "2 4'''\n",
    "\n",
    "N, M, K, X = 4, 3, 2, 1\n",
    "roads = '''1 2\n",
    "1 3\n",
    "1 4'''\n",
    "\n",
    "N, M, K, X = 4, 4, 1, 1\n",
    "roads = '''1 2\n",
    "1 3\n",
    "2 3\n",
    "2 4'''\n",
    "\n",
    "from collections import deque\n",
    "def sol_15(N,M,K,X,roads):\n",
    "    roads = change_input(roads)\n",
    "    INF = int(1e9)\n",
    "    costs = [[INF]*(N+1) for _ in range(N+1)]\n",
    "    for i in range(N+1):\n",
    "        costs[i][i] = 0\n",
    "    graph = {i:[] for i in range(1, N+1)}\n",
    "    for start_city, end_city in roads:\n",
    "        graph[start_city].append(end_city)\n",
    "\n",
    "    q = deque()\n",
    "    q.append((X,0))\n",
    "    visited = [1] * (N+1)\n",
    "    answer=[]\n",
    "    while q:\n",
    "        s_city, now_cost = q.popleft()\n",
    "        for e_city in graph[s_city]:\n",
    "            if visited[e_city]:\n",
    "                visited[e_city] = 0\n",
    "                q.append([e_city, now_cost + 1])\n",
    "                costs[s_city][e_city] = now_cost + 1\n",
    "                if now_cost + 1 == K:\n",
    "                    answer.append(e_city)\n",
    "    return sorted(answer) if answer else -1"
   ]
  },
  {
   "cell_type": "code",
   "execution_count": 75,
   "metadata": {},
   "outputs": [
    {
     "output_type": "execute_result",
     "data": {
      "text/plain": [
       "[2, 3]"
      ]
     },
     "metadata": {},
     "execution_count": 75
    }
   ],
   "source": [
    "sol_15(N,M,K,X,roads)"
   ]
  },
  {
   "cell_type": "code",
   "execution_count": null,
   "metadata": {},
   "outputs": [],
   "source": [
    "# 답 봤음"
   ]
  },
  {
   "cell_type": "code",
   "execution_count": null,
   "metadata": {},
   "outputs": [],
   "source": []
  },
  {
   "cell_type": "code",
   "execution_count": 151,
   "metadata": {},
   "outputs": [],
   "source": [
    "N, M = 7, 7\n",
    "virus_map = '''2 0 0 0 1 1 0\n",
    "0 0 1 0 1 2 0\n",
    "0 1 1 0 1 0 0\n",
    "0 1 0 0 0 0 0\n",
    "0 0 0 0 0 1 1\n",
    "0 1 0 0 0 0 0\n",
    "0 1 0 0 0 0 0'''\n",
    "\n",
    "N, M = 4, 6\n",
    "virus_map = '''0 0 0 0 0 0\n",
    "1 0 0 0 0 2\n",
    "1 1 1 0 0 2\n",
    "0 0 0 0 0 2'''\n",
    "\n",
    "N, M = 8, 8\n",
    "virus_map = '''2 0 0 0 0 0 0 2\n",
    "2 0 0 0 0 0 0 2\n",
    "2 0 0 0 0 0 0 2\n",
    "2 0 0 0 0 0 0 2\n",
    "2 0 0 0 0 0 0 2\n",
    "0 0 0 0 0 0 0 0\n",
    "0 0 0 0 0 0 0 0\n",
    "0 0 0 0 0 0 0 0'''\n",
    "\n",
    "import copy\n",
    "from collections import deque\n",
    "def check_virus(virus, wall, virus_map, N, M):\n",
    "    v_temp = copy.deepcopy(virus)\n",
    "    v_m_temp = copy.deepcopy(virus_map)\n",
    "    for w_x, w_y in wall:\n",
    "        v_m_temp[w_x][w_y] = 1\n",
    "    q = deque(v_temp)\n",
    "    while q:\n",
    "        v_x, v_y = q.popleft()\n",
    "        for m_x, m_y in FOUR_MOVE_DIR:\n",
    "            next_x, next_y = v_x + m_x, v_y + m_y\n",
    "            if next_x < 0 or next_x >= N or next_y < 0 or next_y >= M or v_m_temp[next_x][next_y] in [1,2]:\n",
    "                continue\n",
    "            else:\n",
    "                v_m_temp[next_x][next_y] = 2\n",
    "                q.append((next_x, next_y))\n",
    "    return v_m_temp\n",
    "\n",
    "from itertools import combinations\n",
    "def sol_16(N, M, virus_map):\n",
    "    virus_map = change_input(virus_map)\n",
    "    virus = []\n",
    "    walls = []\n",
    "    for i in range(N):\n",
    "        for j in range(M):\n",
    "            if virus_map[i][j] == 0:\n",
    "                walls.append((i,j))\n",
    "            elif virus_map[i][j] == 2:\n",
    "                virus.append((i,j))\n",
    "    \n",
    "    answer = []\n",
    "    for wall in combinations(walls, 3):\n",
    "        new_map = check_virus(virus, wall, virus_map, N, M)\n",
    "        temp = 0\n",
    "        for i in range(N):\n",
    "            for j in range(M):\n",
    "                if new_map[i][j] == 0:\n",
    "                    temp+=1\n",
    "\n",
    "        answer.append(temp)\n",
    "    return max(answer)"
   ]
  },
  {
   "cell_type": "code",
   "execution_count": 152,
   "metadata": {
    "tags": []
   },
   "outputs": [
    {
     "output_type": "execute_result",
     "data": {
      "text/plain": [
       "3"
      ]
     },
     "metadata": {},
     "execution_count": 152
    }
   ],
   "source": [
    "sol_16(N, M, virus_map)"
   ]
  },
  {
   "cell_type": "code",
   "execution_count": null,
   "metadata": {},
   "outputs": [],
   "source": [
    "# 완전탐색법"
   ]
  },
  {
   "cell_type": "code",
   "execution_count": null,
   "metadata": {},
   "outputs": [],
   "source": []
  },
  {
   "cell_type": "code",
   "execution_count": 183,
   "metadata": {},
   "outputs": [],
   "source": [
    "N, K = 3, 3\n",
    "virus_map = '''1 0 2\n",
    "0 0 2\n",
    "3 0 0'''\n",
    "S, X, Y = 2, 3, 2\n",
    "\n",
    "N, K = 3, 3\n",
    "virus_map = '''1 0 2\n",
    "0 0 0\n",
    "3 0 0'''\n",
    "S, X, Y = 1, 2, 2\n",
    "\n",
    "import heapq\n",
    "def sol_17(N, K, virus_map, S, X, Y):\n",
    "    virus_map = change_input(virus_map)\n",
    "    q = []\n",
    "    for i in range(N):\n",
    "        for j in range(N):\n",
    "            if virus_map[i][j] != 0:\n",
    "                heapq.heappush(q, (virus_map[i][j], i, j))\n",
    "\n",
    "    while S:\n",
    "        while q:\n",
    "            v_n, v_x, v_y = heapq.heappop(q)\n",
    "            for m_x, m_y in FOUR_MOVE_DIR:\n",
    "                next_x, next_y = v_x + m_x, v_y + m_y\n",
    "                if next_x < 0 or next_x >= N or next_y < 0 or next_y >= N or virus_map[next_x][next_y] != 0:\n",
    "                    continue\n",
    "                else:\n",
    "                    virus_map[next_x][next_y] = v_n\n",
    "        for i in range(N):\n",
    "            for j in range(N):\n",
    "                if virus_map[i][j] != 0:\n",
    "                    heapq.heappush(q, (virus_map[i][j], i, j))\n",
    "                    \n",
    "        \n",
    "        S -= 1\n",
    "        \n",
    "    return virus_map[X-1][Y-1]"
   ]
  },
  {
   "cell_type": "code",
   "execution_count": 184,
   "metadata": {},
   "outputs": [
    {
     "output_type": "execute_result",
     "data": {
      "text/plain": [
       "0"
      ]
     },
     "metadata": {},
     "execution_count": 184
    }
   ],
   "source": [
    "sol_17(N, K, virus_map, S, X, Y)"
   ]
  },
  {
   "cell_type": "code",
   "execution_count": null,
   "metadata": {},
   "outputs": [],
   "source": []
  }
 ]
}